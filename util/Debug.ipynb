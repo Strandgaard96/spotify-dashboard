{
 "cells": [
  {
   "cell_type": "code",
   "execution_count": null,
   "metadata": {},
   "outputs": [],
   "source": [
    "import altair as alt\n",
    "import pandas as pd\n",
    "import streamlit as st\n",
    "from PIL import Image\n",
    "import datetime as dt\n",
    "\n",
    "import plotly.figure_factory as ff\n",
    "from plotly import express as px\n",
    "from plotly.subplots import make_subplots\n",
    "import plotly.graph_objects as go"
   ]
  },
  {
   "cell_type": "code",
   "execution_count": null,
   "metadata": {},
   "outputs": [],
   "source": [
    "dtypes = {\n",
    "            \"ms_played\": \"int\",\n",
    "            \"trackName\": \"str\",\n",
    "            \"artistName\": \"str\",\n",
    "            \"reason_start\": \"str\",\n",
    "            \"reason_end\": \"str\",\n",
    "            \"shuffle\": \"bool\",\n",
    "            \"skipped\": \"float\"\n",
    "        }\n",
    "streaming_df = pd.read_csv(\n",
    "            \"../data/total_streaming_data.csv\", parse_dates=[\"endTime\"], dtype=dtypes, index_col=[0])"
   ]
  },
  {
   "cell_type": "code",
   "execution_count": null,
   "metadata": {},
   "outputs": [],
   "source": [
    "df = px.data.gapminder()\n",
    "px.scatter(df, x=\"gdpPercap\", y=\"lifeExp\", animation_frame=\"year\", animation_group=\"country\",\n",
    "           size=\"pop\", color=\"continent\", hover_name=\"country\",\n",
    "           log_x=True, size_max=55, range_x=[100,100000], range_y=[25,90])"
   ]
  },
  {
   "cell_type": "code",
   "execution_count": null,
   "metadata": {},
   "outputs": [],
   "source": [
    "streaming_df"
   ]
  },
  {
   "cell_type": "code",
   "execution_count": null,
   "metadata": {},
   "outputs": [],
   "source": [
    "group_df = streaming_df.groupby([(streaming_df.endTime.dt.year), (streaming_df.trackName)]).size().sort_values(ascending=False).reset_index(name='count') "
   ]
  },
  {
   "cell_type": "code",
   "execution_count": null,
   "metadata": {},
   "outputs": [],
   "source": [
    "group_df"
   ]
  },
  {
   "cell_type": "code",
   "execution_count": null,
   "metadata": {},
   "outputs": [],
   "source": [
    "df = streaming_df.groupby([(streaming_df.endTime.dt.year), (streaming_df.trackName)])\\\n",
    ".agg({'ms_played':'sum','trackName':'count', 'artistName':'first'}).rename(columns={'trackName':'count'}).reset_index()"
   ]
  },
  {
   "cell_type": "code",
   "execution_count": null,
   "metadata": {},
   "outputs": [],
   "source": [
    "df"
   ]
  },
  {
   "cell_type": "code",
   "execution_count": null,
   "metadata": {},
   "outputs": [],
   "source": [
    "df = df.groupby(['endTime']).apply(lambda x: x.nlargest(100,['count'])).reset_index(drop=True)"
   ]
  },
  {
   "cell_type": "code",
   "execution_count": null,
   "metadata": {},
   "outputs": [],
   "source": [
    "df"
   ]
  },
  {
   "cell_type": "code",
   "execution_count": null,
   "metadata": {},
   "outputs": [],
   "source": [
    "#df = df.nlargest(100, columns='count').sort_values(by='endTime')"
   ]
  },
  {
   "cell_type": "markdown",
   "metadata": {},
   "source": [
    "Need to add legend and limit the legend.\n",
    "\n",
    "This should be done by adding a new column with the generes. Only the top 10 genres are assigned. Songs with another genre will\n",
    "have assigned a neutral value."
   ]
  },
  {
   "cell_type": "code",
   "execution_count": null,
   "metadata": {},
   "outputs": [],
   "source": [
    "px.scatter(df, x=\"ms_played\", y=\"count\", animation_frame=\"endTime\",\n",
    "           size='ms_played', hover_name=\"trackName\",hover_data={'artistName':True},\n",
    "           log_x=True, size_max=60,range_y=[0,200], range_x=[10000,25000000])"
   ]
  },
  {
   "cell_type": "code",
   "execution_count": null,
   "metadata": {},
   "outputs": [],
   "source": []
  }
 ],
 "metadata": {
  "language_info": {
   "name": "python"
  }
 },
 "nbformat": 4,
 "nbformat_minor": 4
}
