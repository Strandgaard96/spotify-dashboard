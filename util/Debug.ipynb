{
 "cells": [
  {
   "cell_type": "code",
   "execution_count": 12,
   "metadata": {},
   "outputs": [],
   "source": [
    "import altair as alt\n",
    "import pandas as pd\n",
    "import streamlit as st\n",
    "from PIL import Image\n",
    "import datetime as dt\n",
    "\n",
    "import plotly.figure_factory as ff\n",
    "from plotly import express as px\n",
    "from plotly.subplots import make_subplots\n",
    "import plotly.graph_objects as go"
   ]
  },
  {
   "cell_type": "code",
   "execution_count": 13,
   "metadata": {},
   "outputs": [],
   "source": [
    "dtypes = {\n",
    "            \"ms_played\": \"int\",\n",
    "            \"trackName\": \"str\",\n",
    "            \"artistName\": \"str\",\n",
    "            \"reason_start\": \"str\",\n",
    "            \"reason_end\": \"str\",\n",
    "            \"shuffle\": \"bool\",\n",
    "            \"skipped\": \"float\"\n",
    "        }\n",
    "streaming_df = pd.read_csv(\n",
    "            \"../data/total_streaming_data.csv\", parse_dates=[\"endTime\"], dtype=dtypes, index_col=[0])"
   ]
  },
  {
   "cell_type": "code",
   "execution_count": 14,
   "metadata": {},
   "outputs": [
    {
     "data": {
      "application/vnd.plotly.v1+json": {
       "config": {
        "plotlyServerURL": "https://plot.ly"
       },
       "data": [
        {
         "hovertemplate": "<b>%{hovertext}</b><br><br>continent=Asia<br>year=1987<br>gdpPercap=%{x}<br>lifeExp=%{y}<br>pop=%{marker.size}<extra></extra>",
         "hovertext": [
          "Afghanistan",
          "Bahrain",
          "Bangladesh",
          "Cambodia",
          "China",
          "Hong Kong, China",
          "India",
          "Indonesia",
          "Iran",
          "Iraq",
          "Israel",
          "Japan",
          "Jordan",
          "Korea, Dem. Rep.",
          "Korea, Rep.",
          "Kuwait",
          "Lebanon",
          "Malaysia",
          "Mongolia",
          "Myanmar",
          "Nepal",
          "Oman",
          "Pakistan",
          "Philippines",
          "Saudi Arabia",
          "Singapore",
          "Sri Lanka",
          "Syria",
          "Taiwan",
          "Thailand",
          "Vietnam",
          "West Bank and Gaza",
          "Yemen, Rep."
         ],
         "ids": [
          "Afghanistan",
          "Bahrain",
          "Bangladesh",
          "Cambodia",
          "China",
          "Hong Kong, China",
          "India",
          "Indonesia",
          "Iran",
          "Iraq",
          "Israel",
          "Japan",
          "Jordan",
          "Korea, Dem. Rep.",
          "Korea, Rep.",
          "Kuwait",
          "Lebanon",
          "Malaysia",
          "Mongolia",
          "Myanmar",
          "Nepal",
          "Oman",
          "Pakistan",
          "Philippines",
          "Saudi Arabia",
          "Singapore",
          "Sri Lanka",
          "Syria",
          "Taiwan",
          "Thailand",
          "Vietnam",
          "West Bank and Gaza",
          "Yemen, Rep."
         ],
         "legendgroup": "Asia",
         "marker": {
          "color": "#636efa",
          "size": [
           13867957,
           454612,
           103764241,
           8371791,
           1084035000,
           5584510,
           788000000,
           169276000,
           51889696,
           16543189,
           4203148,
           122091325,
           2820042,
           19067554,
           41622000,
           1891487,
           3089353,
           16331785,
           2015133,
           38028578,
           17917180,
           1593882,
           105186881,
           60017788,
           14619745,
           2794552,
           16495304,
           11242847,
           19757799,
           52910342,
           62826491,
           1691210,
           11219340
          ],
          "sizemode": "area",
          "sizeref": 435928.2961983471,
          "symbol": "circle"
         },
         "mode": "markers",
         "name": "Asia",
         "orientation": "v",
         "showlegend": true,
         "type": "scatter",
         "x": [
          852.3959447999998,
          18524.02406,
          751.9794035,
          683.8955732000002,
          1378.904018,
          20038.47269,
          976.5126756,
          1748.356961,
          6642.881371,
          11643.57268,
          17122.47986,
          22375.94189,
          4448.679912,
          4106.492315,
          8533.088805,
          28118.42998,
          5377.091329,
          5249.802653,
          2338.008304,
          385,
          775.6324501,
          18115.22313,
          1704.686583,
          2189.634995,
          21198.26136,
          18861.53081,
          1876.766827,
          3116.774285,
          11054.56175,
          2982.653773,
          820.7994449,
          5107.197384,
          1971.741538
         ],
         "xaxis": "x",
         "y": [
          40.822,
          70.75,
          52.819,
          53.914,
          67.274,
          76.2,
          58.553,
          60.137,
          63.04,
          65.044,
          75.6,
          78.67,
          65.869,
          70.64699999999998,
          69.81,
          74.17399999999998,
          67.926,
          69.5,
          60.222,
          58.339,
          52.537,
          67.734,
          58.245,
          64.15100000000001,
          66.295,
          73.56,
          69.01100000000001,
          66.97399999999999,
          73.4,
          66.084,
          62.82,
          67.046,
          52.922
         ],
         "yaxis": "y"
        },
        {
         "hovertemplate": "<b>%{hovertext}</b><br><br>continent=Europe<br>year=1987<br>gdpPercap=%{x}<br>lifeExp=%{y}<br>pop=%{marker.size}<extra></extra>",
         "hovertext": [
          "Albania",
          "Austria",
          "Belgium",
          "Bosnia and Herzegovina",
          "Bulgaria",
          "Croatia",
          "Czech Republic",
          "Denmark",
          "Finland",
          "France",
          "Germany",
          "Greece",
          "Hungary",
          "Iceland",
          "Ireland",
          "Italy",
          "Montenegro",
          "Netherlands",
          "Norway",
          "Poland",
          "Portugal",
          "Romania",
          "Serbia",
          "Slovak Republic",
          "Slovenia",
          "Spain",
          "Sweden",
          "Switzerland",
          "Turkey",
          "United Kingdom"
         ],
         "ids": [
          "Albania",
          "Austria",
          "Belgium",
          "Bosnia and Herzegovina",
          "Bulgaria",
          "Croatia",
          "Czech Republic",
          "Denmark",
          "Finland",
          "France",
          "Germany",
          "Greece",
          "Hungary",
          "Iceland",
          "Ireland",
          "Italy",
          "Montenegro",
          "Netherlands",
          "Norway",
          "Poland",
          "Portugal",
          "Romania",
          "Serbia",
          "Slovak Republic",
          "Slovenia",
          "Spain",
          "Sweden",
          "Switzerland",
          "Turkey",
          "United Kingdom"
         ],
         "legendgroup": "Europe",
         "marker": {
          "color": "#EF553B",
          "size": [
           3075321,
           7578903,
           9870200,
           4338977,
           8971958,
           4484310,
           10311597,
           5127024,
           4931729,
           55630100,
           77718298,
           9974490,
           10612740,
           244676,
           3539900,
           56729703,
           569473,
           14665278,
           4186147,
           37740710,
           9915289,
           22686371,
           9230783,
           5199318,
           1945870,
           38880702,
           8421403,
           6649942,
           52881328,
           56981620
          ],
          "sizemode": "area",
          "sizeref": 435928.2961983471,
          "symbol": "circle"
         },
         "mode": "markers",
         "name": "Europe",
         "orientation": "v",
         "showlegend": true,
         "type": "scatter",
         "x": [
          3738.932735,
          23687.82607,
          22525.56308,
          4314.114757,
          8239.854824,
          13822.58394,
          16310.4434,
          25116.17581,
          21141.01223,
          22066.44214,
          24639.18566,
          16120.52839,
          12986.47998,
          26923.20628,
          13872.86652,
          19207.23482,
          11732.51017,
          23651.32361,
          31540.9748,
          9082.351172,
          13039.30876,
          9696.273295,
          15870.87851,
          12037.26758,
          18678.53492,
          15764.98313,
          23586.92927,
          30281.70459,
          5089.043686,
          21664.78767
         ],
         "xaxis": "x",
         "y": [
          72,
          74.94,
          75.35,
          71.14,
          71.34,
          71.52,
          71.58,
          74.8,
          74.83,
          76.34,
          74.847,
          76.67,
          69.58,
          77.23,
          74.36,
          76.42,
          74.865,
          76.83,
          75.89,
          70.98,
          74.06,
          69.53,
          71.218,
          71.08,
          72.25,
          76.9,
          77.19,
          77.41,
          63.108,
          75.007
         ],
         "yaxis": "y"
        },
        {
         "hovertemplate": "<b>%{hovertext}</b><br><br>continent=Africa<br>year=1987<br>gdpPercap=%{x}<br>lifeExp=%{y}<br>pop=%{marker.size}<extra></extra>",
         "hovertext": [
          "Algeria",
          "Angola",
          "Benin",
          "Botswana",
          "Burkina Faso",
          "Burundi",
          "Cameroon",
          "Central African Republic",
          "Chad",
          "Comoros",
          "Congo, Dem. Rep.",
          "Congo, Rep.",
          "Cote d'Ivoire",
          "Djibouti",
          "Egypt",
          "Equatorial Guinea",
          "Eritrea",
          "Ethiopia",
          "Gabon",
          "Gambia",
          "Ghana",
          "Guinea",
          "Guinea-Bissau",
          "Kenya",
          "Lesotho",
          "Liberia",
          "Libya",
          "Madagascar",
          "Malawi",
          "Mali",
          "Mauritania",
          "Mauritius",
          "Morocco",
          "Mozambique",
          "Namibia",
          "Niger",
          "Nigeria",
          "Reunion",
          "Rwanda",
          "Sao Tome and Principe",
          "Senegal",
          "Sierra Leone",
          "Somalia",
          "South Africa",
          "Sudan",
          "Swaziland",
          "Tanzania",
          "Togo",
          "Tunisia",
          "Uganda",
          "Zambia",
          "Zimbabwe"
         ],
         "ids": [
          "Algeria",
          "Angola",
          "Benin",
          "Botswana",
          "Burkina Faso",
          "Burundi",
          "Cameroon",
          "Central African Republic",
          "Chad",
          "Comoros",
          "Congo, Dem. Rep.",
          "Congo, Rep.",
          "Cote d'Ivoire",
          "Djibouti",
          "Egypt",
          "Equatorial Guinea",
          "Eritrea",
          "Ethiopia",
          "Gabon",
          "Gambia",
          "Ghana",
          "Guinea",
          "Guinea-Bissau",
          "Kenya",
          "Lesotho",
          "Liberia",
          "Libya",
          "Madagascar",
          "Malawi",
          "Mali",
          "Mauritania",
          "Mauritius",
          "Morocco",
          "Mozambique",
          "Namibia",
          "Niger",
          "Nigeria",
          "Reunion",
          "Rwanda",
          "Sao Tome and Principe",
          "Senegal",
          "Sierra Leone",
          "Somalia",
          "South Africa",
          "Sudan",
          "Swaziland",
          "Tanzania",
          "Togo",
          "Tunisia",
          "Uganda",
          "Zambia",
          "Zimbabwe"
         ],
         "legendgroup": "Africa",
         "marker": {
          "color": "#00cc96",
          "size": [
           23254956,
           7874230,
           4243788,
           1151184,
           7586551,
           5126023,
           10780667,
           2840009,
           5498955,
           395114,
           35481645,
           2064095,
           10761098,
           311025,
           52799062,
           341244,
           2915959,
           42999530,
           880397,
           848406,
           14168101,
           5650262,
           927524,
           21198082,
           1599200,
           2269414,
           3799845,
           10568642,
           7824747,
           7634008,
           1841240,
           1042663,
           22987397,
           12891952,
           1278184,
           7332638,
           81551520,
           562035,
           6349365,
           110812,
           7171347,
           3868905,
           6921858,
           35933379,
           24725960,
           779348,
           23040630,
           3154264,
           7724976,
           15283050,
           7272406,
           9216418
          ],
          "sizemode": "area",
          "sizeref": 435928.2961983471,
          "symbol": "circle"
         },
         "mode": "markers",
         "name": "Africa",
         "orientation": "v",
         "showlegend": true,
         "type": "scatter",
         "x": [
          5681.358539,
          2430.208311,
          1225.85601,
          6205.88385,
          912.0631417,
          621.8188188999999,
          2602.664206,
          844.8763504000002,
          952.386129,
          1315.980812,
          672.774812,
          4201.194936999998,
          2156.9560690000008,
          2880.102568,
          3885.46071,
          966.8968149,
          521.1341333,
          573.7413142000001,
          11864.40844,
          611.6588611000002,
          847.0061135,
          805.5724717999999,
          736.4153921,
          1361.936856,
          773.9932140999998,
          506.1138573,
          11770.5898,
          1155.441948,
          635.5173633999998,
          684.1715576,
          1421.603576,
          4783.586903,
          2755.046991,
          389.8761846,
          3693.731337,
          668.3000228,
          1385.029563,
          5303.377488,
          847.991217,
          1516.525457,
          1441.72072,
          1294.4477880000004,
          1093.244963,
          7825.823398,
          1507.819159,
          3984.839812,
          831.8220794,
          1202.201361,
          3810.419296,
          617.7244065,
          1213.315116,
          706.1573059
         ],
         "xaxis": "x",
         "y": [
          65.79899999999999,
          39.906,
          52.337,
          63.622,
          49.557,
          48.21100000000001,
          54.985,
          50.485,
          51.051,
          54.926,
          47.412,
          57.47,
          54.655,
          50.04,
          59.797,
          45.664,
          46.453,
          46.684,
          60.19,
          49.265,
          55.729,
          45.552,
          41.245,
          59.339,
          57.18,
          46.027,
          66.234,
          49.35,
          47.457,
          46.364,
          56.145,
          68.74,
          62.677,
          42.861,
          60.835,
          44.555,
          46.886,
          71.913,
          44.02,
          61.728,
          55.769,
          40.006,
          44.50100000000001,
          60.834,
          51.744,
          57.678,
          51.535,
          56.941,
          66.89399999999999,
          51.50899999999999,
          50.82100000000001,
          62.351000000000006
         ],
         "yaxis": "y"
        },
        {
         "hovertemplate": "<b>%{hovertext}</b><br><br>continent=Americas<br>year=1987<br>gdpPercap=%{x}<br>lifeExp=%{y}<br>pop=%{marker.size}<extra></extra>",
         "hovertext": [
          "Argentina",
          "Bolivia",
          "Brazil",
          "Canada",
          "Chile",
          "Colombia",
          "Costa Rica",
          "Cuba",
          "Dominican Republic",
          "Ecuador",
          "El Salvador",
          "Guatemala",
          "Haiti",
          "Honduras",
          "Jamaica",
          "Mexico",
          "Nicaragua",
          "Panama",
          "Paraguay",
          "Peru",
          "Puerto Rico",
          "Trinidad and Tobago",
          "United States",
          "Uruguay",
          "Venezuela"
         ],
         "ids": [
          "Argentina",
          "Bolivia",
          "Brazil",
          "Canada",
          "Chile",
          "Colombia",
          "Costa Rica",
          "Cuba",
          "Dominican Republic",
          "Ecuador",
          "El Salvador",
          "Guatemala",
          "Haiti",
          "Honduras",
          "Jamaica",
          "Mexico",
          "Nicaragua",
          "Panama",
          "Paraguay",
          "Peru",
          "Puerto Rico",
          "Trinidad and Tobago",
          "United States",
          "Uruguay",
          "Venezuela"
         ],
         "legendgroup": "Americas",
         "marker": {
          "color": "#ab63fa",
          "size": [
           31620918,
           6156369,
           142938076,
           26549700,
           12463354,
           30964245,
           2799811,
           10239839,
           6655297,
           9545158,
           4842194,
           7326406,
           5756203,
           4372203,
           2326606,
           80122492,
           3344353,
           2253639,
           3886512,
           20195924,
           3444468,
           1191336,
           242803533,
           3045153,
           17910182
          ],
          "sizemode": "area",
          "sizeref": 435928.2961983471,
          "symbol": "circle"
         },
         "mode": "markers",
         "name": "Americas",
         "orientation": "v",
         "showlegend": true,
         "type": "scatter",
         "x": [
          9139.671389,
          2753.69149,
          7807.095818000002,
          26626.51503,
          5547.063754,
          4903.2191,
          5629.915318,
          7532.924762999999,
          2899.842175,
          6481.776993,
          4140.442097,
          4246.485974,
          1823.015995,
          3023.096699,
          6351.237495,
          8688.156003,
          2955.984375,
          7034.779161,
          3998.875695,
          6360.943444,
          12281.34191,
          7388.597823,
          29884.350410000006,
          7452.398969,
          9883.584648
         ],
         "xaxis": "x",
         "y": [
          70.774,
          57.25100000000001,
          65.205,
          76.86,
          72.492,
          67.768,
          74.752,
          74.17399999999998,
          66.046,
          67.23100000000001,
          63.154,
          60.782,
          53.636,
          64.492,
          71.77,
          69.498,
          62.008,
          71.523,
          67.378,
          64.134,
          74.63,
          69.582,
          75.02,
          71.918,
          70.19
         ],
         "yaxis": "y"
        },
        {
         "hovertemplate": "<b>%{hovertext}</b><br><br>continent=Oceania<br>year=1987<br>gdpPercap=%{x}<br>lifeExp=%{y}<br>pop=%{marker.size}<extra></extra>",
         "hovertext": [
          "Australia",
          "New Zealand"
         ],
         "ids": [
          "Australia",
          "New Zealand"
         ],
         "legendgroup": "Oceania",
         "marker": {
          "color": "#FFA15A",
          "size": [
           16257249,
           3317166
          ],
          "sizemode": "area",
          "sizeref": 435928.2961983471,
          "symbol": "circle"
         },
         "mode": "markers",
         "name": "Oceania",
         "orientation": "v",
         "showlegend": true,
         "type": "scatter",
         "x": [
          21888.88903,
          19007.19129
         ],
         "xaxis": "x",
         "y": [
          76.32,
          74.32
         ],
         "yaxis": "y"
        }
       ],
       "frames": [
        {
         "data": [
          {
           "hovertemplate": "<b>%{hovertext}</b><br><br>continent=Asia<br>year=1952<br>gdpPercap=%{x}<br>lifeExp=%{y}<br>pop=%{marker.size}<extra></extra>",
           "hovertext": [
            "Afghanistan",
            "Bahrain",
            "Bangladesh",
            "Cambodia",
            "China",
            "Hong Kong, China",
            "India",
            "Indonesia",
            "Iran",
            "Iraq",
            "Israel",
            "Japan",
            "Jordan",
            "Korea, Dem. Rep.",
            "Korea, Rep.",
            "Kuwait",
            "Lebanon",
            "Malaysia",
            "Mongolia",
            "Myanmar",
            "Nepal",
            "Oman",
            "Pakistan",
            "Philippines",
            "Saudi Arabia",
            "Singapore",
            "Sri Lanka",
            "Syria",
            "Taiwan",
            "Thailand",
            "Vietnam",
            "West Bank and Gaza",
            "Yemen, Rep."
           ],
           "ids": [
            "Afghanistan",
            "Bahrain",
            "Bangladesh",
            "Cambodia",
            "China",
            "Hong Kong, China",
            "India",
            "Indonesia",
            "Iran",
            "Iraq",
            "Israel",
            "Japan",
            "Jordan",
            "Korea, Dem. Rep.",
            "Korea, Rep.",
            "Kuwait",
            "Lebanon",
            "Malaysia",
            "Mongolia",
            "Myanmar",
            "Nepal",
            "Oman",
            "Pakistan",
            "Philippines",
            "Saudi Arabia",
            "Singapore",
            "Sri Lanka",
            "Syria",
            "Taiwan",
            "Thailand",
            "Vietnam",
            "West Bank and Gaza",
            "Yemen, Rep."
           ],
           "legendgroup": "Asia",
           "marker": {
            "color": "#636efa",
            "size": [
             8425333,
             120447,
             46886859,
             4693836,
             556263527,
             2125900,
             372000000,
             82052000,
             17272000,
             5441766,
             1620914,
             86459025,
             607914,
             8865488,
             20947571,
             160000,
             1439529,
             6748378,
             800663,
             20092996,
             9182536,
             507833,
             41346560,
             22438691,
             4005677,
             1127000,
             7982342,
             3661549,
             8550362,
             21289402,
             26246839,
             1030585,
             4963829
            ],
            "sizemode": "area",
            "sizeref": 435928.2961983471,
            "symbol": "circle"
           },
           "mode": "markers",
           "name": "Asia",
           "orientation": "v",
           "showlegend": true,
           "type": "scatter",
           "x": [
            779.4453145,
            9867.084765,
            684.2441716,
            368.4692856,
            400.448611,
            3054.421209,
            546.5657493,
            749.6816546,
            3035.326002,
            4129.766056,
            4086.522128,
            3216.956347,
            1546.907807,
            1088.277758,
            1030.592226,
            108382.3529,
            4834.804067,
            1831.132894,
            786.5668575,
            331,
            545.8657228999998,
            1828.230307,
            684.5971437999998,
            1272.880995,
            6459.554823,
            2315.138227,
            1083.53203,
            1643.485354,
            1206.947913,
            757.7974177,
            605.0664917,
            1515.5923289999996,
            781.7175761
           ],
           "xaxis": "x",
           "y": [
            28.801,
            50.93899999999999,
            37.484,
            39.417,
            44,
            60.96,
            37.37300000000001,
            37.468,
            44.869,
            45.32,
            65.39,
            63.03,
            43.158,
            50.056,
            47.453,
            55.565,
            55.928,
            48.463,
            42.244,
            36.319,
            36.157,
            37.578,
            43.43600000000001,
            47.752,
            39.875,
            60.396,
            57.593,
            45.883,
            58.5,
            50.848,
            40.412,
            43.16,
            32.548
           ],
           "yaxis": "y"
          },
          {
           "hovertemplate": "<b>%{hovertext}</b><br><br>continent=Europe<br>year=1952<br>gdpPercap=%{x}<br>lifeExp=%{y}<br>pop=%{marker.size}<extra></extra>",
           "hovertext": [
            "Albania",
            "Austria",
            "Belgium",
            "Bosnia and Herzegovina",
            "Bulgaria",
            "Croatia",
            "Czech Republic",
            "Denmark",
            "Finland",
            "France",
            "Germany",
            "Greece",
            "Hungary",
            "Iceland",
            "Ireland",
            "Italy",
            "Montenegro",
            "Netherlands",
            "Norway",
            "Poland",
            "Portugal",
            "Romania",
            "Serbia",
            "Slovak Republic",
            "Slovenia",
            "Spain",
            "Sweden",
            "Switzerland",
            "Turkey",
            "United Kingdom"
           ],
           "ids": [
            "Albania",
            "Austria",
            "Belgium",
            "Bosnia and Herzegovina",
            "Bulgaria",
            "Croatia",
            "Czech Republic",
            "Denmark",
            "Finland",
            "France",
            "Germany",
            "Greece",
            "Hungary",
            "Iceland",
            "Ireland",
            "Italy",
            "Montenegro",
            "Netherlands",
            "Norway",
            "Poland",
            "Portugal",
            "Romania",
            "Serbia",
            "Slovak Republic",
            "Slovenia",
            "Spain",
            "Sweden",
            "Switzerland",
            "Turkey",
            "United Kingdom"
           ],
           "legendgroup": "Europe",
           "marker": {
            "color": "#EF553B",
            "size": [
             1282697,
             6927772,
             8730405,
             2791000,
             7274900,
             3882229,
             9125183,
             4334000,
             4090500,
             42459667,
             69145952,
             7733250,
             9504000,
             147962,
             2952156,
             47666000,
             413834,
             10381988,
             3327728,
             25730551,
             8526050,
             16630000,
             6860147,
             3558137,
             1489518,
             28549870,
             7124673,
             4815000,
             22235677,
             50430000
            ],
            "sizemode": "area",
            "sizeref": 435928.2961983471,
            "symbol": "circle"
           },
           "mode": "markers",
           "name": "Europe",
           "orientation": "v",
           "showlegend": true,
           "type": "scatter",
           "x": [
            1601.056136,
            6137.076492,
            8343.105126999999,
            973.5331948,
            2444.286648,
            3119.23652,
            6876.14025,
            9692.385245,
            6424.519071,
            7029.809327,
            7144.114393000002,
            3530.690067,
            5263.673816,
            7267.688428,
            5210.280328,
            4931.404154999998,
            2647.585601,
            8941.571858,
            10095.42172,
            4029.329699,
            3068.319867,
            3144.613186,
            3581.459448,
            5074.659104,
            4215.041741,
            3834.034742,
            8527.844662000001,
            14734.23275,
            1969.10098,
            9979.508487
           ],
           "xaxis": "x",
           "y": [
            55.23,
            66.8,
            68,
            53.82,
            59.6,
            61.21,
            66.87,
            70.78,
            66.55,
            67.41,
            67.5,
            65.86,
            64.03,
            72.49,
            66.91,
            65.94,
            59.164,
            72.13,
            72.67,
            61.31,
            59.82,
            61.05,
            57.996,
            64.36,
            65.57,
            64.94,
            71.86,
            69.62,
            43.585,
            69.18
           ],
           "yaxis": "y"
          },
          {
           "hovertemplate": "<b>%{hovertext}</b><br><br>continent=Africa<br>year=1952<br>gdpPercap=%{x}<br>lifeExp=%{y}<br>pop=%{marker.size}<extra></extra>",
           "hovertext": [
            "Algeria",
            "Angola",
            "Benin",
            "Botswana",
            "Burkina Faso",
            "Burundi",
            "Cameroon",
            "Central African Republic",
            "Chad",
            "Comoros",
            "Congo, Dem. Rep.",
            "Congo, Rep.",
            "Cote d'Ivoire",
            "Djibouti",
            "Egypt",
            "Equatorial Guinea",
            "Eritrea",
            "Ethiopia",
            "Gabon",
            "Gambia",
            "Ghana",
            "Guinea",
            "Guinea-Bissau",
            "Kenya",
            "Lesotho",
            "Liberia",
            "Libya",
            "Madagascar",
            "Malawi",
            "Mali",
            "Mauritania",
            "Mauritius",
            "Morocco",
            "Mozambique",
            "Namibia",
            "Niger",
            "Nigeria",
            "Reunion",
            "Rwanda",
            "Sao Tome and Principe",
            "Senegal",
            "Sierra Leone",
            "Somalia",
            "South Africa",
            "Sudan",
            "Swaziland",
            "Tanzania",
            "Togo",
            "Tunisia",
            "Uganda",
            "Zambia",
            "Zimbabwe"
           ],
           "ids": [
            "Algeria",
            "Angola",
            "Benin",
            "Botswana",
            "Burkina Faso",
            "Burundi",
            "Cameroon",
            "Central African Republic",
            "Chad",
            "Comoros",
            "Congo, Dem. Rep.",
            "Congo, Rep.",
            "Cote d'Ivoire",
            "Djibouti",
            "Egypt",
            "Equatorial Guinea",
            "Eritrea",
            "Ethiopia",
            "Gabon",
            "Gambia",
            "Ghana",
            "Guinea",
            "Guinea-Bissau",
            "Kenya",
            "Lesotho",
            "Liberia",
            "Libya",
            "Madagascar",
            "Malawi",
            "Mali",
            "Mauritania",
            "Mauritius",
            "Morocco",
            "Mozambique",
            "Namibia",
            "Niger",
            "Nigeria",
            "Reunion",
            "Rwanda",
            "Sao Tome and Principe",
            "Senegal",
            "Sierra Leone",
            "Somalia",
            "South Africa",
            "Sudan",
            "Swaziland",
            "Tanzania",
            "Togo",
            "Tunisia",
            "Uganda",
            "Zambia",
            "Zimbabwe"
           ],
           "legendgroup": "Africa",
           "marker": {
            "color": "#00cc96",
            "size": [
             9279525,
             4232095,
             1738315,
             442308,
             4469979,
             2445618,
             5009067,
             1291695,
             2682462,
             153936,
             14100005,
             854885,
             2977019,
             63149,
             22223309,
             216964,
             1438760,
             20860941,
             420702,
             284320,
             5581001,
             2664249,
             580653,
             6464046,
             748747,
             863308,
             1019729,
             4762912,
             2917802,
             3838168,
             1022556,
             516556,
             9939217,
             6446316,
             485831,
             3379468,
             33119096,
             257700,
             2534927,
             60011,
             2755589,
             2143249,
             2526994,
             14264935,
             8504667,
             290243,
             8322925,
             1219113,
             3647735,
             5824797,
             2672000,
             3080907
            ],
            "sizemode": "area",
            "sizeref": 435928.2961983471,
            "symbol": "circle"
           },
           "mode": "markers",
           "name": "Africa",
           "orientation": "v",
           "showlegend": true,
           "type": "scatter",
           "x": [
            2449.008185,
            3520.610273,
            1062.7522,
            851.2411407,
            543.2552413,
            339.2964587,
            1172.667655,
            1071.310713,
            1178.665927,
            1102.990936,
            780.5423257,
            2125.621418,
            1388.594732,
            2669.529475,
            1418.822445,
            375.6431231,
            328.9405571000001,
            362.1462796,
            4293.476475,
            485.2306591,
            911.2989371,
            510.1964923000001,
            299.850319,
            853.5409189999998,
            298.8462121,
            575.5729961000002,
            2387.54806,
            1443.011715,
            369.1650802,
            452.3369807,
            743.1159097,
            1967.955707,
            1688.20357,
            468.5260381,
            2423.780443,
            761.879376,
            1077.281856,
            2718.885295,
            493.3238752,
            879.5835855,
            1450.356983,
            879.7877358,
            1135.749842,
            4725.295531000002,
            1615.991129,
            1148.376626,
            716.6500721,
            859.8086567,
            1468.475631,
            734.753484,
            1147.388831,
            406.8841148
           ],
           "xaxis": "x",
           "y": [
            43.077,
            30.015,
            38.223,
            47.622,
            31.975,
            39.031,
            38.523,
            35.463,
            38.092,
            40.715,
            39.143,
            42.111,
            40.477,
            34.812,
            41.893,
            34.482,
            35.92800000000001,
            34.078,
            37.003,
            30,
            43.149,
            33.609,
            32.5,
            42.27,
            42.13800000000001,
            38.48,
            42.723,
            36.681,
            36.256,
            33.685,
            40.543,
            50.986,
            42.87300000000001,
            31.286,
            41.725,
            37.444,
            36.324,
            52.724,
            40,
            46.471,
            37.278,
            30.331,
            32.978,
            45.00899999999999,
            38.635,
            41.407,
            41.215,
            38.596,
            44.6,
            39.978,
            42.038,
            48.451
           ],
           "yaxis": "y"
          },
          {
           "hovertemplate": "<b>%{hovertext}</b><br><br>continent=Americas<br>year=1952<br>gdpPercap=%{x}<br>lifeExp=%{y}<br>pop=%{marker.size}<extra></extra>",
           "hovertext": [
            "Argentina",
            "Bolivia",
            "Brazil",
            "Canada",
            "Chile",
            "Colombia",
            "Costa Rica",
            "Cuba",
            "Dominican Republic",
            "Ecuador",
            "El Salvador",
            "Guatemala",
            "Haiti",
            "Honduras",
            "Jamaica",
            "Mexico",
            "Nicaragua",
            "Panama",
            "Paraguay",
            "Peru",
            "Puerto Rico",
            "Trinidad and Tobago",
            "United States",
            "Uruguay",
            "Venezuela"
           ],
           "ids": [
            "Argentina",
            "Bolivia",
            "Brazil",
            "Canada",
            "Chile",
            "Colombia",
            "Costa Rica",
            "Cuba",
            "Dominican Republic",
            "Ecuador",
            "El Salvador",
            "Guatemala",
            "Haiti",
            "Honduras",
            "Jamaica",
            "Mexico",
            "Nicaragua",
            "Panama",
            "Paraguay",
            "Peru",
            "Puerto Rico",
            "Trinidad and Tobago",
            "United States",
            "Uruguay",
            "Venezuela"
           ],
           "legendgroup": "Americas",
           "marker": {
            "color": "#ab63fa",
            "size": [
             17876956,
             2883315,
             56602560,
             14785584,
             6377619,
             12350771,
             926317,
             6007797,
             2491346,
             3548753,
             2042865,
             3146381,
             3201488,
             1517453,
             1426095,
             30144317,
             1165790,
             940080,
             1555876,
             8025700,
             2227000,
             662850,
             157553000,
             2252965,
             5439568
            ],
            "sizemode": "area",
            "sizeref": 435928.2961983471,
            "symbol": "circle"
           },
           "mode": "markers",
           "name": "Americas",
           "orientation": "v",
           "showlegend": true,
           "type": "scatter",
           "x": [
            5911.315053,
            2677.326347,
            2108.944355,
            11367.16112,
            3939.978789,
            2144.115096,
            2627.0094710000008,
            5586.53878,
            1397.717137,
            3522.110717,
            3048.3029,
            2428.2377690000008,
            1840.366939,
            2194.926204,
            2898.530881,
            3478.125529,
            3112.363948,
            2480.380334,
            1952.308701,
            3758.523437,
            3081.959785,
            3023.271928,
            13990.482080000002,
            5716.766744,
            7689.799761
           ],
           "xaxis": "x",
           "y": [
            62.485,
            40.414,
            50.917,
            68.75,
            54.745,
            50.643,
            57.206,
            59.42100000000001,
            45.928,
            48.357,
            45.262,
            42.023,
            37.579,
            41.912,
            58.53,
            50.789,
            42.31399999999999,
            55.191,
            62.649,
            43.902,
            64.28,
            59.1,
            68.44,
            66.071,
            55.088
           ],
           "yaxis": "y"
          },
          {
           "hovertemplate": "<b>%{hovertext}</b><br><br>continent=Oceania<br>year=1952<br>gdpPercap=%{x}<br>lifeExp=%{y}<br>pop=%{marker.size}<extra></extra>",
           "hovertext": [
            "Australia",
            "New Zealand"
           ],
           "ids": [
            "Australia",
            "New Zealand"
           ],
           "legendgroup": "Oceania",
           "marker": {
            "color": "#FFA15A",
            "size": [
             8691212,
             1994794
            ],
            "sizemode": "area",
            "sizeref": 435928.2961983471,
            "symbol": "circle"
           },
           "mode": "markers",
           "name": "Oceania",
           "orientation": "v",
           "showlegend": true,
           "type": "scatter",
           "x": [
            10039.59564,
            10556.57566
           ],
           "xaxis": "x",
           "y": [
            69.12,
            69.39
           ],
           "yaxis": "y"
          }
         ],
         "name": "1952"
        },
        {
         "data": [
          {
           "hovertemplate": "<b>%{hovertext}</b><br><br>continent=Asia<br>year=1957<br>gdpPercap=%{x}<br>lifeExp=%{y}<br>pop=%{marker.size}<extra></extra>",
           "hovertext": [
            "Afghanistan",
            "Bahrain",
            "Bangladesh",
            "Cambodia",
            "China",
            "Hong Kong, China",
            "India",
            "Indonesia",
            "Iran",
            "Iraq",
            "Israel",
            "Japan",
            "Jordan",
            "Korea, Dem. Rep.",
            "Korea, Rep.",
            "Kuwait",
            "Lebanon",
            "Malaysia",
            "Mongolia",
            "Myanmar",
            "Nepal",
            "Oman",
            "Pakistan",
            "Philippines",
            "Saudi Arabia",
            "Singapore",
            "Sri Lanka",
            "Syria",
            "Taiwan",
            "Thailand",
            "Vietnam",
            "West Bank and Gaza",
            "Yemen, Rep."
           ],
           "ids": [
            "Afghanistan",
            "Bahrain",
            "Bangladesh",
            "Cambodia",
            "China",
            "Hong Kong, China",
            "India",
            "Indonesia",
            "Iran",
            "Iraq",
            "Israel",
            "Japan",
            "Jordan",
            "Korea, Dem. Rep.",
            "Korea, Rep.",
            "Kuwait",
            "Lebanon",
            "Malaysia",
            "Mongolia",
            "Myanmar",
            "Nepal",
            "Oman",
            "Pakistan",
            "Philippines",
            "Saudi Arabia",
            "Singapore",
            "Sri Lanka",
            "Syria",
            "Taiwan",
            "Thailand",
            "Vietnam",
            "West Bank and Gaza",
            "Yemen, Rep."
           ],
           "legendgroup": "Asia",
           "marker": {
            "color": "#636efa",
            "size": [
             9240934,
             138655,
             51365468,
             5322536,
             637408000,
             2736300,
             409000000,
             90124000,
             19792000,
             6248643,
             1944401,
             91563009,
             746559,
             9411381,
             22611552,
             212846,
             1647412,
             7739235,
             882134,
             21731844,
             9682338,
             561977,
             46679944,
             26072194,
             4419650,
             1445929,
             9128546,
             4149908,
             10164215,
             25041917,
             28998543,
             1070439,
             5498090
            ],
            "sizemode": "area",
            "sizeref": 435928.2961983471,
            "symbol": "circle"
           },
           "mode": "markers",
           "name": "Asia",
           "orientation": "v",
           "showlegend": true,
           "type": "scatter",
           "x": [
            820.8530296,
            11635.79945,
            661.6374577,
            434.0383364,
            575.9870009,
            3629.076457,
            590.061996,
            858.9002707000002,
            3290.257643,
            6229.333562,
            5385.278451,
            4317.694365,
            1886.080591,
            1571.134655,
            1487.593537,
            113523.1329,
            6089.786934000002,
            1810.0669920000007,
            912.6626085,
            350,
            597.9363557999999,
            2242.746551,
            747.0835292,
            1547.944844,
            8157.5912480000015,
            2843.104409,
            1072.546602,
            2117.234893,
            1507.86129,
            793.5774147999998,
            676.2854477999998,
            1827.067742,
            804.8304547
           ],
           "xaxis": "x",
           "y": [
            30.332,
            53.832,
            39.348,
            41.36600000000001,
            50.54896,
            64.75,
            40.249,
            39.918,
            47.181,
            48.437,
            67.84,
            65.5,
            45.669,
            54.081,
            52.681,
            58.033,
            59.489,
            52.102,
            45.24800000000001,
            41.905,
            37.686,
            40.08,
            45.557,
            51.334,
            42.868,
            63.179,
            61.456,
            48.284,
            62.4,
            53.63,
            42.887,
            45.67100000000001,
            33.97
           ],
           "yaxis": "y"
          },
          {
           "hovertemplate": "<b>%{hovertext}</b><br><br>continent=Europe<br>year=1957<br>gdpPercap=%{x}<br>lifeExp=%{y}<br>pop=%{marker.size}<extra></extra>",
           "hovertext": [
            "Albania",
            "Austria",
            "Belgium",
            "Bosnia and Herzegovina",
            "Bulgaria",
            "Croatia",
            "Czech Republic",
            "Denmark",
            "Finland",
            "France",
            "Germany",
            "Greece",
            "Hungary",
            "Iceland",
            "Ireland",
            "Italy",
            "Montenegro",
            "Netherlands",
            "Norway",
            "Poland",
            "Portugal",
            "Romania",
            "Serbia",
            "Slovak Republic",
            "Slovenia",
            "Spain",
            "Sweden",
            "Switzerland",
            "Turkey",
            "United Kingdom"
           ],
           "ids": [
            "Albania",
            "Austria",
            "Belgium",
            "Bosnia and Herzegovina",
            "Bulgaria",
            "Croatia",
            "Czech Republic",
            "Denmark",
            "Finland",
            "France",
            "Germany",
            "Greece",
            "Hungary",
            "Iceland",
            "Ireland",
            "Italy",
            "Montenegro",
            "Netherlands",
            "Norway",
            "Poland",
            "Portugal",
            "Romania",
            "Serbia",
            "Slovak Republic",
            "Slovenia",
            "Spain",
            "Sweden",
            "Switzerland",
            "Turkey",
            "United Kingdom"
           ],
           "legendgroup": "Europe",
           "marker": {
            "color": "#EF553B",
            "size": [
             1476505,
             6965860,
             8989111,
             3076000,
             7651254,
             3991242,
             9513758,
             4487831,
             4324000,
             44310863,
             71019069,
             8096218,
             9839000,
             165110,
             2878220,
             49182000,
             442829,
             11026383,
             3491938,
             28235346,
             8817650,
             17829327,
             7271135,
             3844277,
             1533070,
             29841614,
             7363802,
             5126000,
             25670939,
             51430000
            ],
            "sizemode": "area",
            "sizeref": 435928.2961983471,
            "symbol": "circle"
           },
           "mode": "markers",
           "name": "Europe",
           "orientation": "v",
           "showlegend": true,
           "type": "scatter",
           "x": [
            1942.284244,
            8842.59803,
            9714.960623,
            1353.989176,
            3008.670727,
            4338.231617,
            8256.343918,
            11099.65935,
            7545.415386,
            8662.834898000001,
            10187.82665,
            4916.299889,
            6040.180011,
            9244.001412,
            5599.077872,
            6248.656232,
            3682.259903,
            11276.19344,
            11653.97304,
            4734.253019,
            3774.571743,
            3943.370225,
            4981.090891,
            6093.26298,
            5862.276629,
            4564.80241,
            9911.878226,
            17909.48973,
            2218.754257,
            11283.17795
           ],
           "xaxis": "x",
           "y": [
            59.28,
            67.48,
            69.24,
            58.45,
            66.61,
            64.77,
            69.03,
            71.81,
            67.49,
            68.93,
            69.1,
            67.86,
            66.41,
            73.47,
            68.9,
            67.81,
            61.448,
            72.99,
            73.44,
            65.77,
            61.51,
            64.1,
            61.685,
            67.45,
            67.85,
            66.66,
            72.49,
            70.56,
            48.07899999999999,
            70.42
           ],
           "yaxis": "y"
          },
          {
           "hovertemplate": "<b>%{hovertext}</b><br><br>continent=Africa<br>year=1957<br>gdpPercap=%{x}<br>lifeExp=%{y}<br>pop=%{marker.size}<extra></extra>",
           "hovertext": [
            "Algeria",
            "Angola",
            "Benin",
            "Botswana",
            "Burkina Faso",
            "Burundi",
            "Cameroon",
            "Central African Republic",
            "Chad",
            "Comoros",
            "Congo, Dem. Rep.",
            "Congo, Rep.",
            "Cote d'Ivoire",
            "Djibouti",
            "Egypt",
            "Equatorial Guinea",
            "Eritrea",
            "Ethiopia",
            "Gabon",
            "Gambia",
            "Ghana",
            "Guinea",
            "Guinea-Bissau",
            "Kenya",
            "Lesotho",
            "Liberia",
            "Libya",
            "Madagascar",
            "Malawi",
            "Mali",
            "Mauritania",
            "Mauritius",
            "Morocco",
            "Mozambique",
            "Namibia",
            "Niger",
            "Nigeria",
            "Reunion",
            "Rwanda",
            "Sao Tome and Principe",
            "Senegal",
            "Sierra Leone",
            "Somalia",
            "South Africa",
            "Sudan",
            "Swaziland",
            "Tanzania",
            "Togo",
            "Tunisia",
            "Uganda",
            "Zambia",
            "Zimbabwe"
           ],
           "ids": [
            "Algeria",
            "Angola",
            "Benin",
            "Botswana",
            "Burkina Faso",
            "Burundi",
            "Cameroon",
            "Central African Republic",
            "Chad",
            "Comoros",
            "Congo, Dem. Rep.",
            "Congo, Rep.",
            "Cote d'Ivoire",
            "Djibouti",
            "Egypt",
            "Equatorial Guinea",
            "Eritrea",
            "Ethiopia",
            "Gabon",
            "Gambia",
            "Ghana",
            "Guinea",
            "Guinea-Bissau",
            "Kenya",
            "Lesotho",
            "Liberia",
            "Libya",
            "Madagascar",
            "Malawi",
            "Mali",
            "Mauritania",
            "Mauritius",
            "Morocco",
            "Mozambique",
            "Namibia",
            "Niger",
            "Nigeria",
            "Reunion",
            "Rwanda",
            "Sao Tome and Principe",
            "Senegal",
            "Sierra Leone",
            "Somalia",
            "South Africa",
            "Sudan",
            "Swaziland",
            "Tanzania",
            "Togo",
            "Tunisia",
            "Uganda",
            "Zambia",
            "Zimbabwe"
           ],
           "legendgroup": "Africa",
           "marker": {
            "color": "#00cc96",
            "size": [
             10270856,
             4561361,
             1925173,
             474639,
             4713416,
             2667518,
             5359923,
             1392284,
             2894855,
             170928,
             15577932,
             940458,
             3300000,
             71851,
             25009741,
             232922,
             1542611,
             22815614,
             434904,
             323150,
             6391288,
             2876726,
             601095,
             7454779,
             813338,
             975950,
             1201578,
             5181679,
             3221238,
             4241884,
             1076852,
             609816,
             11406350,
             7038035,
             548080,
             3692184,
             37173340,
             308700,
             2822082,
             61325,
             3054547,
             2295678,
             2780415,
             16151549,
             9753392,
             326741,
             9452826,
             1357445,
             3950849,
             6675501,
             3016000,
             3646340
            ],
            "sizemode": "area",
            "sizeref": 435928.2961983471,
            "symbol": "circle"
           },
           "mode": "markers",
           "name": "Africa",
           "orientation": "v",
           "showlegend": true,
           "type": "scatter",
           "x": [
            3013.976023,
            3827.940465,
            959.6010805,
            918.2325349,
            617.1834647999998,
            379.5646281000001,
            1313.048099,
            1190.844328,
            1308.495577,
            1211.148548,
            905.8602303,
            2315.056572,
            1500.895925,
            2864.9690760000008,
            1458.915272,
            426.0964081,
            344.1618859,
            378.9041632,
            4976.198099,
            520.9267111,
            1043.5615369999996,
            576.2670245,
            431.79045660000014,
            944.4383152,
            335.9971151000001,
            620.9699901,
            3448.284395,
            1589.20275,
            416.3698064,
            490.3821867,
            846.1202613,
            2034.037981,
            1642.002314,
            495.58683330000014,
            2621.448058,
            835.5234025000002,
            1100.5925630000004,
            2769.451844,
            540.2893982999999,
            860.7369026,
            1567.653006,
            1004.484437,
            1258.147413,
            5487.104219,
            1770.3370739999998,
            1244.708364,
            698.5356073,
            925.9083202,
            1395.232468,
            774.3710692000002,
            1311.956766,
            518.7642681
           ],
           "xaxis": "x",
           "y": [
            45.685,
            31.999,
            40.358,
            49.618,
            34.906,
            40.533,
            40.428,
            37.464,
            39.881,
            42.46,
            40.652,
            45.053,
            42.469,
            37.328,
            44.444,
            35.98300000000001,
            38.047,
            36.667,
            38.999,
            32.065,
            44.779,
            34.558,
            33.489000000000004,
            44.68600000000001,
            45.047,
            39.486,
            45.289,
            38.865,
            37.207,
            35.30699999999999,
            42.338,
            58.089,
            45.423,
            33.779,
            45.226000000000006,
            38.598,
            37.802,
            55.09,
            41.5,
            48.945,
            39.329,
            31.57,
            34.977,
            47.985,
            39.624,
            43.424,
            42.974,
            41.208,
            47.1,
            42.57100000000001,
            44.077,
            50.469
           ],
           "yaxis": "y"
          },
          {
           "hovertemplate": "<b>%{hovertext}</b><br><br>continent=Americas<br>year=1957<br>gdpPercap=%{x}<br>lifeExp=%{y}<br>pop=%{marker.size}<extra></extra>",
           "hovertext": [
            "Argentina",
            "Bolivia",
            "Brazil",
            "Canada",
            "Chile",
            "Colombia",
            "Costa Rica",
            "Cuba",
            "Dominican Republic",
            "Ecuador",
            "El Salvador",
            "Guatemala",
            "Haiti",
            "Honduras",
            "Jamaica",
            "Mexico",
            "Nicaragua",
            "Panama",
            "Paraguay",
            "Peru",
            "Puerto Rico",
            "Trinidad and Tobago",
            "United States",
            "Uruguay",
            "Venezuela"
           ],
           "ids": [
            "Argentina",
            "Bolivia",
            "Brazil",
            "Canada",
            "Chile",
            "Colombia",
            "Costa Rica",
            "Cuba",
            "Dominican Republic",
            "Ecuador",
            "El Salvador",
            "Guatemala",
            "Haiti",
            "Honduras",
            "Jamaica",
            "Mexico",
            "Nicaragua",
            "Panama",
            "Paraguay",
            "Peru",
            "Puerto Rico",
            "Trinidad and Tobago",
            "United States",
            "Uruguay",
            "Venezuela"
           ],
           "legendgroup": "Americas",
           "marker": {
            "color": "#ab63fa",
            "size": [
             19610538,
             3211738,
             65551171,
             17010154,
             7048426,
             14485993,
             1112300,
             6640752,
             2923186,
             4058385,
             2355805,
             3640876,
             3507701,
             1770390,
             1535090,
             35015548,
             1358828,
             1063506,
             1770902,
             9146100,
             2260000,
             764900,
             171984000,
             2424959,
             6702668
            ],
            "sizemode": "area",
            "sizeref": 435928.2961983471,
            "symbol": "circle"
           },
           "mode": "markers",
           "name": "Americas",
           "orientation": "v",
           "showlegend": true,
           "type": "scatter",
           "x": [
            6856.8562120000015,
            2127.686326,
            2487.365989,
            12489.95006,
            4315.622723,
            2323.805581,
            2990.010802,
            6092.1743590000015,
            1544.402995,
            3780.546651,
            3421.523218,
            2617.155967,
            1726.887882,
            2220.487682,
            4756.525781,
            4131.546641,
            3457.415947,
            2961.800905,
            2046.154706,
            4245.256697999999,
            3907.156189,
            4100.3934,
            14847.12712,
            6150.772969,
            9802.466526
           ],
           "xaxis": "x",
           "y": [
            64.399,
            41.89,
            53.285,
            69.96,
            56.074,
            55.118,
            60.026,
            62.325,
            49.828,
            51.356,
            48.57,
            44.142,
            40.696,
            44.665,
            62.61,
            55.19,
            45.432,
            59.201,
            63.19600000000001,
            46.26300000000001,
            68.54,
            61.8,
            69.49,
            67.044,
            57.907
           ],
           "yaxis": "y"
          },
          {
           "hovertemplate": "<b>%{hovertext}</b><br><br>continent=Oceania<br>year=1957<br>gdpPercap=%{x}<br>lifeExp=%{y}<br>pop=%{marker.size}<extra></extra>",
           "hovertext": [
            "Australia",
            "New Zealand"
           ],
           "ids": [
            "Australia",
            "New Zealand"
           ],
           "legendgroup": "Oceania",
           "marker": {
            "color": "#FFA15A",
            "size": [
             9712569,
             2229407
            ],
            "sizemode": "area",
            "sizeref": 435928.2961983471,
            "symbol": "circle"
           },
           "mode": "markers",
           "name": "Oceania",
           "orientation": "v",
           "showlegend": true,
           "type": "scatter",
           "x": [
            10949.64959,
            12247.39532
           ],
           "xaxis": "x",
           "y": [
            70.33,
            70.26
           ],
           "yaxis": "y"
          }
         ],
         "name": "1957"
        },
        {
         "data": [
          {
           "hovertemplate": "<b>%{hovertext}</b><br><br>continent=Asia<br>year=1962<br>gdpPercap=%{x}<br>lifeExp=%{y}<br>pop=%{marker.size}<extra></extra>",
           "hovertext": [
            "Afghanistan",
            "Bahrain",
            "Bangladesh",
            "Cambodia",
            "China",
            "Hong Kong, China",
            "India",
            "Indonesia",
            "Iran",
            "Iraq",
            "Israel",
            "Japan",
            "Jordan",
            "Korea, Dem. Rep.",
            "Korea, Rep.",
            "Kuwait",
            "Lebanon",
            "Malaysia",
            "Mongolia",
            "Myanmar",
            "Nepal",
            "Oman",
            "Pakistan",
            "Philippines",
            "Saudi Arabia",
            "Singapore",
            "Sri Lanka",
            "Syria",
            "Taiwan",
            "Thailand",
            "Vietnam",
            "West Bank and Gaza",
            "Yemen, Rep."
           ],
           "ids": [
            "Afghanistan",
            "Bahrain",
            "Bangladesh",
            "Cambodia",
            "China",
            "Hong Kong, China",
            "India",
            "Indonesia",
            "Iran",
            "Iraq",
            "Israel",
            "Japan",
            "Jordan",
            "Korea, Dem. Rep.",
            "Korea, Rep.",
            "Kuwait",
            "Lebanon",
            "Malaysia",
            "Mongolia",
            "Myanmar",
            "Nepal",
            "Oman",
            "Pakistan",
            "Philippines",
            "Saudi Arabia",
            "Singapore",
            "Sri Lanka",
            "Syria",
            "Taiwan",
            "Thailand",
            "Vietnam",
            "West Bank and Gaza",
            "Yemen, Rep."
           ],
           "legendgroup": "Asia",
           "marker": {
            "color": "#636efa",
            "size": [
             10267083,
             171863,
             56839289,
             6083619,
             665770000,
             3305200,
             454000000,
             99028000,
             22874000,
             7240260,
             2310904,
             95831757,
             933559,
             10917494,
             26420307,
             358266,
             1886848,
             8906385,
             1010280,
             23634436,
             10332057,
             628164,
             53100671,
             30325264,
             4943029,
             1750200,
             10421936,
             4834621,
             11918938,
             29263397,
             33796140,
             1133134,
             6120081
            ],
            "sizemode": "area",
            "sizeref": 435928.2961983471,
            "symbol": "circle"
           },
           "mode": "markers",
           "name": "Asia",
           "orientation": "v",
           "showlegend": true,
           "type": "scatter",
           "x": [
            853.1007099999998,
            12753.27514,
            686.3415537999998,
            496.9136476,
            487.6740183,
            4692.648271999999,
            658.3471509,
            849.2897700999998,
            4187.329802,
            8341.737815,
            7105.630706,
            6576.649461,
            2348.009158,
            1621.693598,
            1536.344387,
            95458.11176,
            5714.560611,
            2036.884944,
            1056.353958,
            388,
            652.3968593,
            2924.638113,
            803.3427418,
            1649.552153,
            11626.41975,
            3674.735572,
            1074.47196,
            2193.037133,
            1822.879028,
            1002.199172,
            772.0491602000002,
            2198.9563120000007,
            825.6232006
           ],
           "xaxis": "x",
           "y": [
            31.997,
            56.923,
            41.216,
            43.415,
            44.50136,
            67.65,
            43.605,
            42.518,
            49.325,
            51.457,
            69.39,
            68.73,
            48.12600000000001,
            56.65600000000001,
            55.292,
            60.47,
            62.094,
            55.737,
            48.25100000000001,
            45.108,
            39.393,
            43.165,
            47.67,
            54.757,
            45.914,
            65.798,
            62.192,
            50.305,
            65.2,
            56.06100000000001,
            45.363,
            48.127,
            35.18
           ],
           "yaxis": "y"
          },
          {
           "hovertemplate": "<b>%{hovertext}</b><br><br>continent=Europe<br>year=1962<br>gdpPercap=%{x}<br>lifeExp=%{y}<br>pop=%{marker.size}<extra></extra>",
           "hovertext": [
            "Albania",
            "Austria",
            "Belgium",
            "Bosnia and Herzegovina",
            "Bulgaria",
            "Croatia",
            "Czech Republic",
            "Denmark",
            "Finland",
            "France",
            "Germany",
            "Greece",
            "Hungary",
            "Iceland",
            "Ireland",
            "Italy",
            "Montenegro",
            "Netherlands",
            "Norway",
            "Poland",
            "Portugal",
            "Romania",
            "Serbia",
            "Slovak Republic",
            "Slovenia",
            "Spain",
            "Sweden",
            "Switzerland",
            "Turkey",
            "United Kingdom"
           ],
           "ids": [
            "Albania",
            "Austria",
            "Belgium",
            "Bosnia and Herzegovina",
            "Bulgaria",
            "Croatia",
            "Czech Republic",
            "Denmark",
            "Finland",
            "France",
            "Germany",
            "Greece",
            "Hungary",
            "Iceland",
            "Ireland",
            "Italy",
            "Montenegro",
            "Netherlands",
            "Norway",
            "Poland",
            "Portugal",
            "Romania",
            "Serbia",
            "Slovak Republic",
            "Slovenia",
            "Spain",
            "Sweden",
            "Switzerland",
            "Turkey",
            "United Kingdom"
           ],
           "legendgroup": "Europe",
           "marker": {
            "color": "#EF553B",
            "size": [
             1728137,
             7129864,
             9218400,
             3349000,
             8012946,
             4076557,
             9620282,
             4646899,
             4491443,
             47124000,
             73739117,
             8448233,
             10063000,
             182053,
             2830000,
             50843200,
             474528,
             11805689,
             3638919,
             30329617,
             9019800,
             18680721,
             7616060,
             4237384,
             1582962,
             31158061,
             7561588,
             5666000,
             29788695,
             53292000
            ],
            "sizemode": "area",
            "sizeref": 435928.2961983471,
            "symbol": "circle"
           },
           "mode": "markers",
           "name": "Europe",
           "orientation": "v",
           "showlegend": true,
           "type": "scatter",
           "x": [
            2312.888958,
            10750.72111,
            10991.20676,
            1709.683679,
            4254.337839,
            5477.890018,
            10136.86713,
            13583.31351,
            9371.842561,
            10560.48553,
            12902.46291,
            6017.190732999999,
            7550.359877,
            10350.15906,
            6631.597314,
            8243.58234,
            4649.593785,
            12790.84956,
            13450.40151,
            5338.752143,
            4727.954889,
            4734.997586,
            6289.629157,
            7481.107598,
            7402.303395,
            5693.843879,
            12329.44192,
            20431.0927,
            2322.869908,
            12477.17707
           ],
           "xaxis": "x",
           "y": [
            64.82,
            69.54,
            70.25,
            61.93,
            69.51,
            67.13,
            69.9,
            72.35,
            68.75,
            70.51,
            70.3,
            69.51,
            67.96,
            73.68,
            70.29,
            69.24,
            63.728,
            73.23,
            73.47,
            67.64,
            64.39,
            66.8,
            64.531,
            70.33,
            69.15,
            69.69,
            73.37,
            71.32,
            52.098,
            70.76
           ],
           "yaxis": "y"
          },
          {
           "hovertemplate": "<b>%{hovertext}</b><br><br>continent=Africa<br>year=1962<br>gdpPercap=%{x}<br>lifeExp=%{y}<br>pop=%{marker.size}<extra></extra>",
           "hovertext": [
            "Algeria",
            "Angola",
            "Benin",
            "Botswana",
            "Burkina Faso",
            "Burundi",
            "Cameroon",
            "Central African Republic",
            "Chad",
            "Comoros",
            "Congo, Dem. Rep.",
            "Congo, Rep.",
            "Cote d'Ivoire",
            "Djibouti",
            "Egypt",
            "Equatorial Guinea",
            "Eritrea",
            "Ethiopia",
            "Gabon",
            "Gambia",
            "Ghana",
            "Guinea",
            "Guinea-Bissau",
            "Kenya",
            "Lesotho",
            "Liberia",
            "Libya",
            "Madagascar",
            "Malawi",
            "Mali",
            "Mauritania",
            "Mauritius",
            "Morocco",
            "Mozambique",
            "Namibia",
            "Niger",
            "Nigeria",
            "Reunion",
            "Rwanda",
            "Sao Tome and Principe",
            "Senegal",
            "Sierra Leone",
            "Somalia",
            "South Africa",
            "Sudan",
            "Swaziland",
            "Tanzania",
            "Togo",
            "Tunisia",
            "Uganda",
            "Zambia",
            "Zimbabwe"
           ],
           "ids": [
            "Algeria",
            "Angola",
            "Benin",
            "Botswana",
            "Burkina Faso",
            "Burundi",
            "Cameroon",
            "Central African Republic",
            "Chad",
            "Comoros",
            "Congo, Dem. Rep.",
            "Congo, Rep.",
            "Cote d'Ivoire",
            "Djibouti",
            "Egypt",
            "Equatorial Guinea",
            "Eritrea",
            "Ethiopia",
            "Gabon",
            "Gambia",
            "Ghana",
            "Guinea",
            "Guinea-Bissau",
            "Kenya",
            "Lesotho",
            "Liberia",
            "Libya",
            "Madagascar",
            "Malawi",
            "Mali",
            "Mauritania",
            "Mauritius",
            "Morocco",
            "Mozambique",
            "Namibia",
            "Niger",
            "Nigeria",
            "Reunion",
            "Rwanda",
            "Sao Tome and Principe",
            "Senegal",
            "Sierra Leone",
            "Somalia",
            "South Africa",
            "Sudan",
            "Swaziland",
            "Tanzania",
            "Togo",
            "Tunisia",
            "Uganda",
            "Zambia",
            "Zimbabwe"
           ],
           "legendgroup": "Africa",
           "marker": {
            "color": "#00cc96",
            "size": [
             11000948,
             4826015,
             2151895,
             512764,
             4919632,
             2961915,
             5793633,
             1523478,
             3150417,
             191689,
             17486434,
             1047924,
             3832408,
             89898,
             28173309,
             249220,
             1666618,
             25145372,
             455661,
             374020,
             7355248,
             3140003,
             627820,
             8678557,
             893143,
             1112796,
             1441863,
             5703324,
             3628608,
             4690372,
             1146757,
             701016,
             13056604,
             7788944,
             621392,
             4076008,
             41871351,
             358900,
             3051242,
             65345,
             3430243,
             2467895,
             3080153,
             18356657,
             11183227,
             370006,
             10863958,
             1528098,
             4286552,
             7688797,
             3421000,
             4277736
            ],
            "sizemode": "area",
            "sizeref": 435928.2961983471,
            "symbol": "circle"
           },
           "mode": "markers",
           "name": "Africa",
           "orientation": "v",
           "showlegend": true,
           "type": "scatter",
           "x": [
            2550.81688,
            4269.276742,
            949.4990641,
            983.6539764,
            722.5120206,
            355.2032273,
            1399.607441,
            1193.068753,
            1389.817618,
            1406.648278,
            896.3146335000001,
            2464.783157,
            1728.8694280000002,
            3020.989263,
            1693.335853,
            582.8419713999998,
            380.9958433000001,
            419.4564161,
            6631.459222,
            599.650276,
            1190.041118,
            686.3736739,
            522.0343725,
            896.9663732,
            411.8006266,
            634.1951625,
            6757.030816,
            1643.38711,
            427.9010856,
            496.1743428,
            1055.896036,
            2529.0674870000007,
            1566.353493,
            556.6863539,
            3173.215595,
            997.7661127,
            1150.9274779999996,
            3173.72334,
            597.4730727000001,
            1071.551119,
            1654.988723,
            1116.6398769999996,
            1369.488336,
            5768.729717,
            1959.593767,
            1856.182125,
            722.0038073,
            1067.53481,
            1660.30321,
            767.2717397999999,
            1452.725766,
            527.2721818
           ],
           "xaxis": "x",
           "y": [
            48.303,
            34,
            42.618,
            51.52,
            37.814,
            42.045,
            42.643,
            39.475,
            41.716,
            44.467,
            42.122,
            48.435,
            44.93,
            39.69300000000001,
            46.992,
            37.485,
            40.158,
            40.059,
            40.489,
            33.896,
            46.452,
            35.753,
            34.488,
            47.949,
            47.747,
            40.502,
            47.808,
            40.848,
            38.41,
            36.936,
            44.24800000000001,
            60.246,
            47.924,
            36.161,
            48.386,
            39.487,
            39.36,
            57.666,
            43,
            51.893,
            41.45399999999999,
            32.767,
            36.981,
            49.951,
            40.87,
            44.992,
            44.246,
            43.922,
            49.57899999999999,
            45.344,
            46.023,
            52.358
           ],
           "yaxis": "y"
          },
          {
           "hovertemplate": "<b>%{hovertext}</b><br><br>continent=Americas<br>year=1962<br>gdpPercap=%{x}<br>lifeExp=%{y}<br>pop=%{marker.size}<extra></extra>",
           "hovertext": [
            "Argentina",
            "Bolivia",
            "Brazil",
            "Canada",
            "Chile",
            "Colombia",
            "Costa Rica",
            "Cuba",
            "Dominican Republic",
            "Ecuador",
            "El Salvador",
            "Guatemala",
            "Haiti",
            "Honduras",
            "Jamaica",
            "Mexico",
            "Nicaragua",
            "Panama",
            "Paraguay",
            "Peru",
            "Puerto Rico",
            "Trinidad and Tobago",
            "United States",
            "Uruguay",
            "Venezuela"
           ],
           "ids": [
            "Argentina",
            "Bolivia",
            "Brazil",
            "Canada",
            "Chile",
            "Colombia",
            "Costa Rica",
            "Cuba",
            "Dominican Republic",
            "Ecuador",
            "El Salvador",
            "Guatemala",
            "Haiti",
            "Honduras",
            "Jamaica",
            "Mexico",
            "Nicaragua",
            "Panama",
            "Paraguay",
            "Peru",
            "Puerto Rico",
            "Trinidad and Tobago",
            "United States",
            "Uruguay",
            "Venezuela"
           ],
           "legendgroup": "Americas",
           "marker": {
            "color": "#ab63fa",
            "size": [
             21283783,
             3593918,
             76039390,
             18985849,
             7961258,
             17009885,
             1345187,
             7254373,
             3453434,
             4681707,
             2747687,
             4208858,
             3880130,
             2090162,
             1665128,
             41121485,
             1590597,
             1215725,
             2009813,
             10516500,
             2448046,
             887498,
             186538000,
             2598466,
             8143375
            ],
            "sizemode": "area",
            "sizeref": 435928.2961983471,
            "symbol": "circle"
           },
           "mode": "markers",
           "name": "Americas",
           "orientation": "v",
           "showlegend": true,
           "type": "scatter",
           "x": [
            7133.166023000002,
            2180.972546,
            3336.585802,
            13462.48555,
            4519.094331,
            2492.351109,
            3460.937025,
            5180.75591,
            1662.137359,
            4086.114078,
            3776.803627,
            2750.364446,
            1796.589032,
            2291.156835,
            5246.107524,
            4581.609385,
            3634.364406,
            3536.540301,
            2148.027146,
            4957.037982,
            5108.34463,
            4997.523971000001,
            16173.14586,
            5603.357717,
            8422.974165000001
           ],
           "xaxis": "x",
           "y": [
            65.142,
            43.428,
            55.665,
            71.3,
            57.924,
            57.863,
            62.842,
            65.24600000000001,
            53.459,
            54.64,
            52.307,
            46.95399999999999,
            43.59,
            48.041,
            65.61,
            58.299,
            48.632,
            61.817,
            64.361,
            49.096,
            69.62,
            64.9,
            70.21,
            68.253,
            60.77
           ],
           "yaxis": "y"
          },
          {
           "hovertemplate": "<b>%{hovertext}</b><br><br>continent=Oceania<br>year=1962<br>gdpPercap=%{x}<br>lifeExp=%{y}<br>pop=%{marker.size}<extra></extra>",
           "hovertext": [
            "Australia",
            "New Zealand"
           ],
           "ids": [
            "Australia",
            "New Zealand"
           ],
           "legendgroup": "Oceania",
           "marker": {
            "color": "#FFA15A",
            "size": [
             10794968,
             2488550
            ],
            "sizemode": "area",
            "sizeref": 435928.2961983471,
            "symbol": "circle"
           },
           "mode": "markers",
           "name": "Oceania",
           "orientation": "v",
           "showlegend": true,
           "type": "scatter",
           "x": [
            12217.22686,
            13175.678
           ],
           "xaxis": "x",
           "y": [
            70.93,
            71.24
           ],
           "yaxis": "y"
          }
         ],
         "name": "1962"
        },
        {
         "data": [
          {
           "hovertemplate": "<b>%{hovertext}</b><br><br>continent=Asia<br>year=1967<br>gdpPercap=%{x}<br>lifeExp=%{y}<br>pop=%{marker.size}<extra></extra>",
           "hovertext": [
            "Afghanistan",
            "Bahrain",
            "Bangladesh",
            "Cambodia",
            "China",
            "Hong Kong, China",
            "India",
            "Indonesia",
            "Iran",
            "Iraq",
            "Israel",
            "Japan",
            "Jordan",
            "Korea, Dem. Rep.",
            "Korea, Rep.",
            "Kuwait",
            "Lebanon",
            "Malaysia",
            "Mongolia",
            "Myanmar",
            "Nepal",
            "Oman",
            "Pakistan",
            "Philippines",
            "Saudi Arabia",
            "Singapore",
            "Sri Lanka",
            "Syria",
            "Taiwan",
            "Thailand",
            "Vietnam",
            "West Bank and Gaza",
            "Yemen, Rep."
           ],
           "ids": [
            "Afghanistan",
            "Bahrain",
            "Bangladesh",
            "Cambodia",
            "China",
            "Hong Kong, China",
            "India",
            "Indonesia",
            "Iran",
            "Iraq",
            "Israel",
            "Japan",
            "Jordan",
            "Korea, Dem. Rep.",
            "Korea, Rep.",
            "Kuwait",
            "Lebanon",
            "Malaysia",
            "Mongolia",
            "Myanmar",
            "Nepal",
            "Oman",
            "Pakistan",
            "Philippines",
            "Saudi Arabia",
            "Singapore",
            "Sri Lanka",
            "Syria",
            "Taiwan",
            "Thailand",
            "Vietnam",
            "West Bank and Gaza",
            "Yemen, Rep."
           ],
           "legendgroup": "Asia",
           "marker": {
            "color": "#636efa",
            "size": [
             11537966,
             202182,
             62821884,
             6960067,
             754550000,
             3722800,
             506000000,
             109343000,
             26538000,
             8519282,
             2693585,
             100825279,
             1255058,
             12617009,
             30131000,
             575003,
             2186894,
             10154878,
             1149500,
             25870271,
             11261690,
             714775,
             60641899,
             35356600,
             5618198,
             1977600,
             11737396,
             5680812,
             13648692,
             34024249,
             39463910,
             1142636,
             6740785
            ],
            "sizemode": "area",
            "sizeref": 435928.2961983471,
            "symbol": "circle"
           },
           "mode": "markers",
           "name": "Asia",
           "orientation": "v",
           "showlegend": true,
           "type": "scatter",
           "x": [
            836.1971382,
            14804.6727,
            721.1860862000002,
            523.4323142,
            612.7056934,
            6197.962814,
            700.7706107000001,
            762.4317721,
            5906.731804999999,
            8931.459811,
            8393.741404,
            9847.788607,
            2741.796252,
            2143.540609,
            2029.228142,
            80894.88326,
            6006.983042,
            2277.742396,
            1226.04113,
            349,
            676.4422254,
            4720.942687,
            942.4082588,
            1814.12743,
            16903.04886,
            4977.41854,
            1135.514326,
            1881.923632,
            2643.858681,
            1295.46066,
            637.1232887,
            2649.715007,
            862.4421463
           ],
           "xaxis": "x",
           "y": [
            34.02,
            59.923,
            43.453,
            45.415,
            58.38112,
            70,
            47.19300000000001,
            45.964,
            52.469,
            54.459,
            70.75,
            71.43,
            51.629,
            59.942,
            57.716,
            64.624,
            63.87,
            59.371,
            51.253,
            49.379,
            41.472,
            46.988,
            49.8,
            56.393,
            49.901,
            67.946,
            64.266,
            53.655,
            67.5,
            58.285,
            47.838,
            51.631,
            36.984
           ],
           "yaxis": "y"
          },
          {
           "hovertemplate": "<b>%{hovertext}</b><br><br>continent=Europe<br>year=1967<br>gdpPercap=%{x}<br>lifeExp=%{y}<br>pop=%{marker.size}<extra></extra>",
           "hovertext": [
            "Albania",
            "Austria",
            "Belgium",
            "Bosnia and Herzegovina",
            "Bulgaria",
            "Croatia",
            "Czech Republic",
            "Denmark",
            "Finland",
            "France",
            "Germany",
            "Greece",
            "Hungary",
            "Iceland",
            "Ireland",
            "Italy",
            "Montenegro",
            "Netherlands",
            "Norway",
            "Poland",
            "Portugal",
            "Romania",
            "Serbia",
            "Slovak Republic",
            "Slovenia",
            "Spain",
            "Sweden",
            "Switzerland",
            "Turkey",
            "United Kingdom"
           ],
           "ids": [
            "Albania",
            "Austria",
            "Belgium",
            "Bosnia and Herzegovina",
            "Bulgaria",
            "Croatia",
            "Czech Republic",
            "Denmark",
            "Finland",
            "France",
            "Germany",
            "Greece",
            "Hungary",
            "Iceland",
            "Ireland",
            "Italy",
            "Montenegro",
            "Netherlands",
            "Norway",
            "Poland",
            "Portugal",
            "Romania",
            "Serbia",
            "Slovak Republic",
            "Slovenia",
            "Spain",
            "Sweden",
            "Switzerland",
            "Turkey",
            "United Kingdom"
           ],
           "legendgroup": "Europe",
           "marker": {
            "color": "#EF553B",
            "size": [
             1984060,
             7376998,
             9556500,
             3585000,
             8310226,
             4174366,
             9835109,
             4838800,
             4605744,
             49569000,
             76368453,
             8716441,
             10223422,
             198676,
             2900100,
             52667100,
             501035,
             12596822,
             3786019,
             31785378,
             9103000,
             19284814,
             7971222,
             4442238,
             1646912,
             32850275,
             7867931,
             6063000,
             33411317,
             54959000
            ],
            "sizemode": "area",
            "sizeref": 435928.2961983471,
            "symbol": "circle"
           },
           "mode": "markers",
           "name": "Europe",
           "orientation": "v",
           "showlegend": true,
           "type": "scatter",
           "x": [
            2760.196931,
            12834.6024,
            13149.04119,
            2172.3524230000007,
            5577.0028,
            6960.297861,
            11399.44489,
            15937.21123,
            10921.63626,
            12999.91766,
            14745.62561,
            8513.097016,
            9326.64467,
            13319.89568,
            7655.568963,
            10022.40131,
            5907.850937,
            15363.25136,
            16361.87647,
            6557.152776,
            6361.517993,
            6470.866545,
            7991.707066,
            8412.902397,
            9405.489397,
            7993.512294,
            15258.29697,
            22966.14432,
            2826.3563870000007,
            14142.85089
           ],
           "xaxis": "x",
           "y": [
            66.22,
            70.14,
            70.94,
            64.79,
            70.42,
            68.5,
            70.38,
            72.96,
            69.83,
            71.55,
            70.8,
            71,
            69.5,
            73.73,
            71.08,
            71.06,
            67.178,
            73.82,
            74.08,
            69.61,
            66.6,
            66.8,
            66.914,
            70.98,
            69.18,
            71.44,
            74.16,
            72.77,
            54.33600000000001,
            71.36
           ],
           "yaxis": "y"
          },
          {
           "hovertemplate": "<b>%{hovertext}</b><br><br>continent=Africa<br>year=1967<br>gdpPercap=%{x}<br>lifeExp=%{y}<br>pop=%{marker.size}<extra></extra>",
           "hovertext": [
            "Algeria",
            "Angola",
            "Benin",
            "Botswana",
            "Burkina Faso",
            "Burundi",
            "Cameroon",
            "Central African Republic",
            "Chad",
            "Comoros",
            "Congo, Dem. Rep.",
            "Congo, Rep.",
            "Cote d'Ivoire",
            "Djibouti",
            "Egypt",
            "Equatorial Guinea",
            "Eritrea",
            "Ethiopia",
            "Gabon",
            "Gambia",
            "Ghana",
            "Guinea",
            "Guinea-Bissau",
            "Kenya",
            "Lesotho",
            "Liberia",
            "Libya",
            "Madagascar",
            "Malawi",
            "Mali",
            "Mauritania",
            "Mauritius",
            "Morocco",
            "Mozambique",
            "Namibia",
            "Niger",
            "Nigeria",
            "Reunion",
            "Rwanda",
            "Sao Tome and Principe",
            "Senegal",
            "Sierra Leone",
            "Somalia",
            "South Africa",
            "Sudan",
            "Swaziland",
            "Tanzania",
            "Togo",
            "Tunisia",
            "Uganda",
            "Zambia",
            "Zimbabwe"
           ],
           "ids": [
            "Algeria",
            "Angola",
            "Benin",
            "Botswana",
            "Burkina Faso",
            "Burundi",
            "Cameroon",
            "Central African Republic",
            "Chad",
            "Comoros",
            "Congo, Dem. Rep.",
            "Congo, Rep.",
            "Cote d'Ivoire",
            "Djibouti",
            "Egypt",
            "Equatorial Guinea",
            "Eritrea",
            "Ethiopia",
            "Gabon",
            "Gambia",
            "Ghana",
            "Guinea",
            "Guinea-Bissau",
            "Kenya",
            "Lesotho",
            "Liberia",
            "Libya",
            "Madagascar",
            "Malawi",
            "Mali",
            "Mauritania",
            "Mauritius",
            "Morocco",
            "Mozambique",
            "Namibia",
            "Niger",
            "Nigeria",
            "Reunion",
            "Rwanda",
            "Sao Tome and Principe",
            "Senegal",
            "Sierra Leone",
            "Somalia",
            "South Africa",
            "Sudan",
            "Swaziland",
            "Tanzania",
            "Togo",
            "Tunisia",
            "Uganda",
            "Zambia",
            "Zimbabwe"
           ],
           "legendgroup": "Africa",
           "marker": {
            "color": "#00cc96",
            "size": [
             12760499,
             5247469,
             2427334,
             553541,
             5127935,
             3330989,
             6335506,
             1733638,
             3495967,
             217378,
             19941073,
             1179760,
             4744870,
             127617,
             31681188,
             259864,
             1820319,
             27860297,
             489004,
             439593,
             8490213,
             3451418,
             601287,
             10191512,
             996380,
             1279406,
             1759224,
             6334556,
             4147252,
             5212416,
             1230542,
             789309,
             14770296,
             8680909,
             706640,
             4534062,
             47287752,
             414024,
             3451079,
             70787,
             3965841,
             2662190,
             3428839,
             20997321,
             12716129,
             420690,
             12607312,
             1735550,
             4786986,
             8900294,
             3900000,
             4995432
            ],
            "sizemode": "area",
            "sizeref": 435928.2961983471,
            "symbol": "circle"
           },
           "mode": "markers",
           "name": "Africa",
           "orientation": "v",
           "showlegend": true,
           "type": "scatter",
           "x": [
            3246.991771,
            5522.776375,
            1035.831411,
            1214.709294,
            794.8265597,
            412.97751360000007,
            1508.453148,
            1136.056615,
            1196.810565,
            1876.029643,
            861.5932424,
            2677.9396420000007,
            2052.050473,
            3020.050513,
            1814.880728,
            915.5960025,
            468.7949699,
            516.1186438,
            8358.761987,
            734.7829124,
            1125.69716,
            708.7595409,
            715.5806402000002,
            1056.736457,
            498.6390265,
            713.6036482999998,
            18772.75169,
            1634.047282,
            495.5147806,
            545.0098873,
            1421.145193,
            2475.387562,
            1711.04477,
            566.6691539,
            3793.694753,
            1054.384891,
            1014.514104,
            4021.175739,
            510.9637142,
            1384.840593,
            1612.404632,
            1206.043465,
            1284.7331800000004,
            7114.477970999998,
            1687.997641,
            2613.101665,
            848.2186575,
            1477.59676,
            1932.3601670000005,
            908.9185217,
            1777.077318,
            569.7950712
           ],
           "xaxis": "x",
           "y": [
            51.407,
            35.985,
            44.885,
            53.298,
            40.697,
            43.548,
            44.799,
            41.478,
            43.601000000000006,
            46.472,
            44.056,
            52.04,
            47.35,
            42.074,
            49.293,
            38.987,
            42.18899999999999,
            42.115,
            44.598,
            35.857,
            48.072,
            37.197,
            35.492,
            50.654,
            48.492,
            41.536,
            50.227,
            42.881,
            39.487,
            38.487,
            46.289,
            61.557,
            50.335,
            38.113,
            51.159,
            40.118,
            41.04,
            60.542,
            44.1,
            54.425,
            43.563,
            34.113,
            38.977,
            51.927,
            42.858,
            46.633,
            45.757,
            46.769,
            52.053,
            48.051,
            47.768,
            53.995
           ],
           "yaxis": "y"
          },
          {
           "hovertemplate": "<b>%{hovertext}</b><br><br>continent=Americas<br>year=1967<br>gdpPercap=%{x}<br>lifeExp=%{y}<br>pop=%{marker.size}<extra></extra>",
           "hovertext": [
            "Argentina",
            "Bolivia",
            "Brazil",
            "Canada",
            "Chile",
            "Colombia",
            "Costa Rica",
            "Cuba",
            "Dominican Republic",
            "Ecuador",
            "El Salvador",
            "Guatemala",
            "Haiti",
            "Honduras",
            "Jamaica",
            "Mexico",
            "Nicaragua",
            "Panama",
            "Paraguay",
            "Peru",
            "Puerto Rico",
            "Trinidad and Tobago",
            "United States",
            "Uruguay",
            "Venezuela"
           ],
           "ids": [
            "Argentina",
            "Bolivia",
            "Brazil",
            "Canada",
            "Chile",
            "Colombia",
            "Costa Rica",
            "Cuba",
            "Dominican Republic",
            "Ecuador",
            "El Salvador",
            "Guatemala",
            "Haiti",
            "Honduras",
            "Jamaica",
            "Mexico",
            "Nicaragua",
            "Panama",
            "Paraguay",
            "Peru",
            "Puerto Rico",
            "Trinidad and Tobago",
            "United States",
            "Uruguay",
            "Venezuela"
           ],
           "legendgroup": "Americas",
           "marker": {
            "color": "#ab63fa",
            "size": [
             22934225,
             4040665,
             88049823,
             20819767,
             8858908,
             19764027,
             1588717,
             8139332,
             4049146,
             5432424,
             3232927,
             4690773,
             4318137,
             2500689,
             1861096,
             47995559,
             1865490,
             1405486,
             2287985,
             12132200,
             2648961,
             960155,
             198712000,
             2748579,
             9709552
            ],
            "sizemode": "area",
            "sizeref": 435928.2961983471,
            "symbol": "circle"
           },
           "mode": "markers",
           "name": "Americas",
           "orientation": "v",
           "showlegend": true,
           "type": "scatter",
           "x": [
            8052.953020999998,
            2586.886053,
            3429.864357,
            16076.58803,
            5106.654313,
            2678.729839,
            4161.727834,
            5690.268015,
            1653.7230029999996,
            4579.074215,
            4358.595393,
            3242.531147,
            1452.057666,
            2538.269358,
            6124.703450999999,
            5754.733883,
            4643.393534000002,
            4421.009084,
            2299.376311,
            5788.09333,
            6929.277714,
            5621.368472,
            19530.36557,
            5444.61962,
            9541.474188
           ],
           "xaxis": "x",
           "y": [
            65.634,
            45.032,
            57.632,
            72.13,
            60.523,
            59.963,
            65.42399999999999,
            68.29,
            56.75100000000001,
            56.678,
            55.855,
            50.01600000000001,
            46.243,
            50.924,
            67.51,
            60.11,
            51.88399999999999,
            64.071,
            64.95100000000001,
            51.445,
            71.1,
            65.4,
            70.76,
            68.468,
            63.479
           ],
           "yaxis": "y"
          },
          {
           "hovertemplate": "<b>%{hovertext}</b><br><br>continent=Oceania<br>year=1967<br>gdpPercap=%{x}<br>lifeExp=%{y}<br>pop=%{marker.size}<extra></extra>",
           "hovertext": [
            "Australia",
            "New Zealand"
           ],
           "ids": [
            "Australia",
            "New Zealand"
           ],
           "legendgroup": "Oceania",
           "marker": {
            "color": "#FFA15A",
            "size": [
             11872264,
             2728150
            ],
            "sizemode": "area",
            "sizeref": 435928.2961983471,
            "symbol": "circle"
           },
           "mode": "markers",
           "name": "Oceania",
           "orientation": "v",
           "showlegend": true,
           "type": "scatter",
           "x": [
            14526.12465,
            14463.918930000002
           ],
           "xaxis": "x",
           "y": [
            71.1,
            71.52
           ],
           "yaxis": "y"
          }
         ],
         "name": "1967"
        },
        {
         "data": [
          {
           "hovertemplate": "<b>%{hovertext}</b><br><br>continent=Asia<br>year=1972<br>gdpPercap=%{x}<br>lifeExp=%{y}<br>pop=%{marker.size}<extra></extra>",
           "hovertext": [
            "Afghanistan",
            "Bahrain",
            "Bangladesh",
            "Cambodia",
            "China",
            "Hong Kong, China",
            "India",
            "Indonesia",
            "Iran",
            "Iraq",
            "Israel",
            "Japan",
            "Jordan",
            "Korea, Dem. Rep.",
            "Korea, Rep.",
            "Kuwait",
            "Lebanon",
            "Malaysia",
            "Mongolia",
            "Myanmar",
            "Nepal",
            "Oman",
            "Pakistan",
            "Philippines",
            "Saudi Arabia",
            "Singapore",
            "Sri Lanka",
            "Syria",
            "Taiwan",
            "Thailand",
            "Vietnam",
            "West Bank and Gaza",
            "Yemen, Rep."
           ],
           "ids": [
            "Afghanistan",
            "Bahrain",
            "Bangladesh",
            "Cambodia",
            "China",
            "Hong Kong, China",
            "India",
            "Indonesia",
            "Iran",
            "Iraq",
            "Israel",
            "Japan",
            "Jordan",
            "Korea, Dem. Rep.",
            "Korea, Rep.",
            "Kuwait",
            "Lebanon",
            "Malaysia",
            "Mongolia",
            "Myanmar",
            "Nepal",
            "Oman",
            "Pakistan",
            "Philippines",
            "Saudi Arabia",
            "Singapore",
            "Sri Lanka",
            "Syria",
            "Taiwan",
            "Thailand",
            "Vietnam",
            "West Bank and Gaza",
            "Yemen, Rep."
           ],
           "legendgroup": "Asia",
           "marker": {
            "color": "#636efa",
            "size": [
             13079460,
             230800,
             70759295,
             7450606,
             862030000,
             4115700,
             567000000,
             121282000,
             30614000,
             10061506,
             3095893,
             107188273,
             1613551,
             14781241,
             33505000,
             841934,
             2680018,
             11441462,
             1320500,
             28466390,
             12412593,
             829050,
             69325921,
             40850141,
             6472756,
             2152400,
             13016733,
             6701172,
             15226039,
             39276153,
             44655014,
             1089572,
             7407075
            ],
            "sizemode": "area",
            "sizeref": 435928.2961983471,
            "symbol": "circle"
           },
           "mode": "markers",
           "name": "Asia",
           "orientation": "v",
           "showlegend": true,
           "type": "scatter",
           "x": [
            739.9811057999998,
            18268.65839,
            630.2336265,
            421.6240257,
            676.9000921,
            8315.928145,
            724.032527,
            1111.107907,
            9613.818607,
            9576.037596,
            12786.93223,
            14778.78636,
            2110.856309,
            3701.621503,
            3030.87665,
            109347.867,
            7486.384341,
            2849.09478,
            1421.741975,
            357,
            674.7881296,
            10618.03855,
            1049.938981,
            1989.37407,
            24837.42865,
            8597.756202,
            1213.39553,
            2571.423014,
            4062.523897,
            1524.358936,
            699.5016441,
            3133.409277,
            1265.047031
           ],
           "xaxis": "x",
           "y": [
            36.088,
            63.3,
            45.252,
            40.317,
            63.11888,
            72,
            50.651,
            49.203,
            55.234,
            56.95,
            71.63,
            73.42,
            56.528,
            63.983,
            62.612,
            67.712,
            65.421,
            63.01,
            53.754,
            53.07,
            43.971,
            52.143,
            51.929,
            58.065,
            53.886,
            69.521,
            65.042,
            57.29600000000001,
            69.39,
            60.405,
            50.254,
            56.532,
            39.848
           ],
           "yaxis": "y"
          },
          {
           "hovertemplate": "<b>%{hovertext}</b><br><br>continent=Europe<br>year=1972<br>gdpPercap=%{x}<br>lifeExp=%{y}<br>pop=%{marker.size}<extra></extra>",
           "hovertext": [
            "Albania",
            "Austria",
            "Belgium",
            "Bosnia and Herzegovina",
            "Bulgaria",
            "Croatia",
            "Czech Republic",
            "Denmark",
            "Finland",
            "France",
            "Germany",
            "Greece",
            "Hungary",
            "Iceland",
            "Ireland",
            "Italy",
            "Montenegro",
            "Netherlands",
            "Norway",
            "Poland",
            "Portugal",
            "Romania",
            "Serbia",
            "Slovak Republic",
            "Slovenia",
            "Spain",
            "Sweden",
            "Switzerland",
            "Turkey",
            "United Kingdom"
           ],
           "ids": [
            "Albania",
            "Austria",
            "Belgium",
            "Bosnia and Herzegovina",
            "Bulgaria",
            "Croatia",
            "Czech Republic",
            "Denmark",
            "Finland",
            "France",
            "Germany",
            "Greece",
            "Hungary",
            "Iceland",
            "Ireland",
            "Italy",
            "Montenegro",
            "Netherlands",
            "Norway",
            "Poland",
            "Portugal",
            "Romania",
            "Serbia",
            "Slovak Republic",
            "Slovenia",
            "Spain",
            "Sweden",
            "Switzerland",
            "Turkey",
            "United Kingdom"
           ],
           "legendgroup": "Europe",
           "marker": {
            "color": "#EF553B",
            "size": [
             2263554,
             7544201,
             9709100,
             3819000,
             8576200,
             4225310,
             9862158,
             4991596,
             4639657,
             51732000,
             78717088,
             8888628,
             10394091,
             209275,
             3024400,
             54365564,
             527678,
             13329874,
             3933004,
             33039545,
             8970450,
             20662648,
             8313288,
             4593433,
             1694510,
             34513161,
             8122293,
             6401400,
             37492953,
             56079000
            ],
            "sizemode": "area",
            "sizeref": 435928.2961983471,
            "symbol": "circle"
           },
           "mode": "markers",
           "name": "Europe",
           "orientation": "v",
           "showlegend": true,
           "type": "scatter",
           "x": [
            3313.422188,
            16661.6256,
            16672.14356,
            2860.16975,
            6597.494398,
            9164.090127,
            13108.4536,
            18866.20721,
            14358.8759,
            16107.19171,
            18016.18027,
            12724.82957,
            10168.65611,
            15798.06362,
            9530.772896,
            12269.27378,
            7778.414017,
            18794.74567,
            18965.05551,
            8006.506993000001,
            9022.247417,
            8011.4144019999985,
            10522.06749,
            9674.167626,
            12383.4862,
            10638.75131,
            17832.02464,
            27195.11304,
            3450.69638,
            15895.11641
           ],
           "xaxis": "x",
           "y": [
            67.69,
            70.63,
            71.44,
            67.45,
            70.9,
            69.61,
            70.29,
            73.47,
            70.87,
            72.38,
            71,
            72.34,
            69.76,
            74.46,
            71.28,
            72.19,
            70.63600000000002,
            73.75,
            74.34,
            70.85,
            69.26,
            69.21,
            68.7,
            70.35,
            69.82,
            73.06,
            74.72,
            73.78,
            57.005,
            72.01
           ],
           "yaxis": "y"
          },
          {
           "hovertemplate": "<b>%{hovertext}</b><br><br>continent=Africa<br>year=1972<br>gdpPercap=%{x}<br>lifeExp=%{y}<br>pop=%{marker.size}<extra></extra>",
           "hovertext": [
            "Algeria",
            "Angola",
            "Benin",
            "Botswana",
            "Burkina Faso",
            "Burundi",
            "Cameroon",
            "Central African Republic",
            "Chad",
            "Comoros",
            "Congo, Dem. Rep.",
            "Congo, Rep.",
            "Cote d'Ivoire",
            "Djibouti",
            "Egypt",
            "Equatorial Guinea",
            "Eritrea",
            "Ethiopia",
            "Gabon",
            "Gambia",
            "Ghana",
            "Guinea",
            "Guinea-Bissau",
            "Kenya",
            "Lesotho",
            "Liberia",
            "Libya",
            "Madagascar",
            "Malawi",
            "Mali",
            "Mauritania",
            "Mauritius",
            "Morocco",
            "Mozambique",
            "Namibia",
            "Niger",
            "Nigeria",
            "Reunion",
            "Rwanda",
            "Sao Tome and Principe",
            "Senegal",
            "Sierra Leone",
            "Somalia",
            "South Africa",
            "Sudan",
            "Swaziland",
            "Tanzania",
            "Togo",
            "Tunisia",
            "Uganda",
            "Zambia",
            "Zimbabwe"
           ],
           "ids": [
            "Algeria",
            "Angola",
            "Benin",
            "Botswana",
            "Burkina Faso",
            "Burundi",
            "Cameroon",
            "Central African Republic",
            "Chad",
            "Comoros",
            "Congo, Dem. Rep.",
            "Congo, Rep.",
            "Cote d'Ivoire",
            "Djibouti",
            "Egypt",
            "Equatorial Guinea",
            "Eritrea",
            "Ethiopia",
            "Gabon",
            "Gambia",
            "Ghana",
            "Guinea",
            "Guinea-Bissau",
            "Kenya",
            "Lesotho",
            "Liberia",
            "Libya",
            "Madagascar",
            "Malawi",
            "Mali",
            "Mauritania",
            "Mauritius",
            "Morocco",
            "Mozambique",
            "Namibia",
            "Niger",
            "Nigeria",
            "Reunion",
            "Rwanda",
            "Sao Tome and Principe",
            "Senegal",
            "Sierra Leone",
            "Somalia",
            "South Africa",
            "Sudan",
            "Swaziland",
            "Tanzania",
            "Togo",
            "Tunisia",
            "Uganda",
            "Zambia",
            "Zimbabwe"
           ],
           "legendgroup": "Africa",
           "marker": {
            "color": "#00cc96",
            "size": [
             14760787,
             5894858,
             2761407,
             619351,
             5433886,
             3529983,
             7021028,
             1927260,
             3899068,
             250027,
             23007669,
             1340458,
             6071696,
             178848,
             34807417,
             277603,
             2260187,
             30770372,
             537977,
             517101,
             9354120,
             3811387,
             625361,
             12044785,
             1116779,
             1482628,
             2183877,
             7082430,
             4730997,
             5828158,
             1332786,
             851334,
             16660670,
             9809596,
             821782,
             5060262,
             53740085,
             461633,
             3992121,
             76595,
             4588696,
             2879013,
             3840161,
             23935810,
             14597019,
             480105,
             14706593,
             2056351,
             5303507,
             10190285,
             4506497,
             5861135
            ],
            "sizemode": "area",
            "sizeref": 435928.2961983471,
            "symbol": "circle"
           },
           "mode": "markers",
           "name": "Africa",
           "orientation": "v",
           "showlegend": true,
           "type": "scatter",
           "x": [
            4182.663766,
            5473.288004999999,
            1085.796879,
            2263.6111140000007,
            854.7359763000002,
            464.0995039,
            1684.1465280000002,
            1070.013275,
            1104.103987,
            1937.577675,
            904.8960685,
            3213.152683,
            2378.201111,
            3694.2123520000014,
            2024.008147,
            672.4122571,
            514.3242081999998,
            566.2439442000001,
            11401.94841,
            756.0868363,
            1178.223708,
            741.6662307,
            820.2245876000002,
            1222.359968,
            496.5815922000001,
            803.0054535,
            21011.49721,
            1748.562982,
            584.6219709,
            581.3688761,
            1586.851781,
            2575.484158,
            1930.194975,
            724.9178037,
            3746.080948,
            954.2092363,
            1698.388838,
            5047.658563,
            590.5806637999998,
            1532.985254,
            1597.712056,
            1353.759762,
            1254.576127,
            7765.962636,
            1659.652775,
            3364.836625,
            915.9850592,
            1649.660188,
            2753.2859940000008,
            950.735869,
            1773.498265,
            799.3621757999998
           ],
           "xaxis": "x",
           "y": [
            54.518,
            37.928,
            47.014,
            56.024,
            43.591,
            44.057,
            47.049,
            43.457,
            45.569,
            48.944,
            45.989,
            54.907,
            49.801,
            44.36600000000001,
            51.137,
            40.516,
            44.142,
            43.515,
            48.69,
            38.308,
            49.875,
            38.842,
            36.486,
            53.559,
            49.767,
            42.614,
            52.773,
            44.851000000000006,
            41.76600000000001,
            39.977,
            48.437,
            62.944,
            52.862,
            40.328,
            53.867,
            40.546,
            42.82100000000001,
            64.274,
            44.6,
            56.48,
            45.815,
            35.4,
            40.973,
            53.69600000000001,
            45.083,
            49.552,
            47.62,
            49.75899999999999,
            55.602,
            51.01600000000001,
            50.107,
            55.635
           ],
           "yaxis": "y"
          },
          {
           "hovertemplate": "<b>%{hovertext}</b><br><br>continent=Americas<br>year=1972<br>gdpPercap=%{x}<br>lifeExp=%{y}<br>pop=%{marker.size}<extra></extra>",
           "hovertext": [
            "Argentina",
            "Bolivia",
            "Brazil",
            "Canada",
            "Chile",
            "Colombia",
            "Costa Rica",
            "Cuba",
            "Dominican Republic",
            "Ecuador",
            "El Salvador",
            "Guatemala",
            "Haiti",
            "Honduras",
            "Jamaica",
            "Mexico",
            "Nicaragua",
            "Panama",
            "Paraguay",
            "Peru",
            "Puerto Rico",
            "Trinidad and Tobago",
            "United States",
            "Uruguay",
            "Venezuela"
           ],
           "ids": [
            "Argentina",
            "Bolivia",
            "Brazil",
            "Canada",
            "Chile",
            "Colombia",
            "Costa Rica",
            "Cuba",
            "Dominican Republic",
            "Ecuador",
            "El Salvador",
            "Guatemala",
            "Haiti",
            "Honduras",
            "Jamaica",
            "Mexico",
            "Nicaragua",
            "Panama",
            "Paraguay",
            "Peru",
            "Puerto Rico",
            "Trinidad and Tobago",
            "United States",
            "Uruguay",
            "Venezuela"
           ],
           "legendgroup": "Americas",
           "marker": {
            "color": "#ab63fa",
            "size": [
             24779799,
             4565872,
             100840058,
             22284500,
             9717524,
             22542890,
             1834796,
             8831348,
             4671329,
             6298651,
             3790903,
             5149581,
             4698301,
             2965146,
             1997616,
             55984294,
             2182908,
             1616384,
             2614104,
             13954700,
             2847132,
             975199,
             209896000,
             2829526,
             11515649
            ],
            "sizemode": "area",
            "sizeref": 435928.2961983471,
            "symbol": "circle"
           },
           "mode": "markers",
           "name": "Americas",
           "orientation": "v",
           "showlegend": true,
           "type": "scatter",
           "x": [
            9443.038526,
            2980.331339,
            4985.711467,
            18970.57086,
            5494.024437,
            3264.660041,
            5118.146939,
            5305.445256,
            2189.874499,
            5280.99471,
            4520.246008,
            4031.408271,
            1654.456946,
            2529.842345,
            7433.889293000001,
            6809.406690000002,
            4688.593267,
            5364.249663000001,
            2523.337977,
            5937.827283,
            9123.041742,
            6619.551418999999,
            21806.03594,
            5703.408898,
            10505.25966
           ],
           "xaxis": "x",
           "y": [
            67.065,
            46.714,
            59.504,
            72.88,
            63.441,
            61.62300000000001,
            67.84899999999999,
            70.723,
            59.631,
            58.79600000000001,
            58.207,
            53.738,
            48.042,
            53.88399999999999,
            69,
            62.361,
            55.151,
            66.21600000000001,
            65.815,
            55.448,
            72.16,
            65.9,
            71.34,
            68.673,
            65.712
           ],
           "yaxis": "y"
          },
          {
           "hovertemplate": "<b>%{hovertext}</b><br><br>continent=Oceania<br>year=1972<br>gdpPercap=%{x}<br>lifeExp=%{y}<br>pop=%{marker.size}<extra></extra>",
           "hovertext": [
            "Australia",
            "New Zealand"
           ],
           "ids": [
            "Australia",
            "New Zealand"
           ],
           "legendgroup": "Oceania",
           "marker": {
            "color": "#FFA15A",
            "size": [
             13177000,
             2929100
            ],
            "sizemode": "area",
            "sizeref": 435928.2961983471,
            "symbol": "circle"
           },
           "mode": "markers",
           "name": "Oceania",
           "orientation": "v",
           "showlegend": true,
           "type": "scatter",
           "x": [
            16788.62948,
            16046.03728
           ],
           "xaxis": "x",
           "y": [
            71.93,
            71.89
           ],
           "yaxis": "y"
          }
         ],
         "name": "1972"
        },
        {
         "data": [
          {
           "hovertemplate": "<b>%{hovertext}</b><br><br>continent=Asia<br>year=1977<br>gdpPercap=%{x}<br>lifeExp=%{y}<br>pop=%{marker.size}<extra></extra>",
           "hovertext": [
            "Afghanistan",
            "Bahrain",
            "Bangladesh",
            "Cambodia",
            "China",
            "Hong Kong, China",
            "India",
            "Indonesia",
            "Iran",
            "Iraq",
            "Israel",
            "Japan",
            "Jordan",
            "Korea, Dem. Rep.",
            "Korea, Rep.",
            "Kuwait",
            "Lebanon",
            "Malaysia",
            "Mongolia",
            "Myanmar",
            "Nepal",
            "Oman",
            "Pakistan",
            "Philippines",
            "Saudi Arabia",
            "Singapore",
            "Sri Lanka",
            "Syria",
            "Taiwan",
            "Thailand",
            "Vietnam",
            "West Bank and Gaza",
            "Yemen, Rep."
           ],
           "ids": [
            "Afghanistan",
            "Bahrain",
            "Bangladesh",
            "Cambodia",
            "China",
            "Hong Kong, China",
            "India",
            "Indonesia",
            "Iran",
            "Iraq",
            "Israel",
            "Japan",
            "Jordan",
            "Korea, Dem. Rep.",
            "Korea, Rep.",
            "Kuwait",
            "Lebanon",
            "Malaysia",
            "Mongolia",
            "Myanmar",
            "Nepal",
            "Oman",
            "Pakistan",
            "Philippines",
            "Saudi Arabia",
            "Singapore",
            "Sri Lanka",
            "Syria",
            "Taiwan",
            "Thailand",
            "Vietnam",
            "West Bank and Gaza",
            "Yemen, Rep."
           ],
           "legendgroup": "Asia",
           "marker": {
            "color": "#636efa",
            "size": [
             14880372,
             297410,
             80428306,
             6978607,
             943455000,
             4583700,
             634000000,
             136725000,
             35480679,
             11882916,
             3495918,
             113872473,
             1937652,
             16325320,
             36436000,
             1140357,
             3115787,
             12845381,
             1528000,
             31528087,
             13933198,
             1004533,
             78152686,
             46850962,
             8128505,
             2325300,
             14116836,
             7932503,
             16785196,
             44148285,
             50533506,
             1261091,
             8403990
            ],
            "sizemode": "area",
            "sizeref": 435928.2961983471,
            "symbol": "circle"
           },
           "mode": "markers",
           "name": "Asia",
           "orientation": "v",
           "showlegend": true,
           "type": "scatter",
           "x": [
            786.11336,
            19340.10196,
            659.8772322000002,
            524.9721831999999,
            741.2374699,
            11186.14125,
            813.3373230000002,
            1382.702056,
            11888.59508,
            14688.23507,
            13306.61921,
            16610.37701,
            2852.351568,
            4106.301249,
            4657.22102,
            59265.47714,
            8659.696836,
            3827.921571,
            1647.511665,
            371,
            694.1124398,
            11848.34392,
            1175.921193,
            2373.204287,
            34167.7626,
            11210.08948,
            1348.775651,
            3195.484582,
            5596.519826,
            1961.2246350000007,
            713.5371196000001,
            3682.831494,
            1829.765177
           ],
           "xaxis": "x",
           "y": [
            38.438,
            65.593,
            46.923,
            31.22,
            63.96736,
            73.6,
            54.208,
            52.702,
            57.702,
            60.413,
            73.06,
            75.38,
            61.13399999999999,
            67.15899999999999,
            64.766,
            69.343,
            66.09899999999999,
            65.256,
            55.49100000000001,
            56.059,
            46.74800000000001,
            57.367,
            54.043,
            60.06,
            58.69,
            70.795,
            65.949,
            61.195,
            70.59,
            62.494,
            55.764,
            60.765,
            44.175
           ],
           "yaxis": "y"
          },
          {
           "hovertemplate": "<b>%{hovertext}</b><br><br>continent=Europe<br>year=1977<br>gdpPercap=%{x}<br>lifeExp=%{y}<br>pop=%{marker.size}<extra></extra>",
           "hovertext": [
            "Albania",
            "Austria",
            "Belgium",
            "Bosnia and Herzegovina",
            "Bulgaria",
            "Croatia",
            "Czech Republic",
            "Denmark",
            "Finland",
            "France",
            "Germany",
            "Greece",
            "Hungary",
            "Iceland",
            "Ireland",
            "Italy",
            "Montenegro",
            "Netherlands",
            "Norway",
            "Poland",
            "Portugal",
            "Romania",
            "Serbia",
            "Slovak Republic",
            "Slovenia",
            "Spain",
            "Sweden",
            "Switzerland",
            "Turkey",
            "United Kingdom"
           ],
           "ids": [
            "Albania",
            "Austria",
            "Belgium",
            "Bosnia and Herzegovina",
            "Bulgaria",
            "Croatia",
            "Czech Republic",
            "Denmark",
            "Finland",
            "France",
            "Germany",
            "Greece",
            "Hungary",
            "Iceland",
            "Ireland",
            "Italy",
            "Montenegro",
            "Netherlands",
            "Norway",
            "Poland",
            "Portugal",
            "Romania",
            "Serbia",
            "Slovak Republic",
            "Slovenia",
            "Spain",
            "Sweden",
            "Switzerland",
            "Turkey",
            "United Kingdom"
           ],
           "legendgroup": "Europe",
           "marker": {
            "color": "#EF553B",
            "size": [
             2509048,
             7568430,
             9821800,
             4086000,
             8797022,
             4318673,
             10161915,
             5088419,
             4738902,
             53165019,
             78160773,
             9308479,
             10637171,
             221823,
             3271900,
             56059245,
             560073,
             13852989,
             4043205,
             34621254,
             9662600,
             21658597,
             8686367,
             4827803,
             1746919,
             36439000,
             8251648,
             6316424,
             42404033,
             56179000
            ],
            "sizemode": "area",
            "sizeref": 435928.2961983471,
            "symbol": "circle"
           },
           "mode": "markers",
           "name": "Europe",
           "orientation": "v",
           "showlegend": true,
           "type": "scatter",
           "x": [
            3533.003910000001,
            19749.4223,
            19117.97448,
            3528.481305,
            7612.240438,
            11305.38517,
            14800.16062,
            20422.9015,
            15605.42283,
            18292.63514,
            20512.92123,
            14195.52428,
            11674.83737,
            19654.96247,
            11150.98113,
            14255.98475,
            9595.929905,
            21209.0592,
            23311.34939,
            9508.141454,
            10172.48572,
            9356.39724,
            12980.66956,
            10922.66404,
            15277.030169999998,
            13236.92117,
            18855.72521,
            26982.29052,
            4269.122326,
            17428.74846
           ],
           "xaxis": "x",
           "y": [
            68.93,
            72.17,
            72.8,
            69.86,
            70.81,
            70.64,
            70.71,
            74.69,
            72.52,
            73.83,
            72.5,
            73.68,
            69.95,
            76.11,
            72.03,
            73.48,
            73.066,
            75.24,
            75.37,
            70.67,
            70.41,
            69.46,
            70.3,
            70.45,
            70.97,
            74.39,
            75.44,
            75.39,
            59.507,
            72.76
           ],
           "yaxis": "y"
          },
          {
           "hovertemplate": "<b>%{hovertext}</b><br><br>continent=Africa<br>year=1977<br>gdpPercap=%{x}<br>lifeExp=%{y}<br>pop=%{marker.size}<extra></extra>",
           "hovertext": [
            "Algeria",
            "Angola",
            "Benin",
            "Botswana",
            "Burkina Faso",
            "Burundi",
            "Cameroon",
            "Central African Republic",
            "Chad",
            "Comoros",
            "Congo, Dem. Rep.",
            "Congo, Rep.",
            "Cote d'Ivoire",
            "Djibouti",
            "Egypt",
            "Equatorial Guinea",
            "Eritrea",
            "Ethiopia",
            "Gabon",
            "Gambia",
            "Ghana",
            "Guinea",
            "Guinea-Bissau",
            "Kenya",
            "Lesotho",
            "Liberia",
            "Libya",
            "Madagascar",
            "Malawi",
            "Mali",
            "Mauritania",
            "Mauritius",
            "Morocco",
            "Mozambique",
            "Namibia",
            "Niger",
            "Nigeria",
            "Reunion",
            "Rwanda",
            "Sao Tome and Principe",
            "Senegal",
            "Sierra Leone",
            "Somalia",
            "South Africa",
            "Sudan",
            "Swaziland",
            "Tanzania",
            "Togo",
            "Tunisia",
            "Uganda",
            "Zambia",
            "Zimbabwe"
           ],
           "ids": [
            "Algeria",
            "Angola",
            "Benin",
            "Botswana",
            "Burkina Faso",
            "Burundi",
            "Cameroon",
            "Central African Republic",
            "Chad",
            "Comoros",
            "Congo, Dem. Rep.",
            "Congo, Rep.",
            "Cote d'Ivoire",
            "Djibouti",
            "Egypt",
            "Equatorial Guinea",
            "Eritrea",
            "Ethiopia",
            "Gabon",
            "Gambia",
            "Ghana",
            "Guinea",
            "Guinea-Bissau",
            "Kenya",
            "Lesotho",
            "Liberia",
            "Libya",
            "Madagascar",
            "Malawi",
            "Mali",
            "Mauritania",
            "Mauritius",
            "Morocco",
            "Mozambique",
            "Namibia",
            "Niger",
            "Nigeria",
            "Reunion",
            "Rwanda",
            "Sao Tome and Principe",
            "Senegal",
            "Sierra Leone",
            "Somalia",
            "South Africa",
            "Sudan",
            "Swaziland",
            "Tanzania",
            "Togo",
            "Tunisia",
            "Uganda",
            "Zambia",
            "Zimbabwe"
           ],
           "legendgroup": "Africa",
           "marker": {
            "color": "#00cc96",
            "size": [
             17152804,
             6162675,
             3168267,
             781472,
             5889574,
             3834415,
             7959865,
             2167533,
             4388260,
             304739,
             26480870,
             1536769,
             7459574,
             228694,
             38783863,
             192675,
             2512642,
             34617799,
             706367,
             608274,
             10538093,
             4227026,
             745228,
             14500404,
             1251524,
             1703617,
             2721783,
             8007166,
             5637246,
             6491649,
             1456688,
             913025,
             18396941,
             11127868,
             977026,
             5682086,
             62209173,
             492095,
             4657072,
             86796,
             5260855,
             3140897,
             4353666,
             27129932,
             17104986,
             551425,
             17129565,
             2308582,
             6005061,
             11457758,
             5216550,
             6642107
            ],
            "sizemode": "area",
            "sizeref": 435928.2961983471,
            "symbol": "circle"
           },
           "mode": "markers",
           "name": "Africa",
           "orientation": "v",
           "showlegend": true,
           "type": "scatter",
           "x": [
            4910.416756000001,
            3008.647355,
            1029.161251,
            3214.857818,
            743.3870368,
            556.1032651,
            1783.432873,
            1109.374338,
            1133.98495,
            1172.603047,
            795.757282,
            3259.178978,
            2517.736547,
            3081.761022,
            2785.493582,
            958.5668124,
            505.7538077,
            556.8083834,
            21745.57328,
            884.7552507000001,
            993.2239571,
            874.6858642999998,
            764.7259627999998,
            1267.613204,
            745.3695408,
            640.3224382999998,
            21951.21176,
            1544.228586,
            663.2236766,
            686.3952693,
            1497.492223,
            3710.982963,
            2370.619976,
            502.3197334,
            3876.485958,
            808.8970727999998,
            1981.951806,
            4319.804067,
            670.0806011,
            1737.561657,
            1561.769116,
            1348.285159,
            1450.992513,
            8028.651439,
            2202.988423,
            3781.410618,
            962.4922932,
            1532.776998,
            3120.876811,
            843.7331372000001,
            1588.688299,
            685.5876821
           ],
           "xaxis": "x",
           "y": [
            58.014,
            39.483,
            49.19,
            59.319,
            46.137,
            45.91,
            49.355,
            46.775,
            47.383,
            50.93899999999999,
            47.804,
            55.625,
            52.374,
            46.519,
            53.319,
            42.024,
            44.535,
            44.51,
            52.79,
            41.842,
            51.756,
            40.762,
            37.465,
            56.155,
            52.208,
            43.764,
            57.442,
            46.881,
            43.767,
            41.714,
            50.852,
            64.93,
            55.73,
            42.495,
            56.437,
            41.291,
            44.514,
            67.064,
            45,
            58.55,
            48.879,
            36.788,
            41.974,
            55.527,
            47.8,
            52.537,
            49.919,
            52.887,
            59.837,
            50.35,
            51.386,
            57.674
           ],
           "yaxis": "y"
          },
          {
           "hovertemplate": "<b>%{hovertext}</b><br><br>continent=Americas<br>year=1977<br>gdpPercap=%{x}<br>lifeExp=%{y}<br>pop=%{marker.size}<extra></extra>",
           "hovertext": [
            "Argentina",
            "Bolivia",
            "Brazil",
            "Canada",
            "Chile",
            "Colombia",
            "Costa Rica",
            "Cuba",
            "Dominican Republic",
            "Ecuador",
            "El Salvador",
            "Guatemala",
            "Haiti",
            "Honduras",
            "Jamaica",
            "Mexico",
            "Nicaragua",
            "Panama",
            "Paraguay",
            "Peru",
            "Puerto Rico",
            "Trinidad and Tobago",
            "United States",
            "Uruguay",
            "Venezuela"
           ],
           "ids": [
            "Argentina",
            "Bolivia",
            "Brazil",
            "Canada",
            "Chile",
            "Colombia",
            "Costa Rica",
            "Cuba",
            "Dominican Republic",
            "Ecuador",
            "El Salvador",
            "Guatemala",
            "Haiti",
            "Honduras",
            "Jamaica",
            "Mexico",
            "Nicaragua",
            "Panama",
            "Paraguay",
            "Peru",
            "Puerto Rico",
            "Trinidad and Tobago",
            "United States",
            "Uruguay",
            "Venezuela"
           ],
           "legendgroup": "Americas",
           "marker": {
            "color": "#ab63fa",
            "size": [
             26983828,
             5079716,
             114313951,
             23796400,
             10599793,
             25094412,
             2108457,
             9537988,
             5302800,
             7278866,
             4282586,
             5703430,
             4908554,
             3055235,
             2156814,
             63759976,
             2554598,
             1839782,
             2984494,
             15990099,
             3080828,
             1039009,
             220239000,
             2873520,
             13503563
            ],
            "sizemode": "area",
            "sizeref": 435928.2961983471,
            "symbol": "circle"
           },
           "mode": "markers",
           "name": "Americas",
           "orientation": "v",
           "showlegend": true,
           "type": "scatter",
           "x": [
            10079.02674,
            3548.097832,
            6660.118654,
            22090.88306,
            4756.763836,
            3815.80787,
            5926.876967,
            6380.494965999998,
            2681.9889,
            6679.62326,
            5138.922374,
            4879.992748,
            1874.298931,
            3203.208066,
            6650.195573,
            7674.929108,
            5486.371089,
            5351.912144,
            3248.373311,
            6281.290854999998,
            9770.524921,
            7899.554209000001,
            24072.63213,
            6504.339663000002,
            13143.95095
           ],
           "xaxis": "x",
           "y": [
            68.48100000000001,
            50.023,
            61.489,
            74.21,
            67.05199999999999,
            63.837,
            70.75,
            72.649,
            61.788,
            61.31,
            56.69600000000001,
            56.029,
            49.923,
            57.402,
            70.11,
            65.032,
            57.47,
            68.681,
            66.35300000000001,
            58.447,
            73.44,
            68.3,
            73.38,
            69.48100000000001,
            67.456
           ],
           "yaxis": "y"
          },
          {
           "hovertemplate": "<b>%{hovertext}</b><br><br>continent=Oceania<br>year=1977<br>gdpPercap=%{x}<br>lifeExp=%{y}<br>pop=%{marker.size}<extra></extra>",
           "hovertext": [
            "Australia",
            "New Zealand"
           ],
           "ids": [
            "Australia",
            "New Zealand"
           ],
           "legendgroup": "Oceania",
           "marker": {
            "color": "#FFA15A",
            "size": [
             14074100,
             3164900
            ],
            "sizemode": "area",
            "sizeref": 435928.2961983471,
            "symbol": "circle"
           },
           "mode": "markers",
           "name": "Oceania",
           "orientation": "v",
           "showlegend": true,
           "type": "scatter",
           "x": [
            18334.19751,
            16233.7177
           ],
           "xaxis": "x",
           "y": [
            73.49,
            72.22
           ],
           "yaxis": "y"
          }
         ],
         "name": "1977"
        },
        {
         "data": [
          {
           "hovertemplate": "<b>%{hovertext}</b><br><br>continent=Asia<br>year=1982<br>gdpPercap=%{x}<br>lifeExp=%{y}<br>pop=%{marker.size}<extra></extra>",
           "hovertext": [
            "Afghanistan",
            "Bahrain",
            "Bangladesh",
            "Cambodia",
            "China",
            "Hong Kong, China",
            "India",
            "Indonesia",
            "Iran",
            "Iraq",
            "Israel",
            "Japan",
            "Jordan",
            "Korea, Dem. Rep.",
            "Korea, Rep.",
            "Kuwait",
            "Lebanon",
            "Malaysia",
            "Mongolia",
            "Myanmar",
            "Nepal",
            "Oman",
            "Pakistan",
            "Philippines",
            "Saudi Arabia",
            "Singapore",
            "Sri Lanka",
            "Syria",
            "Taiwan",
            "Thailand",
            "Vietnam",
            "West Bank and Gaza",
            "Yemen, Rep."
           ],
           "ids": [
            "Afghanistan",
            "Bahrain",
            "Bangladesh",
            "Cambodia",
            "China",
            "Hong Kong, China",
            "India",
            "Indonesia",
            "Iran",
            "Iraq",
            "Israel",
            "Japan",
            "Jordan",
            "Korea, Dem. Rep.",
            "Korea, Rep.",
            "Kuwait",
            "Lebanon",
            "Malaysia",
            "Mongolia",
            "Myanmar",
            "Nepal",
            "Oman",
            "Pakistan",
            "Philippines",
            "Saudi Arabia",
            "Singapore",
            "Sri Lanka",
            "Syria",
            "Taiwan",
            "Thailand",
            "Vietnam",
            "West Bank and Gaza",
            "Yemen, Rep."
           ],
           "legendgroup": "Asia",
           "marker": {
            "color": "#636efa",
            "size": [
             12881816,
             377967,
             93074406,
             7272485,
             1000281000,
             5264500,
             708000000,
             153343000,
             43072751,
             14173318,
             3858421,
             118454974,
             2347031,
             17647518,
             39326000,
             1497494,
             3086876,
             14441916,
             1756032,
             34680442,
             15796314,
             1301048,
             91462088,
             53456774,
             11254672,
             2651869,
             15410151,
             9410494,
             18501390,
             48827160,
             56142181,
             1425876,
             9657618
            ],
            "sizemode": "area",
            "sizeref": 435928.2961983471,
            "symbol": "circle"
           },
           "mode": "markers",
           "name": "Asia",
           "orientation": "v",
           "showlegend": true,
           "type": "scatter",
           "x": [
            978.0114388,
            19211.14731,
            676.9818656,
            624.4754784,
            962.4213805,
            14560.53051,
            855.7235377000002,
            1516.872988,
            7608.334602,
            14517.90711,
            15367.0292,
            19384.10571,
            4161.415959,
            4106.525293,
            5622.942464,
            31354.03573,
            7640.519520999998,
            4920.355951,
            2000.603139,
            424,
            718.3730947,
            12954.79101,
            1443.429832,
            2603.273765,
            33693.17525,
            15169.16112,
            1648.079789,
            3761.837715,
            7426.3547739999985,
            2393.219781,
            707.2357863,
            4336.032082,
            1977.55701
           ],
           "xaxis": "x",
           "y": [
            39.854,
            69.05199999999999,
            50.00899999999999,
            50.957,
            65.525,
            75.45,
            56.596,
            56.159,
            59.62,
            62.038,
            74.45,
            77.11,
            63.739,
            69.1,
            67.123,
            71.309,
            66.983,
            68,
            57.489,
            58.056,
            49.594,
            62.728,
            56.158,
            62.082,
            63.012,
            71.76,
            68.757,
            64.59,
            72.16,
            64.597,
            58.816,
            64.406,
            49.113
           ],
           "yaxis": "y"
          },
          {
           "hovertemplate": "<b>%{hovertext}</b><br><br>continent=Europe<br>year=1982<br>gdpPercap=%{x}<br>lifeExp=%{y}<br>pop=%{marker.size}<extra></extra>",
           "hovertext": [
            "Albania",
            "Austria",
            "Belgium",
            "Bosnia and Herzegovina",
            "Bulgaria",
            "Croatia",
            "Czech Republic",
            "Denmark",
            "Finland",
            "France",
            "Germany",
            "Greece",
            "Hungary",
            "Iceland",
            "Ireland",
            "Italy",
            "Montenegro",
            "Netherlands",
            "Norway",
            "Poland",
            "Portugal",
            "Romania",
            "Serbia",
            "Slovak Republic",
            "Slovenia",
            "Spain",
            "Sweden",
            "Switzerland",
            "Turkey",
            "United Kingdom"
           ],
           "ids": [
            "Albania",
            "Austria",
            "Belgium",
            "Bosnia and Herzegovina",
            "Bulgaria",
            "Croatia",
            "Czech Republic",
            "Denmark",
            "Finland",
            "France",
            "Germany",
            "Greece",
            "Hungary",
            "Iceland",
            "Ireland",
            "Italy",
            "Montenegro",
            "Netherlands",
            "Norway",
            "Poland",
            "Portugal",
            "Romania",
            "Serbia",
            "Slovak Republic",
            "Slovenia",
            "Spain",
            "Sweden",
            "Switzerland",
            "Turkey",
            "United Kingdom"
           ],
           "legendgroup": "Europe",
           "marker": {
            "color": "#EF553B",
            "size": [
             2780097,
             7574613,
             9856303,
             4172693,
             8892098,
             4413368,
             10303704,
             5117810,
             4826933,
             54433565,
             78335266,
             9786480,
             10705535,
             233997,
             3480000,
             56535636,
             562548,
             14310401,
             4114787,
             36227381,
             9859650,
             22356726,
             9032824,
             5048043,
             1861252,
             37983310,
             8325260,
             6468126,
             47328791,
             56339704
            ],
            "sizemode": "area",
            "sizeref": 435928.2961983471,
            "symbol": "circle"
           },
           "mode": "markers",
           "name": "Europe",
           "orientation": "v",
           "showlegend": true,
           "type": "scatter",
           "x": [
            3630.880722,
            21597.08362,
            20979.84589,
            4126.613157,
            8224.191647,
            13221.82184,
            15377.22855,
            21688.04048,
            18533.15761,
            20293.89746,
            22031.53274,
            15268.42089,
            12545.99066,
            23269.6075,
            12618.32141,
            16537.4835,
            11222.58762,
            21399.46046,
            26298.63531,
            8451.531004,
            11753.84291,
            9605.314053,
            15181.0927,
            11348.54585,
            17866.72175,
            13926.16997,
            20667.38125,
            28397.71512,
            4241.356344,
            18232.42452
           ],
           "xaxis": "x",
           "y": [
            70.42,
            73.18,
            73.93,
            70.69,
            71.08,
            70.46,
            70.96,
            74.63,
            74.55,
            74.89,
            73.8,
            75.24,
            69.39,
            76.99,
            73.1,
            74.98,
            74.101,
            76.05,
            75.97,
            71.32,
            72.77,
            69.66,
            70.16199999999999,
            70.8,
            71.063,
            76.3,
            76.42,
            76.21,
            61.036,
            74.04
           ],
           "yaxis": "y"
          },
          {
           "hovertemplate": "<b>%{hovertext}</b><br><br>continent=Africa<br>year=1982<br>gdpPercap=%{x}<br>lifeExp=%{y}<br>pop=%{marker.size}<extra></extra>",
           "hovertext": [
            "Algeria",
            "Angola",
            "Benin",
            "Botswana",
            "Burkina Faso",
            "Burundi",
            "Cameroon",
            "Central African Republic",
            "Chad",
            "Comoros",
            "Congo, Dem. Rep.",
            "Congo, Rep.",
            "Cote d'Ivoire",
            "Djibouti",
            "Egypt",
            "Equatorial Guinea",
            "Eritrea",
            "Ethiopia",
            "Gabon",
            "Gambia",
            "Ghana",
            "Guinea",
            "Guinea-Bissau",
            "Kenya",
            "Lesotho",
            "Liberia",
            "Libya",
            "Madagascar",
            "Malawi",
            "Mali",
            "Mauritania",
            "Mauritius",
            "Morocco",
            "Mozambique",
            "Namibia",
            "Niger",
            "Nigeria",
            "Reunion",
            "Rwanda",
            "Sao Tome and Principe",
            "Senegal",
            "Sierra Leone",
            "Somalia",
            "South Africa",
            "Sudan",
            "Swaziland",
            "Tanzania",
            "Togo",
            "Tunisia",
            "Uganda",
            "Zambia",
            "Zimbabwe"
           ],
           "ids": [
            "Algeria",
            "Angola",
            "Benin",
            "Botswana",
            "Burkina Faso",
            "Burundi",
            "Cameroon",
            "Central African Republic",
            "Chad",
            "Comoros",
            "Congo, Dem. Rep.",
            "Congo, Rep.",
            "Cote d'Ivoire",
            "Djibouti",
            "Egypt",
            "Equatorial Guinea",
            "Eritrea",
            "Ethiopia",
            "Gabon",
            "Gambia",
            "Ghana",
            "Guinea",
            "Guinea-Bissau",
            "Kenya",
            "Lesotho",
            "Liberia",
            "Libya",
            "Madagascar",
            "Malawi",
            "Mali",
            "Mauritania",
            "Mauritius",
            "Morocco",
            "Mozambique",
            "Namibia",
            "Niger",
            "Nigeria",
            "Reunion",
            "Rwanda",
            "Sao Tome and Principe",
            "Senegal",
            "Sierra Leone",
            "Somalia",
            "South Africa",
            "Sudan",
            "Swaziland",
            "Tanzania",
            "Togo",
            "Tunisia",
            "Uganda",
            "Zambia",
            "Zimbabwe"
           ],
           "legendgroup": "Africa",
           "marker": {
            "color": "#00cc96",
            "size": [
             20033753,
             7016384,
             3641603,
             970347,
             6634596,
             4580410,
             9250831,
             2476971,
             4875118,
             348643,
             30646495,
             1774735,
             9025951,
             305991,
             45681811,
             285483,
             2637297,
             38111756,
             753874,
             715523,
             11400338,
             4710497,
             825987,
             17661452,
             1411807,
             1956875,
             3344074,
             9171477,
             6502825,
             6998256,
             1622136,
             992040,
             20198730,
             12587223,
             1099010,
             6437188,
             73039376,
             517810,
             5507565,
             98593,
             6147783,
             3464522,
             5828892,
             31140029,
             20367053,
             649901,
             19844382,
             2644765,
             6734098,
             12939400,
             6100407,
             7636524
            ],
            "sizemode": "area",
            "sizeref": 435928.2961983471,
            "symbol": "circle"
           },
           "mode": "markers",
           "name": "Africa",
           "orientation": "v",
           "showlegend": true,
           "type": "scatter",
           "x": [
            5745.160213,
            2756.953672,
            1277.897616,
            4551.14215,
            807.1985855,
            559.6032309999998,
            2367.983282,
            956.7529907,
            797.9081006,
            1267.100083,
            673.7478181,
            4879.507522,
            2602.710169,
            2879.468067,
            3503.729636,
            927.8253427,
            524.8758493,
            577.8607471,
            15113.36194,
            835.8096107999999,
            876.032569,
            857.2503577,
            838.1239671,
            1348.225791,
            797.2631074,
            572.1995694,
            17364.275380000006,
            1302.878658,
            632.8039209,
            618.0140640999998,
            1481.150189,
            3688.037739,
            2702.620356,
            462.2114149,
            4191.100511,
            909.7221354,
            1576.97375,
            5267.219353,
            881.5706467,
            1890.218117,
            1518.479984,
            1465.010784,
            1176.807031,
            8568.266228,
            1895.544073,
            3895.384018,
            874.2426069,
            1344.577953,
            3560.2331740000004,
            682.2662267999998,
            1408.678565,
            788.8550411
           ],
           "xaxis": "x",
           "y": [
            61.368,
            39.942,
            50.904,
            61.484,
            48.122,
            47.471,
            52.96100000000001,
            48.295,
            49.517,
            52.933,
            47.784,
            56.695,
            53.983,
            48.812,
            56.006,
            43.662,
            43.89,
            44.916,
            56.56399999999999,
            45.58,
            53.744,
            42.89100000000001,
            39.327,
            58.76600000000001,
            55.078,
            44.852,
            62.155,
            48.969,
            45.642,
            43.916,
            53.599,
            66.711,
            59.65,
            42.795,
            58.968,
            42.598,
            45.826,
            69.885,
            46.218,
            60.351000000000006,
            52.379,
            38.445,
            42.955,
            58.161,
            50.338,
            55.56100000000001,
            50.608,
            55.471,
            64.048,
            49.849,
            51.82100000000001,
            60.363
           ],
           "yaxis": "y"
          },
          {
           "hovertemplate": "<b>%{hovertext}</b><br><br>continent=Americas<br>year=1982<br>gdpPercap=%{x}<br>lifeExp=%{y}<br>pop=%{marker.size}<extra></extra>",
           "hovertext": [
            "Argentina",
            "Bolivia",
            "Brazil",
            "Canada",
            "Chile",
            "Colombia",
            "Costa Rica",
            "Cuba",
            "Dominican Republic",
            "Ecuador",
            "El Salvador",
            "Guatemala",
            "Haiti",
            "Honduras",
            "Jamaica",
            "Mexico",
            "Nicaragua",
            "Panama",
            "Paraguay",
            "Peru",
            "Puerto Rico",
            "Trinidad and Tobago",
            "United States",
            "Uruguay",
            "Venezuela"
           ],
           "ids": [
            "Argentina",
            "Bolivia",
            "Brazil",
            "Canada",
            "Chile",
            "Colombia",
            "Costa Rica",
            "Cuba",
            "Dominican Republic",
            "Ecuador",
            "El Salvador",
            "Guatemala",
            "Haiti",
            "Honduras",
            "Jamaica",
            "Mexico",
            "Nicaragua",
            "Panama",
            "Paraguay",
            "Peru",
            "Puerto Rico",
            "Trinidad and Tobago",
            "United States",
            "Uruguay",
            "Venezuela"
           ],
           "legendgroup": "Americas",
           "marker": {
            "color": "#ab63fa",
            "size": [
             29341374,
             5642224,
             128962939,
             25201900,
             11487112,
             27764644,
             2424367,
             9789224,
             5968349,
             8365850,
             4474873,
             6395630,
             5198399,
             3669448,
             2298309,
             71640904,
             2979423,
             2036305,
             3366439,
             18125129,
             3279001,
             1116479,
             232187835,
             2953997,
             15620766
            ],
            "sizemode": "area",
            "sizeref": 435928.2961983471,
            "symbol": "circle"
           },
           "mode": "markers",
           "name": "Americas",
           "orientation": "v",
           "showlegend": true,
           "type": "scatter",
           "x": [
            8997.897412,
            3156.510452,
            7030.835878,
            22898.79214,
            5095.6657380000015,
            4397.575659,
            5262.734751,
            7316.918106999998,
            2861.092386,
            7213.791267,
            4098.344175,
            4820.49479,
            2011.159549,
            3121.7607940000007,
            6068.05135,
            9611.147541,
            3470.3381560000007,
            7009.601598,
            4258.503604,
            6434.501797,
            10330.98915,
            9119.528607,
            25009.55914,
            6920.223051000001,
            11152.41011
           ],
           "xaxis": "x",
           "y": [
            69.942,
            53.859,
            63.33600000000001,
            75.76,
            70.565,
            66.653,
            73.45,
            73.717,
            63.727,
            64.342,
            56.604,
            58.137,
            51.46100000000001,
            60.909,
            71.21,
            67.405,
            59.298,
            70.472,
            66.874,
            61.40600000000001,
            73.75,
            68.832,
            74.65,
            70.805,
            68.557
           ],
           "yaxis": "y"
          },
          {
           "hovertemplate": "<b>%{hovertext}</b><br><br>continent=Oceania<br>year=1982<br>gdpPercap=%{x}<br>lifeExp=%{y}<br>pop=%{marker.size}<extra></extra>",
           "hovertext": [
            "Australia",
            "New Zealand"
           ],
           "ids": [
            "Australia",
            "New Zealand"
           ],
           "legendgroup": "Oceania",
           "marker": {
            "color": "#FFA15A",
            "size": [
             15184200,
             3210650
            ],
            "sizemode": "area",
            "sizeref": 435928.2961983471,
            "symbol": "circle"
           },
           "mode": "markers",
           "name": "Oceania",
           "orientation": "v",
           "showlegend": true,
           "type": "scatter",
           "x": [
            19477.00928,
            17632.4104
           ],
           "xaxis": "x",
           "y": [
            74.74,
            73.84
           ],
           "yaxis": "y"
          }
         ],
         "name": "1982"
        },
        {
         "data": [
          {
           "hovertemplate": "<b>%{hovertext}</b><br><br>continent=Asia<br>year=1987<br>gdpPercap=%{x}<br>lifeExp=%{y}<br>pop=%{marker.size}<extra></extra>",
           "hovertext": [
            "Afghanistan",
            "Bahrain",
            "Bangladesh",
            "Cambodia",
            "China",
            "Hong Kong, China",
            "India",
            "Indonesia",
            "Iran",
            "Iraq",
            "Israel",
            "Japan",
            "Jordan",
            "Korea, Dem. Rep.",
            "Korea, Rep.",
            "Kuwait",
            "Lebanon",
            "Malaysia",
            "Mongolia",
            "Myanmar",
            "Nepal",
            "Oman",
            "Pakistan",
            "Philippines",
            "Saudi Arabia",
            "Singapore",
            "Sri Lanka",
            "Syria",
            "Taiwan",
            "Thailand",
            "Vietnam",
            "West Bank and Gaza",
            "Yemen, Rep."
           ],
           "ids": [
            "Afghanistan",
            "Bahrain",
            "Bangladesh",
            "Cambodia",
            "China",
            "Hong Kong, China",
            "India",
            "Indonesia",
            "Iran",
            "Iraq",
            "Israel",
            "Japan",
            "Jordan",
            "Korea, Dem. Rep.",
            "Korea, Rep.",
            "Kuwait",
            "Lebanon",
            "Malaysia",
            "Mongolia",
            "Myanmar",
            "Nepal",
            "Oman",
            "Pakistan",
            "Philippines",
            "Saudi Arabia",
            "Singapore",
            "Sri Lanka",
            "Syria",
            "Taiwan",
            "Thailand",
            "Vietnam",
            "West Bank and Gaza",
            "Yemen, Rep."
           ],
           "legendgroup": "Asia",
           "marker": {
            "color": "#636efa",
            "size": [
             13867957,
             454612,
             103764241,
             8371791,
             1084035000,
             5584510,
             788000000,
             169276000,
             51889696,
             16543189,
             4203148,
             122091325,
             2820042,
             19067554,
             41622000,
             1891487,
             3089353,
             16331785,
             2015133,
             38028578,
             17917180,
             1593882,
             105186881,
             60017788,
             14619745,
             2794552,
             16495304,
             11242847,
             19757799,
             52910342,
             62826491,
             1691210,
             11219340
            ],
            "sizemode": "area",
            "sizeref": 435928.2961983471,
            "symbol": "circle"
           },
           "mode": "markers",
           "name": "Asia",
           "orientation": "v",
           "showlegend": true,
           "type": "scatter",
           "x": [
            852.3959447999998,
            18524.02406,
            751.9794035,
            683.8955732000002,
            1378.904018,
            20038.47269,
            976.5126756,
            1748.356961,
            6642.881371,
            11643.57268,
            17122.47986,
            22375.94189,
            4448.679912,
            4106.492315,
            8533.088805,
            28118.42998,
            5377.091329,
            5249.802653,
            2338.008304,
            385,
            775.6324501,
            18115.22313,
            1704.686583,
            2189.634995,
            21198.26136,
            18861.53081,
            1876.766827,
            3116.774285,
            11054.56175,
            2982.653773,
            820.7994449,
            5107.197384,
            1971.741538
           ],
           "xaxis": "x",
           "y": [
            40.822,
            70.75,
            52.819,
            53.914,
            67.274,
            76.2,
            58.553,
            60.137,
            63.04,
            65.044,
            75.6,
            78.67,
            65.869,
            70.64699999999998,
            69.81,
            74.17399999999998,
            67.926,
            69.5,
            60.222,
            58.339,
            52.537,
            67.734,
            58.245,
            64.15100000000001,
            66.295,
            73.56,
            69.01100000000001,
            66.97399999999999,
            73.4,
            66.084,
            62.82,
            67.046,
            52.922
           ],
           "yaxis": "y"
          },
          {
           "hovertemplate": "<b>%{hovertext}</b><br><br>continent=Europe<br>year=1987<br>gdpPercap=%{x}<br>lifeExp=%{y}<br>pop=%{marker.size}<extra></extra>",
           "hovertext": [
            "Albania",
            "Austria",
            "Belgium",
            "Bosnia and Herzegovina",
            "Bulgaria",
            "Croatia",
            "Czech Republic",
            "Denmark",
            "Finland",
            "France",
            "Germany",
            "Greece",
            "Hungary",
            "Iceland",
            "Ireland",
            "Italy",
            "Montenegro",
            "Netherlands",
            "Norway",
            "Poland",
            "Portugal",
            "Romania",
            "Serbia",
            "Slovak Republic",
            "Slovenia",
            "Spain",
            "Sweden",
            "Switzerland",
            "Turkey",
            "United Kingdom"
           ],
           "ids": [
            "Albania",
            "Austria",
            "Belgium",
            "Bosnia and Herzegovina",
            "Bulgaria",
            "Croatia",
            "Czech Republic",
            "Denmark",
            "Finland",
            "France",
            "Germany",
            "Greece",
            "Hungary",
            "Iceland",
            "Ireland",
            "Italy",
            "Montenegro",
            "Netherlands",
            "Norway",
            "Poland",
            "Portugal",
            "Romania",
            "Serbia",
            "Slovak Republic",
            "Slovenia",
            "Spain",
            "Sweden",
            "Switzerland",
            "Turkey",
            "United Kingdom"
           ],
           "legendgroup": "Europe",
           "marker": {
            "color": "#EF553B",
            "size": [
             3075321,
             7578903,
             9870200,
             4338977,
             8971958,
             4484310,
             10311597,
             5127024,
             4931729,
             55630100,
             77718298,
             9974490,
             10612740,
             244676,
             3539900,
             56729703,
             569473,
             14665278,
             4186147,
             37740710,
             9915289,
             22686371,
             9230783,
             5199318,
             1945870,
             38880702,
             8421403,
             6649942,
             52881328,
             56981620
            ],
            "sizemode": "area",
            "sizeref": 435928.2961983471,
            "symbol": "circle"
           },
           "mode": "markers",
           "name": "Europe",
           "orientation": "v",
           "showlegend": true,
           "type": "scatter",
           "x": [
            3738.932735,
            23687.82607,
            22525.56308,
            4314.114757,
            8239.854824,
            13822.58394,
            16310.4434,
            25116.17581,
            21141.01223,
            22066.44214,
            24639.18566,
            16120.52839,
            12986.47998,
            26923.20628,
            13872.86652,
            19207.23482,
            11732.51017,
            23651.32361,
            31540.9748,
            9082.351172,
            13039.30876,
            9696.273295,
            15870.87851,
            12037.26758,
            18678.53492,
            15764.98313,
            23586.92927,
            30281.70459,
            5089.043686,
            21664.78767
           ],
           "xaxis": "x",
           "y": [
            72,
            74.94,
            75.35,
            71.14,
            71.34,
            71.52,
            71.58,
            74.8,
            74.83,
            76.34,
            74.847,
            76.67,
            69.58,
            77.23,
            74.36,
            76.42,
            74.865,
            76.83,
            75.89,
            70.98,
            74.06,
            69.53,
            71.218,
            71.08,
            72.25,
            76.9,
            77.19,
            77.41,
            63.108,
            75.007
           ],
           "yaxis": "y"
          },
          {
           "hovertemplate": "<b>%{hovertext}</b><br><br>continent=Africa<br>year=1987<br>gdpPercap=%{x}<br>lifeExp=%{y}<br>pop=%{marker.size}<extra></extra>",
           "hovertext": [
            "Algeria",
            "Angola",
            "Benin",
            "Botswana",
            "Burkina Faso",
            "Burundi",
            "Cameroon",
            "Central African Republic",
            "Chad",
            "Comoros",
            "Congo, Dem. Rep.",
            "Congo, Rep.",
            "Cote d'Ivoire",
            "Djibouti",
            "Egypt",
            "Equatorial Guinea",
            "Eritrea",
            "Ethiopia",
            "Gabon",
            "Gambia",
            "Ghana",
            "Guinea",
            "Guinea-Bissau",
            "Kenya",
            "Lesotho",
            "Liberia",
            "Libya",
            "Madagascar",
            "Malawi",
            "Mali",
            "Mauritania",
            "Mauritius",
            "Morocco",
            "Mozambique",
            "Namibia",
            "Niger",
            "Nigeria",
            "Reunion",
            "Rwanda",
            "Sao Tome and Principe",
            "Senegal",
            "Sierra Leone",
            "Somalia",
            "South Africa",
            "Sudan",
            "Swaziland",
            "Tanzania",
            "Togo",
            "Tunisia",
            "Uganda",
            "Zambia",
            "Zimbabwe"
           ],
           "ids": [
            "Algeria",
            "Angola",
            "Benin",
            "Botswana",
            "Burkina Faso",
            "Burundi",
            "Cameroon",
            "Central African Republic",
            "Chad",
            "Comoros",
            "Congo, Dem. Rep.",
            "Congo, Rep.",
            "Cote d'Ivoire",
            "Djibouti",
            "Egypt",
            "Equatorial Guinea",
            "Eritrea",
            "Ethiopia",
            "Gabon",
            "Gambia",
            "Ghana",
            "Guinea",
            "Guinea-Bissau",
            "Kenya",
            "Lesotho",
            "Liberia",
            "Libya",
            "Madagascar",
            "Malawi",
            "Mali",
            "Mauritania",
            "Mauritius",
            "Morocco",
            "Mozambique",
            "Namibia",
            "Niger",
            "Nigeria",
            "Reunion",
            "Rwanda",
            "Sao Tome and Principe",
            "Senegal",
            "Sierra Leone",
            "Somalia",
            "South Africa",
            "Sudan",
            "Swaziland",
            "Tanzania",
            "Togo",
            "Tunisia",
            "Uganda",
            "Zambia",
            "Zimbabwe"
           ],
           "legendgroup": "Africa",
           "marker": {
            "color": "#00cc96",
            "size": [
             23254956,
             7874230,
             4243788,
             1151184,
             7586551,
             5126023,
             10780667,
             2840009,
             5498955,
             395114,
             35481645,
             2064095,
             10761098,
             311025,
             52799062,
             341244,
             2915959,
             42999530,
             880397,
             848406,
             14168101,
             5650262,
             927524,
             21198082,
             1599200,
             2269414,
             3799845,
             10568642,
             7824747,
             7634008,
             1841240,
             1042663,
             22987397,
             12891952,
             1278184,
             7332638,
             81551520,
             562035,
             6349365,
             110812,
             7171347,
             3868905,
             6921858,
             35933379,
             24725960,
             779348,
             23040630,
             3154264,
             7724976,
             15283050,
             7272406,
             9216418
            ],
            "sizemode": "area",
            "sizeref": 435928.2961983471,
            "symbol": "circle"
           },
           "mode": "markers",
           "name": "Africa",
           "orientation": "v",
           "showlegend": true,
           "type": "scatter",
           "x": [
            5681.358539,
            2430.208311,
            1225.85601,
            6205.88385,
            912.0631417,
            621.8188188999999,
            2602.664206,
            844.8763504000002,
            952.386129,
            1315.980812,
            672.774812,
            4201.194936999998,
            2156.9560690000008,
            2880.102568,
            3885.46071,
            966.8968149,
            521.1341333,
            573.7413142000001,
            11864.40844,
            611.6588611000002,
            847.0061135,
            805.5724717999999,
            736.4153921,
            1361.936856,
            773.9932140999998,
            506.1138573,
            11770.5898,
            1155.441948,
            635.5173633999998,
            684.1715576,
            1421.603576,
            4783.586903,
            2755.046991,
            389.8761846,
            3693.731337,
            668.3000228,
            1385.029563,
            5303.377488,
            847.991217,
            1516.525457,
            1441.72072,
            1294.4477880000004,
            1093.244963,
            7825.823398,
            1507.819159,
            3984.839812,
            831.8220794,
            1202.201361,
            3810.419296,
            617.7244065,
            1213.315116,
            706.1573059
           ],
           "xaxis": "x",
           "y": [
            65.79899999999999,
            39.906,
            52.337,
            63.622,
            49.557,
            48.21100000000001,
            54.985,
            50.485,
            51.051,
            54.926,
            47.412,
            57.47,
            54.655,
            50.04,
            59.797,
            45.664,
            46.453,
            46.684,
            60.19,
            49.265,
            55.729,
            45.552,
            41.245,
            59.339,
            57.18,
            46.027,
            66.234,
            49.35,
            47.457,
            46.364,
            56.145,
            68.74,
            62.677,
            42.861,
            60.835,
            44.555,
            46.886,
            71.913,
            44.02,
            61.728,
            55.769,
            40.006,
            44.50100000000001,
            60.834,
            51.744,
            57.678,
            51.535,
            56.941,
            66.89399999999999,
            51.50899999999999,
            50.82100000000001,
            62.351000000000006
           ],
           "yaxis": "y"
          },
          {
           "hovertemplate": "<b>%{hovertext}</b><br><br>continent=Americas<br>year=1987<br>gdpPercap=%{x}<br>lifeExp=%{y}<br>pop=%{marker.size}<extra></extra>",
           "hovertext": [
            "Argentina",
            "Bolivia",
            "Brazil",
            "Canada",
            "Chile",
            "Colombia",
            "Costa Rica",
            "Cuba",
            "Dominican Republic",
            "Ecuador",
            "El Salvador",
            "Guatemala",
            "Haiti",
            "Honduras",
            "Jamaica",
            "Mexico",
            "Nicaragua",
            "Panama",
            "Paraguay",
            "Peru",
            "Puerto Rico",
            "Trinidad and Tobago",
            "United States",
            "Uruguay",
            "Venezuela"
           ],
           "ids": [
            "Argentina",
            "Bolivia",
            "Brazil",
            "Canada",
            "Chile",
            "Colombia",
            "Costa Rica",
            "Cuba",
            "Dominican Republic",
            "Ecuador",
            "El Salvador",
            "Guatemala",
            "Haiti",
            "Honduras",
            "Jamaica",
            "Mexico",
            "Nicaragua",
            "Panama",
            "Paraguay",
            "Peru",
            "Puerto Rico",
            "Trinidad and Tobago",
            "United States",
            "Uruguay",
            "Venezuela"
           ],
           "legendgroup": "Americas",
           "marker": {
            "color": "#ab63fa",
            "size": [
             31620918,
             6156369,
             142938076,
             26549700,
             12463354,
             30964245,
             2799811,
             10239839,
             6655297,
             9545158,
             4842194,
             7326406,
             5756203,
             4372203,
             2326606,
             80122492,
             3344353,
             2253639,
             3886512,
             20195924,
             3444468,
             1191336,
             242803533,
             3045153,
             17910182
            ],
            "sizemode": "area",
            "sizeref": 435928.2961983471,
            "symbol": "circle"
           },
           "mode": "markers",
           "name": "Americas",
           "orientation": "v",
           "showlegend": true,
           "type": "scatter",
           "x": [
            9139.671389,
            2753.69149,
            7807.095818000002,
            26626.51503,
            5547.063754,
            4903.2191,
            5629.915318,
            7532.924762999999,
            2899.842175,
            6481.776993,
            4140.442097,
            4246.485974,
            1823.015995,
            3023.096699,
            6351.237495,
            8688.156003,
            2955.984375,
            7034.779161,
            3998.875695,
            6360.943444,
            12281.34191,
            7388.597823,
            29884.350410000006,
            7452.398969,
            9883.584648
           ],
           "xaxis": "x",
           "y": [
            70.774,
            57.25100000000001,
            65.205,
            76.86,
            72.492,
            67.768,
            74.752,
            74.17399999999998,
            66.046,
            67.23100000000001,
            63.154,
            60.782,
            53.636,
            64.492,
            71.77,
            69.498,
            62.008,
            71.523,
            67.378,
            64.134,
            74.63,
            69.582,
            75.02,
            71.918,
            70.19
           ],
           "yaxis": "y"
          },
          {
           "hovertemplate": "<b>%{hovertext}</b><br><br>continent=Oceania<br>year=1987<br>gdpPercap=%{x}<br>lifeExp=%{y}<br>pop=%{marker.size}<extra></extra>",
           "hovertext": [
            "Australia",
            "New Zealand"
           ],
           "ids": [
            "Australia",
            "New Zealand"
           ],
           "legendgroup": "Oceania",
           "marker": {
            "color": "#FFA15A",
            "size": [
             16257249,
             3317166
            ],
            "sizemode": "area",
            "sizeref": 435928.2961983471,
            "symbol": "circle"
           },
           "mode": "markers",
           "name": "Oceania",
           "orientation": "v",
           "showlegend": true,
           "type": "scatter",
           "x": [
            21888.88903,
            19007.19129
           ],
           "xaxis": "x",
           "y": [
            76.32,
            74.32
           ],
           "yaxis": "y"
          }
         ],
         "name": "1987"
        },
        {
         "data": [
          {
           "hovertemplate": "<b>%{hovertext}</b><br><br>continent=Asia<br>year=1992<br>gdpPercap=%{x}<br>lifeExp=%{y}<br>pop=%{marker.size}<extra></extra>",
           "hovertext": [
            "Afghanistan",
            "Bahrain",
            "Bangladesh",
            "Cambodia",
            "China",
            "Hong Kong, China",
            "India",
            "Indonesia",
            "Iran",
            "Iraq",
            "Israel",
            "Japan",
            "Jordan",
            "Korea, Dem. Rep.",
            "Korea, Rep.",
            "Kuwait",
            "Lebanon",
            "Malaysia",
            "Mongolia",
            "Myanmar",
            "Nepal",
            "Oman",
            "Pakistan",
            "Philippines",
            "Saudi Arabia",
            "Singapore",
            "Sri Lanka",
            "Syria",
            "Taiwan",
            "Thailand",
            "Vietnam",
            "West Bank and Gaza",
            "Yemen, Rep."
           ],
           "ids": [
            "Afghanistan",
            "Bahrain",
            "Bangladesh",
            "Cambodia",
            "China",
            "Hong Kong, China",
            "India",
            "Indonesia",
            "Iran",
            "Iraq",
            "Israel",
            "Japan",
            "Jordan",
            "Korea, Dem. Rep.",
            "Korea, Rep.",
            "Kuwait",
            "Lebanon",
            "Malaysia",
            "Mongolia",
            "Myanmar",
            "Nepal",
            "Oman",
            "Pakistan",
            "Philippines",
            "Saudi Arabia",
            "Singapore",
            "Sri Lanka",
            "Syria",
            "Taiwan",
            "Thailand",
            "Vietnam",
            "West Bank and Gaza",
            "Yemen, Rep."
           ],
           "legendgroup": "Asia",
           "marker": {
            "color": "#636efa",
            "size": [
             16317921,
             529491,
             113704579,
             10150094,
             1164970000,
             5829696,
             872000000,
             184816000,
             60397973,
             17861905,
             4936550,
             124329269,
             3867409,
             20711375,
             43805450,
             1418095,
             3219994,
             18319502,
             2312802,
             40546538,
             20326209,
             1915208,
             120065004,
             67185766,
             16945857,
             3235865,
             17587060,
             13219062,
             20686918,
             56667095,
             69940728,
             2104779,
             13367997
            ],
            "sizemode": "area",
            "sizeref": 435928.2961983471,
            "symbol": "circle"
           },
           "mode": "markers",
           "name": "Asia",
           "orientation": "v",
           "showlegend": true,
           "type": "scatter",
           "x": [
            649.3413952000002,
            19035.57917,
            837.8101642999999,
            682.3031755,
            1655.784158,
            24757.60301,
            1164.406809,
            2383.140898,
            7235.653187999998,
            3745.640687,
            18051.52254,
            26824.89511,
            3431.593647,
            3726.063507,
            12104.27872,
            34932.91959,
            6890.806854,
            7277.912802,
            1785.402016,
            347,
            897.7403604,
            18616.70691,
            1971.829464,
            2279.324017000001,
            24841.61777,
            24769.8912,
            2153.739222,
            3340.542768,
            15215.6579,
            4616.896545000001,
            989.0231487,
            6017.654756,
            1879.496673
           ],
           "xaxis": "x",
           "y": [
            41.674,
            72.601,
            56.018,
            55.803,
            68.69,
            77.601,
            60.223,
            62.681,
            65.742,
            59.46100000000001,
            76.93,
            79.36,
            68.015,
            69.97800000000001,
            72.244,
            75.19,
            69.292,
            70.693,
            61.271,
            59.32,
            55.727,
            71.197,
            60.838,
            66.458,
            68.768,
            75.788,
            70.37899999999998,
            69.249,
            74.26,
            67.298,
            67.66199999999999,
            69.718,
            55.599
           ],
           "yaxis": "y"
          },
          {
           "hovertemplate": "<b>%{hovertext}</b><br><br>continent=Europe<br>year=1992<br>gdpPercap=%{x}<br>lifeExp=%{y}<br>pop=%{marker.size}<extra></extra>",
           "hovertext": [
            "Albania",
            "Austria",
            "Belgium",
            "Bosnia and Herzegovina",
            "Bulgaria",
            "Croatia",
            "Czech Republic",
            "Denmark",
            "Finland",
            "France",
            "Germany",
            "Greece",
            "Hungary",
            "Iceland",
            "Ireland",
            "Italy",
            "Montenegro",
            "Netherlands",
            "Norway",
            "Poland",
            "Portugal",
            "Romania",
            "Serbia",
            "Slovak Republic",
            "Slovenia",
            "Spain",
            "Sweden",
            "Switzerland",
            "Turkey",
            "United Kingdom"
           ],
           "ids": [
            "Albania",
            "Austria",
            "Belgium",
            "Bosnia and Herzegovina",
            "Bulgaria",
            "Croatia",
            "Czech Republic",
            "Denmark",
            "Finland",
            "France",
            "Germany",
            "Greece",
            "Hungary",
            "Iceland",
            "Ireland",
            "Italy",
            "Montenegro",
            "Netherlands",
            "Norway",
            "Poland",
            "Portugal",
            "Romania",
            "Serbia",
            "Slovak Republic",
            "Slovenia",
            "Spain",
            "Sweden",
            "Switzerland",
            "Turkey",
            "United Kingdom"
           ],
           "legendgroup": "Europe",
           "marker": {
            "color": "#EF553B",
            "size": [
             3326498,
             7914969,
             10045622,
             4256013,
             8658506,
             4494013,
             10315702,
             5171393,
             5041039,
             57374179,
             80597764,
             10325429,
             10348684,
             259012,
             3557761,
             56840847,
             621621,
             15174244,
             4286357,
             38370697,
             9927680,
             22797027,
             9826397,
             5302888,
             1999210,
             39549438,
             8718867,
             6995447,
             58179144,
             57866349
            ],
            "sizemode": "area",
            "sizeref": 435928.2961983471,
            "symbol": "circle"
           },
           "mode": "markers",
           "name": "Europe",
           "orientation": "v",
           "showlegend": true,
           "type": "scatter",
           "x": [
            2497.437901,
            27042.01868,
            25575.57069,
            2546.781445,
            6302.623438000001,
            8447.794873,
            14297.02122,
            26406.73985,
            20647.16499,
            24703.79615,
            26505.30317,
            17541.49634,
            10535.62855,
            25144.39201,
            17558.81555,
            22013.64486,
            7003.339037000002,
            26790.94961,
            33965.66115,
            7738.881247,
            16207.266630000002,
            6598.409903,
            9325.068238,
            9498.467723,
            14214.71681,
            18603.06452,
            23880.01683,
            31871.5303,
            5678.348271,
            22705.09254
           ],
           "xaxis": "x",
           "y": [
            71.581,
            76.04,
            76.46,
            72.178,
            71.19,
            72.527,
            72.4,
            75.33,
            75.7,
            77.46,
            76.07,
            77.03,
            69.17,
            78.77,
            75.467,
            77.44,
            75.435,
            77.42,
            77.32,
            70.99,
            74.86,
            69.36,
            71.65899999999998,
            71.38,
            73.64,
            77.57,
            78.16,
            78.03,
            66.146,
            76.42
           ],
           "yaxis": "y"
          },
          {
           "hovertemplate": "<b>%{hovertext}</b><br><br>continent=Africa<br>year=1992<br>gdpPercap=%{x}<br>lifeExp=%{y}<br>pop=%{marker.size}<extra></extra>",
           "hovertext": [
            "Algeria",
            "Angola",
            "Benin",
            "Botswana",
            "Burkina Faso",
            "Burundi",
            "Cameroon",
            "Central African Republic",
            "Chad",
            "Comoros",
            "Congo, Dem. Rep.",
            "Congo, Rep.",
            "Cote d'Ivoire",
            "Djibouti",
            "Egypt",
            "Equatorial Guinea",
            "Eritrea",
            "Ethiopia",
            "Gabon",
            "Gambia",
            "Ghana",
            "Guinea",
            "Guinea-Bissau",
            "Kenya",
            "Lesotho",
            "Liberia",
            "Libya",
            "Madagascar",
            "Malawi",
            "Mali",
            "Mauritania",
            "Mauritius",
            "Morocco",
            "Mozambique",
            "Namibia",
            "Niger",
            "Nigeria",
            "Reunion",
            "Rwanda",
            "Sao Tome and Principe",
            "Senegal",
            "Sierra Leone",
            "Somalia",
            "South Africa",
            "Sudan",
            "Swaziland",
            "Tanzania",
            "Togo",
            "Tunisia",
            "Uganda",
            "Zambia",
            "Zimbabwe"
           ],
           "ids": [
            "Algeria",
            "Angola",
            "Benin",
            "Botswana",
            "Burkina Faso",
            "Burundi",
            "Cameroon",
            "Central African Republic",
            "Chad",
            "Comoros",
            "Congo, Dem. Rep.",
            "Congo, Rep.",
            "Cote d'Ivoire",
            "Djibouti",
            "Egypt",
            "Equatorial Guinea",
            "Eritrea",
            "Ethiopia",
            "Gabon",
            "Gambia",
            "Ghana",
            "Guinea",
            "Guinea-Bissau",
            "Kenya",
            "Lesotho",
            "Liberia",
            "Libya",
            "Madagascar",
            "Malawi",
            "Mali",
            "Mauritania",
            "Mauritius",
            "Morocco",
            "Mozambique",
            "Namibia",
            "Niger",
            "Nigeria",
            "Reunion",
            "Rwanda",
            "Sao Tome and Principe",
            "Senegal",
            "Sierra Leone",
            "Somalia",
            "South Africa",
            "Sudan",
            "Swaziland",
            "Tanzania",
            "Togo",
            "Tunisia",
            "Uganda",
            "Zambia",
            "Zimbabwe"
           ],
           "legendgroup": "Africa",
           "marker": {
            "color": "#00cc96",
            "size": [
             26298373,
             8735988,
             4981671,
             1342614,
             8878303,
             5809236,
             12467171,
             3265124,
             6429417,
             454429,
             41672143,
             2409073,
             12772596,
             384156,
             59402198,
             387838,
             3668440,
             52088559,
             985739,
             1025384,
             16278738,
             6990574,
             1050938,
             25020539,
             1803195,
             1912974,
             4364501,
             12210395,
             10014249,
             8416215,
             2119465,
             1096202,
             25798239,
             13160731,
             1554253,
             8392818,
             93364244,
             622191,
             7290203,
             125911,
             8307920,
             4260884,
             6099799,
             39964159,
             28227588,
             962344,
             26605473,
             3747553,
             8523077,
             18252190,
             8381163,
             10704340
            ],
            "sizemode": "area",
            "sizeref": 435928.2961983471,
            "symbol": "circle"
           },
           "mode": "markers",
           "name": "Africa",
           "orientation": "v",
           "showlegend": true,
           "type": "scatter",
           "x": [
            5023.216647,
            2627.845685,
            1191.207681,
            7954.111645,
            931.7527731,
            631.6998778,
            1793.1632780000002,
            747.9055252,
            1058.0643,
            1246.90737,
            457.7191807,
            4016.239529,
            1648.073791,
            2377.156192000001,
            3794.755195,
            1132.055034,
            582.8585102000002,
            421.3534653,
            13522.15752,
            665.6244126,
            925.060154,
            794.3484384,
            745.5398706,
            1341.9217210000004,
            977.4862725,
            636.6229191000001,
            9640.138501,
            1040.67619,
            563.2000145,
            739.014375,
            1361.369784,
            6058.253846000001,
            2948.047252,
            410.8968239,
            3804.537999,
            581.182725,
            1619.848217,
            6101.255823,
            737.0685949,
            1428.777814,
            1367.899369,
            1068.696278,
            926.9602964,
            7225.069257999998,
            1492.197043,
            3553.0224,
            825.682454,
            1034.298904,
            4332.720164,
            644.1707968999998,
            1210.884633,
            693.4207856
           ],
           "xaxis": "x",
           "y": [
            67.744,
            40.647,
            53.919,
            62.745,
            50.26,
            44.736,
            54.31399999999999,
            49.396,
            51.724,
            57.93899999999999,
            45.548,
            56.433,
            52.044,
            51.604,
            63.674,
            47.545,
            49.99100000000001,
            48.091,
            61.36600000000001,
            52.644,
            57.50100000000001,
            48.576,
            43.26600000000001,
            59.285,
            59.685,
            40.802,
            68.755,
            52.214,
            49.42,
            48.38800000000001,
            58.333,
            69.745,
            65.393,
            44.284,
            61.999,
            47.39100000000001,
            47.472,
            73.615,
            23.599,
            62.742,
            58.19600000000001,
            38.333,
            39.658,
            61.88800000000001,
            53.556,
            58.474,
            50.44,
            58.06100000000001,
            70.001,
            48.825,
            46.1,
            60.377
           ],
           "yaxis": "y"
          },
          {
           "hovertemplate": "<b>%{hovertext}</b><br><br>continent=Americas<br>year=1992<br>gdpPercap=%{x}<br>lifeExp=%{y}<br>pop=%{marker.size}<extra></extra>",
           "hovertext": [
            "Argentina",
            "Bolivia",
            "Brazil",
            "Canada",
            "Chile",
            "Colombia",
            "Costa Rica",
            "Cuba",
            "Dominican Republic",
            "Ecuador",
            "El Salvador",
            "Guatemala",
            "Haiti",
            "Honduras",
            "Jamaica",
            "Mexico",
            "Nicaragua",
            "Panama",
            "Paraguay",
            "Peru",
            "Puerto Rico",
            "Trinidad and Tobago",
            "United States",
            "Uruguay",
            "Venezuela"
           ],
           "ids": [
            "Argentina",
            "Bolivia",
            "Brazil",
            "Canada",
            "Chile",
            "Colombia",
            "Costa Rica",
            "Cuba",
            "Dominican Republic",
            "Ecuador",
            "El Salvador",
            "Guatemala",
            "Haiti",
            "Honduras",
            "Jamaica",
            "Mexico",
            "Nicaragua",
            "Panama",
            "Paraguay",
            "Peru",
            "Puerto Rico",
            "Trinidad and Tobago",
            "United States",
            "Uruguay",
            "Venezuela"
           ],
           "legendgroup": "Americas",
           "marker": {
            "color": "#ab63fa",
            "size": [
             33958947,
             6893451,
             155975974,
             28523502,
             13572994,
             34202721,
             3173216,
             10723260,
             7351181,
             10748394,
             5274649,
             8486949,
             6326682,
             5077347,
             2378618,
             88111030,
             4017939,
             2484997,
             4483945,
             22430449,
             3585176,
             1183669,
             256894189,
             3149262,
             20265563
            ],
            "sizemode": "area",
            "sizeref": 435928.2961983471,
            "symbol": "circle"
           },
           "mode": "markers",
           "name": "Americas",
           "orientation": "v",
           "showlegend": true,
           "type": "scatter",
           "x": [
            9308.41871,
            2961.699694,
            6950.283020999998,
            26342.88426,
            7596.125964,
            5444.648617,
            6160.416317,
            5592.843963,
            3044.214214,
            7103.702595000002,
            4444.2317,
            4439.45084,
            1456.309517,
            3081.694603,
            7404.923685,
            9472.384295,
            2170.151724,
            6618.74305,
            4196.411078,
            4446.380924,
            14641.58711,
            7370.990932,
            32003.93224,
            8137.004775,
            10733.92631
           ],
           "xaxis": "x",
           "y": [
            71.868,
            59.957,
            67.057,
            77.95,
            74.126,
            68.421,
            75.71300000000002,
            74.414,
            68.457,
            69.613,
            66.798,
            63.37300000000001,
            55.089,
            66.399,
            71.766,
            71.455,
            65.843,
            72.462,
            68.225,
            66.458,
            73.911,
            69.862,
            76.09,
            72.752,
            71.15
           ],
           "yaxis": "y"
          },
          {
           "hovertemplate": "<b>%{hovertext}</b><br><br>continent=Oceania<br>year=1992<br>gdpPercap=%{x}<br>lifeExp=%{y}<br>pop=%{marker.size}<extra></extra>",
           "hovertext": [
            "Australia",
            "New Zealand"
           ],
           "ids": [
            "Australia",
            "New Zealand"
           ],
           "legendgroup": "Oceania",
           "marker": {
            "color": "#FFA15A",
            "size": [
             17481977,
             3437674
            ],
            "sizemode": "area",
            "sizeref": 435928.2961983471,
            "symbol": "circle"
           },
           "mode": "markers",
           "name": "Oceania",
           "orientation": "v",
           "showlegend": true,
           "type": "scatter",
           "x": [
            23424.76683,
            18363.32494
           ],
           "xaxis": "x",
           "y": [
            77.56,
            76.33
           ],
           "yaxis": "y"
          }
         ],
         "name": "1992"
        },
        {
         "data": [
          {
           "hovertemplate": "<b>%{hovertext}</b><br><br>continent=Asia<br>year=1997<br>gdpPercap=%{x}<br>lifeExp=%{y}<br>pop=%{marker.size}<extra></extra>",
           "hovertext": [
            "Afghanistan",
            "Bahrain",
            "Bangladesh",
            "Cambodia",
            "China",
            "Hong Kong, China",
            "India",
            "Indonesia",
            "Iran",
            "Iraq",
            "Israel",
            "Japan",
            "Jordan",
            "Korea, Dem. Rep.",
            "Korea, Rep.",
            "Kuwait",
            "Lebanon",
            "Malaysia",
            "Mongolia",
            "Myanmar",
            "Nepal",
            "Oman",
            "Pakistan",
            "Philippines",
            "Saudi Arabia",
            "Singapore",
            "Sri Lanka",
            "Syria",
            "Taiwan",
            "Thailand",
            "Vietnam",
            "West Bank and Gaza",
            "Yemen, Rep."
           ],
           "ids": [
            "Afghanistan",
            "Bahrain",
            "Bangladesh",
            "Cambodia",
            "China",
            "Hong Kong, China",
            "India",
            "Indonesia",
            "Iran",
            "Iraq",
            "Israel",
            "Japan",
            "Jordan",
            "Korea, Dem. Rep.",
            "Korea, Rep.",
            "Kuwait",
            "Lebanon",
            "Malaysia",
            "Mongolia",
            "Myanmar",
            "Nepal",
            "Oman",
            "Pakistan",
            "Philippines",
            "Saudi Arabia",
            "Singapore",
            "Sri Lanka",
            "Syria",
            "Taiwan",
            "Thailand",
            "Vietnam",
            "West Bank and Gaza",
            "Yemen, Rep."
           ],
           "legendgroup": "Asia",
           "marker": {
            "color": "#636efa",
            "size": [
             22227415,
             598561,
             123315288,
             11782962,
             1230075000,
             6495918,
             959000000,
             199278000,
             63327987,
             20775703,
             5531387,
             125956499,
             4526235,
             21585105,
             46173816,
             1765345,
             3430388,
             20476091,
             2494803,
             43247867,
             23001113,
             2283635,
             135564834,
             75012988,
             21229759,
             3802309,
             18698655,
             15081016,
             21628605,
             60216677,
             76048996,
             2826046,
             15826497
            ],
            "sizemode": "area",
            "sizeref": 435928.2961983471,
            "symbol": "circle"
           },
           "mode": "markers",
           "name": "Asia",
           "orientation": "v",
           "showlegend": true,
           "type": "scatter",
           "x": [
            635.341351,
            20292.01679,
            972.7700352,
            734.28517,
            2289.234136,
            28377.63219,
            1458.817442,
            3119.335603,
            8263.590301,
            3076.239795,
            20896.60924,
            28816.58499,
            3645.379572,
            1690.756814,
            15993.52796,
            40300.61996,
            8754.96385,
            10132.90964,
            1902.2521,
            415,
            1010.892138,
            19702.05581,
            2049.3505210000008,
            2536.534925,
            20586.69019,
            33519.4766,
            2664.477257,
            4014.238972,
            20206.82098,
            5852.625497,
            1385.896769,
            7110.667619,
            2117.484526
           ],
           "xaxis": "x",
           "y": [
            41.76300000000001,
            73.925,
            59.412,
            56.534,
            70.426,
            80,
            61.765,
            66.041,
            68.042,
            58.81100000000001,
            78.26899999999998,
            80.69,
            69.77199999999999,
            67.727,
            74.64699999999998,
            76.156,
            70.265,
            71.938,
            63.625,
            60.328,
            59.426,
            72.499,
            61.81800000000001,
            68.564,
            70.533,
            77.158,
            70.457,
            71.527,
            75.25,
            67.521,
            70.672,
            71.096,
            58.02
           ],
           "yaxis": "y"
          },
          {
           "hovertemplate": "<b>%{hovertext}</b><br><br>continent=Europe<br>year=1997<br>gdpPercap=%{x}<br>lifeExp=%{y}<br>pop=%{marker.size}<extra></extra>",
           "hovertext": [
            "Albania",
            "Austria",
            "Belgium",
            "Bosnia and Herzegovina",
            "Bulgaria",
            "Croatia",
            "Czech Republic",
            "Denmark",
            "Finland",
            "France",
            "Germany",
            "Greece",
            "Hungary",
            "Iceland",
            "Ireland",
            "Italy",
            "Montenegro",
            "Netherlands",
            "Norway",
            "Poland",
            "Portugal",
            "Romania",
            "Serbia",
            "Slovak Republic",
            "Slovenia",
            "Spain",
            "Sweden",
            "Switzerland",
            "Turkey",
            "United Kingdom"
           ],
           "ids": [
            "Albania",
            "Austria",
            "Belgium",
            "Bosnia and Herzegovina",
            "Bulgaria",
            "Croatia",
            "Czech Republic",
            "Denmark",
            "Finland",
            "France",
            "Germany",
            "Greece",
            "Hungary",
            "Iceland",
            "Ireland",
            "Italy",
            "Montenegro",
            "Netherlands",
            "Norway",
            "Poland",
            "Portugal",
            "Romania",
            "Serbia",
            "Slovak Republic",
            "Slovenia",
            "Spain",
            "Sweden",
            "Switzerland",
            "Turkey",
            "United Kingdom"
           ],
           "legendgroup": "Europe",
           "marker": {
            "color": "#EF553B",
            "size": [
             3428038,
             8069876,
             10199787,
             3607000,
             8066057,
             4444595,
             10300707,
             5283663,
             5134406,
             58623428,
             82011073,
             10502372,
             10244684,
             271192,
             3667233,
             57479469,
             692651,
             15604464,
             4405672,
             38654957,
             10156415,
             22562458,
             10336594,
             5383010,
             2011612,
             39855442,
             8897619,
             7193761,
             63047647,
             58808266
            ],
            "sizemode": "area",
            "sizeref": 435928.2961983471,
            "symbol": "circle"
           },
           "mode": "markers",
           "name": "Europe",
           "orientation": "v",
           "showlegend": true,
           "type": "scatter",
           "x": [
            3193.054604,
            29095.920660000003,
            27561.19663,
            4766.355904,
            5970.38876,
            9875.604515,
            16048.51424,
            29804.34567,
            23723.9502,
            25889.78487,
            27788.88416,
            18747.69814,
            11712.7768,
            28061.099660000003,
            24521.94713,
            24675.02446,
            6465.613349,
            30246.13063,
            41283.16433,
            10159.58368,
            17641.03156,
            7346.547556999999,
            7914.320304000002,
            12126.23065,
            17161.10735,
            20445.29896,
            25266.59499,
            32135.323010000004,
            6601.429915,
            26074.53136
           ],
           "xaxis": "x",
           "y": [
            72.95,
            77.51,
            77.53,
            73.244,
            70.32,
            73.68,
            74.01,
            76.11,
            77.13,
            78.64,
            77.34,
            77.869,
            71.04,
            78.95,
            76.122,
            78.82,
            75.445,
            78.03,
            78.32,
            72.75,
            75.97,
            69.72,
            72.232,
            72.71,
            75.13,
            78.77,
            79.39,
            79.37,
            68.835,
            77.218
           ],
           "yaxis": "y"
          },
          {
           "hovertemplate": "<b>%{hovertext}</b><br><br>continent=Africa<br>year=1997<br>gdpPercap=%{x}<br>lifeExp=%{y}<br>pop=%{marker.size}<extra></extra>",
           "hovertext": [
            "Algeria",
            "Angola",
            "Benin",
            "Botswana",
            "Burkina Faso",
            "Burundi",
            "Cameroon",
            "Central African Republic",
            "Chad",
            "Comoros",
            "Congo, Dem. Rep.",
            "Congo, Rep.",
            "Cote d'Ivoire",
            "Djibouti",
            "Egypt",
            "Equatorial Guinea",
            "Eritrea",
            "Ethiopia",
            "Gabon",
            "Gambia",
            "Ghana",
            "Guinea",
            "Guinea-Bissau",
            "Kenya",
            "Lesotho",
            "Liberia",
            "Libya",
            "Madagascar",
            "Malawi",
            "Mali",
            "Mauritania",
            "Mauritius",
            "Morocco",
            "Mozambique",
            "Namibia",
            "Niger",
            "Nigeria",
            "Reunion",
            "Rwanda",
            "Sao Tome and Principe",
            "Senegal",
            "Sierra Leone",
            "Somalia",
            "South Africa",
            "Sudan",
            "Swaziland",
            "Tanzania",
            "Togo",
            "Tunisia",
            "Uganda",
            "Zambia",
            "Zimbabwe"
           ],
           "ids": [
            "Algeria",
            "Angola",
            "Benin",
            "Botswana",
            "Burkina Faso",
            "Burundi",
            "Cameroon",
            "Central African Republic",
            "Chad",
            "Comoros",
            "Congo, Dem. Rep.",
            "Congo, Rep.",
            "Cote d'Ivoire",
            "Djibouti",
            "Egypt",
            "Equatorial Guinea",
            "Eritrea",
            "Ethiopia",
            "Gabon",
            "Gambia",
            "Ghana",
            "Guinea",
            "Guinea-Bissau",
            "Kenya",
            "Lesotho",
            "Liberia",
            "Libya",
            "Madagascar",
            "Malawi",
            "Mali",
            "Mauritania",
            "Mauritius",
            "Morocco",
            "Mozambique",
            "Namibia",
            "Niger",
            "Nigeria",
            "Reunion",
            "Rwanda",
            "Sao Tome and Principe",
            "Senegal",
            "Sierra Leone",
            "Somalia",
            "South Africa",
            "Sudan",
            "Swaziland",
            "Tanzania",
            "Togo",
            "Tunisia",
            "Uganda",
            "Zambia",
            "Zimbabwe"
           ],
           "legendgroup": "Africa",
           "marker": {
            "color": "#00cc96",
            "size": [
             29072015,
             9875024,
             6066080,
             1536536,
             10352843,
             6121610,
             14195809,
             3696513,
             7562011,
             527982,
             47798986,
             2800947,
             14625967,
             417908,
             66134291,
             439971,
             4058319,
             59861301,
             1126189,
             1235767,
             18418288,
             8048834,
             1193708,
             28263827,
             1982823,
             2200725,
             4759670,
             14165114,
             10419991,
             9384984,
             2444741,
             1149818,
             28529501,
             16603334,
             1774766,
             9666252,
             106207839,
             684810,
             7212583,
             145608,
             9535314,
             4578212,
             6633514,
             42835005,
             32160729,
             1054486,
             30686889,
             4320890,
             9231669,
             21210254,
             9417789,
             11404948
            ],
            "sizemode": "area",
            "sizeref": 435928.2961983471,
            "symbol": "circle"
           },
           "mode": "markers",
           "name": "Africa",
           "orientation": "v",
           "showlegend": true,
           "type": "scatter",
           "x": [
            4797.295051,
            2277.140884,
            1232.975292,
            8647.142313,
            946.2949618,
            463.1151478,
            1694.337469,
            740.5063317,
            1004.961353,
            1173.618235,
            312.188423,
            3484.164376,
            1786.265407,
            1895.016984,
            4173.181797,
            2814.480755,
            913.47079,
            515.8894013,
            14722.841880000002,
            653.7301704,
            1005.245812,
            869.4497667999998,
            796.6644681,
            1360.4850210000004,
            1186.147994,
            609.1739508,
            9467.446056,
            986.2958956,
            692.2758102999999,
            790.2579846,
            1483.136136,
            7425.705295000002,
            2982.101858,
            472.34607710000006,
            3899.52426,
            580.3052092,
            1624.941275,
            6071.941411,
            589.9445051,
            1339.076036,
            1392.368347,
            574.6481576,
            930.5964284,
            7479.188244,
            1632.2107640000004,
            3876.76846,
            789.1862231,
            982.2869243,
            4876.798614,
            816.559081,
            1071.353818,
            792.4499602999998
           ],
           "xaxis": "x",
           "y": [
            69.152,
            40.963,
            54.777,
            52.556,
            50.324,
            45.326,
            52.199,
            46.066,
            51.573,
            60.66,
            42.587,
            52.962,
            47.99100000000001,
            53.157,
            67.217,
            48.245,
            53.378,
            49.402,
            60.46100000000001,
            55.861,
            58.556,
            51.455,
            44.87300000000001,
            54.407,
            55.558,
            42.221,
            71.555,
            54.978,
            47.495,
            49.903,
            60.43,
            70.736,
            67.66,
            46.344,
            58.909,
            51.313,
            47.464,
            74.77199999999998,
            36.087,
            63.306,
            60.187,
            39.897,
            43.795,
            60.236,
            55.37300000000001,
            54.289,
            48.466,
            58.39,
            71.973,
            44.578,
            40.238,
            46.809
           ],
           "yaxis": "y"
          },
          {
           "hovertemplate": "<b>%{hovertext}</b><br><br>continent=Americas<br>year=1997<br>gdpPercap=%{x}<br>lifeExp=%{y}<br>pop=%{marker.size}<extra></extra>",
           "hovertext": [
            "Argentina",
            "Bolivia",
            "Brazil",
            "Canada",
            "Chile",
            "Colombia",
            "Costa Rica",
            "Cuba",
            "Dominican Republic",
            "Ecuador",
            "El Salvador",
            "Guatemala",
            "Haiti",
            "Honduras",
            "Jamaica",
            "Mexico",
            "Nicaragua",
            "Panama",
            "Paraguay",
            "Peru",
            "Puerto Rico",
            "Trinidad and Tobago",
            "United States",
            "Uruguay",
            "Venezuela"
           ],
           "ids": [
            "Argentina",
            "Bolivia",
            "Brazil",
            "Canada",
            "Chile",
            "Colombia",
            "Costa Rica",
            "Cuba",
            "Dominican Republic",
            "Ecuador",
            "El Salvador",
            "Guatemala",
            "Haiti",
            "Honduras",
            "Jamaica",
            "Mexico",
            "Nicaragua",
            "Panama",
            "Paraguay",
            "Peru",
            "Puerto Rico",
            "Trinidad and Tobago",
            "United States",
            "Uruguay",
            "Venezuela"
           ],
           "legendgroup": "Americas",
           "marker": {
            "color": "#ab63fa",
            "size": [
             36203463,
             7693188,
             168546719,
             30305843,
             14599929,
             37657830,
             3518107,
             10983007,
             7992357,
             11911819,
             5783439,
             9803875,
             6913545,
             5867957,
             2531311,
             95895146,
             4609572,
             2734531,
             5154123,
             24748122,
             3759430,
             1138101,
             272911760,
             3262838,
             22374398
            ],
            "sizemode": "area",
            "sizeref": 435928.2961983471,
            "symbol": "circle"
           },
           "mode": "markers",
           "name": "Americas",
           "orientation": "v",
           "showlegend": true,
           "type": "scatter",
           "x": [
            10967.28195,
            3326.143191,
            7957.980823999998,
            28954.92589,
            10118.05318,
            6117.361746000001,
            6677.045314,
            5431.990415,
            3614.101285,
            7429.4558769999985,
            5154.825496,
            4684.313807,
            1341.726931,
            3160.454906,
            7121.924704000001,
            9767.29753,
            2253.023004,
            7113.692252,
            4247.400261,
            5838.347657,
            16999.4333,
            8792.573126000001,
            35767.43303,
            9230.240708,
            10165.49518
           ],
           "xaxis": "x",
           "y": [
            73.275,
            62.05,
            69.388,
            78.61,
            75.816,
            70.313,
            77.26,
            76.15100000000002,
            69.957,
            72.312,
            69.535,
            66.322,
            56.67100000000001,
            67.65899999999999,
            72.262,
            73.67,
            68.426,
            73.738,
            69.4,
            68.38600000000001,
            74.917,
            69.465,
            76.81,
            74.223,
            72.146
           ],
           "yaxis": "y"
          },
          {
           "hovertemplate": "<b>%{hovertext}</b><br><br>continent=Oceania<br>year=1997<br>gdpPercap=%{x}<br>lifeExp=%{y}<br>pop=%{marker.size}<extra></extra>",
           "hovertext": [
            "Australia",
            "New Zealand"
           ],
           "ids": [
            "Australia",
            "New Zealand"
           ],
           "legendgroup": "Oceania",
           "marker": {
            "color": "#FFA15A",
            "size": [
             18565243,
             3676187
            ],
            "sizemode": "area",
            "sizeref": 435928.2961983471,
            "symbol": "circle"
           },
           "mode": "markers",
           "name": "Oceania",
           "orientation": "v",
           "showlegend": true,
           "type": "scatter",
           "x": [
            26997.93657,
            21050.41377
           ],
           "xaxis": "x",
           "y": [
            78.83,
            77.55
           ],
           "yaxis": "y"
          }
         ],
         "name": "1997"
        },
        {
         "data": [
          {
           "hovertemplate": "<b>%{hovertext}</b><br><br>continent=Asia<br>year=2002<br>gdpPercap=%{x}<br>lifeExp=%{y}<br>pop=%{marker.size}<extra></extra>",
           "hovertext": [
            "Afghanistan",
            "Bahrain",
            "Bangladesh",
            "Cambodia",
            "China",
            "Hong Kong, China",
            "India",
            "Indonesia",
            "Iran",
            "Iraq",
            "Israel",
            "Japan",
            "Jordan",
            "Korea, Dem. Rep.",
            "Korea, Rep.",
            "Kuwait",
            "Lebanon",
            "Malaysia",
            "Mongolia",
            "Myanmar",
            "Nepal",
            "Oman",
            "Pakistan",
            "Philippines",
            "Saudi Arabia",
            "Singapore",
            "Sri Lanka",
            "Syria",
            "Taiwan",
            "Thailand",
            "Vietnam",
            "West Bank and Gaza",
            "Yemen, Rep."
           ],
           "ids": [
            "Afghanistan",
            "Bahrain",
            "Bangladesh",
            "Cambodia",
            "China",
            "Hong Kong, China",
            "India",
            "Indonesia",
            "Iran",
            "Iraq",
            "Israel",
            "Japan",
            "Jordan",
            "Korea, Dem. Rep.",
            "Korea, Rep.",
            "Kuwait",
            "Lebanon",
            "Malaysia",
            "Mongolia",
            "Myanmar",
            "Nepal",
            "Oman",
            "Pakistan",
            "Philippines",
            "Saudi Arabia",
            "Singapore",
            "Sri Lanka",
            "Syria",
            "Taiwan",
            "Thailand",
            "Vietnam",
            "West Bank and Gaza",
            "Yemen, Rep."
           ],
           "legendgroup": "Asia",
           "marker": {
            "color": "#636efa",
            "size": [
             25268405,
             656397,
             135656790,
             12926707,
             1280400000,
             6762476,
             1034172547,
             211060000,
             66907826,
             24001816,
             6029529,
             127065841,
             5307470,
             22215365,
             47969150,
             2111561,
             3677780,
             22662365,
             2674234,
             45598081,
             25873917,
             2713462,
             153403524,
             82995088,
             24501530,
             4197776,
             19576783,
             17155814,
             22454239,
             62806748,
             80908147,
             3389578,
             18701257
            ],
            "sizemode": "area",
            "sizeref": 435928.2961983471,
            "symbol": "circle"
           },
           "mode": "markers",
           "name": "Asia",
           "orientation": "v",
           "showlegend": true,
           "type": "scatter",
           "x": [
            726.7340548,
            23403.55927,
            1136.3904300000004,
            896.2260152999999,
            3119.280896,
            30209.015160000006,
            1746.769454,
            2873.91287,
            9240.761975,
            4390.717312,
            21905.59514,
            28604.5919,
            3844.917194,
            1646.758151,
            19233.98818,
            35110.10566,
            9313.93883,
            10206.97794,
            2140.739323,
            611,
            1057.206311,
            19774.83687,
            2092.712441,
            2650.921068,
            19014.54118,
            36023.1054,
            3015.378833,
            4090.925331,
            23235.42329,
            5913.187529,
            1764.456677,
            4515.487575,
            2234.820827
           ],
           "xaxis": "x",
           "y": [
            42.129,
            74.795,
            62.01300000000001,
            56.752,
            72.028,
            81.495,
            62.879,
            68.58800000000001,
            69.45100000000001,
            57.04600000000001,
            79.696,
            82,
            71.263,
            66.66199999999999,
            77.045,
            76.904,
            71.028,
            73.044,
            65.033,
            59.908,
            61.34,
            74.193,
            63.61,
            70.303,
            71.626,
            78.77,
            70.815,
            73.053,
            76.99,
            68.564,
            73.017,
            72.37,
            60.308
           ],
           "yaxis": "y"
          },
          {
           "hovertemplate": "<b>%{hovertext}</b><br><br>continent=Europe<br>year=2002<br>gdpPercap=%{x}<br>lifeExp=%{y}<br>pop=%{marker.size}<extra></extra>",
           "hovertext": [
            "Albania",
            "Austria",
            "Belgium",
            "Bosnia and Herzegovina",
            "Bulgaria",
            "Croatia",
            "Czech Republic",
            "Denmark",
            "Finland",
            "France",
            "Germany",
            "Greece",
            "Hungary",
            "Iceland",
            "Ireland",
            "Italy",
            "Montenegro",
            "Netherlands",
            "Norway",
            "Poland",
            "Portugal",
            "Romania",
            "Serbia",
            "Slovak Republic",
            "Slovenia",
            "Spain",
            "Sweden",
            "Switzerland",
            "Turkey",
            "United Kingdom"
           ],
           "ids": [
            "Albania",
            "Austria",
            "Belgium",
            "Bosnia and Herzegovina",
            "Bulgaria",
            "Croatia",
            "Czech Republic",
            "Denmark",
            "Finland",
            "France",
            "Germany",
            "Greece",
            "Hungary",
            "Iceland",
            "Ireland",
            "Italy",
            "Montenegro",
            "Netherlands",
            "Norway",
            "Poland",
            "Portugal",
            "Romania",
            "Serbia",
            "Slovak Republic",
            "Slovenia",
            "Spain",
            "Sweden",
            "Switzerland",
            "Turkey",
            "United Kingdom"
           ],
           "legendgroup": "Europe",
           "marker": {
            "color": "#EF553B",
            "size": [
             3508512,
             8148312,
             10311970,
             4165416,
             7661799,
             4481020,
             10256295,
             5374693,
             5193039,
             59925035,
             82350671,
             10603863,
             10083313,
             288030,
             3879155,
             57926999,
             720230,
             16122830,
             4535591,
             38625976,
             10433867,
             22404337,
             10111559,
             5410052,
             2011497,
             40152517,
             8954175,
             7361757,
             67308928,
             59912431
            ],
            "sizemode": "area",
            "sizeref": 435928.2961983471,
            "symbol": "circle"
           },
           "mode": "markers",
           "name": "Europe",
           "orientation": "v",
           "showlegend": true,
           "type": "scatter",
           "x": [
            4604.211737,
            32417.60769,
            30485.88375,
            6018.975239,
            7696.777725,
            11628.38895,
            17596.210219999994,
            32166.50006,
            28204.59057,
            28926.03234,
            30035.80198,
            22514.2548,
            14843.93556,
            31163.20196,
            34077.04939,
            27968.09817,
            6557.194282,
            33724.75778,
            44683.97525,
            12002.23908,
            19970.90787,
            7885.360081,
            7236.075251,
            13638.778369999998,
            20660.01936,
            24835.47166,
            29341.630930000007,
            34480.95771,
            6508.085718,
            29478.99919
           ],
           "xaxis": "x",
           "y": [
            75.65100000000002,
            78.98,
            78.32,
            74.09,
            72.14,
            74.876,
            75.51,
            77.18,
            78.37,
            79.59,
            78.67,
            78.256,
            72.59,
            80.5,
            77.783,
            80.24,
            73.98100000000002,
            78.53,
            79.05,
            74.67,
            77.29,
            71.322,
            73.21300000000002,
            73.8,
            76.66,
            79.78,
            80.04,
            80.62,
            70.845,
            78.471
           ],
           "yaxis": "y"
          },
          {
           "hovertemplate": "<b>%{hovertext}</b><br><br>continent=Africa<br>year=2002<br>gdpPercap=%{x}<br>lifeExp=%{y}<br>pop=%{marker.size}<extra></extra>",
           "hovertext": [
            "Algeria",
            "Angola",
            "Benin",
            "Botswana",
            "Burkina Faso",
            "Burundi",
            "Cameroon",
            "Central African Republic",
            "Chad",
            "Comoros",
            "Congo, Dem. Rep.",
            "Congo, Rep.",
            "Cote d'Ivoire",
            "Djibouti",
            "Egypt",
            "Equatorial Guinea",
            "Eritrea",
            "Ethiopia",
            "Gabon",
            "Gambia",
            "Ghana",
            "Guinea",
            "Guinea-Bissau",
            "Kenya",
            "Lesotho",
            "Liberia",
            "Libya",
            "Madagascar",
            "Malawi",
            "Mali",
            "Mauritania",
            "Mauritius",
            "Morocco",
            "Mozambique",
            "Namibia",
            "Niger",
            "Nigeria",
            "Reunion",
            "Rwanda",
            "Sao Tome and Principe",
            "Senegal",
            "Sierra Leone",
            "Somalia",
            "South Africa",
            "Sudan",
            "Swaziland",
            "Tanzania",
            "Togo",
            "Tunisia",
            "Uganda",
            "Zambia",
            "Zimbabwe"
           ],
           "ids": [
            "Algeria",
            "Angola",
            "Benin",
            "Botswana",
            "Burkina Faso",
            "Burundi",
            "Cameroon",
            "Central African Republic",
            "Chad",
            "Comoros",
            "Congo, Dem. Rep.",
            "Congo, Rep.",
            "Cote d'Ivoire",
            "Djibouti",
            "Egypt",
            "Equatorial Guinea",
            "Eritrea",
            "Ethiopia",
            "Gabon",
            "Gambia",
            "Ghana",
            "Guinea",
            "Guinea-Bissau",
            "Kenya",
            "Lesotho",
            "Liberia",
            "Libya",
            "Madagascar",
            "Malawi",
            "Mali",
            "Mauritania",
            "Mauritius",
            "Morocco",
            "Mozambique",
            "Namibia",
            "Niger",
            "Nigeria",
            "Reunion",
            "Rwanda",
            "Sao Tome and Principe",
            "Senegal",
            "Sierra Leone",
            "Somalia",
            "South Africa",
            "Sudan",
            "Swaziland",
            "Tanzania",
            "Togo",
            "Tunisia",
            "Uganda",
            "Zambia",
            "Zimbabwe"
           ],
           "legendgroup": "Africa",
           "marker": {
            "color": "#00cc96",
            "size": [
             31287142,
             10866106,
             7026113,
             1630347,
             12251209,
             7021078,
             15929988,
             4048013,
             8835739,
             614382,
             55379852,
             3328795,
             16252726,
             447416,
             73312559,
             495627,
             4414865,
             67946797,
             1299304,
             1457766,
             20550751,
             8807818,
             1332459,
             31386842,
             2046772,
             2814651,
             5368585,
             16473477,
             11824495,
             10580176,
             2828858,
             1200206,
             31167783,
             18473780,
             1972153,
             11140655,
             119901274,
             743981,
             7852401,
             170372,
             10870037,
             5359092,
             7753310,
             44433622,
             37090298,
             1130269,
             34593779,
             4977378,
             9770575,
             24739869,
             10595811,
             11926563
            ],
            "sizemode": "area",
            "sizeref": 435928.2961983471,
            "symbol": "circle"
           },
           "mode": "markers",
           "name": "Africa",
           "orientation": "v",
           "showlegend": true,
           "type": "scatter",
           "x": [
            5288.040382,
            2773.287312,
            1372.877931,
            11003.60508,
            1037.645221,
            446.4035126,
            1934.011449,
            738.6906068,
            1156.18186,
            1075.811558,
            241.1658765,
            3484.06197,
            1648.800823,
            1908.260867,
            4754.604414,
            7703.4959,
            765.3500015,
            530.0535319,
            12521.71392,
            660.5855997,
            1111.9845779999996,
            945.5835837,
            575.7047176,
            1287.514732,
            1275.184575,
            531.4823679,
            9534.677467,
            894.6370822,
            665.4231186000002,
            951.4097518,
            1579.019543,
            9021.815894,
            3258.495584,
            633.6179466,
            4072.324751,
            601.0745012,
            1615.286395,
            6316.1652,
            785.6537647999999,
            1353.09239,
            1519.635262,
            699.4897129999998,
            882.0818218000002,
            7710.946444,
            1993.398314,
            4128.116943,
            899.0742111,
            886.2205765000001,
            5722.895654999998,
            927.7210018,
            1071.6139380000004,
            672.0386227000001
           ],
           "xaxis": "x",
           "y": [
            70.994,
            41.003,
            54.40600000000001,
            46.63399999999999,
            50.65,
            47.36,
            49.856,
            43.308,
            50.525,
            62.974,
            44.966,
            52.97,
            46.832,
            53.37300000000001,
            69.806,
            49.348,
            55.24,
            50.725,
            56.761,
            58.041,
            58.453,
            53.676,
            45.504,
            50.992,
            44.593,
            43.753,
            72.737,
            57.286,
            45.00899999999999,
            51.81800000000001,
            62.247,
            71.954,
            69.615,
            44.026,
            51.479,
            54.496,
            46.608,
            75.744,
            43.413,
            64.337,
            61.6,
            41.012,
            45.93600000000001,
            53.365,
            56.369,
            43.869,
            49.651,
            57.56100000000001,
            73.042,
            47.813,
            39.19300000000001,
            39.989
           ],
           "yaxis": "y"
          },
          {
           "hovertemplate": "<b>%{hovertext}</b><br><br>continent=Americas<br>year=2002<br>gdpPercap=%{x}<br>lifeExp=%{y}<br>pop=%{marker.size}<extra></extra>",
           "hovertext": [
            "Argentina",
            "Bolivia",
            "Brazil",
            "Canada",
            "Chile",
            "Colombia",
            "Costa Rica",
            "Cuba",
            "Dominican Republic",
            "Ecuador",
            "El Salvador",
            "Guatemala",
            "Haiti",
            "Honduras",
            "Jamaica",
            "Mexico",
            "Nicaragua",
            "Panama",
            "Paraguay",
            "Peru",
            "Puerto Rico",
            "Trinidad and Tobago",
            "United States",
            "Uruguay",
            "Venezuela"
           ],
           "ids": [
            "Argentina",
            "Bolivia",
            "Brazil",
            "Canada",
            "Chile",
            "Colombia",
            "Costa Rica",
            "Cuba",
            "Dominican Republic",
            "Ecuador",
            "El Salvador",
            "Guatemala",
            "Haiti",
            "Honduras",
            "Jamaica",
            "Mexico",
            "Nicaragua",
            "Panama",
            "Paraguay",
            "Peru",
            "Puerto Rico",
            "Trinidad and Tobago",
            "United States",
            "Uruguay",
            "Venezuela"
           ],
           "legendgroup": "Americas",
           "marker": {
            "color": "#ab63fa",
            "size": [
             38331121,
             8445134,
             179914212,
             31902268,
             15497046,
             41008227,
             3834934,
             11226999,
             8650322,
             12921234,
             6353681,
             11178650,
             7607651,
             6677328,
             2664659,
             102479927,
             5146848,
             2990875,
             5884491,
             26769436,
             3859606,
             1101832,
             287675526,
             3363085,
             24287670
            ],
            "sizemode": "area",
            "sizeref": 435928.2961983471,
            "symbol": "circle"
           },
           "mode": "markers",
           "name": "Americas",
           "orientation": "v",
           "showlegend": true,
           "type": "scatter",
           "x": [
            8797.640716,
            3413.26269,
            8131.212843000001,
            33328.96507,
            10778.78385,
            5755.259962,
            7723.447195000002,
            6340.646683,
            4563.808154,
            5773.044512,
            5351.568665999999,
            4858.347495,
            1270.364932,
            3099.72866,
            6994.774861,
            10742.44053,
            2474.548819,
            7356.0319340000015,
            3783.674243,
            5909.020073,
            18855.60618,
            11460.60023,
            39097.09955,
            7727.002004000001,
            8605.047831
           ],
           "xaxis": "x",
           "y": [
            74.34,
            63.883,
            71.006,
            79.77,
            77.86,
            71.682,
            78.123,
            77.158,
            70.847,
            74.173,
            70.734,
            68.97800000000001,
            58.137,
            68.565,
            72.047,
            74.902,
            70.836,
            74.712,
            70.755,
            69.906,
            77.778,
            68.976,
            77.31,
            75.307,
            72.766
           ],
           "yaxis": "y"
          },
          {
           "hovertemplate": "<b>%{hovertext}</b><br><br>continent=Oceania<br>year=2002<br>gdpPercap=%{x}<br>lifeExp=%{y}<br>pop=%{marker.size}<extra></extra>",
           "hovertext": [
            "Australia",
            "New Zealand"
           ],
           "ids": [
            "Australia",
            "New Zealand"
           ],
           "legendgroup": "Oceania",
           "marker": {
            "color": "#FFA15A",
            "size": [
             19546792,
             3908037
            ],
            "sizemode": "area",
            "sizeref": 435928.2961983471,
            "symbol": "circle"
           },
           "mode": "markers",
           "name": "Oceania",
           "orientation": "v",
           "showlegend": true,
           "type": "scatter",
           "x": [
            30687.75473,
            23189.80135
           ],
           "xaxis": "x",
           "y": [
            80.37,
            79.11
           ],
           "yaxis": "y"
          }
         ],
         "name": "2002"
        },
        {
         "data": [
          {
           "hovertemplate": "<b>%{hovertext}</b><br><br>continent=Asia<br>year=2007<br>gdpPercap=%{x}<br>lifeExp=%{y}<br>pop=%{marker.size}<extra></extra>",
           "hovertext": [
            "Afghanistan",
            "Bahrain",
            "Bangladesh",
            "Cambodia",
            "China",
            "Hong Kong, China",
            "India",
            "Indonesia",
            "Iran",
            "Iraq",
            "Israel",
            "Japan",
            "Jordan",
            "Korea, Dem. Rep.",
            "Korea, Rep.",
            "Kuwait",
            "Lebanon",
            "Malaysia",
            "Mongolia",
            "Myanmar",
            "Nepal",
            "Oman",
            "Pakistan",
            "Philippines",
            "Saudi Arabia",
            "Singapore",
            "Sri Lanka",
            "Syria",
            "Taiwan",
            "Thailand",
            "Vietnam",
            "West Bank and Gaza",
            "Yemen, Rep."
           ],
           "ids": [
            "Afghanistan",
            "Bahrain",
            "Bangladesh",
            "Cambodia",
            "China",
            "Hong Kong, China",
            "India",
            "Indonesia",
            "Iran",
            "Iraq",
            "Israel",
            "Japan",
            "Jordan",
            "Korea, Dem. Rep.",
            "Korea, Rep.",
            "Kuwait",
            "Lebanon",
            "Malaysia",
            "Mongolia",
            "Myanmar",
            "Nepal",
            "Oman",
            "Pakistan",
            "Philippines",
            "Saudi Arabia",
            "Singapore",
            "Sri Lanka",
            "Syria",
            "Taiwan",
            "Thailand",
            "Vietnam",
            "West Bank and Gaza",
            "Yemen, Rep."
           ],
           "legendgroup": "Asia",
           "marker": {
            "color": "#636efa",
            "size": [
             31889923,
             708573,
             150448339,
             14131858,
             1318683096,
             6980412,
             1110396331,
             223547000,
             69453570,
             27499638,
             6426679,
             127467972,
             6053193,
             23301725,
             49044790,
             2505559,
             3921278,
             24821286,
             2874127,
             47761980,
             28901790,
             3204897,
             169270617,
             91077287,
             27601038,
             4553009,
             20378239,
             19314747,
             23174294,
             65068149,
             85262356,
             4018332,
             22211743
            ],
            "sizemode": "area",
            "sizeref": 435928.2961983471,
            "symbol": "circle"
           },
           "mode": "markers",
           "name": "Asia",
           "orientation": "v",
           "showlegend": true,
           "type": "scatter",
           "x": [
            974.5803384,
            29796.04834,
            1391.253792,
            1713.778686,
            4959.114854,
            39724.97867,
            2452.210407,
            3540.651564,
            11605.71449,
            4471.061906,
            25523.2771,
            31656.06806,
            4519.461171,
            1593.06548,
            23348.139730000006,
            47306.98978,
            10461.05868,
            12451.6558,
            3095.7722710000007,
            944,
            1091.359778,
            22316.19287,
            2605.94758,
            3190.481016,
            21654.83194,
            47143.17964,
            3970.095407,
            4184.548089,
            28718.27684,
            7458.396326999998,
            2441.576404,
            3025.349798,
            2280.769906
           ],
           "xaxis": "x",
           "y": [
            43.828,
            75.635,
            64.062,
            59.723,
            72.961,
            82.208,
            64.69800000000001,
            70.65,
            70.964,
            59.545,
            80.745,
            82.603,
            72.535,
            67.297,
            78.623,
            77.58800000000002,
            71.993,
            74.241,
            66.803,
            62.069,
            63.785,
            75.64,
            65.483,
            71.688,
            72.777,
            79.972,
            72.396,
            74.143,
            78.4,
            70.616,
            74.249,
            73.422,
            62.698
           ],
           "yaxis": "y"
          },
          {
           "hovertemplate": "<b>%{hovertext}</b><br><br>continent=Europe<br>year=2007<br>gdpPercap=%{x}<br>lifeExp=%{y}<br>pop=%{marker.size}<extra></extra>",
           "hovertext": [
            "Albania",
            "Austria",
            "Belgium",
            "Bosnia and Herzegovina",
            "Bulgaria",
            "Croatia",
            "Czech Republic",
            "Denmark",
            "Finland",
            "France",
            "Germany",
            "Greece",
            "Hungary",
            "Iceland",
            "Ireland",
            "Italy",
            "Montenegro",
            "Netherlands",
            "Norway",
            "Poland",
            "Portugal",
            "Romania",
            "Serbia",
            "Slovak Republic",
            "Slovenia",
            "Spain",
            "Sweden",
            "Switzerland",
            "Turkey",
            "United Kingdom"
           ],
           "ids": [
            "Albania",
            "Austria",
            "Belgium",
            "Bosnia and Herzegovina",
            "Bulgaria",
            "Croatia",
            "Czech Republic",
            "Denmark",
            "Finland",
            "France",
            "Germany",
            "Greece",
            "Hungary",
            "Iceland",
            "Ireland",
            "Italy",
            "Montenegro",
            "Netherlands",
            "Norway",
            "Poland",
            "Portugal",
            "Romania",
            "Serbia",
            "Slovak Republic",
            "Slovenia",
            "Spain",
            "Sweden",
            "Switzerland",
            "Turkey",
            "United Kingdom"
           ],
           "legendgroup": "Europe",
           "marker": {
            "color": "#EF553B",
            "size": [
             3600523,
             8199783,
             10392226,
             4552198,
             7322858,
             4493312,
             10228744,
             5468120,
             5238460,
             61083916,
             82400996,
             10706290,
             9956108,
             301931,
             4109086,
             58147733,
             684736,
             16570613,
             4627926,
             38518241,
             10642836,
             22276056,
             10150265,
             5447502,
             2009245,
             40448191,
             9031088,
             7554661,
             71158647,
             60776238
            ],
            "sizemode": "area",
            "sizeref": 435928.2961983471,
            "symbol": "circle"
           },
           "mode": "markers",
           "name": "Europe",
           "orientation": "v",
           "showlegend": true,
           "type": "scatter",
           "x": [
            5937.029525999998,
            36126.4927,
            33692.60508,
            7446.298803,
            10680.79282,
            14619.222719999998,
            22833.30851,
            35278.41874,
            33207.0844,
            30470.0167,
            32170.37442,
            27538.41188,
            18008.94444,
            36180.78919,
            40675.99635,
            28569.7197,
            9253.896111,
            36797.93332,
            49357.19017,
            15389.924680000002,
            20509.64777,
            10808.47561,
            9786.534714,
            18678.31435,
            25768.25759,
            28821.0637,
            33859.74835,
            37506.41907,
            8458.276384,
            33203.26128
           ],
           "xaxis": "x",
           "y": [
            76.423,
            79.829,
            79.441,
            74.852,
            73.005,
            75.748,
            76.486,
            78.332,
            79.313,
            80.657,
            79.406,
            79.483,
            73.33800000000002,
            81.757,
            78.885,
            80.546,
            74.543,
            79.762,
            80.196,
            75.563,
            78.098,
            72.476,
            74.002,
            74.663,
            77.926,
            80.941,
            80.884,
            81.70100000000002,
            71.777,
            79.425
           ],
           "yaxis": "y"
          },
          {
           "hovertemplate": "<b>%{hovertext}</b><br><br>continent=Africa<br>year=2007<br>gdpPercap=%{x}<br>lifeExp=%{y}<br>pop=%{marker.size}<extra></extra>",
           "hovertext": [
            "Algeria",
            "Angola",
            "Benin",
            "Botswana",
            "Burkina Faso",
            "Burundi",
            "Cameroon",
            "Central African Republic",
            "Chad",
            "Comoros",
            "Congo, Dem. Rep.",
            "Congo, Rep.",
            "Cote d'Ivoire",
            "Djibouti",
            "Egypt",
            "Equatorial Guinea",
            "Eritrea",
            "Ethiopia",
            "Gabon",
            "Gambia",
            "Ghana",
            "Guinea",
            "Guinea-Bissau",
            "Kenya",
            "Lesotho",
            "Liberia",
            "Libya",
            "Madagascar",
            "Malawi",
            "Mali",
            "Mauritania",
            "Mauritius",
            "Morocco",
            "Mozambique",
            "Namibia",
            "Niger",
            "Nigeria",
            "Reunion",
            "Rwanda",
            "Sao Tome and Principe",
            "Senegal",
            "Sierra Leone",
            "Somalia",
            "South Africa",
            "Sudan",
            "Swaziland",
            "Tanzania",
            "Togo",
            "Tunisia",
            "Uganda",
            "Zambia",
            "Zimbabwe"
           ],
           "ids": [
            "Algeria",
            "Angola",
            "Benin",
            "Botswana",
            "Burkina Faso",
            "Burundi",
            "Cameroon",
            "Central African Republic",
            "Chad",
            "Comoros",
            "Congo, Dem. Rep.",
            "Congo, Rep.",
            "Cote d'Ivoire",
            "Djibouti",
            "Egypt",
            "Equatorial Guinea",
            "Eritrea",
            "Ethiopia",
            "Gabon",
            "Gambia",
            "Ghana",
            "Guinea",
            "Guinea-Bissau",
            "Kenya",
            "Lesotho",
            "Liberia",
            "Libya",
            "Madagascar",
            "Malawi",
            "Mali",
            "Mauritania",
            "Mauritius",
            "Morocco",
            "Mozambique",
            "Namibia",
            "Niger",
            "Nigeria",
            "Reunion",
            "Rwanda",
            "Sao Tome and Principe",
            "Senegal",
            "Sierra Leone",
            "Somalia",
            "South Africa",
            "Sudan",
            "Swaziland",
            "Tanzania",
            "Togo",
            "Tunisia",
            "Uganda",
            "Zambia",
            "Zimbabwe"
           ],
           "legendgroup": "Africa",
           "marker": {
            "color": "#00cc96",
            "size": [
             33333216,
             12420476,
             8078314,
             1639131,
             14326203,
             8390505,
             17696293,
             4369038,
             10238807,
             710960,
             64606759,
             3800610,
             18013409,
             496374,
             80264543,
             551201,
             4906585,
             76511887,
             1454867,
             1688359,
             22873338,
             9947814,
             1472041,
             35610177,
             2012649,
             3193942,
             6036914,
             19167654,
             13327079,
             12031795,
             3270065,
             1250882,
             33757175,
             19951656,
             2055080,
             12894865,
             135031164,
             798094,
             8860588,
             199579,
             12267493,
             6144562,
             9118773,
             43997828,
             42292929,
             1133066,
             38139640,
             5701579,
             10276158,
             29170398,
             11746035,
             12311143
            ],
            "sizemode": "area",
            "sizeref": 435928.2961983471,
            "symbol": "circle"
           },
           "mode": "markers",
           "name": "Africa",
           "orientation": "v",
           "showlegend": true,
           "type": "scatter",
           "x": [
            6223.367465,
            4797.231267,
            1441.284873,
            12569.85177,
            1217.032994,
            430.0706916,
            2042.09524,
            706.016537,
            1704.063724,
            986.1478792,
            277.5518587,
            3632.557798,
            1544.750112,
            2082.4815670000007,
            5581.180998,
            12154.08975,
            641.3695236000002,
            690.8055759,
            13206.48452,
            752.7497265,
            1327.60891,
            942.6542111,
            579.2317429999998,
            1463.249282,
            1569.331442,
            414.5073415,
            12057.49928,
            1044.770126,
            759.3499101,
            1042.581557,
            1803.151496,
            10956.99112,
            3820.17523,
            823.6856205,
            4811.060429,
            619.6768923999998,
            2013.977305,
            7670.122558,
            863.0884639000002,
            1598.435089,
            1712.472136,
            862.5407561000002,
            926.1410683,
            9269.657808,
            2602.394995,
            4513.480643,
            1107.482182,
            882.9699437999999,
            7092.923025,
            1056.380121,
            1271.211593,
            469.70929810000007
           ],
           "xaxis": "x",
           "y": [
            72.301,
            42.731,
            56.728,
            50.728,
            52.295,
            49.58,
            50.43,
            44.74100000000001,
            50.651,
            65.152,
            46.462,
            55.322,
            48.328,
            54.791,
            71.33800000000002,
            51.57899999999999,
            58.04,
            52.947,
            56.735,
            59.448,
            60.022,
            56.007,
            46.38800000000001,
            54.11,
            42.592,
            45.678,
            73.952,
            59.44300000000001,
            48.303,
            54.467,
            64.164,
            72.801,
            71.164,
            42.082,
            52.90600000000001,
            56.867,
            46.859,
            76.442,
            46.242,
            65.528,
            63.062,
            42.56800000000001,
            48.159,
            49.339,
            58.556,
            39.613,
            52.517,
            58.42,
            73.923,
            51.542,
            42.38399999999999,
            43.487
           ],
           "yaxis": "y"
          },
          {
           "hovertemplate": "<b>%{hovertext}</b><br><br>continent=Americas<br>year=2007<br>gdpPercap=%{x}<br>lifeExp=%{y}<br>pop=%{marker.size}<extra></extra>",
           "hovertext": [
            "Argentina",
            "Bolivia",
            "Brazil",
            "Canada",
            "Chile",
            "Colombia",
            "Costa Rica",
            "Cuba",
            "Dominican Republic",
            "Ecuador",
            "El Salvador",
            "Guatemala",
            "Haiti",
            "Honduras",
            "Jamaica",
            "Mexico",
            "Nicaragua",
            "Panama",
            "Paraguay",
            "Peru",
            "Puerto Rico",
            "Trinidad and Tobago",
            "United States",
            "Uruguay",
            "Venezuela"
           ],
           "ids": [
            "Argentina",
            "Bolivia",
            "Brazil",
            "Canada",
            "Chile",
            "Colombia",
            "Costa Rica",
            "Cuba",
            "Dominican Republic",
            "Ecuador",
            "El Salvador",
            "Guatemala",
            "Haiti",
            "Honduras",
            "Jamaica",
            "Mexico",
            "Nicaragua",
            "Panama",
            "Paraguay",
            "Peru",
            "Puerto Rico",
            "Trinidad and Tobago",
            "United States",
            "Uruguay",
            "Venezuela"
           ],
           "legendgroup": "Americas",
           "marker": {
            "color": "#ab63fa",
            "size": [
             40301927,
             9119152,
             190010647,
             33390141,
             16284741,
             44227550,
             4133884,
             11416987,
             9319622,
             13755680,
             6939688,
             12572928,
             8502814,
             7483763,
             2780132,
             108700891,
             5675356,
             3242173,
             6667147,
             28674757,
             3942491,
             1056608,
             301139947,
             3447496,
             26084662
            ],
            "sizemode": "area",
            "sizeref": 435928.2961983471,
            "symbol": "circle"
           },
           "mode": "markers",
           "name": "Americas",
           "orientation": "v",
           "showlegend": true,
           "type": "scatter",
           "x": [
            12779.37964,
            3822.137084,
            9065.800825,
            36319.23501,
            13171.63885,
            7006.580419,
            9645.06142,
            8948.102923,
            6025.3747520000015,
            6873.262326000001,
            5728.353514,
            5186.050003,
            1201.637154,
            3548.3308460000007,
            7320.8802620000015,
            11977.57496,
            2749.320965,
            9809.185636,
            4172.838464,
            7408.905561,
            19328.70901,
            18008.50924,
            42951.65309,
            10611.46299,
            11415.80569
           ],
           "xaxis": "x",
           "y": [
            75.32,
            65.554,
            72.39,
            80.653,
            78.553,
            72.889,
            78.782,
            78.273,
            72.235,
            74.994,
            71.878,
            70.259,
            60.916,
            70.19800000000001,
            72.567,
            76.195,
            72.899,
            75.53699999999998,
            71.752,
            71.421,
            78.74600000000002,
            69.819,
            78.242,
            76.384,
            73.747
           ],
           "yaxis": "y"
          },
          {
           "hovertemplate": "<b>%{hovertext}</b><br><br>continent=Oceania<br>year=2007<br>gdpPercap=%{x}<br>lifeExp=%{y}<br>pop=%{marker.size}<extra></extra>",
           "hovertext": [
            "Australia",
            "New Zealand"
           ],
           "ids": [
            "Australia",
            "New Zealand"
           ],
           "legendgroup": "Oceania",
           "marker": {
            "color": "#FFA15A",
            "size": [
             20434176,
             4115771
            ],
            "sizemode": "area",
            "sizeref": 435928.2961983471,
            "symbol": "circle"
           },
           "mode": "markers",
           "name": "Oceania",
           "orientation": "v",
           "showlegend": true,
           "type": "scatter",
           "x": [
            34435.367439999995,
            25185.00911
           ],
           "xaxis": "x",
           "y": [
            81.235,
            80.204
           ],
           "yaxis": "y"
          }
         ],
         "name": "2007"
        }
       ],
       "layout": {
        "autosize": true,
        "legend": {
         "itemsizing": "constant",
         "title": {
          "text": "continent"
         },
         "tracegroupgap": 0
        },
        "margin": {
         "t": 60
        },
        "sliders": [
         {
          "active": 7,
          "currentvalue": {
           "prefix": "year="
          },
          "len": 0.9,
          "pad": {
           "b": 10,
           "t": 60
          },
          "steps": [
           {
            "args": [
             [
              "1952"
             ],
             {
              "frame": {
               "duration": 0,
               "redraw": false
              },
              "fromcurrent": true,
              "mode": "immediate",
              "transition": {
               "duration": 0,
               "easing": "linear"
              }
             }
            ],
            "label": "1952",
            "method": "animate"
           },
           {
            "args": [
             [
              "1957"
             ],
             {
              "frame": {
               "duration": 0,
               "redraw": false
              },
              "fromcurrent": true,
              "mode": "immediate",
              "transition": {
               "duration": 0,
               "easing": "linear"
              }
             }
            ],
            "label": "1957",
            "method": "animate"
           },
           {
            "args": [
             [
              "1962"
             ],
             {
              "frame": {
               "duration": 0,
               "redraw": false
              },
              "fromcurrent": true,
              "mode": "immediate",
              "transition": {
               "duration": 0,
               "easing": "linear"
              }
             }
            ],
            "label": "1962",
            "method": "animate"
           },
           {
            "args": [
             [
              "1967"
             ],
             {
              "frame": {
               "duration": 0,
               "redraw": false
              },
              "fromcurrent": true,
              "mode": "immediate",
              "transition": {
               "duration": 0,
               "easing": "linear"
              }
             }
            ],
            "label": "1967",
            "method": "animate"
           },
           {
            "args": [
             [
              "1972"
             ],
             {
              "frame": {
               "duration": 0,
               "redraw": false
              },
              "fromcurrent": true,
              "mode": "immediate",
              "transition": {
               "duration": 0,
               "easing": "linear"
              }
             }
            ],
            "label": "1972",
            "method": "animate"
           },
           {
            "args": [
             [
              "1977"
             ],
             {
              "frame": {
               "duration": 0,
               "redraw": false
              },
              "fromcurrent": true,
              "mode": "immediate",
              "transition": {
               "duration": 0,
               "easing": "linear"
              }
             }
            ],
            "label": "1977",
            "method": "animate"
           },
           {
            "args": [
             [
              "1982"
             ],
             {
              "frame": {
               "duration": 0,
               "redraw": false
              },
              "fromcurrent": true,
              "mode": "immediate",
              "transition": {
               "duration": 0,
               "easing": "linear"
              }
             }
            ],
            "label": "1982",
            "method": "animate"
           },
           {
            "args": [
             [
              "1987"
             ],
             {
              "frame": {
               "duration": 0,
               "redraw": false
              },
              "fromcurrent": true,
              "mode": "immediate",
              "transition": {
               "duration": 0,
               "easing": "linear"
              }
             }
            ],
            "label": "1987",
            "method": "animate"
           },
           {
            "args": [
             [
              "1992"
             ],
             {
              "frame": {
               "duration": 0,
               "redraw": false
              },
              "fromcurrent": true,
              "mode": "immediate",
              "transition": {
               "duration": 0,
               "easing": "linear"
              }
             }
            ],
            "label": "1992",
            "method": "animate"
           },
           {
            "args": [
             [
              "1997"
             ],
             {
              "frame": {
               "duration": 0,
               "redraw": false
              },
              "fromcurrent": true,
              "mode": "immediate",
              "transition": {
               "duration": 0,
               "easing": "linear"
              }
             }
            ],
            "label": "1997",
            "method": "animate"
           },
           {
            "args": [
             [
              "2002"
             ],
             {
              "frame": {
               "duration": 0,
               "redraw": false
              },
              "fromcurrent": true,
              "mode": "immediate",
              "transition": {
               "duration": 0,
               "easing": "linear"
              }
             }
            ],
            "label": "2002",
            "method": "animate"
           },
           {
            "args": [
             [
              "2007"
             ],
             {
              "frame": {
               "duration": 0,
               "redraw": false
              },
              "fromcurrent": true,
              "mode": "immediate",
              "transition": {
               "duration": 0,
               "easing": "linear"
              }
             }
            ],
            "label": "2007",
            "method": "animate"
           }
          ],
          "x": 0.1,
          "xanchor": "left",
          "y": 0,
          "yanchor": "top"
         }
        ],
        "template": {
         "data": {
          "bar": [
           {
            "error_x": {
             "color": "#2a3f5f"
            },
            "error_y": {
             "color": "#2a3f5f"
            },
            "marker": {
             "line": {
              "color": "#E5ECF6",
              "width": 0.5
             },
             "pattern": {
              "fillmode": "overlay",
              "size": 10,
              "solidity": 0.2
             }
            },
            "type": "bar"
           }
          ],
          "barpolar": [
           {
            "marker": {
             "line": {
              "color": "#E5ECF6",
              "width": 0.5
             },
             "pattern": {
              "fillmode": "overlay",
              "size": 10,
              "solidity": 0.2
             }
            },
            "type": "barpolar"
           }
          ],
          "carpet": [
           {
            "aaxis": {
             "endlinecolor": "#2a3f5f",
             "gridcolor": "white",
             "linecolor": "white",
             "minorgridcolor": "white",
             "startlinecolor": "#2a3f5f"
            },
            "baxis": {
             "endlinecolor": "#2a3f5f",
             "gridcolor": "white",
             "linecolor": "white",
             "minorgridcolor": "white",
             "startlinecolor": "#2a3f5f"
            },
            "type": "carpet"
           }
          ],
          "choropleth": [
           {
            "colorbar": {
             "outlinewidth": 0,
             "ticks": ""
            },
            "type": "choropleth"
           }
          ],
          "contour": [
           {
            "colorbar": {
             "outlinewidth": 0,
             "ticks": ""
            },
            "colorscale": [
             [
              0,
              "#0d0887"
             ],
             [
              0.1111111111111111,
              "#46039f"
             ],
             [
              0.2222222222222222,
              "#7201a8"
             ],
             [
              0.3333333333333333,
              "#9c179e"
             ],
             [
              0.4444444444444444,
              "#bd3786"
             ],
             [
              0.5555555555555556,
              "#d8576b"
             ],
             [
              0.6666666666666666,
              "#ed7953"
             ],
             [
              0.7777777777777778,
              "#fb9f3a"
             ],
             [
              0.8888888888888888,
              "#fdca26"
             ],
             [
              1,
              "#f0f921"
             ]
            ],
            "type": "contour"
           }
          ],
          "contourcarpet": [
           {
            "colorbar": {
             "outlinewidth": 0,
             "ticks": ""
            },
            "type": "contourcarpet"
           }
          ],
          "heatmap": [
           {
            "colorbar": {
             "outlinewidth": 0,
             "ticks": ""
            },
            "colorscale": [
             [
              0,
              "#0d0887"
             ],
             [
              0.1111111111111111,
              "#46039f"
             ],
             [
              0.2222222222222222,
              "#7201a8"
             ],
             [
              0.3333333333333333,
              "#9c179e"
             ],
             [
              0.4444444444444444,
              "#bd3786"
             ],
             [
              0.5555555555555556,
              "#d8576b"
             ],
             [
              0.6666666666666666,
              "#ed7953"
             ],
             [
              0.7777777777777778,
              "#fb9f3a"
             ],
             [
              0.8888888888888888,
              "#fdca26"
             ],
             [
              1,
              "#f0f921"
             ]
            ],
            "type": "heatmap"
           }
          ],
          "heatmapgl": [
           {
            "colorbar": {
             "outlinewidth": 0,
             "ticks": ""
            },
            "colorscale": [
             [
              0,
              "#0d0887"
             ],
             [
              0.1111111111111111,
              "#46039f"
             ],
             [
              0.2222222222222222,
              "#7201a8"
             ],
             [
              0.3333333333333333,
              "#9c179e"
             ],
             [
              0.4444444444444444,
              "#bd3786"
             ],
             [
              0.5555555555555556,
              "#d8576b"
             ],
             [
              0.6666666666666666,
              "#ed7953"
             ],
             [
              0.7777777777777778,
              "#fb9f3a"
             ],
             [
              0.8888888888888888,
              "#fdca26"
             ],
             [
              1,
              "#f0f921"
             ]
            ],
            "type": "heatmapgl"
           }
          ],
          "histogram": [
           {
            "marker": {
             "pattern": {
              "fillmode": "overlay",
              "size": 10,
              "solidity": 0.2
             }
            },
            "type": "histogram"
           }
          ],
          "histogram2d": [
           {
            "colorbar": {
             "outlinewidth": 0,
             "ticks": ""
            },
            "colorscale": [
             [
              0,
              "#0d0887"
             ],
             [
              0.1111111111111111,
              "#46039f"
             ],
             [
              0.2222222222222222,
              "#7201a8"
             ],
             [
              0.3333333333333333,
              "#9c179e"
             ],
             [
              0.4444444444444444,
              "#bd3786"
             ],
             [
              0.5555555555555556,
              "#d8576b"
             ],
             [
              0.6666666666666666,
              "#ed7953"
             ],
             [
              0.7777777777777778,
              "#fb9f3a"
             ],
             [
              0.8888888888888888,
              "#fdca26"
             ],
             [
              1,
              "#f0f921"
             ]
            ],
            "type": "histogram2d"
           }
          ],
          "histogram2dcontour": [
           {
            "colorbar": {
             "outlinewidth": 0,
             "ticks": ""
            },
            "colorscale": [
             [
              0,
              "#0d0887"
             ],
             [
              0.1111111111111111,
              "#46039f"
             ],
             [
              0.2222222222222222,
              "#7201a8"
             ],
             [
              0.3333333333333333,
              "#9c179e"
             ],
             [
              0.4444444444444444,
              "#bd3786"
             ],
             [
              0.5555555555555556,
              "#d8576b"
             ],
             [
              0.6666666666666666,
              "#ed7953"
             ],
             [
              0.7777777777777778,
              "#fb9f3a"
             ],
             [
              0.8888888888888888,
              "#fdca26"
             ],
             [
              1,
              "#f0f921"
             ]
            ],
            "type": "histogram2dcontour"
           }
          ],
          "mesh3d": [
           {
            "colorbar": {
             "outlinewidth": 0,
             "ticks": ""
            },
            "type": "mesh3d"
           }
          ],
          "parcoords": [
           {
            "line": {
             "colorbar": {
              "outlinewidth": 0,
              "ticks": ""
             }
            },
            "type": "parcoords"
           }
          ],
          "pie": [
           {
            "automargin": true,
            "type": "pie"
           }
          ],
          "scatter": [
           {
            "fillpattern": {
             "fillmode": "overlay",
             "size": 10,
             "solidity": 0.2
            },
            "type": "scatter"
           }
          ],
          "scatter3d": [
           {
            "line": {
             "colorbar": {
              "outlinewidth": 0,
              "ticks": ""
             }
            },
            "marker": {
             "colorbar": {
              "outlinewidth": 0,
              "ticks": ""
             }
            },
            "type": "scatter3d"
           }
          ],
          "scattercarpet": [
           {
            "marker": {
             "colorbar": {
              "outlinewidth": 0,
              "ticks": ""
             }
            },
            "type": "scattercarpet"
           }
          ],
          "scattergeo": [
           {
            "marker": {
             "colorbar": {
              "outlinewidth": 0,
              "ticks": ""
             }
            },
            "type": "scattergeo"
           }
          ],
          "scattergl": [
           {
            "marker": {
             "colorbar": {
              "outlinewidth": 0,
              "ticks": ""
             }
            },
            "type": "scattergl"
           }
          ],
          "scattermapbox": [
           {
            "marker": {
             "colorbar": {
              "outlinewidth": 0,
              "ticks": ""
             }
            },
            "type": "scattermapbox"
           }
          ],
          "scatterpolar": [
           {
            "marker": {
             "colorbar": {
              "outlinewidth": 0,
              "ticks": ""
             }
            },
            "type": "scatterpolar"
           }
          ],
          "scatterpolargl": [
           {
            "marker": {
             "colorbar": {
              "outlinewidth": 0,
              "ticks": ""
             }
            },
            "type": "scatterpolargl"
           }
          ],
          "scatterternary": [
           {
            "marker": {
             "colorbar": {
              "outlinewidth": 0,
              "ticks": ""
             }
            },
            "type": "scatterternary"
           }
          ],
          "surface": [
           {
            "colorbar": {
             "outlinewidth": 0,
             "ticks": ""
            },
            "colorscale": [
             [
              0,
              "#0d0887"
             ],
             [
              0.1111111111111111,
              "#46039f"
             ],
             [
              0.2222222222222222,
              "#7201a8"
             ],
             [
              0.3333333333333333,
              "#9c179e"
             ],
             [
              0.4444444444444444,
              "#bd3786"
             ],
             [
              0.5555555555555556,
              "#d8576b"
             ],
             [
              0.6666666666666666,
              "#ed7953"
             ],
             [
              0.7777777777777778,
              "#fb9f3a"
             ],
             [
              0.8888888888888888,
              "#fdca26"
             ],
             [
              1,
              "#f0f921"
             ]
            ],
            "type": "surface"
           }
          ],
          "table": [
           {
            "cells": {
             "fill": {
              "color": "#EBF0F8"
             },
             "line": {
              "color": "white"
             }
            },
            "header": {
             "fill": {
              "color": "#C8D4E3"
             },
             "line": {
              "color": "white"
             }
            },
            "type": "table"
           }
          ]
         },
         "layout": {
          "annotationdefaults": {
           "arrowcolor": "#2a3f5f",
           "arrowhead": 0,
           "arrowwidth": 1
          },
          "autotypenumbers": "strict",
          "coloraxis": {
           "colorbar": {
            "outlinewidth": 0,
            "ticks": ""
           }
          },
          "colorscale": {
           "diverging": [
            [
             0,
             "#8e0152"
            ],
            [
             0.1,
             "#c51b7d"
            ],
            [
             0.2,
             "#de77ae"
            ],
            [
             0.3,
             "#f1b6da"
            ],
            [
             0.4,
             "#fde0ef"
            ],
            [
             0.5,
             "#f7f7f7"
            ],
            [
             0.6,
             "#e6f5d0"
            ],
            [
             0.7,
             "#b8e186"
            ],
            [
             0.8,
             "#7fbc41"
            ],
            [
             0.9,
             "#4d9221"
            ],
            [
             1,
             "#276419"
            ]
           ],
           "sequential": [
            [
             0,
             "#0d0887"
            ],
            [
             0.1111111111111111,
             "#46039f"
            ],
            [
             0.2222222222222222,
             "#7201a8"
            ],
            [
             0.3333333333333333,
             "#9c179e"
            ],
            [
             0.4444444444444444,
             "#bd3786"
            ],
            [
             0.5555555555555556,
             "#d8576b"
            ],
            [
             0.6666666666666666,
             "#ed7953"
            ],
            [
             0.7777777777777778,
             "#fb9f3a"
            ],
            [
             0.8888888888888888,
             "#fdca26"
            ],
            [
             1,
             "#f0f921"
            ]
           ],
           "sequentialminus": [
            [
             0,
             "#0d0887"
            ],
            [
             0.1111111111111111,
             "#46039f"
            ],
            [
             0.2222222222222222,
             "#7201a8"
            ],
            [
             0.3333333333333333,
             "#9c179e"
            ],
            [
             0.4444444444444444,
             "#bd3786"
            ],
            [
             0.5555555555555556,
             "#d8576b"
            ],
            [
             0.6666666666666666,
             "#ed7953"
            ],
            [
             0.7777777777777778,
             "#fb9f3a"
            ],
            [
             0.8888888888888888,
             "#fdca26"
            ],
            [
             1,
             "#f0f921"
            ]
           ]
          },
          "colorway": [
           "#636efa",
           "#EF553B",
           "#00cc96",
           "#ab63fa",
           "#FFA15A",
           "#19d3f3",
           "#FF6692",
           "#B6E880",
           "#FF97FF",
           "#FECB52"
          ],
          "font": {
           "color": "#2a3f5f"
          },
          "geo": {
           "bgcolor": "white",
           "lakecolor": "white",
           "landcolor": "#E5ECF6",
           "showlakes": true,
           "showland": true,
           "subunitcolor": "white"
          },
          "hoverlabel": {
           "align": "left"
          },
          "hovermode": "closest",
          "mapbox": {
           "style": "light"
          },
          "paper_bgcolor": "white",
          "plot_bgcolor": "#E5ECF6",
          "polar": {
           "angularaxis": {
            "gridcolor": "white",
            "linecolor": "white",
            "ticks": ""
           },
           "bgcolor": "#E5ECF6",
           "radialaxis": {
            "gridcolor": "white",
            "linecolor": "white",
            "ticks": ""
           }
          },
          "scene": {
           "xaxis": {
            "backgroundcolor": "#E5ECF6",
            "gridcolor": "white",
            "gridwidth": 2,
            "linecolor": "white",
            "showbackground": true,
            "ticks": "",
            "zerolinecolor": "white"
           },
           "yaxis": {
            "backgroundcolor": "#E5ECF6",
            "gridcolor": "white",
            "gridwidth": 2,
            "linecolor": "white",
            "showbackground": true,
            "ticks": "",
            "zerolinecolor": "white"
           },
           "zaxis": {
            "backgroundcolor": "#E5ECF6",
            "gridcolor": "white",
            "gridwidth": 2,
            "linecolor": "white",
            "showbackground": true,
            "ticks": "",
            "zerolinecolor": "white"
           }
          },
          "shapedefaults": {
           "line": {
            "color": "#2a3f5f"
           }
          },
          "ternary": {
           "aaxis": {
            "gridcolor": "white",
            "linecolor": "white",
            "ticks": ""
           },
           "baxis": {
            "gridcolor": "white",
            "linecolor": "white",
            "ticks": ""
           },
           "bgcolor": "#E5ECF6",
           "caxis": {
            "gridcolor": "white",
            "linecolor": "white",
            "ticks": ""
           }
          },
          "title": {
           "x": 0.05
          },
          "xaxis": {
           "automargin": true,
           "gridcolor": "white",
           "linecolor": "white",
           "ticks": "",
           "title": {
            "standoff": 15
           },
           "zerolinecolor": "white",
           "zerolinewidth": 2
          },
          "yaxis": {
           "automargin": true,
           "gridcolor": "white",
           "linecolor": "white",
           "ticks": "",
           "title": {
            "standoff": 15
           },
           "zerolinecolor": "white",
           "zerolinewidth": 2
          }
         }
        },
        "updatemenus": [
         {
          "active": 1,
          "buttons": [
           {
            "args": [
             null,
             {
              "frame": {
               "duration": 500,
               "redraw": false
              },
              "fromcurrent": true,
              "mode": "immediate",
              "transition": {
               "duration": 500,
               "easing": "linear"
              }
             }
            ],
            "label": "&#9654;",
            "method": "animate"
           },
           {
            "args": [
             [
              null
             ],
             {
              "frame": {
               "duration": 0,
               "redraw": false
              },
              "fromcurrent": true,
              "mode": "immediate",
              "transition": {
               "duration": 0,
               "easing": "linear"
              }
             }
            ],
            "label": "&#9724;",
            "method": "animate"
           }
          ],
          "direction": "left",
          "pad": {
           "r": 10,
           "t": 70
          },
          "showactive": false,
          "type": "buttons",
          "x": 0.1,
          "xanchor": "right",
          "y": 0,
          "yanchor": "top"
         }
        ],
        "xaxis": {
         "anchor": "y",
         "domain": [
          0,
          1
         ],
         "range": [
          2,
          5
         ],
         "title": {
          "text": "gdpPercap"
         },
         "type": "log"
        },
        "yaxis": {
         "anchor": "x",
         "domain": [
          0,
          1
         ],
         "range": [
          25,
          90
         ],
         "title": {
          "text": "lifeExp"
         },
         "type": "linear"
        }
       }
      },
      "image/png": "[encoded data removed]",
      "text/html": [
       "<div>                            <div id=\"e53caf7c-553f-4b41-86aa-0cd3503e9a71\" class=\"plotly-graph-div\" style=\"height:525px; width:100%;\"></div>            <script type=\"text/javascript\">                require([\"plotly\"], function(Plotly) {                    window.PLOTLYENV=window.PLOTLYENV || {};                                    if (document.getElementById(\"e53caf7c-553f-4b41-86aa-0cd3503e9a71\")) {                    Plotly.newPlot(                        \"e53caf7c-553f-4b41-86aa-0cd3503e9a71\",                        [{\"hovertemplate\":\"<b>%{hovertext}</b><br><br>continent=Asia<br>year=1952<br>gdpPercap=%{x}<br>lifeExp=%{y}<br>pop=%{marker.size}<extra></extra>\",\"hovertext\":[\"Afghanistan\",\"Bahrain\",\"Bangladesh\",\"Cambodia\",\"China\",\"Hong Kong, China\",\"India\",\"Indonesia\",\"Iran\",\"Iraq\",\"Israel\",\"Japan\",\"Jordan\",\"Korea, Dem. Rep.\",\"Korea, Rep.\",\"Kuwait\",\"Lebanon\",\"Malaysia\",\"Mongolia\",\"Myanmar\",\"Nepal\",\"Oman\",\"Pakistan\",\"Philippines\",\"Saudi Arabia\",\"Singapore\",\"Sri Lanka\",\"Syria\",\"Taiwan\",\"Thailand\",\"Vietnam\",\"West Bank and Gaza\",\"Yemen, Rep.\"],\"ids\":[\"Afghanistan\",\"Bahrain\",\"Bangladesh\",\"Cambodia\",\"China\",\"Hong Kong, China\",\"India\",\"Indonesia\",\"Iran\",\"Iraq\",\"Israel\",\"Japan\",\"Jordan\",\"Korea, Dem. Rep.\",\"Korea, Rep.\",\"Kuwait\",\"Lebanon\",\"Malaysia\",\"Mongolia\",\"Myanmar\",\"Nepal\",\"Oman\",\"Pakistan\",\"Philippines\",\"Saudi Arabia\",\"Singapore\",\"Sri Lanka\",\"Syria\",\"Taiwan\",\"Thailand\",\"Vietnam\",\"West Bank and Gaza\",\"Yemen, Rep.\"],\"legendgroup\":\"Asia\",\"marker\":{\"color\":\"#636efa\",\"size\":[8425333,120447,46886859,4693836,556263527,2125900,372000000,82052000,17272000,5441766,1620914,86459025,607914,8865488,20947571,160000,1439529,6748378,800663,20092996,9182536,507833,41346560,22438691,4005677,1127000,7982342,3661549,8550362,21289402,26246839,1030585,4963829],\"sizemode\":\"area\",\"sizeref\":435928.2961983471,\"symbol\":\"circle\"},\"mode\":\"markers\",\"name\":\"Asia\",\"orientation\":\"v\",\"showlegend\":true,\"x\":[779.4453145,9867.084765,684.2441716,368.4692856,400.448611,3054.421209,546.5657493,749.6816546,3035.326002,4129.766056,4086.522128,3216.956347,1546.907807,1088.277758,1030.592226,108382.3529,4834.804067,1831.132894,786.5668575,331.0,545.8657228999998,1828.230307,684.5971437999998,1272.880995,6459.554823,2315.138227,1083.53203,1643.485354,1206.947913,757.7974177,605.0664917,1515.5923289999996,781.7175761],\"xaxis\":\"x\",\"y\":[28.801,50.93899999999999,37.484,39.417,44.0,60.96,37.37300000000001,37.468,44.869,45.32,65.39,63.03,43.158,50.056,47.453,55.565,55.928,48.463,42.244,36.319,36.157,37.578,43.43600000000001,47.752,39.875,60.396,57.593,45.883,58.5,50.848,40.412,43.16,32.548],\"yaxis\":\"y\",\"type\":\"scatter\"},{\"hovertemplate\":\"<b>%{hovertext}</b><br><br>continent=Europe<br>year=1952<br>gdpPercap=%{x}<br>lifeExp=%{y}<br>pop=%{marker.size}<extra></extra>\",\"hovertext\":[\"Albania\",\"Austria\",\"Belgium\",\"Bosnia and Herzegovina\",\"Bulgaria\",\"Croatia\",\"Czech Republic\",\"Denmark\",\"Finland\",\"France\",\"Germany\",\"Greece\",\"Hungary\",\"Iceland\",\"Ireland\",\"Italy\",\"Montenegro\",\"Netherlands\",\"Norway\",\"Poland\",\"Portugal\",\"Romania\",\"Serbia\",\"Slovak Republic\",\"Slovenia\",\"Spain\",\"Sweden\",\"Switzerland\",\"Turkey\",\"United Kingdom\"],\"ids\":[\"Albania\",\"Austria\",\"Belgium\",\"Bosnia and Herzegovina\",\"Bulgaria\",\"Croatia\",\"Czech Republic\",\"Denmark\",\"Finland\",\"France\",\"Germany\",\"Greece\",\"Hungary\",\"Iceland\",\"Ireland\",\"Italy\",\"Montenegro\",\"Netherlands\",\"Norway\",\"Poland\",\"Portugal\",\"Romania\",\"Serbia\",\"Slovak Republic\",\"Slovenia\",\"Spain\",\"Sweden\",\"Switzerland\",\"Turkey\",\"United Kingdom\"],\"legendgroup\":\"Europe\",\"marker\":{\"color\":\"#EF553B\",\"size\":[1282697,6927772,8730405,2791000,7274900,3882229,9125183,4334000,4090500,42459667,69145952,7733250,9504000,147962,2952156,47666000,413834,10381988,3327728,25730551,8526050,16630000,6860147,3558137,1489518,28549870,7124673,4815000,22235677,50430000],\"sizemode\":\"area\",\"sizeref\":435928.2961983471,\"symbol\":\"circle\"},\"mode\":\"markers\",\"name\":\"Europe\",\"orientation\":\"v\",\"showlegend\":true,\"x\":[1601.056136,6137.076492,8343.105126999999,973.5331948,2444.286648,3119.23652,6876.14025,9692.385245,6424.519071,7029.809327,7144.114393000002,3530.690067,5263.673816,7267.688428,5210.280328,4931.404154999998,2647.585601,8941.571858,10095.42172,4029.329699,3068.319867,3144.613186,3581.459448,5074.659104,4215.041741,3834.034742,8527.844662000001,14734.23275,1969.10098,9979.508487],\"xaxis\":\"x\",\"y\":[55.23,66.8,68.0,53.82,59.6,61.21,66.87,70.78,66.55,67.41,67.5,65.86,64.03,72.49,66.91,65.94,59.164,72.13,72.67,61.31,59.82,61.05,57.996,64.36,65.57,64.94,71.86,69.62,43.585,69.18],\"yaxis\":\"y\",\"type\":\"scatter\"},{\"hovertemplate\":\"<b>%{hovertext}</b><br><br>continent=Africa<br>year=1952<br>gdpPercap=%{x}<br>lifeExp=%{y}<br>pop=%{marker.size}<extra></extra>\",\"hovertext\":[\"Algeria\",\"Angola\",\"Benin\",\"Botswana\",\"Burkina Faso\",\"Burundi\",\"Cameroon\",\"Central African Republic\",\"Chad\",\"Comoros\",\"Congo, Dem. Rep.\",\"Congo, Rep.\",\"Cote d'Ivoire\",\"Djibouti\",\"Egypt\",\"Equatorial Guinea\",\"Eritrea\",\"Ethiopia\",\"Gabon\",\"Gambia\",\"Ghana\",\"Guinea\",\"Guinea-Bissau\",\"Kenya\",\"Lesotho\",\"Liberia\",\"Libya\",\"Madagascar\",\"Malawi\",\"Mali\",\"Mauritania\",\"Mauritius\",\"Morocco\",\"Mozambique\",\"Namibia\",\"Niger\",\"Nigeria\",\"Reunion\",\"Rwanda\",\"Sao Tome and Principe\",\"Senegal\",\"Sierra Leone\",\"Somalia\",\"South Africa\",\"Sudan\",\"Swaziland\",\"Tanzania\",\"Togo\",\"Tunisia\",\"Uganda\",\"Zambia\",\"Zimbabwe\"],\"ids\":[\"Algeria\",\"Angola\",\"Benin\",\"Botswana\",\"Burkina Faso\",\"Burundi\",\"Cameroon\",\"Central African Republic\",\"Chad\",\"Comoros\",\"Congo, Dem. Rep.\",\"Congo, Rep.\",\"Cote d'Ivoire\",\"Djibouti\",\"Egypt\",\"Equatorial Guinea\",\"Eritrea\",\"Ethiopia\",\"Gabon\",\"Gambia\",\"Ghana\",\"Guinea\",\"Guinea-Bissau\",\"Kenya\",\"Lesotho\",\"Liberia\",\"Libya\",\"Madagascar\",\"Malawi\",\"Mali\",\"Mauritania\",\"Mauritius\",\"Morocco\",\"Mozambique\",\"Namibia\",\"Niger\",\"Nigeria\",\"Reunion\",\"Rwanda\",\"Sao Tome and Principe\",\"Senegal\",\"Sierra Leone\",\"Somalia\",\"South Africa\",\"Sudan\",\"Swaziland\",\"Tanzania\",\"Togo\",\"Tunisia\",\"Uganda\",\"Zambia\",\"Zimbabwe\"],\"legendgroup\":\"Africa\",\"marker\":{\"color\":\"#00cc96\",\"size\":[9279525,4232095,1738315,442308,4469979,2445618,5009067,1291695,2682462,153936,14100005,854885,2977019,63149,22223309,216964,1438760,20860941,420702,284320,5581001,2664249,580653,6464046,748747,863308,1019729,4762912,2917802,3838168,1022556,516556,9939217,6446316,485831,3379468,33119096,257700,2534927,60011,2755589,2143249,2526994,14264935,8504667,290243,8322925,1219113,3647735,5824797,2672000,3080907],\"sizemode\":\"area\",\"sizeref\":435928.2961983471,\"symbol\":\"circle\"},\"mode\":\"markers\",\"name\":\"Africa\",\"orientation\":\"v\",\"showlegend\":true,\"x\":[2449.008185,3520.610273,1062.7522,851.2411407,543.2552413,339.2964587,1172.667655,1071.310713,1178.665927,1102.990936,780.5423257,2125.621418,1388.594732,2669.529475,1418.822445,375.6431231,328.9405571000001,362.1462796,4293.476475,485.2306591,911.2989371,510.1964923000001,299.850319,853.5409189999998,298.8462121,575.5729961000002,2387.54806,1443.011715,369.1650802,452.3369807,743.1159097,1967.955707,1688.20357,468.5260381,2423.780443,761.879376,1077.281856,2718.885295,493.3238752,879.5835855,1450.356983,879.7877358,1135.749842,4725.295531000002,1615.991129,1148.376626,716.6500721,859.8086567,1468.475631,734.753484,1147.388831,406.8841148],\"xaxis\":\"x\",\"y\":[43.077,30.015,38.223,47.622,31.975,39.031,38.523,35.463,38.092,40.715,39.143,42.111,40.477,34.812,41.893,34.482,35.92800000000001,34.078,37.003,30.0,43.149,33.609,32.5,42.27,42.13800000000001,38.48,42.723,36.681,36.256,33.685,40.543,50.986,42.87300000000001,31.286,41.725,37.444,36.324,52.724,40.0,46.471,37.278,30.331,32.978,45.00899999999999,38.635,41.407,41.215,38.596,44.6,39.978,42.038,48.451],\"yaxis\":\"y\",\"type\":\"scatter\"},{\"hovertemplate\":\"<b>%{hovertext}</b><br><br>continent=Americas<br>year=1952<br>gdpPercap=%{x}<br>lifeExp=%{y}<br>pop=%{marker.size}<extra></extra>\",\"hovertext\":[\"Argentina\",\"Bolivia\",\"Brazil\",\"Canada\",\"Chile\",\"Colombia\",\"Costa Rica\",\"Cuba\",\"Dominican Republic\",\"Ecuador\",\"El Salvador\",\"Guatemala\",\"Haiti\",\"Honduras\",\"Jamaica\",\"Mexico\",\"Nicaragua\",\"Panama\",\"Paraguay\",\"Peru\",\"Puerto Rico\",\"Trinidad and Tobago\",\"United States\",\"Uruguay\",\"Venezuela\"],\"ids\":[\"Argentina\",\"Bolivia\",\"Brazil\",\"Canada\",\"Chile\",\"Colombia\",\"Costa Rica\",\"Cuba\",\"Dominican Republic\",\"Ecuador\",\"El Salvador\",\"Guatemala\",\"Haiti\",\"Honduras\",\"Jamaica\",\"Mexico\",\"Nicaragua\",\"Panama\",\"Paraguay\",\"Peru\",\"Puerto Rico\",\"Trinidad and Tobago\",\"United States\",\"Uruguay\",\"Venezuela\"],\"legendgroup\":\"Americas\",\"marker\":{\"color\":\"#ab63fa\",\"size\":[17876956,2883315,56602560,14785584,6377619,12350771,926317,6007797,2491346,3548753,2042865,3146381,3201488,1517453,1426095,30144317,1165790,940080,1555876,8025700,2227000,662850,157553000,2252965,5439568],\"sizemode\":\"area\",\"sizeref\":435928.2961983471,\"symbol\":\"circle\"},\"mode\":\"markers\",\"name\":\"Americas\",\"orientation\":\"v\",\"showlegend\":true,\"x\":[5911.315053,2677.326347,2108.944355,11367.16112,3939.978789,2144.115096,2627.0094710000008,5586.53878,1397.717137,3522.110717,3048.3029,2428.2377690000008,1840.366939,2194.926204,2898.530881,3478.125529,3112.363948,2480.380334,1952.308701,3758.523437,3081.959785,3023.271928,13990.482080000002,5716.766744,7689.799761],\"xaxis\":\"x\",\"y\":[62.485,40.414,50.917,68.75,54.745,50.643,57.206,59.42100000000001,45.928,48.357,45.262,42.023,37.579,41.912,58.53,50.789,42.31399999999999,55.191,62.649,43.902,64.28,59.1,68.44,66.071,55.088],\"yaxis\":\"y\",\"type\":\"scatter\"},{\"hovertemplate\":\"<b>%{hovertext}</b><br><br>continent=Oceania<br>year=1952<br>gdpPercap=%{x}<br>lifeExp=%{y}<br>pop=%{marker.size}<extra></extra>\",\"hovertext\":[\"Australia\",\"New Zealand\"],\"ids\":[\"Australia\",\"New Zealand\"],\"legendgroup\":\"Oceania\",\"marker\":{\"color\":\"#FFA15A\",\"size\":[8691212,1994794],\"sizemode\":\"area\",\"sizeref\":435928.2961983471,\"symbol\":\"circle\"},\"mode\":\"markers\",\"name\":\"Oceania\",\"orientation\":\"v\",\"showlegend\":true,\"x\":[10039.59564,10556.57566],\"xaxis\":\"x\",\"y\":[69.12,69.39],\"yaxis\":\"y\",\"type\":\"scatter\"}],                        {\"template\":{\"data\":{\"histogram2dcontour\":[{\"type\":\"histogram2dcontour\",\"colorbar\":{\"outlinewidth\":0,\"ticks\":\"\"},\"colorscale\":[[0.0,\"#0d0887\"],[0.1111111111111111,\"#46039f\"],[0.2222222222222222,\"#7201a8\"],[0.3333333333333333,\"#9c179e\"],[0.4444444444444444,\"#bd3786\"],[0.5555555555555556,\"#d8576b\"],[0.6666666666666666,\"#ed7953\"],[0.7777777777777778,\"#fb9f3a\"],[0.8888888888888888,\"#fdca26\"],[1.0,\"#f0f921\"]]}],\"choropleth\":[{\"type\":\"choropleth\",\"colorbar\":{\"outlinewidth\":0,\"ticks\":\"\"}}],\"histogram2d\":[{\"type\":\"histogram2d\",\"colorbar\":{\"outlinewidth\":0,\"ticks\":\"\"},\"colorscale\":[[0.0,\"#0d0887\"],[0.1111111111111111,\"#46039f\"],[0.2222222222222222,\"#7201a8\"],[0.3333333333333333,\"#9c179e\"],[0.4444444444444444,\"#bd3786\"],[0.5555555555555556,\"#d8576b\"],[0.6666666666666666,\"#ed7953\"],[0.7777777777777778,\"#fb9f3a\"],[0.8888888888888888,\"#fdca26\"],[1.0,\"#f0f921\"]]}],\"heatmap\":[{\"type\":\"heatmap\",\"colorbar\":{\"outlinewidth\":0,\"ticks\":\"\"},\"colorscale\":[[0.0,\"#0d0887\"],[0.1111111111111111,\"#46039f\"],[0.2222222222222222,\"#7201a8\"],[0.3333333333333333,\"#9c179e\"],[0.4444444444444444,\"#bd3786\"],[0.5555555555555556,\"#d8576b\"],[0.6666666666666666,\"#ed7953\"],[0.7777777777777778,\"#fb9f3a\"],[0.8888888888888888,\"#fdca26\"],[1.0,\"#f0f921\"]]}],\"heatmapgl\":[{\"type\":\"heatmapgl\",\"colorbar\":{\"outlinewidth\":0,\"ticks\":\"\"},\"colorscale\":[[0.0,\"#0d0887\"],[0.1111111111111111,\"#46039f\"],[0.2222222222222222,\"#7201a8\"],[0.3333333333333333,\"#9c179e\"],[0.4444444444444444,\"#bd3786\"],[0.5555555555555556,\"#d8576b\"],[0.6666666666666666,\"#ed7953\"],[0.7777777777777778,\"#fb9f3a\"],[0.8888888888888888,\"#fdca26\"],[1.0,\"#f0f921\"]]}],\"contourcarpet\":[{\"type\":\"contourcarpet\",\"colorbar\":{\"outlinewidth\":0,\"ticks\":\"\"}}],\"contour\":[{\"type\":\"contour\",\"colorbar\":{\"outlinewidth\":0,\"ticks\":\"\"},\"colorscale\":[[0.0,\"#0d0887\"],[0.1111111111111111,\"#46039f\"],[0.2222222222222222,\"#7201a8\"],[0.3333333333333333,\"#9c179e\"],[0.4444444444444444,\"#bd3786\"],[0.5555555555555556,\"#d8576b\"],[0.6666666666666666,\"#ed7953\"],[0.7777777777777778,\"#fb9f3a\"],[0.8888888888888888,\"#fdca26\"],[1.0,\"#f0f921\"]]}],\"surface\":[{\"type\":\"surface\",\"colorbar\":{\"outlinewidth\":0,\"ticks\":\"\"},\"colorscale\":[[0.0,\"#0d0887\"],[0.1111111111111111,\"#46039f\"],[0.2222222222222222,\"#7201a8\"],[0.3333333333333333,\"#9c179e\"],[0.4444444444444444,\"#bd3786\"],[0.5555555555555556,\"#d8576b\"],[0.6666666666666666,\"#ed7953\"],[0.7777777777777778,\"#fb9f3a\"],[0.8888888888888888,\"#fdca26\"],[1.0,\"#f0f921\"]]}],\"mesh3d\":[{\"type\":\"mesh3d\",\"colorbar\":{\"outlinewidth\":0,\"ticks\":\"\"}}],\"scatter\":[{\"fillpattern\":{\"fillmode\":\"overlay\",\"size\":10,\"solidity\":0.2},\"type\":\"scatter\"}],\"parcoords\":[{\"type\":\"parcoords\",\"line\":{\"colorbar\":{\"outlinewidth\":0,\"ticks\":\"\"}}}],\"scatterpolargl\":[{\"type\":\"scatterpolargl\",\"marker\":{\"colorbar\":{\"outlinewidth\":0,\"ticks\":\"\"}}}],\"bar\":[{\"error_x\":{\"color\":\"#2a3f5f\"},\"error_y\":{\"color\":\"#2a3f5f\"},\"marker\":{\"line\":{\"color\":\"#E5ECF6\",\"width\":0.5},\"pattern\":{\"fillmode\":\"overlay\",\"size\":10,\"solidity\":0.2}},\"type\":\"bar\"}],\"scattergeo\":[{\"type\":\"scattergeo\",\"marker\":{\"colorbar\":{\"outlinewidth\":0,\"ticks\":\"\"}}}],\"scatterpolar\":[{\"type\":\"scatterpolar\",\"marker\":{\"colorbar\":{\"outlinewidth\":0,\"ticks\":\"\"}}}],\"histogram\":[{\"marker\":{\"pattern\":{\"fillmode\":\"overlay\",\"size\":10,\"solidity\":0.2}},\"type\":\"histogram\"}],\"scattergl\":[{\"type\":\"scattergl\",\"marker\":{\"colorbar\":{\"outlinewidth\":0,\"ticks\":\"\"}}}],\"scatter3d\":[{\"type\":\"scatter3d\",\"line\":{\"colorbar\":{\"outlinewidth\":0,\"ticks\":\"\"}},\"marker\":{\"colorbar\":{\"outlinewidth\":0,\"ticks\":\"\"}}}],\"scattermapbox\":[{\"type\":\"scattermapbox\",\"marker\":{\"colorbar\":{\"outlinewidth\":0,\"ticks\":\"\"}}}],\"scatterternary\":[{\"type\":\"scatterternary\",\"marker\":{\"colorbar\":{\"outlinewidth\":0,\"ticks\":\"\"}}}],\"scattercarpet\":[{\"type\":\"scattercarpet\",\"marker\":{\"colorbar\":{\"outlinewidth\":0,\"ticks\":\"\"}}}],\"carpet\":[{\"aaxis\":{\"endlinecolor\":\"#2a3f5f\",\"gridcolor\":\"white\",\"linecolor\":\"white\",\"minorgridcolor\":\"white\",\"startlinecolor\":\"#2a3f5f\"},\"baxis\":{\"endlinecolor\":\"#2a3f5f\",\"gridcolor\":\"white\",\"linecolor\":\"white\",\"minorgridcolor\":\"white\",\"startlinecolor\":\"#2a3f5f\"},\"type\":\"carpet\"}],\"table\":[{\"cells\":{\"fill\":{\"color\":\"#EBF0F8\"},\"line\":{\"color\":\"white\"}},\"header\":{\"fill\":{\"color\":\"#C8D4E3\"},\"line\":{\"color\":\"white\"}},\"type\":\"table\"}],\"barpolar\":[{\"marker\":{\"line\":{\"color\":\"#E5ECF6\",\"width\":0.5},\"pattern\":{\"fillmode\":\"overlay\",\"size\":10,\"solidity\":0.2}},\"type\":\"barpolar\"}],\"pie\":[{\"automargin\":true,\"type\":\"pie\"}]},\"layout\":{\"autotypenumbers\":\"strict\",\"colorway\":[\"#636efa\",\"#EF553B\",\"#00cc96\",\"#ab63fa\",\"#FFA15A\",\"#19d3f3\",\"#FF6692\",\"#B6E880\",\"#FF97FF\",\"#FECB52\"],\"font\":{\"color\":\"#2a3f5f\"},\"hovermode\":\"closest\",\"hoverlabel\":{\"align\":\"left\"},\"paper_bgcolor\":\"white\",\"plot_bgcolor\":\"#E5ECF6\",\"polar\":{\"bgcolor\":\"#E5ECF6\",\"angularaxis\":{\"gridcolor\":\"white\",\"linecolor\":\"white\",\"ticks\":\"\"},\"radialaxis\":{\"gridcolor\":\"white\",\"linecolor\":\"white\",\"ticks\":\"\"}},\"ternary\":{\"bgcolor\":\"#E5ECF6\",\"aaxis\":{\"gridcolor\":\"white\",\"linecolor\":\"white\",\"ticks\":\"\"},\"baxis\":{\"gridcolor\":\"white\",\"linecolor\":\"white\",\"ticks\":\"\"},\"caxis\":{\"gridcolor\":\"white\",\"linecolor\":\"white\",\"ticks\":\"\"}},\"coloraxis\":{\"colorbar\":{\"outlinewidth\":0,\"ticks\":\"\"}},\"colorscale\":{\"sequential\":[[0.0,\"#0d0887\"],[0.1111111111111111,\"#46039f\"],[0.2222222222222222,\"#7201a8\"],[0.3333333333333333,\"#9c179e\"],[0.4444444444444444,\"#bd3786\"],[0.5555555555555556,\"#d8576b\"],[0.6666666666666666,\"#ed7953\"],[0.7777777777777778,\"#fb9f3a\"],[0.8888888888888888,\"#fdca26\"],[1.0,\"#f0f921\"]],\"sequentialminus\":[[0.0,\"#0d0887\"],[0.1111111111111111,\"#46039f\"],[0.2222222222222222,\"#7201a8\"],[0.3333333333333333,\"#9c179e\"],[0.4444444444444444,\"#bd3786\"],[0.5555555555555556,\"#d8576b\"],[0.6666666666666666,\"#ed7953\"],[0.7777777777777778,\"#fb9f3a\"],[0.8888888888888888,\"#fdca26\"],[1.0,\"#f0f921\"]],\"diverging\":[[0,\"#8e0152\"],[0.1,\"#c51b7d\"],[0.2,\"#de77ae\"],[0.3,\"#f1b6da\"],[0.4,\"#fde0ef\"],[0.5,\"#f7f7f7\"],[0.6,\"#e6f5d0\"],[0.7,\"#b8e186\"],[0.8,\"#7fbc41\"],[0.9,\"#4d9221\"],[1,\"#276419\"]]},\"xaxis\":{\"gridcolor\":\"white\",\"linecolor\":\"white\",\"ticks\":\"\",\"title\":{\"standoff\":15},\"zerolinecolor\":\"white\",\"automargin\":true,\"zerolinewidth\":2},\"yaxis\":{\"gridcolor\":\"white\",\"linecolor\":\"white\",\"ticks\":\"\",\"title\":{\"standoff\":15},\"zerolinecolor\":\"white\",\"automargin\":true,\"zerolinewidth\":2},\"scene\":{\"xaxis\":{\"backgroundcolor\":\"#E5ECF6\",\"gridcolor\":\"white\",\"linecolor\":\"white\",\"showbackground\":true,\"ticks\":\"\",\"zerolinecolor\":\"white\",\"gridwidth\":2},\"yaxis\":{\"backgroundcolor\":\"#E5ECF6\",\"gridcolor\":\"white\",\"linecolor\":\"white\",\"showbackground\":true,\"ticks\":\"\",\"zerolinecolor\":\"white\",\"gridwidth\":2},\"zaxis\":{\"backgroundcolor\":\"#E5ECF6\",\"gridcolor\":\"white\",\"linecolor\":\"white\",\"showbackground\":true,\"ticks\":\"\",\"zerolinecolor\":\"white\",\"gridwidth\":2}},\"shapedefaults\":{\"line\":{\"color\":\"#2a3f5f\"}},\"annotationdefaults\":{\"arrowcolor\":\"#2a3f5f\",\"arrowhead\":0,\"arrowwidth\":1},\"geo\":{\"bgcolor\":\"white\",\"landcolor\":\"#E5ECF6\",\"subunitcolor\":\"white\",\"showland\":true,\"showlakes\":true,\"lakecolor\":\"white\"},\"title\":{\"x\":0.05},\"mapbox\":{\"style\":\"light\"}}},\"xaxis\":{\"anchor\":\"y\",\"domain\":[0.0,1.0],\"title\":{\"text\":\"gdpPercap\"},\"type\":\"log\",\"range\":[2.0,5.0]},\"yaxis\":{\"anchor\":\"x\",\"domain\":[0.0,1.0],\"title\":{\"text\":\"lifeExp\"},\"range\":[25,90]},\"legend\":{\"title\":{\"text\":\"continent\"},\"tracegroupgap\":0,\"itemsizing\":\"constant\"},\"margin\":{\"t\":60},\"updatemenus\":[{\"buttons\":[{\"args\":[null,{\"frame\":{\"duration\":500,\"redraw\":false},\"mode\":\"immediate\",\"fromcurrent\":true,\"transition\":{\"duration\":500,\"easing\":\"linear\"}}],\"label\":\"&#9654;\",\"method\":\"animate\"},{\"args\":[[null],{\"frame\":{\"duration\":0,\"redraw\":false},\"mode\":\"immediate\",\"fromcurrent\":true,\"transition\":{\"duration\":0,\"easing\":\"linear\"}}],\"label\":\"&#9724;\",\"method\":\"animate\"}],\"direction\":\"left\",\"pad\":{\"r\":10,\"t\":70},\"showactive\":false,\"type\":\"buttons\",\"x\":0.1,\"xanchor\":\"right\",\"y\":0,\"yanchor\":\"top\"}],\"sliders\":[{\"active\":0,\"currentvalue\":{\"prefix\":\"year=\"},\"len\":0.9,\"pad\":{\"b\":10,\"t\":60},\"steps\":[{\"args\":[[\"1952\"],{\"frame\":{\"duration\":0,\"redraw\":false},\"mode\":\"immediate\",\"fromcurrent\":true,\"transition\":{\"duration\":0,\"easing\":\"linear\"}}],\"label\":\"1952\",\"method\":\"animate\"},{\"args\":[[\"1957\"],{\"frame\":{\"duration\":0,\"redraw\":false},\"mode\":\"immediate\",\"fromcurrent\":true,\"transition\":{\"duration\":0,\"easing\":\"linear\"}}],\"label\":\"1957\",\"method\":\"animate\"},{\"args\":[[\"1962\"],{\"frame\":{\"duration\":0,\"redraw\":false},\"mode\":\"immediate\",\"fromcurrent\":true,\"transition\":{\"duration\":0,\"easing\":\"linear\"}}],\"label\":\"1962\",\"method\":\"animate\"},{\"args\":[[\"1967\"],{\"frame\":{\"duration\":0,\"redraw\":false},\"mode\":\"immediate\",\"fromcurrent\":true,\"transition\":{\"duration\":0,\"easing\":\"linear\"}}],\"label\":\"1967\",\"method\":\"animate\"},{\"args\":[[\"1972\"],{\"frame\":{\"duration\":0,\"redraw\":false},\"mode\":\"immediate\",\"fromcurrent\":true,\"transition\":{\"duration\":0,\"easing\":\"linear\"}}],\"label\":\"1972\",\"method\":\"animate\"},{\"args\":[[\"1977\"],{\"frame\":{\"duration\":0,\"redraw\":false},\"mode\":\"immediate\",\"fromcurrent\":true,\"transition\":{\"duration\":0,\"easing\":\"linear\"}}],\"label\":\"1977\",\"method\":\"animate\"},{\"args\":[[\"1982\"],{\"frame\":{\"duration\":0,\"redraw\":false},\"mode\":\"immediate\",\"fromcurrent\":true,\"transition\":{\"duration\":0,\"easing\":\"linear\"}}],\"label\":\"1982\",\"method\":\"animate\"},{\"args\":[[\"1987\"],{\"frame\":{\"duration\":0,\"redraw\":false},\"mode\":\"immediate\",\"fromcurrent\":true,\"transition\":{\"duration\":0,\"easing\":\"linear\"}}],\"label\":\"1987\",\"method\":\"animate\"},{\"args\":[[\"1992\"],{\"frame\":{\"duration\":0,\"redraw\":false},\"mode\":\"immediate\",\"fromcurrent\":true,\"transition\":{\"duration\":0,\"easing\":\"linear\"}}],\"label\":\"1992\",\"method\":\"animate\"},{\"args\":[[\"1997\"],{\"frame\":{\"duration\":0,\"redraw\":false},\"mode\":\"immediate\",\"fromcurrent\":true,\"transition\":{\"duration\":0,\"easing\":\"linear\"}}],\"label\":\"1997\",\"method\":\"animate\"},{\"args\":[[\"2002\"],{\"frame\":{\"duration\":0,\"redraw\":false},\"mode\":\"immediate\",\"fromcurrent\":true,\"transition\":{\"duration\":0,\"easing\":\"linear\"}}],\"label\":\"2002\",\"method\":\"animate\"},{\"args\":[[\"2007\"],{\"frame\":{\"duration\":0,\"redraw\":false},\"mode\":\"immediate\",\"fromcurrent\":true,\"transition\":{\"duration\":0,\"easing\":\"linear\"}}],\"label\":\"2007\",\"method\":\"animate\"}],\"x\":0.1,\"xanchor\":\"left\",\"y\":0,\"yanchor\":\"top\"}]},                        {\"responsive\": true}                    ).then(function(){\n",
       "                            Plotly.addFrames('e53caf7c-553f-4b41-86aa-0cd3503e9a71', [{\"data\":[{\"hovertemplate\":\"<b>%{hovertext}</b><br><br>continent=Asia<br>year=1952<br>gdpPercap=%{x}<br>lifeExp=%{y}<br>pop=%{marker.size}<extra></extra>\",\"hovertext\":[\"Afghanistan\",\"Bahrain\",\"Bangladesh\",\"Cambodia\",\"China\",\"Hong Kong, China\",\"India\",\"Indonesia\",\"Iran\",\"Iraq\",\"Israel\",\"Japan\",\"Jordan\",\"Korea, Dem. Rep.\",\"Korea, Rep.\",\"Kuwait\",\"Lebanon\",\"Malaysia\",\"Mongolia\",\"Myanmar\",\"Nepal\",\"Oman\",\"Pakistan\",\"Philippines\",\"Saudi Arabia\",\"Singapore\",\"Sri Lanka\",\"Syria\",\"Taiwan\",\"Thailand\",\"Vietnam\",\"West Bank and Gaza\",\"Yemen, Rep.\"],\"ids\":[\"Afghanistan\",\"Bahrain\",\"Bangladesh\",\"Cambodia\",\"China\",\"Hong Kong, China\",\"India\",\"Indonesia\",\"Iran\",\"Iraq\",\"Israel\",\"Japan\",\"Jordan\",\"Korea, Dem. Rep.\",\"Korea, Rep.\",\"Kuwait\",\"Lebanon\",\"Malaysia\",\"Mongolia\",\"Myanmar\",\"Nepal\",\"Oman\",\"Pakistan\",\"Philippines\",\"Saudi Arabia\",\"Singapore\",\"Sri Lanka\",\"Syria\",\"Taiwan\",\"Thailand\",\"Vietnam\",\"West Bank and Gaza\",\"Yemen, Rep.\"],\"legendgroup\":\"Asia\",\"marker\":{\"color\":\"#636efa\",\"size\":[8425333,120447,46886859,4693836,556263527,2125900,372000000,82052000,17272000,5441766,1620914,86459025,607914,8865488,20947571,160000,1439529,6748378,800663,20092996,9182536,507833,41346560,22438691,4005677,1127000,7982342,3661549,8550362,21289402,26246839,1030585,4963829],\"sizemode\":\"area\",\"sizeref\":435928.2961983471,\"symbol\":\"circle\"},\"mode\":\"markers\",\"name\":\"Asia\",\"orientation\":\"v\",\"showlegend\":true,\"x\":[779.4453145,9867.084765,684.2441716,368.4692856,400.448611,3054.421209,546.5657493,749.6816546,3035.326002,4129.766056,4086.522128,3216.956347,1546.907807,1088.277758,1030.592226,108382.3529,4834.804067,1831.132894,786.5668575,331.0,545.8657228999998,1828.230307,684.5971437999998,1272.880995,6459.554823,2315.138227,1083.53203,1643.485354,1206.947913,757.7974177,605.0664917,1515.5923289999996,781.7175761],\"xaxis\":\"x\",\"y\":[28.801,50.93899999999999,37.484,39.417,44.0,60.96,37.37300000000001,37.468,44.869,45.32,65.39,63.03,43.158,50.056,47.453,55.565,55.928,48.463,42.244,36.319,36.157,37.578,43.43600000000001,47.752,39.875,60.396,57.593,45.883,58.5,50.848,40.412,43.16,32.548],\"yaxis\":\"y\",\"type\":\"scatter\"},{\"hovertemplate\":\"<b>%{hovertext}</b><br><br>continent=Europe<br>year=1952<br>gdpPercap=%{x}<br>lifeExp=%{y}<br>pop=%{marker.size}<extra></extra>\",\"hovertext\":[\"Albania\",\"Austria\",\"Belgium\",\"Bosnia and Herzegovina\",\"Bulgaria\",\"Croatia\",\"Czech Republic\",\"Denmark\",\"Finland\",\"France\",\"Germany\",\"Greece\",\"Hungary\",\"Iceland\",\"Ireland\",\"Italy\",\"Montenegro\",\"Netherlands\",\"Norway\",\"Poland\",\"Portugal\",\"Romania\",\"Serbia\",\"Slovak Republic\",\"Slovenia\",\"Spain\",\"Sweden\",\"Switzerland\",\"Turkey\",\"United Kingdom\"],\"ids\":[\"Albania\",\"Austria\",\"Belgium\",\"Bosnia and Herzegovina\",\"Bulgaria\",\"Croatia\",\"Czech Republic\",\"Denmark\",\"Finland\",\"France\",\"Germany\",\"Greece\",\"Hungary\",\"Iceland\",\"Ireland\",\"Italy\",\"Montenegro\",\"Netherlands\",\"Norway\",\"Poland\",\"Portugal\",\"Romania\",\"Serbia\",\"Slovak Republic\",\"Slovenia\",\"Spain\",\"Sweden\",\"Switzerland\",\"Turkey\",\"United Kingdom\"],\"legendgroup\":\"Europe\",\"marker\":{\"color\":\"#EF553B\",\"size\":[1282697,6927772,8730405,2791000,7274900,3882229,9125183,4334000,4090500,42459667,69145952,7733250,9504000,147962,2952156,47666000,413834,10381988,3327728,25730551,8526050,16630000,6860147,3558137,1489518,28549870,7124673,4815000,22235677,50430000],\"sizemode\":\"area\",\"sizeref\":435928.2961983471,\"symbol\":\"circle\"},\"mode\":\"markers\",\"name\":\"Europe\",\"orientation\":\"v\",\"showlegend\":true,\"x\":[1601.056136,6137.076492,8343.105126999999,973.5331948,2444.286648,3119.23652,6876.14025,9692.385245,6424.519071,7029.809327,7144.114393000002,3530.690067,5263.673816,7267.688428,5210.280328,4931.404154999998,2647.585601,8941.571858,10095.42172,4029.329699,3068.319867,3144.613186,3581.459448,5074.659104,4215.041741,3834.034742,8527.844662000001,14734.23275,1969.10098,9979.508487],\"xaxis\":\"x\",\"y\":[55.23,66.8,68.0,53.82,59.6,61.21,66.87,70.78,66.55,67.41,67.5,65.86,64.03,72.49,66.91,65.94,59.164,72.13,72.67,61.31,59.82,61.05,57.996,64.36,65.57,64.94,71.86,69.62,43.585,69.18],\"yaxis\":\"y\",\"type\":\"scatter\"},{\"hovertemplate\":\"<b>%{hovertext}</b><br><br>continent=Africa<br>year=1952<br>gdpPercap=%{x}<br>lifeExp=%{y}<br>pop=%{marker.size}<extra></extra>\",\"hovertext\":[\"Algeria\",\"Angola\",\"Benin\",\"Botswana\",\"Burkina Faso\",\"Burundi\",\"Cameroon\",\"Central African Republic\",\"Chad\",\"Comoros\",\"Congo, Dem. Rep.\",\"Congo, Rep.\",\"Cote d'Ivoire\",\"Djibouti\",\"Egypt\",\"Equatorial Guinea\",\"Eritrea\",\"Ethiopia\",\"Gabon\",\"Gambia\",\"Ghana\",\"Guinea\",\"Guinea-Bissau\",\"Kenya\",\"Lesotho\",\"Liberia\",\"Libya\",\"Madagascar\",\"Malawi\",\"Mali\",\"Mauritania\",\"Mauritius\",\"Morocco\",\"Mozambique\",\"Namibia\",\"Niger\",\"Nigeria\",\"Reunion\",\"Rwanda\",\"Sao Tome and Principe\",\"Senegal\",\"Sierra Leone\",\"Somalia\",\"South Africa\",\"Sudan\",\"Swaziland\",\"Tanzania\",\"Togo\",\"Tunisia\",\"Uganda\",\"Zambia\",\"Zimbabwe\"],\"ids\":[\"Algeria\",\"Angola\",\"Benin\",\"Botswana\",\"Burkina Faso\",\"Burundi\",\"Cameroon\",\"Central African Republic\",\"Chad\",\"Comoros\",\"Congo, Dem. Rep.\",\"Congo, Rep.\",\"Cote d'Ivoire\",\"Djibouti\",\"Egypt\",\"Equatorial Guinea\",\"Eritrea\",\"Ethiopia\",\"Gabon\",\"Gambia\",\"Ghana\",\"Guinea\",\"Guinea-Bissau\",\"Kenya\",\"Lesotho\",\"Liberia\",\"Libya\",\"Madagascar\",\"Malawi\",\"Mali\",\"Mauritania\",\"Mauritius\",\"Morocco\",\"Mozambique\",\"Namibia\",\"Niger\",\"Nigeria\",\"Reunion\",\"Rwanda\",\"Sao Tome and Principe\",\"Senegal\",\"Sierra Leone\",\"Somalia\",\"South Africa\",\"Sudan\",\"Swaziland\",\"Tanzania\",\"Togo\",\"Tunisia\",\"Uganda\",\"Zambia\",\"Zimbabwe\"],\"legendgroup\":\"Africa\",\"marker\":{\"color\":\"#00cc96\",\"size\":[9279525,4232095,1738315,442308,4469979,2445618,5009067,1291695,2682462,153936,14100005,854885,2977019,63149,22223309,216964,1438760,20860941,420702,284320,5581001,2664249,580653,6464046,748747,863308,1019729,4762912,2917802,3838168,1022556,516556,9939217,6446316,485831,3379468,33119096,257700,2534927,60011,2755589,2143249,2526994,14264935,8504667,290243,8322925,1219113,3647735,5824797,2672000,3080907],\"sizemode\":\"area\",\"sizeref\":435928.2961983471,\"symbol\":\"circle\"},\"mode\":\"markers\",\"name\":\"Africa\",\"orientation\":\"v\",\"showlegend\":true,\"x\":[2449.008185,3520.610273,1062.7522,851.2411407,543.2552413,339.2964587,1172.667655,1071.310713,1178.665927,1102.990936,780.5423257,2125.621418,1388.594732,2669.529475,1418.822445,375.6431231,328.9405571000001,362.1462796,4293.476475,485.2306591,911.2989371,510.1964923000001,299.850319,853.5409189999998,298.8462121,575.5729961000002,2387.54806,1443.011715,369.1650802,452.3369807,743.1159097,1967.955707,1688.20357,468.5260381,2423.780443,761.879376,1077.281856,2718.885295,493.3238752,879.5835855,1450.356983,879.7877358,1135.749842,4725.295531000002,1615.991129,1148.376626,716.6500721,859.8086567,1468.475631,734.753484,1147.388831,406.8841148],\"xaxis\":\"x\",\"y\":[43.077,30.015,38.223,47.622,31.975,39.031,38.523,35.463,38.092,40.715,39.143,42.111,40.477,34.812,41.893,34.482,35.92800000000001,34.078,37.003,30.0,43.149,33.609,32.5,42.27,42.13800000000001,38.48,42.723,36.681,36.256,33.685,40.543,50.986,42.87300000000001,31.286,41.725,37.444,36.324,52.724,40.0,46.471,37.278,30.331,32.978,45.00899999999999,38.635,41.407,41.215,38.596,44.6,39.978,42.038,48.451],\"yaxis\":\"y\",\"type\":\"scatter\"},{\"hovertemplate\":\"<b>%{hovertext}</b><br><br>continent=Americas<br>year=1952<br>gdpPercap=%{x}<br>lifeExp=%{y}<br>pop=%{marker.size}<extra></extra>\",\"hovertext\":[\"Argentina\",\"Bolivia\",\"Brazil\",\"Canada\",\"Chile\",\"Colombia\",\"Costa Rica\",\"Cuba\",\"Dominican Republic\",\"Ecuador\",\"El Salvador\",\"Guatemala\",\"Haiti\",\"Honduras\",\"Jamaica\",\"Mexico\",\"Nicaragua\",\"Panama\",\"Paraguay\",\"Peru\",\"Puerto Rico\",\"Trinidad and Tobago\",\"United States\",\"Uruguay\",\"Venezuela\"],\"ids\":[\"Argentina\",\"Bolivia\",\"Brazil\",\"Canada\",\"Chile\",\"Colombia\",\"Costa Rica\",\"Cuba\",\"Dominican Republic\",\"Ecuador\",\"El Salvador\",\"Guatemala\",\"Haiti\",\"Honduras\",\"Jamaica\",\"Mexico\",\"Nicaragua\",\"Panama\",\"Paraguay\",\"Peru\",\"Puerto Rico\",\"Trinidad and Tobago\",\"United States\",\"Uruguay\",\"Venezuela\"],\"legendgroup\":\"Americas\",\"marker\":{\"color\":\"#ab63fa\",\"size\":[17876956,2883315,56602560,14785584,6377619,12350771,926317,6007797,2491346,3548753,2042865,3146381,3201488,1517453,1426095,30144317,1165790,940080,1555876,8025700,2227000,662850,157553000,2252965,5439568],\"sizemode\":\"area\",\"sizeref\":435928.2961983471,\"symbol\":\"circle\"},\"mode\":\"markers\",\"name\":\"Americas\",\"orientation\":\"v\",\"showlegend\":true,\"x\":[5911.315053,2677.326347,2108.944355,11367.16112,3939.978789,2144.115096,2627.0094710000008,5586.53878,1397.717137,3522.110717,3048.3029,2428.2377690000008,1840.366939,2194.926204,2898.530881,3478.125529,3112.363948,2480.380334,1952.308701,3758.523437,3081.959785,3023.271928,13990.482080000002,5716.766744,7689.799761],\"xaxis\":\"x\",\"y\":[62.485,40.414,50.917,68.75,54.745,50.643,57.206,59.42100000000001,45.928,48.357,45.262,42.023,37.579,41.912,58.53,50.789,42.31399999999999,55.191,62.649,43.902,64.28,59.1,68.44,66.071,55.088],\"yaxis\":\"y\",\"type\":\"scatter\"},{\"hovertemplate\":\"<b>%{hovertext}</b><br><br>continent=Oceania<br>year=1952<br>gdpPercap=%{x}<br>lifeExp=%{y}<br>pop=%{marker.size}<extra></extra>\",\"hovertext\":[\"Australia\",\"New Zealand\"],\"ids\":[\"Australia\",\"New Zealand\"],\"legendgroup\":\"Oceania\",\"marker\":{\"color\":\"#FFA15A\",\"size\":[8691212,1994794],\"sizemode\":\"area\",\"sizeref\":435928.2961983471,\"symbol\":\"circle\"},\"mode\":\"markers\",\"name\":\"Oceania\",\"orientation\":\"v\",\"showlegend\":true,\"x\":[10039.59564,10556.57566],\"xaxis\":\"x\",\"y\":[69.12,69.39],\"yaxis\":\"y\",\"type\":\"scatter\"}],\"name\":\"1952\"},{\"data\":[{\"hovertemplate\":\"<b>%{hovertext}</b><br><br>continent=Asia<br>year=1957<br>gdpPercap=%{x}<br>lifeExp=%{y}<br>pop=%{marker.size}<extra></extra>\",\"hovertext\":[\"Afghanistan\",\"Bahrain\",\"Bangladesh\",\"Cambodia\",\"China\",\"Hong Kong, China\",\"India\",\"Indonesia\",\"Iran\",\"Iraq\",\"Israel\",\"Japan\",\"Jordan\",\"Korea, Dem. Rep.\",\"Korea, Rep.\",\"Kuwait\",\"Lebanon\",\"Malaysia\",\"Mongolia\",\"Myanmar\",\"Nepal\",\"Oman\",\"Pakistan\",\"Philippines\",\"Saudi Arabia\",\"Singapore\",\"Sri Lanka\",\"Syria\",\"Taiwan\",\"Thailand\",\"Vietnam\",\"West Bank and Gaza\",\"Yemen, Rep.\"],\"ids\":[\"Afghanistan\",\"Bahrain\",\"Bangladesh\",\"Cambodia\",\"China\",\"Hong Kong, China\",\"India\",\"Indonesia\",\"Iran\",\"Iraq\",\"Israel\",\"Japan\",\"Jordan\",\"Korea, Dem. Rep.\",\"Korea, Rep.\",\"Kuwait\",\"Lebanon\",\"Malaysia\",\"Mongolia\",\"Myanmar\",\"Nepal\",\"Oman\",\"Pakistan\",\"Philippines\",\"Saudi Arabia\",\"Singapore\",\"Sri Lanka\",\"Syria\",\"Taiwan\",\"Thailand\",\"Vietnam\",\"West Bank and Gaza\",\"Yemen, Rep.\"],\"legendgroup\":\"Asia\",\"marker\":{\"color\":\"#636efa\",\"size\":[9240934,138655,51365468,5322536,637408000,2736300,409000000,90124000,19792000,6248643,1944401,91563009,746559,9411381,22611552,212846,1647412,7739235,882134,21731844,9682338,561977,46679944,26072194,4419650,1445929,9128546,4149908,10164215,25041917,28998543,1070439,5498090],\"sizemode\":\"area\",\"sizeref\":435928.2961983471,\"symbol\":\"circle\"},\"mode\":\"markers\",\"name\":\"Asia\",\"orientation\":\"v\",\"showlegend\":true,\"x\":[820.8530296,11635.79945,661.6374577,434.0383364,575.9870009,3629.076457,590.061996,858.9002707000002,3290.257643,6229.333562,5385.278451,4317.694365,1886.080591,1571.134655,1487.593537,113523.1329,6089.786934000002,1810.0669920000007,912.6626085,350.0,597.9363557999999,2242.746551,747.0835292,1547.944844,8157.5912480000015,2843.104409,1072.546602,2117.234893,1507.86129,793.5774147999998,676.2854477999998,1827.067742,804.8304547],\"xaxis\":\"x\",\"y\":[30.332,53.832,39.348,41.36600000000001,50.54896,64.75,40.249,39.918,47.181,48.437,67.84,65.5,45.669,54.081,52.681,58.033,59.489,52.102,45.24800000000001,41.905,37.686,40.08,45.557,51.334,42.868,63.179,61.456,48.284,62.4,53.63,42.887,45.67100000000001,33.97],\"yaxis\":\"y\",\"type\":\"scatter\"},{\"hovertemplate\":\"<b>%{hovertext}</b><br><br>continent=Europe<br>year=1957<br>gdpPercap=%{x}<br>lifeExp=%{y}<br>pop=%{marker.size}<extra></extra>\",\"hovertext\":[\"Albania\",\"Austria\",\"Belgium\",\"Bosnia and Herzegovina\",\"Bulgaria\",\"Croatia\",\"Czech Republic\",\"Denmark\",\"Finland\",\"France\",\"Germany\",\"Greece\",\"Hungary\",\"Iceland\",\"Ireland\",\"Italy\",\"Montenegro\",\"Netherlands\",\"Norway\",\"Poland\",\"Portugal\",\"Romania\",\"Serbia\",\"Slovak Republic\",\"Slovenia\",\"Spain\",\"Sweden\",\"Switzerland\",\"Turkey\",\"United Kingdom\"],\"ids\":[\"Albania\",\"Austria\",\"Belgium\",\"Bosnia and Herzegovina\",\"Bulgaria\",\"Croatia\",\"Czech Republic\",\"Denmark\",\"Finland\",\"France\",\"Germany\",\"Greece\",\"Hungary\",\"Iceland\",\"Ireland\",\"Italy\",\"Montenegro\",\"Netherlands\",\"Norway\",\"Poland\",\"Portugal\",\"Romania\",\"Serbia\",\"Slovak Republic\",\"Slovenia\",\"Spain\",\"Sweden\",\"Switzerland\",\"Turkey\",\"United Kingdom\"],\"legendgroup\":\"Europe\",\"marker\":{\"color\":\"#EF553B\",\"size\":[1476505,6965860,8989111,3076000,7651254,3991242,9513758,4487831,4324000,44310863,71019069,8096218,9839000,165110,2878220,49182000,442829,11026383,3491938,28235346,8817650,17829327,7271135,3844277,1533070,29841614,7363802,5126000,25670939,51430000],\"sizemode\":\"area\",\"sizeref\":435928.2961983471,\"symbol\":\"circle\"},\"mode\":\"markers\",\"name\":\"Europe\",\"orientation\":\"v\",\"showlegend\":true,\"x\":[1942.284244,8842.59803,9714.960623,1353.989176,3008.670727,4338.231617,8256.343918,11099.65935,7545.415386,8662.834898000001,10187.82665,4916.299889,6040.180011,9244.001412,5599.077872,6248.656232,3682.259903,11276.19344,11653.97304,4734.253019,3774.571743,3943.370225,4981.090891,6093.26298,5862.276629,4564.80241,9911.878226,17909.48973,2218.754257,11283.17795],\"xaxis\":\"x\",\"y\":[59.28,67.48,69.24,58.45,66.61,64.77,69.03,71.81,67.49,68.93,69.1,67.86,66.41,73.47,68.9,67.81,61.448,72.99,73.44,65.77,61.51,64.1,61.685,67.45,67.85,66.66,72.49,70.56,48.07899999999999,70.42],\"yaxis\":\"y\",\"type\":\"scatter\"},{\"hovertemplate\":\"<b>%{hovertext}</b><br><br>continent=Africa<br>year=1957<br>gdpPercap=%{x}<br>lifeExp=%{y}<br>pop=%{marker.size}<extra></extra>\",\"hovertext\":[\"Algeria\",\"Angola\",\"Benin\",\"Botswana\",\"Burkina Faso\",\"Burundi\",\"Cameroon\",\"Central African Republic\",\"Chad\",\"Comoros\",\"Congo, Dem. Rep.\",\"Congo, Rep.\",\"Cote d'Ivoire\",\"Djibouti\",\"Egypt\",\"Equatorial Guinea\",\"Eritrea\",\"Ethiopia\",\"Gabon\",\"Gambia\",\"Ghana\",\"Guinea\",\"Guinea-Bissau\",\"Kenya\",\"Lesotho\",\"Liberia\",\"Libya\",\"Madagascar\",\"Malawi\",\"Mali\",\"Mauritania\",\"Mauritius\",\"Morocco\",\"Mozambique\",\"Namibia\",\"Niger\",\"Nigeria\",\"Reunion\",\"Rwanda\",\"Sao Tome and Principe\",\"Senegal\",\"Sierra Leone\",\"Somalia\",\"South Africa\",\"Sudan\",\"Swaziland\",\"Tanzania\",\"Togo\",\"Tunisia\",\"Uganda\",\"Zambia\",\"Zimbabwe\"],\"ids\":[\"Algeria\",\"Angola\",\"Benin\",\"Botswana\",\"Burkina Faso\",\"Burundi\",\"Cameroon\",\"Central African Republic\",\"Chad\",\"Comoros\",\"Congo, Dem. Rep.\",\"Congo, Rep.\",\"Cote d'Ivoire\",\"Djibouti\",\"Egypt\",\"Equatorial Guinea\",\"Eritrea\",\"Ethiopia\",\"Gabon\",\"Gambia\",\"Ghana\",\"Guinea\",\"Guinea-Bissau\",\"Kenya\",\"Lesotho\",\"Liberia\",\"Libya\",\"Madagascar\",\"Malawi\",\"Mali\",\"Mauritania\",\"Mauritius\",\"Morocco\",\"Mozambique\",\"Namibia\",\"Niger\",\"Nigeria\",\"Reunion\",\"Rwanda\",\"Sao Tome and Principe\",\"Senegal\",\"Sierra Leone\",\"Somalia\",\"South Africa\",\"Sudan\",\"Swaziland\",\"Tanzania\",\"Togo\",\"Tunisia\",\"Uganda\",\"Zambia\",\"Zimbabwe\"],\"legendgroup\":\"Africa\",\"marker\":{\"color\":\"#00cc96\",\"size\":[10270856,4561361,1925173,474639,4713416,2667518,5359923,1392284,2894855,170928,15577932,940458,3300000,71851,25009741,232922,1542611,22815614,434904,323150,6391288,2876726,601095,7454779,813338,975950,1201578,5181679,3221238,4241884,1076852,609816,11406350,7038035,548080,3692184,37173340,308700,2822082,61325,3054547,2295678,2780415,16151549,9753392,326741,9452826,1357445,3950849,6675501,3016000,3646340],\"sizemode\":\"area\",\"sizeref\":435928.2961983471,\"symbol\":\"circle\"},\"mode\":\"markers\",\"name\":\"Africa\",\"orientation\":\"v\",\"showlegend\":true,\"x\":[3013.976023,3827.940465,959.6010805,918.2325349,617.1834647999998,379.5646281000001,1313.048099,1190.844328,1308.495577,1211.148548,905.8602303,2315.056572,1500.895925,2864.9690760000008,1458.915272,426.0964081,344.1618859,378.9041632,4976.198099,520.9267111,1043.5615369999996,576.2670245,431.79045660000014,944.4383152,335.9971151000001,620.9699901,3448.284395,1589.20275,416.3698064,490.3821867,846.1202613,2034.037981,1642.002314,495.58683330000014,2621.448058,835.5234025000002,1100.5925630000004,2769.451844,540.2893982999999,860.7369026,1567.653006,1004.484437,1258.147413,5487.104219,1770.3370739999998,1244.708364,698.5356073,925.9083202,1395.232468,774.3710692000002,1311.956766,518.7642681],\"xaxis\":\"x\",\"y\":[45.685,31.999,40.358,49.618,34.906,40.533,40.428,37.464,39.881,42.46,40.652,45.053,42.469,37.328,44.444,35.98300000000001,38.047,36.667,38.999,32.065,44.779,34.558,33.489000000000004,44.68600000000001,45.047,39.486,45.289,38.865,37.207,35.30699999999999,42.338,58.089,45.423,33.779,45.226000000000006,38.598,37.802,55.09,41.5,48.945,39.329,31.57,34.977,47.985,39.624,43.424,42.974,41.208,47.1,42.57100000000001,44.077,50.469],\"yaxis\":\"y\",\"type\":\"scatter\"},{\"hovertemplate\":\"<b>%{hovertext}</b><br><br>continent=Americas<br>year=1957<br>gdpPercap=%{x}<br>lifeExp=%{y}<br>pop=%{marker.size}<extra></extra>\",\"hovertext\":[\"Argentina\",\"Bolivia\",\"Brazil\",\"Canada\",\"Chile\",\"Colombia\",\"Costa Rica\",\"Cuba\",\"Dominican Republic\",\"Ecuador\",\"El Salvador\",\"Guatemala\",\"Haiti\",\"Honduras\",\"Jamaica\",\"Mexico\",\"Nicaragua\",\"Panama\",\"Paraguay\",\"Peru\",\"Puerto Rico\",\"Trinidad and Tobago\",\"United States\",\"Uruguay\",\"Venezuela\"],\"ids\":[\"Argentina\",\"Bolivia\",\"Brazil\",\"Canada\",\"Chile\",\"Colombia\",\"Costa Rica\",\"Cuba\",\"Dominican Republic\",\"Ecuador\",\"El Salvador\",\"Guatemala\",\"Haiti\",\"Honduras\",\"Jamaica\",\"Mexico\",\"Nicaragua\",\"Panama\",\"Paraguay\",\"Peru\",\"Puerto Rico\",\"Trinidad and Tobago\",\"United States\",\"Uruguay\",\"Venezuela\"],\"legendgroup\":\"Americas\",\"marker\":{\"color\":\"#ab63fa\",\"size\":[19610538,3211738,65551171,17010154,7048426,14485993,1112300,6640752,2923186,4058385,2355805,3640876,3507701,1770390,1535090,35015548,1358828,1063506,1770902,9146100,2260000,764900,171984000,2424959,6702668],\"sizemode\":\"area\",\"sizeref\":435928.2961983471,\"symbol\":\"circle\"},\"mode\":\"markers\",\"name\":\"Americas\",\"orientation\":\"v\",\"showlegend\":true,\"x\":[6856.8562120000015,2127.686326,2487.365989,12489.95006,4315.622723,2323.805581,2990.010802,6092.1743590000015,1544.402995,3780.546651,3421.523218,2617.155967,1726.887882,2220.487682,4756.525781,4131.546641,3457.415947,2961.800905,2046.154706,4245.256697999999,3907.156189,4100.3934,14847.12712,6150.772969,9802.466526],\"xaxis\":\"x\",\"y\":[64.399,41.89,53.285,69.96,56.074,55.118,60.026,62.325,49.828,51.356,48.57,44.142,40.696,44.665,62.61,55.19,45.432,59.201,63.19600000000001,46.26300000000001,68.54,61.8,69.49,67.044,57.907],\"yaxis\":\"y\",\"type\":\"scatter\"},{\"hovertemplate\":\"<b>%{hovertext}</b><br><br>continent=Oceania<br>year=1957<br>gdpPercap=%{x}<br>lifeExp=%{y}<br>pop=%{marker.size}<extra></extra>\",\"hovertext\":[\"Australia\",\"New Zealand\"],\"ids\":[\"Australia\",\"New Zealand\"],\"legendgroup\":\"Oceania\",\"marker\":{\"color\":\"#FFA15A\",\"size\":[9712569,2229407],\"sizemode\":\"area\",\"sizeref\":435928.2961983471,\"symbol\":\"circle\"},\"mode\":\"markers\",\"name\":\"Oceania\",\"orientation\":\"v\",\"showlegend\":true,\"x\":[10949.64959,12247.39532],\"xaxis\":\"x\",\"y\":[70.33,70.26],\"yaxis\":\"y\",\"type\":\"scatter\"}],\"name\":\"1957\"},{\"data\":[{\"hovertemplate\":\"<b>%{hovertext}</b><br><br>continent=Asia<br>year=1962<br>gdpPercap=%{x}<br>lifeExp=%{y}<br>pop=%{marker.size}<extra></extra>\",\"hovertext\":[\"Afghanistan\",\"Bahrain\",\"Bangladesh\",\"Cambodia\",\"China\",\"Hong Kong, China\",\"India\",\"Indonesia\",\"Iran\",\"Iraq\",\"Israel\",\"Japan\",\"Jordan\",\"Korea, Dem. Rep.\",\"Korea, Rep.\",\"Kuwait\",\"Lebanon\",\"Malaysia\",\"Mongolia\",\"Myanmar\",\"Nepal\",\"Oman\",\"Pakistan\",\"Philippines\",\"Saudi Arabia\",\"Singapore\",\"Sri Lanka\",\"Syria\",\"Taiwan\",\"Thailand\",\"Vietnam\",\"West Bank and Gaza\",\"Yemen, Rep.\"],\"ids\":[\"Afghanistan\",\"Bahrain\",\"Bangladesh\",\"Cambodia\",\"China\",\"Hong Kong, China\",\"India\",\"Indonesia\",\"Iran\",\"Iraq\",\"Israel\",\"Japan\",\"Jordan\",\"Korea, Dem. Rep.\",\"Korea, Rep.\",\"Kuwait\",\"Lebanon\",\"Malaysia\",\"Mongolia\",\"Myanmar\",\"Nepal\",\"Oman\",\"Pakistan\",\"Philippines\",\"Saudi Arabia\",\"Singapore\",\"Sri Lanka\",\"Syria\",\"Taiwan\",\"Thailand\",\"Vietnam\",\"West Bank and Gaza\",\"Yemen, Rep.\"],\"legendgroup\":\"Asia\",\"marker\":{\"color\":\"#636efa\",\"size\":[10267083,171863,56839289,6083619,665770000,3305200,454000000,99028000,22874000,7240260,2310904,95831757,933559,10917494,26420307,358266,1886848,8906385,1010280,23634436,10332057,628164,53100671,30325264,4943029,1750200,10421936,4834621,11918938,29263397,33796140,1133134,6120081],\"sizemode\":\"area\",\"sizeref\":435928.2961983471,\"symbol\":\"circle\"},\"mode\":\"markers\",\"name\":\"Asia\",\"orientation\":\"v\",\"showlegend\":true,\"x\":[853.1007099999998,12753.27514,686.3415537999998,496.9136476,487.6740183,4692.648271999999,658.3471509,849.2897700999998,4187.329802,8341.737815,7105.630706,6576.649461,2348.009158,1621.693598,1536.344387,95458.11176,5714.560611,2036.884944,1056.353958,388.0,652.3968593,2924.638113,803.3427418,1649.552153,11626.41975,3674.735572,1074.47196,2193.037133,1822.879028,1002.199172,772.0491602000002,2198.9563120000007,825.6232006],\"xaxis\":\"x\",\"y\":[31.997,56.923,41.216,43.415,44.50136,67.65,43.605,42.518,49.325,51.457,69.39,68.73,48.12600000000001,56.65600000000001,55.292,60.47,62.094,55.737,48.25100000000001,45.108,39.393,43.165,47.67,54.757,45.914,65.798,62.192,50.305,65.2,56.06100000000001,45.363,48.127,35.18],\"yaxis\":\"y\",\"type\":\"scatter\"},{\"hovertemplate\":\"<b>%{hovertext}</b><br><br>continent=Europe<br>year=1962<br>gdpPercap=%{x}<br>lifeExp=%{y}<br>pop=%{marker.size}<extra></extra>\",\"hovertext\":[\"Albania\",\"Austria\",\"Belgium\",\"Bosnia and Herzegovina\",\"Bulgaria\",\"Croatia\",\"Czech Republic\",\"Denmark\",\"Finland\",\"France\",\"Germany\",\"Greece\",\"Hungary\",\"Iceland\",\"Ireland\",\"Italy\",\"Montenegro\",\"Netherlands\",\"Norway\",\"Poland\",\"Portugal\",\"Romania\",\"Serbia\",\"Slovak Republic\",\"Slovenia\",\"Spain\",\"Sweden\",\"Switzerland\",\"Turkey\",\"United Kingdom\"],\"ids\":[\"Albania\",\"Austria\",\"Belgium\",\"Bosnia and Herzegovina\",\"Bulgaria\",\"Croatia\",\"Czech Republic\",\"Denmark\",\"Finland\",\"France\",\"Germany\",\"Greece\",\"Hungary\",\"Iceland\",\"Ireland\",\"Italy\",\"Montenegro\",\"Netherlands\",\"Norway\",\"Poland\",\"Portugal\",\"Romania\",\"Serbia\",\"Slovak Republic\",\"Slovenia\",\"Spain\",\"Sweden\",\"Switzerland\",\"Turkey\",\"United Kingdom\"],\"legendgroup\":\"Europe\",\"marker\":{\"color\":\"#EF553B\",\"size\":[1728137,7129864,9218400,3349000,8012946,4076557,9620282,4646899,4491443,47124000,73739117,8448233,10063000,182053,2830000,50843200,474528,11805689,3638919,30329617,9019800,18680721,7616060,4237384,1582962,31158061,7561588,5666000,29788695,53292000],\"sizemode\":\"area\",\"sizeref\":435928.2961983471,\"symbol\":\"circle\"},\"mode\":\"markers\",\"name\":\"Europe\",\"orientation\":\"v\",\"showlegend\":true,\"x\":[2312.888958,10750.72111,10991.20676,1709.683679,4254.337839,5477.890018,10136.86713,13583.31351,9371.842561,10560.48553,12902.46291,6017.190732999999,7550.359877,10350.15906,6631.597314,8243.58234,4649.593785,12790.84956,13450.40151,5338.752143,4727.954889,4734.997586,6289.629157,7481.107598,7402.303395,5693.843879,12329.44192,20431.0927,2322.869908,12477.17707],\"xaxis\":\"x\",\"y\":[64.82,69.54,70.25,61.93,69.51,67.13,69.9,72.35,68.75,70.51,70.3,69.51,67.96,73.68,70.29,69.24,63.728,73.23,73.47,67.64,64.39,66.8,64.531,70.33,69.15,69.69,73.37,71.32,52.098,70.76],\"yaxis\":\"y\",\"type\":\"scatter\"},{\"hovertemplate\":\"<b>%{hovertext}</b><br><br>continent=Africa<br>year=1962<br>gdpPercap=%{x}<br>lifeExp=%{y}<br>pop=%{marker.size}<extra></extra>\",\"hovertext\":[\"Algeria\",\"Angola\",\"Benin\",\"Botswana\",\"Burkina Faso\",\"Burundi\",\"Cameroon\",\"Central African Republic\",\"Chad\",\"Comoros\",\"Congo, Dem. Rep.\",\"Congo, Rep.\",\"Cote d'Ivoire\",\"Djibouti\",\"Egypt\",\"Equatorial Guinea\",\"Eritrea\",\"Ethiopia\",\"Gabon\",\"Gambia\",\"Ghana\",\"Guinea\",\"Guinea-Bissau\",\"Kenya\",\"Lesotho\",\"Liberia\",\"Libya\",\"Madagascar\",\"Malawi\",\"Mali\",\"Mauritania\",\"Mauritius\",\"Morocco\",\"Mozambique\",\"Namibia\",\"Niger\",\"Nigeria\",\"Reunion\",\"Rwanda\",\"Sao Tome and Principe\",\"Senegal\",\"Sierra Leone\",\"Somalia\",\"South Africa\",\"Sudan\",\"Swaziland\",\"Tanzania\",\"Togo\",\"Tunisia\",\"Uganda\",\"Zambia\",\"Zimbabwe\"],\"ids\":[\"Algeria\",\"Angola\",\"Benin\",\"Botswana\",\"Burkina Faso\",\"Burundi\",\"Cameroon\",\"Central African Republic\",\"Chad\",\"Comoros\",\"Congo, Dem. Rep.\",\"Congo, Rep.\",\"Cote d'Ivoire\",\"Djibouti\",\"Egypt\",\"Equatorial Guinea\",\"Eritrea\",\"Ethiopia\",\"Gabon\",\"Gambia\",\"Ghana\",\"Guinea\",\"Guinea-Bissau\",\"Kenya\",\"Lesotho\",\"Liberia\",\"Libya\",\"Madagascar\",\"Malawi\",\"Mali\",\"Mauritania\",\"Mauritius\",\"Morocco\",\"Mozambique\",\"Namibia\",\"Niger\",\"Nigeria\",\"Reunion\",\"Rwanda\",\"Sao Tome and Principe\",\"Senegal\",\"Sierra Leone\",\"Somalia\",\"South Africa\",\"Sudan\",\"Swaziland\",\"Tanzania\",\"Togo\",\"Tunisia\",\"Uganda\",\"Zambia\",\"Zimbabwe\"],\"legendgroup\":\"Africa\",\"marker\":{\"color\":\"#00cc96\",\"size\":[11000948,4826015,2151895,512764,4919632,2961915,5793633,1523478,3150417,191689,17486434,1047924,3832408,89898,28173309,249220,1666618,25145372,455661,374020,7355248,3140003,627820,8678557,893143,1112796,1441863,5703324,3628608,4690372,1146757,701016,13056604,7788944,621392,4076008,41871351,358900,3051242,65345,3430243,2467895,3080153,18356657,11183227,370006,10863958,1528098,4286552,7688797,3421000,4277736],\"sizemode\":\"area\",\"sizeref\":435928.2961983471,\"symbol\":\"circle\"},\"mode\":\"markers\",\"name\":\"Africa\",\"orientation\":\"v\",\"showlegend\":true,\"x\":[2550.81688,4269.276742,949.4990641,983.6539764,722.5120206,355.2032273,1399.607441,1193.068753,1389.817618,1406.648278,896.3146335000001,2464.783157,1728.8694280000002,3020.989263,1693.335853,582.8419713999998,380.9958433000001,419.4564161,6631.459222,599.650276,1190.041118,686.3736739,522.0343725,896.9663732,411.8006266,634.1951625,6757.030816,1643.38711,427.9010856,496.1743428,1055.896036,2529.0674870000007,1566.353493,556.6863539,3173.215595,997.7661127,1150.9274779999996,3173.72334,597.4730727000001,1071.551119,1654.988723,1116.6398769999996,1369.488336,5768.729717,1959.593767,1856.182125,722.0038073,1067.53481,1660.30321,767.2717397999999,1452.725766,527.2721818],\"xaxis\":\"x\",\"y\":[48.303,34.0,42.618,51.52,37.814,42.045,42.643,39.475,41.716,44.467,42.122,48.435,44.93,39.69300000000001,46.992,37.485,40.158,40.059,40.489,33.896,46.452,35.753,34.488,47.949,47.747,40.502,47.808,40.848,38.41,36.936,44.24800000000001,60.246,47.924,36.161,48.386,39.487,39.36,57.666,43.0,51.893,41.45399999999999,32.767,36.981,49.951,40.87,44.992,44.246,43.922,49.57899999999999,45.344,46.023,52.358],\"yaxis\":\"y\",\"type\":\"scatter\"},{\"hovertemplate\":\"<b>%{hovertext}</b><br><br>continent=Americas<br>year=1962<br>gdpPercap=%{x}<br>lifeExp=%{y}<br>pop=%{marker.size}<extra></extra>\",\"hovertext\":[\"Argentina\",\"Bolivia\",\"Brazil\",\"Canada\",\"Chile\",\"Colombia\",\"Costa Rica\",\"Cuba\",\"Dominican Republic\",\"Ecuador\",\"El Salvador\",\"Guatemala\",\"Haiti\",\"Honduras\",\"Jamaica\",\"Mexico\",\"Nicaragua\",\"Panama\",\"Paraguay\",\"Peru\",\"Puerto Rico\",\"Trinidad and Tobago\",\"United States\",\"Uruguay\",\"Venezuela\"],\"ids\":[\"Argentina\",\"Bolivia\",\"Brazil\",\"Canada\",\"Chile\",\"Colombia\",\"Costa Rica\",\"Cuba\",\"Dominican Republic\",\"Ecuador\",\"El Salvador\",\"Guatemala\",\"Haiti\",\"Honduras\",\"Jamaica\",\"Mexico\",\"Nicaragua\",\"Panama\",\"Paraguay\",\"Peru\",\"Puerto Rico\",\"Trinidad and Tobago\",\"United States\",\"Uruguay\",\"Venezuela\"],\"legendgroup\":\"Americas\",\"marker\":{\"color\":\"#ab63fa\",\"size\":[21283783,3593918,76039390,18985849,7961258,17009885,1345187,7254373,3453434,4681707,2747687,4208858,3880130,2090162,1665128,41121485,1590597,1215725,2009813,10516500,2448046,887498,186538000,2598466,8143375],\"sizemode\":\"area\",\"sizeref\":435928.2961983471,\"symbol\":\"circle\"},\"mode\":\"markers\",\"name\":\"Americas\",\"orientation\":\"v\",\"showlegend\":true,\"x\":[7133.166023000002,2180.972546,3336.585802,13462.48555,4519.094331,2492.351109,3460.937025,5180.75591,1662.137359,4086.114078,3776.803627,2750.364446,1796.589032,2291.156835,5246.107524,4581.609385,3634.364406,3536.540301,2148.027146,4957.037982,5108.34463,4997.523971000001,16173.14586,5603.357717,8422.974165000001],\"xaxis\":\"x\",\"y\":[65.142,43.428,55.665,71.3,57.924,57.863,62.842,65.24600000000001,53.459,54.64,52.307,46.95399999999999,43.59,48.041,65.61,58.299,48.632,61.817,64.361,49.096,69.62,64.9,70.21,68.253,60.77],\"yaxis\":\"y\",\"type\":\"scatter\"},{\"hovertemplate\":\"<b>%{hovertext}</b><br><br>continent=Oceania<br>year=1962<br>gdpPercap=%{x}<br>lifeExp=%{y}<br>pop=%{marker.size}<extra></extra>\",\"hovertext\":[\"Australia\",\"New Zealand\"],\"ids\":[\"Australia\",\"New Zealand\"],\"legendgroup\":\"Oceania\",\"marker\":{\"color\":\"#FFA15A\",\"size\":[10794968,2488550],\"sizemode\":\"area\",\"sizeref\":435928.2961983471,\"symbol\":\"circle\"},\"mode\":\"markers\",\"name\":\"Oceania\",\"orientation\":\"v\",\"showlegend\":true,\"x\":[12217.22686,13175.678],\"xaxis\":\"x\",\"y\":[70.93,71.24],\"yaxis\":\"y\",\"type\":\"scatter\"}],\"name\":\"1962\"},{\"data\":[{\"hovertemplate\":\"<b>%{hovertext}</b><br><br>continent=Asia<br>year=1967<br>gdpPercap=%{x}<br>lifeExp=%{y}<br>pop=%{marker.size}<extra></extra>\",\"hovertext\":[\"Afghanistan\",\"Bahrain\",\"Bangladesh\",\"Cambodia\",\"China\",\"Hong Kong, China\",\"India\",\"Indonesia\",\"Iran\",\"Iraq\",\"Israel\",\"Japan\",\"Jordan\",\"Korea, Dem. Rep.\",\"Korea, Rep.\",\"Kuwait\",\"Lebanon\",\"Malaysia\",\"Mongolia\",\"Myanmar\",\"Nepal\",\"Oman\",\"Pakistan\",\"Philippines\",\"Saudi Arabia\",\"Singapore\",\"Sri Lanka\",\"Syria\",\"Taiwan\",\"Thailand\",\"Vietnam\",\"West Bank and Gaza\",\"Yemen, Rep.\"],\"ids\":[\"Afghanistan\",\"Bahrain\",\"Bangladesh\",\"Cambodia\",\"China\",\"Hong Kong, China\",\"India\",\"Indonesia\",\"Iran\",\"Iraq\",\"Israel\",\"Japan\",\"Jordan\",\"Korea, Dem. Rep.\",\"Korea, Rep.\",\"Kuwait\",\"Lebanon\",\"Malaysia\",\"Mongolia\",\"Myanmar\",\"Nepal\",\"Oman\",\"Pakistan\",\"Philippines\",\"Saudi Arabia\",\"Singapore\",\"Sri Lanka\",\"Syria\",\"Taiwan\",\"Thailand\",\"Vietnam\",\"West Bank and Gaza\",\"Yemen, Rep.\"],\"legendgroup\":\"Asia\",\"marker\":{\"color\":\"#636efa\",\"size\":[11537966,202182,62821884,6960067,754550000,3722800,506000000,109343000,26538000,8519282,2693585,100825279,1255058,12617009,30131000,575003,2186894,10154878,1149500,25870271,11261690,714775,60641899,35356600,5618198,1977600,11737396,5680812,13648692,34024249,39463910,1142636,6740785],\"sizemode\":\"area\",\"sizeref\":435928.2961983471,\"symbol\":\"circle\"},\"mode\":\"markers\",\"name\":\"Asia\",\"orientation\":\"v\",\"showlegend\":true,\"x\":[836.1971382,14804.6727,721.1860862000002,523.4323142,612.7056934,6197.962814,700.7706107000001,762.4317721,5906.731804999999,8931.459811,8393.741404,9847.788607,2741.796252,2143.540609,2029.228142,80894.88326,6006.983042,2277.742396,1226.04113,349.0,676.4422254,4720.942687,942.4082588,1814.12743,16903.04886,4977.41854,1135.514326,1881.923632,2643.858681,1295.46066,637.1232887,2649.715007,862.4421463],\"xaxis\":\"x\",\"y\":[34.02,59.923,43.453,45.415,58.38112,70.0,47.19300000000001,45.964,52.469,54.459,70.75,71.43,51.629,59.942,57.716,64.624,63.87,59.371,51.253,49.379,41.472,46.988,49.8,56.393,49.901,67.946,64.266,53.655,67.5,58.285,47.838,51.631,36.984],\"yaxis\":\"y\",\"type\":\"scatter\"},{\"hovertemplate\":\"<b>%{hovertext}</b><br><br>continent=Europe<br>year=1967<br>gdpPercap=%{x}<br>lifeExp=%{y}<br>pop=%{marker.size}<extra></extra>\",\"hovertext\":[\"Albania\",\"Austria\",\"Belgium\",\"Bosnia and Herzegovina\",\"Bulgaria\",\"Croatia\",\"Czech Republic\",\"Denmark\",\"Finland\",\"France\",\"Germany\",\"Greece\",\"Hungary\",\"Iceland\",\"Ireland\",\"Italy\",\"Montenegro\",\"Netherlands\",\"Norway\",\"Poland\",\"Portugal\",\"Romania\",\"Serbia\",\"Slovak Republic\",\"Slovenia\",\"Spain\",\"Sweden\",\"Switzerland\",\"Turkey\",\"United Kingdom\"],\"ids\":[\"Albania\",\"Austria\",\"Belgium\",\"Bosnia and Herzegovina\",\"Bulgaria\",\"Croatia\",\"Czech Republic\",\"Denmark\",\"Finland\",\"France\",\"Germany\",\"Greece\",\"Hungary\",\"Iceland\",\"Ireland\",\"Italy\",\"Montenegro\",\"Netherlands\",\"Norway\",\"Poland\",\"Portugal\",\"Romania\",\"Serbia\",\"Slovak Republic\",\"Slovenia\",\"Spain\",\"Sweden\",\"Switzerland\",\"Turkey\",\"United Kingdom\"],\"legendgroup\":\"Europe\",\"marker\":{\"color\":\"#EF553B\",\"size\":[1984060,7376998,9556500,3585000,8310226,4174366,9835109,4838800,4605744,49569000,76368453,8716441,10223422,198676,2900100,52667100,501035,12596822,3786019,31785378,9103000,19284814,7971222,4442238,1646912,32850275,7867931,6063000,33411317,54959000],\"sizemode\":\"area\",\"sizeref\":435928.2961983471,\"symbol\":\"circle\"},\"mode\":\"markers\",\"name\":\"Europe\",\"orientation\":\"v\",\"showlegend\":true,\"x\":[2760.196931,12834.6024,13149.04119,2172.3524230000007,5577.0028,6960.297861,11399.44489,15937.21123,10921.63626,12999.91766,14745.62561,8513.097016,9326.64467,13319.89568,7655.568963,10022.40131,5907.850937,15363.25136,16361.87647,6557.152776,6361.517993,6470.866545,7991.707066,8412.902397,9405.489397,7993.512294,15258.29697,22966.14432,2826.3563870000007,14142.85089],\"xaxis\":\"x\",\"y\":[66.22,70.14,70.94,64.79,70.42,68.5,70.38,72.96,69.83,71.55,70.8,71.0,69.5,73.73,71.08,71.06,67.178,73.82,74.08,69.61,66.6,66.8,66.914,70.98,69.18,71.44,74.16,72.77,54.33600000000001,71.36],\"yaxis\":\"y\",\"type\":\"scatter\"},{\"hovertemplate\":\"<b>%{hovertext}</b><br><br>continent=Africa<br>year=1967<br>gdpPercap=%{x}<br>lifeExp=%{y}<br>pop=%{marker.size}<extra></extra>\",\"hovertext\":[\"Algeria\",\"Angola\",\"Benin\",\"Botswana\",\"Burkina Faso\",\"Burundi\",\"Cameroon\",\"Central African Republic\",\"Chad\",\"Comoros\",\"Congo, Dem. Rep.\",\"Congo, Rep.\",\"Cote d'Ivoire\",\"Djibouti\",\"Egypt\",\"Equatorial Guinea\",\"Eritrea\",\"Ethiopia\",\"Gabon\",\"Gambia\",\"Ghana\",\"Guinea\",\"Guinea-Bissau\",\"Kenya\",\"Lesotho\",\"Liberia\",\"Libya\",\"Madagascar\",\"Malawi\",\"Mali\",\"Mauritania\",\"Mauritius\",\"Morocco\",\"Mozambique\",\"Namibia\",\"Niger\",\"Nigeria\",\"Reunion\",\"Rwanda\",\"Sao Tome and Principe\",\"Senegal\",\"Sierra Leone\",\"Somalia\",\"South Africa\",\"Sudan\",\"Swaziland\",\"Tanzania\",\"Togo\",\"Tunisia\",\"Uganda\",\"Zambia\",\"Zimbabwe\"],\"ids\":[\"Algeria\",\"Angola\",\"Benin\",\"Botswana\",\"Burkina Faso\",\"Burundi\",\"Cameroon\",\"Central African Republic\",\"Chad\",\"Comoros\",\"Congo, Dem. Rep.\",\"Congo, Rep.\",\"Cote d'Ivoire\",\"Djibouti\",\"Egypt\",\"Equatorial Guinea\",\"Eritrea\",\"Ethiopia\",\"Gabon\",\"Gambia\",\"Ghana\",\"Guinea\",\"Guinea-Bissau\",\"Kenya\",\"Lesotho\",\"Liberia\",\"Libya\",\"Madagascar\",\"Malawi\",\"Mali\",\"Mauritania\",\"Mauritius\",\"Morocco\",\"Mozambique\",\"Namibia\",\"Niger\",\"Nigeria\",\"Reunion\",\"Rwanda\",\"Sao Tome and Principe\",\"Senegal\",\"Sierra Leone\",\"Somalia\",\"South Africa\",\"Sudan\",\"Swaziland\",\"Tanzania\",\"Togo\",\"Tunisia\",\"Uganda\",\"Zambia\",\"Zimbabwe\"],\"legendgroup\":\"Africa\",\"marker\":{\"color\":\"#00cc96\",\"size\":[12760499,5247469,2427334,553541,5127935,3330989,6335506,1733638,3495967,217378,19941073,1179760,4744870,127617,31681188,259864,1820319,27860297,489004,439593,8490213,3451418,601287,10191512,996380,1279406,1759224,6334556,4147252,5212416,1230542,789309,14770296,8680909,706640,4534062,47287752,414024,3451079,70787,3965841,2662190,3428839,20997321,12716129,420690,12607312,1735550,4786986,8900294,3900000,4995432],\"sizemode\":\"area\",\"sizeref\":435928.2961983471,\"symbol\":\"circle\"},\"mode\":\"markers\",\"name\":\"Africa\",\"orientation\":\"v\",\"showlegend\":true,\"x\":[3246.991771,5522.776375,1035.831411,1214.709294,794.8265597,412.97751360000007,1508.453148,1136.056615,1196.810565,1876.029643,861.5932424,2677.9396420000007,2052.050473,3020.050513,1814.880728,915.5960025,468.7949699,516.1186438,8358.761987,734.7829124,1125.69716,708.7595409,715.5806402000002,1056.736457,498.6390265,713.6036482999998,18772.75169,1634.047282,495.5147806,545.0098873,1421.145193,2475.387562,1711.04477,566.6691539,3793.694753,1054.384891,1014.514104,4021.175739,510.9637142,1384.840593,1612.404632,1206.043465,1284.7331800000004,7114.477970999998,1687.997641,2613.101665,848.2186575,1477.59676,1932.3601670000005,908.9185217,1777.077318,569.7950712],\"xaxis\":\"x\",\"y\":[51.407,35.985,44.885,53.298,40.697,43.548,44.799,41.478,43.601000000000006,46.472,44.056,52.04,47.35,42.074,49.293,38.987,42.18899999999999,42.115,44.598,35.857,48.072,37.197,35.492,50.654,48.492,41.536,50.227,42.881,39.487,38.487,46.289,61.557,50.335,38.113,51.159,40.118,41.04,60.542,44.1,54.425,43.563,34.113,38.977,51.927,42.858,46.633,45.757,46.769,52.053,48.051,47.768,53.995],\"yaxis\":\"y\",\"type\":\"scatter\"},{\"hovertemplate\":\"<b>%{hovertext}</b><br><br>continent=Americas<br>year=1967<br>gdpPercap=%{x}<br>lifeExp=%{y}<br>pop=%{marker.size}<extra></extra>\",\"hovertext\":[\"Argentina\",\"Bolivia\",\"Brazil\",\"Canada\",\"Chile\",\"Colombia\",\"Costa Rica\",\"Cuba\",\"Dominican Republic\",\"Ecuador\",\"El Salvador\",\"Guatemala\",\"Haiti\",\"Honduras\",\"Jamaica\",\"Mexico\",\"Nicaragua\",\"Panama\",\"Paraguay\",\"Peru\",\"Puerto Rico\",\"Trinidad and Tobago\",\"United States\",\"Uruguay\",\"Venezuela\"],\"ids\":[\"Argentina\",\"Bolivia\",\"Brazil\",\"Canada\",\"Chile\",\"Colombia\",\"Costa Rica\",\"Cuba\",\"Dominican Republic\",\"Ecuador\",\"El Salvador\",\"Guatemala\",\"Haiti\",\"Honduras\",\"Jamaica\",\"Mexico\",\"Nicaragua\",\"Panama\",\"Paraguay\",\"Peru\",\"Puerto Rico\",\"Trinidad and Tobago\",\"United States\",\"Uruguay\",\"Venezuela\"],\"legendgroup\":\"Americas\",\"marker\":{\"color\":\"#ab63fa\",\"size\":[22934225,4040665,88049823,20819767,8858908,19764027,1588717,8139332,4049146,5432424,3232927,4690773,4318137,2500689,1861096,47995559,1865490,1405486,2287985,12132200,2648961,960155,198712000,2748579,9709552],\"sizemode\":\"area\",\"sizeref\":435928.2961983471,\"symbol\":\"circle\"},\"mode\":\"markers\",\"name\":\"Americas\",\"orientation\":\"v\",\"showlegend\":true,\"x\":[8052.953020999998,2586.886053,3429.864357,16076.58803,5106.654313,2678.729839,4161.727834,5690.268015,1653.7230029999996,4579.074215,4358.595393,3242.531147,1452.057666,2538.269358,6124.703450999999,5754.733883,4643.393534000002,4421.009084,2299.376311,5788.09333,6929.277714,5621.368472,19530.36557,5444.61962,9541.474188],\"xaxis\":\"x\",\"y\":[65.634,45.032,57.632,72.13,60.523,59.963,65.42399999999999,68.29,56.75100000000001,56.678,55.855,50.01600000000001,46.243,50.924,67.51,60.11,51.88399999999999,64.071,64.95100000000001,51.445,71.1,65.4,70.76,68.468,63.479],\"yaxis\":\"y\",\"type\":\"scatter\"},{\"hovertemplate\":\"<b>%{hovertext}</b><br><br>continent=Oceania<br>year=1967<br>gdpPercap=%{x}<br>lifeExp=%{y}<br>pop=%{marker.size}<extra></extra>\",\"hovertext\":[\"Australia\",\"New Zealand\"],\"ids\":[\"Australia\",\"New Zealand\"],\"legendgroup\":\"Oceania\",\"marker\":{\"color\":\"#FFA15A\",\"size\":[11872264,2728150],\"sizemode\":\"area\",\"sizeref\":435928.2961983471,\"symbol\":\"circle\"},\"mode\":\"markers\",\"name\":\"Oceania\",\"orientation\":\"v\",\"showlegend\":true,\"x\":[14526.12465,14463.918930000002],\"xaxis\":\"x\",\"y\":[71.1,71.52],\"yaxis\":\"y\",\"type\":\"scatter\"}],\"name\":\"1967\"},{\"data\":[{\"hovertemplate\":\"<b>%{hovertext}</b><br><br>continent=Asia<br>year=1972<br>gdpPercap=%{x}<br>lifeExp=%{y}<br>pop=%{marker.size}<extra></extra>\",\"hovertext\":[\"Afghanistan\",\"Bahrain\",\"Bangladesh\",\"Cambodia\",\"China\",\"Hong Kong, China\",\"India\",\"Indonesia\",\"Iran\",\"Iraq\",\"Israel\",\"Japan\",\"Jordan\",\"Korea, Dem. Rep.\",\"Korea, Rep.\",\"Kuwait\",\"Lebanon\",\"Malaysia\",\"Mongolia\",\"Myanmar\",\"Nepal\",\"Oman\",\"Pakistan\",\"Philippines\",\"Saudi Arabia\",\"Singapore\",\"Sri Lanka\",\"Syria\",\"Taiwan\",\"Thailand\",\"Vietnam\",\"West Bank and Gaza\",\"Yemen, Rep.\"],\"ids\":[\"Afghanistan\",\"Bahrain\",\"Bangladesh\",\"Cambodia\",\"China\",\"Hong Kong, China\",\"India\",\"Indonesia\",\"Iran\",\"Iraq\",\"Israel\",\"Japan\",\"Jordan\",\"Korea, Dem. Rep.\",\"Korea, Rep.\",\"Kuwait\",\"Lebanon\",\"Malaysia\",\"Mongolia\",\"Myanmar\",\"Nepal\",\"Oman\",\"Pakistan\",\"Philippines\",\"Saudi Arabia\",\"Singapore\",\"Sri Lanka\",\"Syria\",\"Taiwan\",\"Thailand\",\"Vietnam\",\"West Bank and Gaza\",\"Yemen, Rep.\"],\"legendgroup\":\"Asia\",\"marker\":{\"color\":\"#636efa\",\"size\":[13079460,230800,70759295,7450606,862030000,4115700,567000000,121282000,30614000,10061506,3095893,107188273,1613551,14781241,33505000,841934,2680018,11441462,1320500,28466390,12412593,829050,69325921,40850141,6472756,2152400,13016733,6701172,15226039,39276153,44655014,1089572,7407075],\"sizemode\":\"area\",\"sizeref\":435928.2961983471,\"symbol\":\"circle\"},\"mode\":\"markers\",\"name\":\"Asia\",\"orientation\":\"v\",\"showlegend\":true,\"x\":[739.9811057999998,18268.65839,630.2336265,421.6240257,676.9000921,8315.928145,724.032527,1111.107907,9613.818607,9576.037596,12786.93223,14778.78636,2110.856309,3701.621503,3030.87665,109347.867,7486.384341,2849.09478,1421.741975,357.0,674.7881296,10618.03855,1049.938981,1989.37407,24837.42865,8597.756202,1213.39553,2571.423014,4062.523897,1524.358936,699.5016441,3133.409277,1265.047031],\"xaxis\":\"x\",\"y\":[36.088,63.3,45.252,40.317,63.11888,72.0,50.651,49.203,55.234,56.95,71.63,73.42,56.528,63.983,62.612,67.712,65.421,63.01,53.754,53.07,43.971,52.143,51.929,58.065,53.886,69.521,65.042,57.29600000000001,69.39,60.405,50.254,56.532,39.848],\"yaxis\":\"y\",\"type\":\"scatter\"},{\"hovertemplate\":\"<b>%{hovertext}</b><br><br>continent=Europe<br>year=1972<br>gdpPercap=%{x}<br>lifeExp=%{y}<br>pop=%{marker.size}<extra></extra>\",\"hovertext\":[\"Albania\",\"Austria\",\"Belgium\",\"Bosnia and Herzegovina\",\"Bulgaria\",\"Croatia\",\"Czech Republic\",\"Denmark\",\"Finland\",\"France\",\"Germany\",\"Greece\",\"Hungary\",\"Iceland\",\"Ireland\",\"Italy\",\"Montenegro\",\"Netherlands\",\"Norway\",\"Poland\",\"Portugal\",\"Romania\",\"Serbia\",\"Slovak Republic\",\"Slovenia\",\"Spain\",\"Sweden\",\"Switzerland\",\"Turkey\",\"United Kingdom\"],\"ids\":[\"Albania\",\"Austria\",\"Belgium\",\"Bosnia and Herzegovina\",\"Bulgaria\",\"Croatia\",\"Czech Republic\",\"Denmark\",\"Finland\",\"France\",\"Germany\",\"Greece\",\"Hungary\",\"Iceland\",\"Ireland\",\"Italy\",\"Montenegro\",\"Netherlands\",\"Norway\",\"Poland\",\"Portugal\",\"Romania\",\"Serbia\",\"Slovak Republic\",\"Slovenia\",\"Spain\",\"Sweden\",\"Switzerland\",\"Turkey\",\"United Kingdom\"],\"legendgroup\":\"Europe\",\"marker\":{\"color\":\"#EF553B\",\"size\":[2263554,7544201,9709100,3819000,8576200,4225310,9862158,4991596,4639657,51732000,78717088,8888628,10394091,209275,3024400,54365564,527678,13329874,3933004,33039545,8970450,20662648,8313288,4593433,1694510,34513161,8122293,6401400,37492953,56079000],\"sizemode\":\"area\",\"sizeref\":435928.2961983471,\"symbol\":\"circle\"},\"mode\":\"markers\",\"name\":\"Europe\",\"orientation\":\"v\",\"showlegend\":true,\"x\":[3313.422188,16661.6256,16672.14356,2860.16975,6597.494398,9164.090127,13108.4536,18866.20721,14358.8759,16107.19171,18016.18027,12724.82957,10168.65611,15798.06362,9530.772896,12269.27378,7778.414017,18794.74567,18965.05551,8006.506993000001,9022.247417,8011.4144019999985,10522.06749,9674.167626,12383.4862,10638.75131,17832.02464,27195.11304,3450.69638,15895.11641],\"xaxis\":\"x\",\"y\":[67.69,70.63,71.44,67.45,70.9,69.61,70.29,73.47,70.87,72.38,71.0,72.34,69.76,74.46,71.28,72.19,70.63600000000002,73.75,74.34,70.85,69.26,69.21,68.7,70.35,69.82,73.06,74.72,73.78,57.005,72.01],\"yaxis\":\"y\",\"type\":\"scatter\"},{\"hovertemplate\":\"<b>%{hovertext}</b><br><br>continent=Africa<br>year=1972<br>gdpPercap=%{x}<br>lifeExp=%{y}<br>pop=%{marker.size}<extra></extra>\",\"hovertext\":[\"Algeria\",\"Angola\",\"Benin\",\"Botswana\",\"Burkina Faso\",\"Burundi\",\"Cameroon\",\"Central African Republic\",\"Chad\",\"Comoros\",\"Congo, Dem. Rep.\",\"Congo, Rep.\",\"Cote d'Ivoire\",\"Djibouti\",\"Egypt\",\"Equatorial Guinea\",\"Eritrea\",\"Ethiopia\",\"Gabon\",\"Gambia\",\"Ghana\",\"Guinea\",\"Guinea-Bissau\",\"Kenya\",\"Lesotho\",\"Liberia\",\"Libya\",\"Madagascar\",\"Malawi\",\"Mali\",\"Mauritania\",\"Mauritius\",\"Morocco\",\"Mozambique\",\"Namibia\",\"Niger\",\"Nigeria\",\"Reunion\",\"Rwanda\",\"Sao Tome and Principe\",\"Senegal\",\"Sierra Leone\",\"Somalia\",\"South Africa\",\"Sudan\",\"Swaziland\",\"Tanzania\",\"Togo\",\"Tunisia\",\"Uganda\",\"Zambia\",\"Zimbabwe\"],\"ids\":[\"Algeria\",\"Angola\",\"Benin\",\"Botswana\",\"Burkina Faso\",\"Burundi\",\"Cameroon\",\"Central African Republic\",\"Chad\",\"Comoros\",\"Congo, Dem. Rep.\",\"Congo, Rep.\",\"Cote d'Ivoire\",\"Djibouti\",\"Egypt\",\"Equatorial Guinea\",\"Eritrea\",\"Ethiopia\",\"Gabon\",\"Gambia\",\"Ghana\",\"Guinea\",\"Guinea-Bissau\",\"Kenya\",\"Lesotho\",\"Liberia\",\"Libya\",\"Madagascar\",\"Malawi\",\"Mali\",\"Mauritania\",\"Mauritius\",\"Morocco\",\"Mozambique\",\"Namibia\",\"Niger\",\"Nigeria\",\"Reunion\",\"Rwanda\",\"Sao Tome and Principe\",\"Senegal\",\"Sierra Leone\",\"Somalia\",\"South Africa\",\"Sudan\",\"Swaziland\",\"Tanzania\",\"Togo\",\"Tunisia\",\"Uganda\",\"Zambia\",\"Zimbabwe\"],\"legendgroup\":\"Africa\",\"marker\":{\"color\":\"#00cc96\",\"size\":[14760787,5894858,2761407,619351,5433886,3529983,7021028,1927260,3899068,250027,23007669,1340458,6071696,178848,34807417,277603,2260187,30770372,537977,517101,9354120,3811387,625361,12044785,1116779,1482628,2183877,7082430,4730997,5828158,1332786,851334,16660670,9809596,821782,5060262,53740085,461633,3992121,76595,4588696,2879013,3840161,23935810,14597019,480105,14706593,2056351,5303507,10190285,4506497,5861135],\"sizemode\":\"area\",\"sizeref\":435928.2961983471,\"symbol\":\"circle\"},\"mode\":\"markers\",\"name\":\"Africa\",\"orientation\":\"v\",\"showlegend\":true,\"x\":[4182.663766,5473.288004999999,1085.796879,2263.6111140000007,854.7359763000002,464.0995039,1684.1465280000002,1070.013275,1104.103987,1937.577675,904.8960685,3213.152683,2378.201111,3694.2123520000014,2024.008147,672.4122571,514.3242081999998,566.2439442000001,11401.94841,756.0868363,1178.223708,741.6662307,820.2245876000002,1222.359968,496.5815922000001,803.0054535,21011.49721,1748.562982,584.6219709,581.3688761,1586.851781,2575.484158,1930.194975,724.9178037,3746.080948,954.2092363,1698.388838,5047.658563,590.5806637999998,1532.985254,1597.712056,1353.759762,1254.576127,7765.962636,1659.652775,3364.836625,915.9850592,1649.660188,2753.2859940000008,950.735869,1773.498265,799.3621757999998],\"xaxis\":\"x\",\"y\":[54.518,37.928,47.014,56.024,43.591,44.057,47.049,43.457,45.569,48.944,45.989,54.907,49.801,44.36600000000001,51.137,40.516,44.142,43.515,48.69,38.308,49.875,38.842,36.486,53.559,49.767,42.614,52.773,44.851000000000006,41.76600000000001,39.977,48.437,62.944,52.862,40.328,53.867,40.546,42.82100000000001,64.274,44.6,56.48,45.815,35.4,40.973,53.69600000000001,45.083,49.552,47.62,49.75899999999999,55.602,51.01600000000001,50.107,55.635],\"yaxis\":\"y\",\"type\":\"scatter\"},{\"hovertemplate\":\"<b>%{hovertext}</b><br><br>continent=Americas<br>year=1972<br>gdpPercap=%{x}<br>lifeExp=%{y}<br>pop=%{marker.size}<extra></extra>\",\"hovertext\":[\"Argentina\",\"Bolivia\",\"Brazil\",\"Canada\",\"Chile\",\"Colombia\",\"Costa Rica\",\"Cuba\",\"Dominican Republic\",\"Ecuador\",\"El Salvador\",\"Guatemala\",\"Haiti\",\"Honduras\",\"Jamaica\",\"Mexico\",\"Nicaragua\",\"Panama\",\"Paraguay\",\"Peru\",\"Puerto Rico\",\"Trinidad and Tobago\",\"United States\",\"Uruguay\",\"Venezuela\"],\"ids\":[\"Argentina\",\"Bolivia\",\"Brazil\",\"Canada\",\"Chile\",\"Colombia\",\"Costa Rica\",\"Cuba\",\"Dominican Republic\",\"Ecuador\",\"El Salvador\",\"Guatemala\",\"Haiti\",\"Honduras\",\"Jamaica\",\"Mexico\",\"Nicaragua\",\"Panama\",\"Paraguay\",\"Peru\",\"Puerto Rico\",\"Trinidad and Tobago\",\"United States\",\"Uruguay\",\"Venezuela\"],\"legendgroup\":\"Americas\",\"marker\":{\"color\":\"#ab63fa\",\"size\":[24779799,4565872,100840058,22284500,9717524,22542890,1834796,8831348,4671329,6298651,3790903,5149581,4698301,2965146,1997616,55984294,2182908,1616384,2614104,13954700,2847132,975199,209896000,2829526,11515649],\"sizemode\":\"area\",\"sizeref\":435928.2961983471,\"symbol\":\"circle\"},\"mode\":\"markers\",\"name\":\"Americas\",\"orientation\":\"v\",\"showlegend\":true,\"x\":[9443.038526,2980.331339,4985.711467,18970.57086,5494.024437,3264.660041,5118.146939,5305.445256,2189.874499,5280.99471,4520.246008,4031.408271,1654.456946,2529.842345,7433.889293000001,6809.406690000002,4688.593267,5364.249663000001,2523.337977,5937.827283,9123.041742,6619.551418999999,21806.03594,5703.408898,10505.25966],\"xaxis\":\"x\",\"y\":[67.065,46.714,59.504,72.88,63.441,61.62300000000001,67.84899999999999,70.723,59.631,58.79600000000001,58.207,53.738,48.042,53.88399999999999,69.0,62.361,55.151,66.21600000000001,65.815,55.448,72.16,65.9,71.34,68.673,65.712],\"yaxis\":\"y\",\"type\":\"scatter\"},{\"hovertemplate\":\"<b>%{hovertext}</b><br><br>continent=Oceania<br>year=1972<br>gdpPercap=%{x}<br>lifeExp=%{y}<br>pop=%{marker.size}<extra></extra>\",\"hovertext\":[\"Australia\",\"New Zealand\"],\"ids\":[\"Australia\",\"New Zealand\"],\"legendgroup\":\"Oceania\",\"marker\":{\"color\":\"#FFA15A\",\"size\":[13177000,2929100],\"sizemode\":\"area\",\"sizeref\":435928.2961983471,\"symbol\":\"circle\"},\"mode\":\"markers\",\"name\":\"Oceania\",\"orientation\":\"v\",\"showlegend\":true,\"x\":[16788.62948,16046.03728],\"xaxis\":\"x\",\"y\":[71.93,71.89],\"yaxis\":\"y\",\"type\":\"scatter\"}],\"name\":\"1972\"},{\"data\":[{\"hovertemplate\":\"<b>%{hovertext}</b><br><br>continent=Asia<br>year=1977<br>gdpPercap=%{x}<br>lifeExp=%{y}<br>pop=%{marker.size}<extra></extra>\",\"hovertext\":[\"Afghanistan\",\"Bahrain\",\"Bangladesh\",\"Cambodia\",\"China\",\"Hong Kong, China\",\"India\",\"Indonesia\",\"Iran\",\"Iraq\",\"Israel\",\"Japan\",\"Jordan\",\"Korea, Dem. Rep.\",\"Korea, Rep.\",\"Kuwait\",\"Lebanon\",\"Malaysia\",\"Mongolia\",\"Myanmar\",\"Nepal\",\"Oman\",\"Pakistan\",\"Philippines\",\"Saudi Arabia\",\"Singapore\",\"Sri Lanka\",\"Syria\",\"Taiwan\",\"Thailand\",\"Vietnam\",\"West Bank and Gaza\",\"Yemen, Rep.\"],\"ids\":[\"Afghanistan\",\"Bahrain\",\"Bangladesh\",\"Cambodia\",\"China\",\"Hong Kong, China\",\"India\",\"Indonesia\",\"Iran\",\"Iraq\",\"Israel\",\"Japan\",\"Jordan\",\"Korea, Dem. Rep.\",\"Korea, Rep.\",\"Kuwait\",\"Lebanon\",\"Malaysia\",\"Mongolia\",\"Myanmar\",\"Nepal\",\"Oman\",\"Pakistan\",\"Philippines\",\"Saudi Arabia\",\"Singapore\",\"Sri Lanka\",\"Syria\",\"Taiwan\",\"Thailand\",\"Vietnam\",\"West Bank and Gaza\",\"Yemen, Rep.\"],\"legendgroup\":\"Asia\",\"marker\":{\"color\":\"#636efa\",\"size\":[14880372,297410,80428306,6978607,943455000,4583700,634000000,136725000,35480679,11882916,3495918,113872473,1937652,16325320,36436000,1140357,3115787,12845381,1528000,31528087,13933198,1004533,78152686,46850962,8128505,2325300,14116836,7932503,16785196,44148285,50533506,1261091,8403990],\"sizemode\":\"area\",\"sizeref\":435928.2961983471,\"symbol\":\"circle\"},\"mode\":\"markers\",\"name\":\"Asia\",\"orientation\":\"v\",\"showlegend\":true,\"x\":[786.11336,19340.10196,659.8772322000002,524.9721831999999,741.2374699,11186.14125,813.3373230000002,1382.702056,11888.59508,14688.23507,13306.61921,16610.37701,2852.351568,4106.301249,4657.22102,59265.47714,8659.696836,3827.921571,1647.511665,371.0,694.1124398,11848.34392,1175.921193,2373.204287,34167.7626,11210.08948,1348.775651,3195.484582,5596.519826,1961.2246350000007,713.5371196000001,3682.831494,1829.765177],\"xaxis\":\"x\",\"y\":[38.438,65.593,46.923,31.22,63.96736,73.6,54.208,52.702,57.702,60.413,73.06,75.38,61.13399999999999,67.15899999999999,64.766,69.343,66.09899999999999,65.256,55.49100000000001,56.059,46.74800000000001,57.367,54.043,60.06,58.69,70.795,65.949,61.195,70.59,62.494,55.764,60.765,44.175],\"yaxis\":\"y\",\"type\":\"scatter\"},{\"hovertemplate\":\"<b>%{hovertext}</b><br><br>continent=Europe<br>year=1977<br>gdpPercap=%{x}<br>lifeExp=%{y}<br>pop=%{marker.size}<extra></extra>\",\"hovertext\":[\"Albania\",\"Austria\",\"Belgium\",\"Bosnia and Herzegovina\",\"Bulgaria\",\"Croatia\",\"Czech Republic\",\"Denmark\",\"Finland\",\"France\",\"Germany\",\"Greece\",\"Hungary\",\"Iceland\",\"Ireland\",\"Italy\",\"Montenegro\",\"Netherlands\",\"Norway\",\"Poland\",\"Portugal\",\"Romania\",\"Serbia\",\"Slovak Republic\",\"Slovenia\",\"Spain\",\"Sweden\",\"Switzerland\",\"Turkey\",\"United Kingdom\"],\"ids\":[\"Albania\",\"Austria\",\"Belgium\",\"Bosnia and Herzegovina\",\"Bulgaria\",\"Croatia\",\"Czech Republic\",\"Denmark\",\"Finland\",\"France\",\"Germany\",\"Greece\",\"Hungary\",\"Iceland\",\"Ireland\",\"Italy\",\"Montenegro\",\"Netherlands\",\"Norway\",\"Poland\",\"Portugal\",\"Romania\",\"Serbia\",\"Slovak Republic\",\"Slovenia\",\"Spain\",\"Sweden\",\"Switzerland\",\"Turkey\",\"United Kingdom\"],\"legendgroup\":\"Europe\",\"marker\":{\"color\":\"#EF553B\",\"size\":[2509048,7568430,9821800,4086000,8797022,4318673,10161915,5088419,4738902,53165019,78160773,9308479,10637171,221823,3271900,56059245,560073,13852989,4043205,34621254,9662600,21658597,8686367,4827803,1746919,36439000,8251648,6316424,42404033,56179000],\"sizemode\":\"area\",\"sizeref\":435928.2961983471,\"symbol\":\"circle\"},\"mode\":\"markers\",\"name\":\"Europe\",\"orientation\":\"v\",\"showlegend\":true,\"x\":[3533.003910000001,19749.4223,19117.97448,3528.481305,7612.240438,11305.38517,14800.16062,20422.9015,15605.42283,18292.63514,20512.92123,14195.52428,11674.83737,19654.96247,11150.98113,14255.98475,9595.929905,21209.0592,23311.34939,9508.141454,10172.48572,9356.39724,12980.66956,10922.66404,15277.030169999998,13236.92117,18855.72521,26982.29052,4269.122326,17428.74846],\"xaxis\":\"x\",\"y\":[68.93,72.17,72.8,69.86,70.81,70.64,70.71,74.69,72.52,73.83,72.5,73.68,69.95,76.11,72.03,73.48,73.066,75.24,75.37,70.67,70.41,69.46,70.3,70.45,70.97,74.39,75.44,75.39,59.507,72.76],\"yaxis\":\"y\",\"type\":\"scatter\"},{\"hovertemplate\":\"<b>%{hovertext}</b><br><br>continent=Africa<br>year=1977<br>gdpPercap=%{x}<br>lifeExp=%{y}<br>pop=%{marker.size}<extra></extra>\",\"hovertext\":[\"Algeria\",\"Angola\",\"Benin\",\"Botswana\",\"Burkina Faso\",\"Burundi\",\"Cameroon\",\"Central African Republic\",\"Chad\",\"Comoros\",\"Congo, Dem. Rep.\",\"Congo, Rep.\",\"Cote d'Ivoire\",\"Djibouti\",\"Egypt\",\"Equatorial Guinea\",\"Eritrea\",\"Ethiopia\",\"Gabon\",\"Gambia\",\"Ghana\",\"Guinea\",\"Guinea-Bissau\",\"Kenya\",\"Lesotho\",\"Liberia\",\"Libya\",\"Madagascar\",\"Malawi\",\"Mali\",\"Mauritania\",\"Mauritius\",\"Morocco\",\"Mozambique\",\"Namibia\",\"Niger\",\"Nigeria\",\"Reunion\",\"Rwanda\",\"Sao Tome and Principe\",\"Senegal\",\"Sierra Leone\",\"Somalia\",\"South Africa\",\"Sudan\",\"Swaziland\",\"Tanzania\",\"Togo\",\"Tunisia\",\"Uganda\",\"Zambia\",\"Zimbabwe\"],\"ids\":[\"Algeria\",\"Angola\",\"Benin\",\"Botswana\",\"Burkina Faso\",\"Burundi\",\"Cameroon\",\"Central African Republic\",\"Chad\",\"Comoros\",\"Congo, Dem. Rep.\",\"Congo, Rep.\",\"Cote d'Ivoire\",\"Djibouti\",\"Egypt\",\"Equatorial Guinea\",\"Eritrea\",\"Ethiopia\",\"Gabon\",\"Gambia\",\"Ghana\",\"Guinea\",\"Guinea-Bissau\",\"Kenya\",\"Lesotho\",\"Liberia\",\"Libya\",\"Madagascar\",\"Malawi\",\"Mali\",\"Mauritania\",\"Mauritius\",\"Morocco\",\"Mozambique\",\"Namibia\",\"Niger\",\"Nigeria\",\"Reunion\",\"Rwanda\",\"Sao Tome and Principe\",\"Senegal\",\"Sierra Leone\",\"Somalia\",\"South Africa\",\"Sudan\",\"Swaziland\",\"Tanzania\",\"Togo\",\"Tunisia\",\"Uganda\",\"Zambia\",\"Zimbabwe\"],\"legendgroup\":\"Africa\",\"marker\":{\"color\":\"#00cc96\",\"size\":[17152804,6162675,3168267,781472,5889574,3834415,7959865,2167533,4388260,304739,26480870,1536769,7459574,228694,38783863,192675,2512642,34617799,706367,608274,10538093,4227026,745228,14500404,1251524,1703617,2721783,8007166,5637246,6491649,1456688,913025,18396941,11127868,977026,5682086,62209173,492095,4657072,86796,5260855,3140897,4353666,27129932,17104986,551425,17129565,2308582,6005061,11457758,5216550,6642107],\"sizemode\":\"area\",\"sizeref\":435928.2961983471,\"symbol\":\"circle\"},\"mode\":\"markers\",\"name\":\"Africa\",\"orientation\":\"v\",\"showlegend\":true,\"x\":[4910.416756000001,3008.647355,1029.161251,3214.857818,743.3870368,556.1032651,1783.432873,1109.374338,1133.98495,1172.603047,795.757282,3259.178978,2517.736547,3081.761022,2785.493582,958.5668124,505.7538077,556.8083834,21745.57328,884.7552507000001,993.2239571,874.6858642999998,764.7259627999998,1267.613204,745.3695408,640.3224382999998,21951.21176,1544.228586,663.2236766,686.3952693,1497.492223,3710.982963,2370.619976,502.3197334,3876.485958,808.8970727999998,1981.951806,4319.804067,670.0806011,1737.561657,1561.769116,1348.285159,1450.992513,8028.651439,2202.988423,3781.410618,962.4922932,1532.776998,3120.876811,843.7331372000001,1588.688299,685.5876821],\"xaxis\":\"x\",\"y\":[58.014,39.483,49.19,59.319,46.137,45.91,49.355,46.775,47.383,50.93899999999999,47.804,55.625,52.374,46.519,53.319,42.024,44.535,44.51,52.79,41.842,51.756,40.762,37.465,56.155,52.208,43.764,57.442,46.881,43.767,41.714,50.852,64.93,55.73,42.495,56.437,41.291,44.514,67.064,45.0,58.55,48.879,36.788,41.974,55.527,47.8,52.537,49.919,52.887,59.837,50.35,51.386,57.674],\"yaxis\":\"y\",\"type\":\"scatter\"},{\"hovertemplate\":\"<b>%{hovertext}</b><br><br>continent=Americas<br>year=1977<br>gdpPercap=%{x}<br>lifeExp=%{y}<br>pop=%{marker.size}<extra></extra>\",\"hovertext\":[\"Argentina\",\"Bolivia\",\"Brazil\",\"Canada\",\"Chile\",\"Colombia\",\"Costa Rica\",\"Cuba\",\"Dominican Republic\",\"Ecuador\",\"El Salvador\",\"Guatemala\",\"Haiti\",\"Honduras\",\"Jamaica\",\"Mexico\",\"Nicaragua\",\"Panama\",\"Paraguay\",\"Peru\",\"Puerto Rico\",\"Trinidad and Tobago\",\"United States\",\"Uruguay\",\"Venezuela\"],\"ids\":[\"Argentina\",\"Bolivia\",\"Brazil\",\"Canada\",\"Chile\",\"Colombia\",\"Costa Rica\",\"Cuba\",\"Dominican Republic\",\"Ecuador\",\"El Salvador\",\"Guatemala\",\"Haiti\",\"Honduras\",\"Jamaica\",\"Mexico\",\"Nicaragua\",\"Panama\",\"Paraguay\",\"Peru\",\"Puerto Rico\",\"Trinidad and Tobago\",\"United States\",\"Uruguay\",\"Venezuela\"],\"legendgroup\":\"Americas\",\"marker\":{\"color\":\"#ab63fa\",\"size\":[26983828,5079716,114313951,23796400,10599793,25094412,2108457,9537988,5302800,7278866,4282586,5703430,4908554,3055235,2156814,63759976,2554598,1839782,2984494,15990099,3080828,1039009,220239000,2873520,13503563],\"sizemode\":\"area\",\"sizeref\":435928.2961983471,\"symbol\":\"circle\"},\"mode\":\"markers\",\"name\":\"Americas\",\"orientation\":\"v\",\"showlegend\":true,\"x\":[10079.02674,3548.097832,6660.118654,22090.88306,4756.763836,3815.80787,5926.876967,6380.494965999998,2681.9889,6679.62326,5138.922374,4879.992748,1874.298931,3203.208066,6650.195573,7674.929108,5486.371089,5351.912144,3248.373311,6281.290854999998,9770.524921,7899.554209000001,24072.63213,6504.339663000002,13143.95095],\"xaxis\":\"x\",\"y\":[68.48100000000001,50.023,61.489,74.21,67.05199999999999,63.837,70.75,72.649,61.788,61.31,56.69600000000001,56.029,49.923,57.402,70.11,65.032,57.47,68.681,66.35300000000001,58.447,73.44,68.3,73.38,69.48100000000001,67.456],\"yaxis\":\"y\",\"type\":\"scatter\"},{\"hovertemplate\":\"<b>%{hovertext}</b><br><br>continent=Oceania<br>year=1977<br>gdpPercap=%{x}<br>lifeExp=%{y}<br>pop=%{marker.size}<extra></extra>\",\"hovertext\":[\"Australia\",\"New Zealand\"],\"ids\":[\"Australia\",\"New Zealand\"],\"legendgroup\":\"Oceania\",\"marker\":{\"color\":\"#FFA15A\",\"size\":[14074100,3164900],\"sizemode\":\"area\",\"sizeref\":435928.2961983471,\"symbol\":\"circle\"},\"mode\":\"markers\",\"name\":\"Oceania\",\"orientation\":\"v\",\"showlegend\":true,\"x\":[18334.19751,16233.7177],\"xaxis\":\"x\",\"y\":[73.49,72.22],\"yaxis\":\"y\",\"type\":\"scatter\"}],\"name\":\"1977\"},{\"data\":[{\"hovertemplate\":\"<b>%{hovertext}</b><br><br>continent=Asia<br>year=1982<br>gdpPercap=%{x}<br>lifeExp=%{y}<br>pop=%{marker.size}<extra></extra>\",\"hovertext\":[\"Afghanistan\",\"Bahrain\",\"Bangladesh\",\"Cambodia\",\"China\",\"Hong Kong, China\",\"India\",\"Indonesia\",\"Iran\",\"Iraq\",\"Israel\",\"Japan\",\"Jordan\",\"Korea, Dem. Rep.\",\"Korea, Rep.\",\"Kuwait\",\"Lebanon\",\"Malaysia\",\"Mongolia\",\"Myanmar\",\"Nepal\",\"Oman\",\"Pakistan\",\"Philippines\",\"Saudi Arabia\",\"Singapore\",\"Sri Lanka\",\"Syria\",\"Taiwan\",\"Thailand\",\"Vietnam\",\"West Bank and Gaza\",\"Yemen, Rep.\"],\"ids\":[\"Afghanistan\",\"Bahrain\",\"Bangladesh\",\"Cambodia\",\"China\",\"Hong Kong, China\",\"India\",\"Indonesia\",\"Iran\",\"Iraq\",\"Israel\",\"Japan\",\"Jordan\",\"Korea, Dem. Rep.\",\"Korea, Rep.\",\"Kuwait\",\"Lebanon\",\"Malaysia\",\"Mongolia\",\"Myanmar\",\"Nepal\",\"Oman\",\"Pakistan\",\"Philippines\",\"Saudi Arabia\",\"Singapore\",\"Sri Lanka\",\"Syria\",\"Taiwan\",\"Thailand\",\"Vietnam\",\"West Bank and Gaza\",\"Yemen, Rep.\"],\"legendgroup\":\"Asia\",\"marker\":{\"color\":\"#636efa\",\"size\":[12881816,377967,93074406,7272485,1000281000,5264500,708000000,153343000,43072751,14173318,3858421,118454974,2347031,17647518,39326000,1497494,3086876,14441916,1756032,34680442,15796314,1301048,91462088,53456774,11254672,2651869,15410151,9410494,18501390,48827160,56142181,1425876,9657618],\"sizemode\":\"area\",\"sizeref\":435928.2961983471,\"symbol\":\"circle\"},\"mode\":\"markers\",\"name\":\"Asia\",\"orientation\":\"v\",\"showlegend\":true,\"x\":[978.0114388,19211.14731,676.9818656,624.4754784,962.4213805,14560.53051,855.7235377000002,1516.872988,7608.334602,14517.90711,15367.0292,19384.10571,4161.415959,4106.525293,5622.942464,31354.03573,7640.519520999998,4920.355951,2000.603139,424.0,718.3730947,12954.79101,1443.429832,2603.273765,33693.17525,15169.16112,1648.079789,3761.837715,7426.3547739999985,2393.219781,707.2357863,4336.032082,1977.55701],\"xaxis\":\"x\",\"y\":[39.854,69.05199999999999,50.00899999999999,50.957,65.525,75.45,56.596,56.159,59.62,62.038,74.45,77.11,63.739,69.1,67.123,71.309,66.983,68.0,57.489,58.056,49.594,62.728,56.158,62.082,63.012,71.76,68.757,64.59,72.16,64.597,58.816,64.406,49.113],\"yaxis\":\"y\",\"type\":\"scatter\"},{\"hovertemplate\":\"<b>%{hovertext}</b><br><br>continent=Europe<br>year=1982<br>gdpPercap=%{x}<br>lifeExp=%{y}<br>pop=%{marker.size}<extra></extra>\",\"hovertext\":[\"Albania\",\"Austria\",\"Belgium\",\"Bosnia and Herzegovina\",\"Bulgaria\",\"Croatia\",\"Czech Republic\",\"Denmark\",\"Finland\",\"France\",\"Germany\",\"Greece\",\"Hungary\",\"Iceland\",\"Ireland\",\"Italy\",\"Montenegro\",\"Netherlands\",\"Norway\",\"Poland\",\"Portugal\",\"Romania\",\"Serbia\",\"Slovak Republic\",\"Slovenia\",\"Spain\",\"Sweden\",\"Switzerland\",\"Turkey\",\"United Kingdom\"],\"ids\":[\"Albania\",\"Austria\",\"Belgium\",\"Bosnia and Herzegovina\",\"Bulgaria\",\"Croatia\",\"Czech Republic\",\"Denmark\",\"Finland\",\"France\",\"Germany\",\"Greece\",\"Hungary\",\"Iceland\",\"Ireland\",\"Italy\",\"Montenegro\",\"Netherlands\",\"Norway\",\"Poland\",\"Portugal\",\"Romania\",\"Serbia\",\"Slovak Republic\",\"Slovenia\",\"Spain\",\"Sweden\",\"Switzerland\",\"Turkey\",\"United Kingdom\"],\"legendgroup\":\"Europe\",\"marker\":{\"color\":\"#EF553B\",\"size\":[2780097,7574613,9856303,4172693,8892098,4413368,10303704,5117810,4826933,54433565,78335266,9786480,10705535,233997,3480000,56535636,562548,14310401,4114787,36227381,9859650,22356726,9032824,5048043,1861252,37983310,8325260,6468126,47328791,56339704],\"sizemode\":\"area\",\"sizeref\":435928.2961983471,\"symbol\":\"circle\"},\"mode\":\"markers\",\"name\":\"Europe\",\"orientation\":\"v\",\"showlegend\":true,\"x\":[3630.880722,21597.08362,20979.84589,4126.613157,8224.191647,13221.82184,15377.22855,21688.04048,18533.15761,20293.89746,22031.53274,15268.42089,12545.99066,23269.6075,12618.32141,16537.4835,11222.58762,21399.46046,26298.63531,8451.531004,11753.84291,9605.314053,15181.0927,11348.54585,17866.72175,13926.16997,20667.38125,28397.71512,4241.356344,18232.42452],\"xaxis\":\"x\",\"y\":[70.42,73.18,73.93,70.69,71.08,70.46,70.96,74.63,74.55,74.89,73.8,75.24,69.39,76.99,73.1,74.98,74.101,76.05,75.97,71.32,72.77,69.66,70.16199999999999,70.8,71.063,76.3,76.42,76.21,61.036,74.04],\"yaxis\":\"y\",\"type\":\"scatter\"},{\"hovertemplate\":\"<b>%{hovertext}</b><br><br>continent=Africa<br>year=1982<br>gdpPercap=%{x}<br>lifeExp=%{y}<br>pop=%{marker.size}<extra></extra>\",\"hovertext\":[\"Algeria\",\"Angola\",\"Benin\",\"Botswana\",\"Burkina Faso\",\"Burundi\",\"Cameroon\",\"Central African Republic\",\"Chad\",\"Comoros\",\"Congo, Dem. Rep.\",\"Congo, Rep.\",\"Cote d'Ivoire\",\"Djibouti\",\"Egypt\",\"Equatorial Guinea\",\"Eritrea\",\"Ethiopia\",\"Gabon\",\"Gambia\",\"Ghana\",\"Guinea\",\"Guinea-Bissau\",\"Kenya\",\"Lesotho\",\"Liberia\",\"Libya\",\"Madagascar\",\"Malawi\",\"Mali\",\"Mauritania\",\"Mauritius\",\"Morocco\",\"Mozambique\",\"Namibia\",\"Niger\",\"Nigeria\",\"Reunion\",\"Rwanda\",\"Sao Tome and Principe\",\"Senegal\",\"Sierra Leone\",\"Somalia\",\"South Africa\",\"Sudan\",\"Swaziland\",\"Tanzania\",\"Togo\",\"Tunisia\",\"Uganda\",\"Zambia\",\"Zimbabwe\"],\"ids\":[\"Algeria\",\"Angola\",\"Benin\",\"Botswana\",\"Burkina Faso\",\"Burundi\",\"Cameroon\",\"Central African Republic\",\"Chad\",\"Comoros\",\"Congo, Dem. Rep.\",\"Congo, Rep.\",\"Cote d'Ivoire\",\"Djibouti\",\"Egypt\",\"Equatorial Guinea\",\"Eritrea\",\"Ethiopia\",\"Gabon\",\"Gambia\",\"Ghana\",\"Guinea\",\"Guinea-Bissau\",\"Kenya\",\"Lesotho\",\"Liberia\",\"Libya\",\"Madagascar\",\"Malawi\",\"Mali\",\"Mauritania\",\"Mauritius\",\"Morocco\",\"Mozambique\",\"Namibia\",\"Niger\",\"Nigeria\",\"Reunion\",\"Rwanda\",\"Sao Tome and Principe\",\"Senegal\",\"Sierra Leone\",\"Somalia\",\"South Africa\",\"Sudan\",\"Swaziland\",\"Tanzania\",\"Togo\",\"Tunisia\",\"Uganda\",\"Zambia\",\"Zimbabwe\"],\"legendgroup\":\"Africa\",\"marker\":{\"color\":\"#00cc96\",\"size\":[20033753,7016384,3641603,970347,6634596,4580410,9250831,2476971,4875118,348643,30646495,1774735,9025951,305991,45681811,285483,2637297,38111756,753874,715523,11400338,4710497,825987,17661452,1411807,1956875,3344074,9171477,6502825,6998256,1622136,992040,20198730,12587223,1099010,6437188,73039376,517810,5507565,98593,6147783,3464522,5828892,31140029,20367053,649901,19844382,2644765,6734098,12939400,6100407,7636524],\"sizemode\":\"area\",\"sizeref\":435928.2961983471,\"symbol\":\"circle\"},\"mode\":\"markers\",\"name\":\"Africa\",\"orientation\":\"v\",\"showlegend\":true,\"x\":[5745.160213,2756.953672,1277.897616,4551.14215,807.1985855,559.6032309999998,2367.983282,956.7529907,797.9081006,1267.100083,673.7478181,4879.507522,2602.710169,2879.468067,3503.729636,927.8253427,524.8758493,577.8607471,15113.36194,835.8096107999999,876.032569,857.2503577,838.1239671,1348.225791,797.2631074,572.1995694,17364.275380000006,1302.878658,632.8039209,618.0140640999998,1481.150189,3688.037739,2702.620356,462.2114149,4191.100511,909.7221354,1576.97375,5267.219353,881.5706467,1890.218117,1518.479984,1465.010784,1176.807031,8568.266228,1895.544073,3895.384018,874.2426069,1344.577953,3560.2331740000004,682.2662267999998,1408.678565,788.8550411],\"xaxis\":\"x\",\"y\":[61.368,39.942,50.904,61.484,48.122,47.471,52.96100000000001,48.295,49.517,52.933,47.784,56.695,53.983,48.812,56.006,43.662,43.89,44.916,56.56399999999999,45.58,53.744,42.89100000000001,39.327,58.76600000000001,55.078,44.852,62.155,48.969,45.642,43.916,53.599,66.711,59.65,42.795,58.968,42.598,45.826,69.885,46.218,60.351000000000006,52.379,38.445,42.955,58.161,50.338,55.56100000000001,50.608,55.471,64.048,49.849,51.82100000000001,60.363],\"yaxis\":\"y\",\"type\":\"scatter\"},{\"hovertemplate\":\"<b>%{hovertext}</b><br><br>continent=Americas<br>year=1982<br>gdpPercap=%{x}<br>lifeExp=%{y}<br>pop=%{marker.size}<extra></extra>\",\"hovertext\":[\"Argentina\",\"Bolivia\",\"Brazil\",\"Canada\",\"Chile\",\"Colombia\",\"Costa Rica\",\"Cuba\",\"Dominican Republic\",\"Ecuador\",\"El Salvador\",\"Guatemala\",\"Haiti\",\"Honduras\",\"Jamaica\",\"Mexico\",\"Nicaragua\",\"Panama\",\"Paraguay\",\"Peru\",\"Puerto Rico\",\"Trinidad and Tobago\",\"United States\",\"Uruguay\",\"Venezuela\"],\"ids\":[\"Argentina\",\"Bolivia\",\"Brazil\",\"Canada\",\"Chile\",\"Colombia\",\"Costa Rica\",\"Cuba\",\"Dominican Republic\",\"Ecuador\",\"El Salvador\",\"Guatemala\",\"Haiti\",\"Honduras\",\"Jamaica\",\"Mexico\",\"Nicaragua\",\"Panama\",\"Paraguay\",\"Peru\",\"Puerto Rico\",\"Trinidad and Tobago\",\"United States\",\"Uruguay\",\"Venezuela\"],\"legendgroup\":\"Americas\",\"marker\":{\"color\":\"#ab63fa\",\"size\":[29341374,5642224,128962939,25201900,11487112,27764644,2424367,9789224,5968349,8365850,4474873,6395630,5198399,3669448,2298309,71640904,2979423,2036305,3366439,18125129,3279001,1116479,232187835,2953997,15620766],\"sizemode\":\"area\",\"sizeref\":435928.2961983471,\"symbol\":\"circle\"},\"mode\":\"markers\",\"name\":\"Americas\",\"orientation\":\"v\",\"showlegend\":true,\"x\":[8997.897412,3156.510452,7030.835878,22898.79214,5095.6657380000015,4397.575659,5262.734751,7316.918106999998,2861.092386,7213.791267,4098.344175,4820.49479,2011.159549,3121.7607940000007,6068.05135,9611.147541,3470.3381560000007,7009.601598,4258.503604,6434.501797,10330.98915,9119.528607,25009.55914,6920.223051000001,11152.41011],\"xaxis\":\"x\",\"y\":[69.942,53.859,63.33600000000001,75.76,70.565,66.653,73.45,73.717,63.727,64.342,56.604,58.137,51.46100000000001,60.909,71.21,67.405,59.298,70.472,66.874,61.40600000000001,73.75,68.832,74.65,70.805,68.557],\"yaxis\":\"y\",\"type\":\"scatter\"},{\"hovertemplate\":\"<b>%{hovertext}</b><br><br>continent=Oceania<br>year=1982<br>gdpPercap=%{x}<br>lifeExp=%{y}<br>pop=%{marker.size}<extra></extra>\",\"hovertext\":[\"Australia\",\"New Zealand\"],\"ids\":[\"Australia\",\"New Zealand\"],\"legendgroup\":\"Oceania\",\"marker\":{\"color\":\"#FFA15A\",\"size\":[15184200,3210650],\"sizemode\":\"area\",\"sizeref\":435928.2961983471,\"symbol\":\"circle\"},\"mode\":\"markers\",\"name\":\"Oceania\",\"orientation\":\"v\",\"showlegend\":true,\"x\":[19477.00928,17632.4104],\"xaxis\":\"x\",\"y\":[74.74,73.84],\"yaxis\":\"y\",\"type\":\"scatter\"}],\"name\":\"1982\"},{\"data\":[{\"hovertemplate\":\"<b>%{hovertext}</b><br><br>continent=Asia<br>year=1987<br>gdpPercap=%{x}<br>lifeExp=%{y}<br>pop=%{marker.size}<extra></extra>\",\"hovertext\":[\"Afghanistan\",\"Bahrain\",\"Bangladesh\",\"Cambodia\",\"China\",\"Hong Kong, China\",\"India\",\"Indonesia\",\"Iran\",\"Iraq\",\"Israel\",\"Japan\",\"Jordan\",\"Korea, Dem. Rep.\",\"Korea, Rep.\",\"Kuwait\",\"Lebanon\",\"Malaysia\",\"Mongolia\",\"Myanmar\",\"Nepal\",\"Oman\",\"Pakistan\",\"Philippines\",\"Saudi Arabia\",\"Singapore\",\"Sri Lanka\",\"Syria\",\"Taiwan\",\"Thailand\",\"Vietnam\",\"West Bank and Gaza\",\"Yemen, Rep.\"],\"ids\":[\"Afghanistan\",\"Bahrain\",\"Bangladesh\",\"Cambodia\",\"China\",\"Hong Kong, China\",\"India\",\"Indonesia\",\"Iran\",\"Iraq\",\"Israel\",\"Japan\",\"Jordan\",\"Korea, Dem. Rep.\",\"Korea, Rep.\",\"Kuwait\",\"Lebanon\",\"Malaysia\",\"Mongolia\",\"Myanmar\",\"Nepal\",\"Oman\",\"Pakistan\",\"Philippines\",\"Saudi Arabia\",\"Singapore\",\"Sri Lanka\",\"Syria\",\"Taiwan\",\"Thailand\",\"Vietnam\",\"West Bank and Gaza\",\"Yemen, Rep.\"],\"legendgroup\":\"Asia\",\"marker\":{\"color\":\"#636efa\",\"size\":[13867957,454612,103764241,8371791,1084035000,5584510,788000000,169276000,51889696,16543189,4203148,122091325,2820042,19067554,41622000,1891487,3089353,16331785,2015133,38028578,17917180,1593882,105186881,60017788,14619745,2794552,16495304,11242847,19757799,52910342,62826491,1691210,11219340],\"sizemode\":\"area\",\"sizeref\":435928.2961983471,\"symbol\":\"circle\"},\"mode\":\"markers\",\"name\":\"Asia\",\"orientation\":\"v\",\"showlegend\":true,\"x\":[852.3959447999998,18524.02406,751.9794035,683.8955732000002,1378.904018,20038.47269,976.5126756,1748.356961,6642.881371,11643.57268,17122.47986,22375.94189,4448.679912,4106.492315,8533.088805,28118.42998,5377.091329,5249.802653,2338.008304,385.0,775.6324501,18115.22313,1704.686583,2189.634995,21198.26136,18861.53081,1876.766827,3116.774285,11054.56175,2982.653773,820.7994449,5107.197384,1971.741538],\"xaxis\":\"x\",\"y\":[40.822,70.75,52.819,53.914,67.274,76.2,58.553,60.137,63.04,65.044,75.6,78.67,65.869,70.64699999999998,69.81,74.17399999999998,67.926,69.5,60.222,58.339,52.537,67.734,58.245,64.15100000000001,66.295,73.56,69.01100000000001,66.97399999999999,73.4,66.084,62.82,67.046,52.922],\"yaxis\":\"y\",\"type\":\"scatter\"},{\"hovertemplate\":\"<b>%{hovertext}</b><br><br>continent=Europe<br>year=1987<br>gdpPercap=%{x}<br>lifeExp=%{y}<br>pop=%{marker.size}<extra></extra>\",\"hovertext\":[\"Albania\",\"Austria\",\"Belgium\",\"Bosnia and Herzegovina\",\"Bulgaria\",\"Croatia\",\"Czech Republic\",\"Denmark\",\"Finland\",\"France\",\"Germany\",\"Greece\",\"Hungary\",\"Iceland\",\"Ireland\",\"Italy\",\"Montenegro\",\"Netherlands\",\"Norway\",\"Poland\",\"Portugal\",\"Romania\",\"Serbia\",\"Slovak Republic\",\"Slovenia\",\"Spain\",\"Sweden\",\"Switzerland\",\"Turkey\",\"United Kingdom\"],\"ids\":[\"Albania\",\"Austria\",\"Belgium\",\"Bosnia and Herzegovina\",\"Bulgaria\",\"Croatia\",\"Czech Republic\",\"Denmark\",\"Finland\",\"France\",\"Germany\",\"Greece\",\"Hungary\",\"Iceland\",\"Ireland\",\"Italy\",\"Montenegro\",\"Netherlands\",\"Norway\",\"Poland\",\"Portugal\",\"Romania\",\"Serbia\",\"Slovak Republic\",\"Slovenia\",\"Spain\",\"Sweden\",\"Switzerland\",\"Turkey\",\"United Kingdom\"],\"legendgroup\":\"Europe\",\"marker\":{\"color\":\"#EF553B\",\"size\":[3075321,7578903,9870200,4338977,8971958,4484310,10311597,5127024,4931729,55630100,77718298,9974490,10612740,244676,3539900,56729703,569473,14665278,4186147,37740710,9915289,22686371,9230783,5199318,1945870,38880702,8421403,6649942,52881328,56981620],\"sizemode\":\"area\",\"sizeref\":435928.2961983471,\"symbol\":\"circle\"},\"mode\":\"markers\",\"name\":\"Europe\",\"orientation\":\"v\",\"showlegend\":true,\"x\":[3738.932735,23687.82607,22525.56308,4314.114757,8239.854824,13822.58394,16310.4434,25116.17581,21141.01223,22066.44214,24639.18566,16120.52839,12986.47998,26923.20628,13872.86652,19207.23482,11732.51017,23651.32361,31540.9748,9082.351172,13039.30876,9696.273295,15870.87851,12037.26758,18678.53492,15764.98313,23586.92927,30281.70459,5089.043686,21664.78767],\"xaxis\":\"x\",\"y\":[72.0,74.94,75.35,71.14,71.34,71.52,71.58,74.8,74.83,76.34,74.847,76.67,69.58,77.23,74.36,76.42,74.865,76.83,75.89,70.98,74.06,69.53,71.218,71.08,72.25,76.9,77.19,77.41,63.108,75.007],\"yaxis\":\"y\",\"type\":\"scatter\"},{\"hovertemplate\":\"<b>%{hovertext}</b><br><br>continent=Africa<br>year=1987<br>gdpPercap=%{x}<br>lifeExp=%{y}<br>pop=%{marker.size}<extra></extra>\",\"hovertext\":[\"Algeria\",\"Angola\",\"Benin\",\"Botswana\",\"Burkina Faso\",\"Burundi\",\"Cameroon\",\"Central African Republic\",\"Chad\",\"Comoros\",\"Congo, Dem. Rep.\",\"Congo, Rep.\",\"Cote d'Ivoire\",\"Djibouti\",\"Egypt\",\"Equatorial Guinea\",\"Eritrea\",\"Ethiopia\",\"Gabon\",\"Gambia\",\"Ghana\",\"Guinea\",\"Guinea-Bissau\",\"Kenya\",\"Lesotho\",\"Liberia\",\"Libya\",\"Madagascar\",\"Malawi\",\"Mali\",\"Mauritania\",\"Mauritius\",\"Morocco\",\"Mozambique\",\"Namibia\",\"Niger\",\"Nigeria\",\"Reunion\",\"Rwanda\",\"Sao Tome and Principe\",\"Senegal\",\"Sierra Leone\",\"Somalia\",\"South Africa\",\"Sudan\",\"Swaziland\",\"Tanzania\",\"Togo\",\"Tunisia\",\"Uganda\",\"Zambia\",\"Zimbabwe\"],\"ids\":[\"Algeria\",\"Angola\",\"Benin\",\"Botswana\",\"Burkina Faso\",\"Burundi\",\"Cameroon\",\"Central African Republic\",\"Chad\",\"Comoros\",\"Congo, Dem. Rep.\",\"Congo, Rep.\",\"Cote d'Ivoire\",\"Djibouti\",\"Egypt\",\"Equatorial Guinea\",\"Eritrea\",\"Ethiopia\",\"Gabon\",\"Gambia\",\"Ghana\",\"Guinea\",\"Guinea-Bissau\",\"Kenya\",\"Lesotho\",\"Liberia\",\"Libya\",\"Madagascar\",\"Malawi\",\"Mali\",\"Mauritania\",\"Mauritius\",\"Morocco\",\"Mozambique\",\"Namibia\",\"Niger\",\"Nigeria\",\"Reunion\",\"Rwanda\",\"Sao Tome and Principe\",\"Senegal\",\"Sierra Leone\",\"Somalia\",\"South Africa\",\"Sudan\",\"Swaziland\",\"Tanzania\",\"Togo\",\"Tunisia\",\"Uganda\",\"Zambia\",\"Zimbabwe\"],\"legendgroup\":\"Africa\",\"marker\":{\"color\":\"#00cc96\",\"size\":[23254956,7874230,4243788,1151184,7586551,5126023,10780667,2840009,5498955,395114,35481645,2064095,10761098,311025,52799062,341244,2915959,42999530,880397,848406,14168101,5650262,927524,21198082,1599200,2269414,3799845,10568642,7824747,7634008,1841240,1042663,22987397,12891952,1278184,7332638,81551520,562035,6349365,110812,7171347,3868905,6921858,35933379,24725960,779348,23040630,3154264,7724976,15283050,7272406,9216418],\"sizemode\":\"area\",\"sizeref\":435928.2961983471,\"symbol\":\"circle\"},\"mode\":\"markers\",\"name\":\"Africa\",\"orientation\":\"v\",\"showlegend\":true,\"x\":[5681.358539,2430.208311,1225.85601,6205.88385,912.0631417,621.8188188999999,2602.664206,844.8763504000002,952.386129,1315.980812,672.774812,4201.194936999998,2156.9560690000008,2880.102568,3885.46071,966.8968149,521.1341333,573.7413142000001,11864.40844,611.6588611000002,847.0061135,805.5724717999999,736.4153921,1361.936856,773.9932140999998,506.1138573,11770.5898,1155.441948,635.5173633999998,684.1715576,1421.603576,4783.586903,2755.046991,389.8761846,3693.731337,668.3000228,1385.029563,5303.377488,847.991217,1516.525457,1441.72072,1294.4477880000004,1093.244963,7825.823398,1507.819159,3984.839812,831.8220794,1202.201361,3810.419296,617.7244065,1213.315116,706.1573059],\"xaxis\":\"x\",\"y\":[65.79899999999999,39.906,52.337,63.622,49.557,48.21100000000001,54.985,50.485,51.051,54.926,47.412,57.47,54.655,50.04,59.797,45.664,46.453,46.684,60.19,49.265,55.729,45.552,41.245,59.339,57.18,46.027,66.234,49.35,47.457,46.364,56.145,68.74,62.677,42.861,60.835,44.555,46.886,71.913,44.02,61.728,55.769,40.006,44.50100000000001,60.834,51.744,57.678,51.535,56.941,66.89399999999999,51.50899999999999,50.82100000000001,62.351000000000006],\"yaxis\":\"y\",\"type\":\"scatter\"},{\"hovertemplate\":\"<b>%{hovertext}</b><br><br>continent=Americas<br>year=1987<br>gdpPercap=%{x}<br>lifeExp=%{y}<br>pop=%{marker.size}<extra></extra>\",\"hovertext\":[\"Argentina\",\"Bolivia\",\"Brazil\",\"Canada\",\"Chile\",\"Colombia\",\"Costa Rica\",\"Cuba\",\"Dominican Republic\",\"Ecuador\",\"El Salvador\",\"Guatemala\",\"Haiti\",\"Honduras\",\"Jamaica\",\"Mexico\",\"Nicaragua\",\"Panama\",\"Paraguay\",\"Peru\",\"Puerto Rico\",\"Trinidad and Tobago\",\"United States\",\"Uruguay\",\"Venezuela\"],\"ids\":[\"Argentina\",\"Bolivia\",\"Brazil\",\"Canada\",\"Chile\",\"Colombia\",\"Costa Rica\",\"Cuba\",\"Dominican Republic\",\"Ecuador\",\"El Salvador\",\"Guatemala\",\"Haiti\",\"Honduras\",\"Jamaica\",\"Mexico\",\"Nicaragua\",\"Panama\",\"Paraguay\",\"Peru\",\"Puerto Rico\",\"Trinidad and Tobago\",\"United States\",\"Uruguay\",\"Venezuela\"],\"legendgroup\":\"Americas\",\"marker\":{\"color\":\"#ab63fa\",\"size\":[31620918,6156369,142938076,26549700,12463354,30964245,2799811,10239839,6655297,9545158,4842194,7326406,5756203,4372203,2326606,80122492,3344353,2253639,3886512,20195924,3444468,1191336,242803533,3045153,17910182],\"sizemode\":\"area\",\"sizeref\":435928.2961983471,\"symbol\":\"circle\"},\"mode\":\"markers\",\"name\":\"Americas\",\"orientation\":\"v\",\"showlegend\":true,\"x\":[9139.671389,2753.69149,7807.095818000002,26626.51503,5547.063754,4903.2191,5629.915318,7532.924762999999,2899.842175,6481.776993,4140.442097,4246.485974,1823.015995,3023.096699,6351.237495,8688.156003,2955.984375,7034.779161,3998.875695,6360.943444,12281.34191,7388.597823,29884.350410000006,7452.398969,9883.584648],\"xaxis\":\"x\",\"y\":[70.774,57.25100000000001,65.205,76.86,72.492,67.768,74.752,74.17399999999998,66.046,67.23100000000001,63.154,60.782,53.636,64.492,71.77,69.498,62.008,71.523,67.378,64.134,74.63,69.582,75.02,71.918,70.19],\"yaxis\":\"y\",\"type\":\"scatter\"},{\"hovertemplate\":\"<b>%{hovertext}</b><br><br>continent=Oceania<br>year=1987<br>gdpPercap=%{x}<br>lifeExp=%{y}<br>pop=%{marker.size}<extra></extra>\",\"hovertext\":[\"Australia\",\"New Zealand\"],\"ids\":[\"Australia\",\"New Zealand\"],\"legendgroup\":\"Oceania\",\"marker\":{\"color\":\"#FFA15A\",\"size\":[16257249,3317166],\"sizemode\":\"area\",\"sizeref\":435928.2961983471,\"symbol\":\"circle\"},\"mode\":\"markers\",\"name\":\"Oceania\",\"orientation\":\"v\",\"showlegend\":true,\"x\":[21888.88903,19007.19129],\"xaxis\":\"x\",\"y\":[76.32,74.32],\"yaxis\":\"y\",\"type\":\"scatter\"}],\"name\":\"1987\"},{\"data\":[{\"hovertemplate\":\"<b>%{hovertext}</b><br><br>continent=Asia<br>year=1992<br>gdpPercap=%{x}<br>lifeExp=%{y}<br>pop=%{marker.size}<extra></extra>\",\"hovertext\":[\"Afghanistan\",\"Bahrain\",\"Bangladesh\",\"Cambodia\",\"China\",\"Hong Kong, China\",\"India\",\"Indonesia\",\"Iran\",\"Iraq\",\"Israel\",\"Japan\",\"Jordan\",\"Korea, Dem. Rep.\",\"Korea, Rep.\",\"Kuwait\",\"Lebanon\",\"Malaysia\",\"Mongolia\",\"Myanmar\",\"Nepal\",\"Oman\",\"Pakistan\",\"Philippines\",\"Saudi Arabia\",\"Singapore\",\"Sri Lanka\",\"Syria\",\"Taiwan\",\"Thailand\",\"Vietnam\",\"West Bank and Gaza\",\"Yemen, Rep.\"],\"ids\":[\"Afghanistan\",\"Bahrain\",\"Bangladesh\",\"Cambodia\",\"China\",\"Hong Kong, China\",\"India\",\"Indonesia\",\"Iran\",\"Iraq\",\"Israel\",\"Japan\",\"Jordan\",\"Korea, Dem. Rep.\",\"Korea, Rep.\",\"Kuwait\",\"Lebanon\",\"Malaysia\",\"Mongolia\",\"Myanmar\",\"Nepal\",\"Oman\",\"Pakistan\",\"Philippines\",\"Saudi Arabia\",\"Singapore\",\"Sri Lanka\",\"Syria\",\"Taiwan\",\"Thailand\",\"Vietnam\",\"West Bank and Gaza\",\"Yemen, Rep.\"],\"legendgroup\":\"Asia\",\"marker\":{\"color\":\"#636efa\",\"size\":[16317921,529491,113704579,10150094,1164970000,5829696,872000000,184816000,60397973,17861905,4936550,124329269,3867409,20711375,43805450,1418095,3219994,18319502,2312802,40546538,20326209,1915208,120065004,67185766,16945857,3235865,17587060,13219062,20686918,56667095,69940728,2104779,13367997],\"sizemode\":\"area\",\"sizeref\":435928.2961983471,\"symbol\":\"circle\"},\"mode\":\"markers\",\"name\":\"Asia\",\"orientation\":\"v\",\"showlegend\":true,\"x\":[649.3413952000002,19035.57917,837.8101642999999,682.3031755,1655.784158,24757.60301,1164.406809,2383.140898,7235.653187999998,3745.640687,18051.52254,26824.89511,3431.593647,3726.063507,12104.27872,34932.91959,6890.806854,7277.912802,1785.402016,347.0,897.7403604,18616.70691,1971.829464,2279.324017000001,24841.61777,24769.8912,2153.739222,3340.542768,15215.6579,4616.896545000001,989.0231487,6017.654756,1879.496673],\"xaxis\":\"x\",\"y\":[41.674,72.601,56.018,55.803,68.69,77.601,60.223,62.681,65.742,59.46100000000001,76.93,79.36,68.015,69.97800000000001,72.244,75.19,69.292,70.693,61.271,59.32,55.727,71.197,60.838,66.458,68.768,75.788,70.37899999999998,69.249,74.26,67.298,67.66199999999999,69.718,55.599],\"yaxis\":\"y\",\"type\":\"scatter\"},{\"hovertemplate\":\"<b>%{hovertext}</b><br><br>continent=Europe<br>year=1992<br>gdpPercap=%{x}<br>lifeExp=%{y}<br>pop=%{marker.size}<extra></extra>\",\"hovertext\":[\"Albania\",\"Austria\",\"Belgium\",\"Bosnia and Herzegovina\",\"Bulgaria\",\"Croatia\",\"Czech Republic\",\"Denmark\",\"Finland\",\"France\",\"Germany\",\"Greece\",\"Hungary\",\"Iceland\",\"Ireland\",\"Italy\",\"Montenegro\",\"Netherlands\",\"Norway\",\"Poland\",\"Portugal\",\"Romania\",\"Serbia\",\"Slovak Republic\",\"Slovenia\",\"Spain\",\"Sweden\",\"Switzerland\",\"Turkey\",\"United Kingdom\"],\"ids\":[\"Albania\",\"Austria\",\"Belgium\",\"Bosnia and Herzegovina\",\"Bulgaria\",\"Croatia\",\"Czech Republic\",\"Denmark\",\"Finland\",\"France\",\"Germany\",\"Greece\",\"Hungary\",\"Iceland\",\"Ireland\",\"Italy\",\"Montenegro\",\"Netherlands\",\"Norway\",\"Poland\",\"Portugal\",\"Romania\",\"Serbia\",\"Slovak Republic\",\"Slovenia\",\"Spain\",\"Sweden\",\"Switzerland\",\"Turkey\",\"United Kingdom\"],\"legendgroup\":\"Europe\",\"marker\":{\"color\":\"#EF553B\",\"size\":[3326498,7914969,10045622,4256013,8658506,4494013,10315702,5171393,5041039,57374179,80597764,10325429,10348684,259012,3557761,56840847,621621,15174244,4286357,38370697,9927680,22797027,9826397,5302888,1999210,39549438,8718867,6995447,58179144,57866349],\"sizemode\":\"area\",\"sizeref\":435928.2961983471,\"symbol\":\"circle\"},\"mode\":\"markers\",\"name\":\"Europe\",\"orientation\":\"v\",\"showlegend\":true,\"x\":[2497.437901,27042.01868,25575.57069,2546.781445,6302.623438000001,8447.794873,14297.02122,26406.73985,20647.16499,24703.79615,26505.30317,17541.49634,10535.62855,25144.39201,17558.81555,22013.64486,7003.339037000002,26790.94961,33965.66115,7738.881247,16207.266630000002,6598.409903,9325.068238,9498.467723,14214.71681,18603.06452,23880.01683,31871.5303,5678.348271,22705.09254],\"xaxis\":\"x\",\"y\":[71.581,76.04,76.46,72.178,71.19,72.527,72.4,75.33,75.7,77.46,76.07,77.03,69.17,78.77,75.467,77.44,75.435,77.42,77.32,70.99,74.86,69.36,71.65899999999998,71.38,73.64,77.57,78.16,78.03,66.146,76.42],\"yaxis\":\"y\",\"type\":\"scatter\"},{\"hovertemplate\":\"<b>%{hovertext}</b><br><br>continent=Africa<br>year=1992<br>gdpPercap=%{x}<br>lifeExp=%{y}<br>pop=%{marker.size}<extra></extra>\",\"hovertext\":[\"Algeria\",\"Angola\",\"Benin\",\"Botswana\",\"Burkina Faso\",\"Burundi\",\"Cameroon\",\"Central African Republic\",\"Chad\",\"Comoros\",\"Congo, Dem. Rep.\",\"Congo, Rep.\",\"Cote d'Ivoire\",\"Djibouti\",\"Egypt\",\"Equatorial Guinea\",\"Eritrea\",\"Ethiopia\",\"Gabon\",\"Gambia\",\"Ghana\",\"Guinea\",\"Guinea-Bissau\",\"Kenya\",\"Lesotho\",\"Liberia\",\"Libya\",\"Madagascar\",\"Malawi\",\"Mali\",\"Mauritania\",\"Mauritius\",\"Morocco\",\"Mozambique\",\"Namibia\",\"Niger\",\"Nigeria\",\"Reunion\",\"Rwanda\",\"Sao Tome and Principe\",\"Senegal\",\"Sierra Leone\",\"Somalia\",\"South Africa\",\"Sudan\",\"Swaziland\",\"Tanzania\",\"Togo\",\"Tunisia\",\"Uganda\",\"Zambia\",\"Zimbabwe\"],\"ids\":[\"Algeria\",\"Angola\",\"Benin\",\"Botswana\",\"Burkina Faso\",\"Burundi\",\"Cameroon\",\"Central African Republic\",\"Chad\",\"Comoros\",\"Congo, Dem. Rep.\",\"Congo, Rep.\",\"Cote d'Ivoire\",\"Djibouti\",\"Egypt\",\"Equatorial Guinea\",\"Eritrea\",\"Ethiopia\",\"Gabon\",\"Gambia\",\"Ghana\",\"Guinea\",\"Guinea-Bissau\",\"Kenya\",\"Lesotho\",\"Liberia\",\"Libya\",\"Madagascar\",\"Malawi\",\"Mali\",\"Mauritania\",\"Mauritius\",\"Morocco\",\"Mozambique\",\"Namibia\",\"Niger\",\"Nigeria\",\"Reunion\",\"Rwanda\",\"Sao Tome and Principe\",\"Senegal\",\"Sierra Leone\",\"Somalia\",\"South Africa\",\"Sudan\",\"Swaziland\",\"Tanzania\",\"Togo\",\"Tunisia\",\"Uganda\",\"Zambia\",\"Zimbabwe\"],\"legendgroup\":\"Africa\",\"marker\":{\"color\":\"#00cc96\",\"size\":[26298373,8735988,4981671,1342614,8878303,5809236,12467171,3265124,6429417,454429,41672143,2409073,12772596,384156,59402198,387838,3668440,52088559,985739,1025384,16278738,6990574,1050938,25020539,1803195,1912974,4364501,12210395,10014249,8416215,2119465,1096202,25798239,13160731,1554253,8392818,93364244,622191,7290203,125911,8307920,4260884,6099799,39964159,28227588,962344,26605473,3747553,8523077,18252190,8381163,10704340],\"sizemode\":\"area\",\"sizeref\":435928.2961983471,\"symbol\":\"circle\"},\"mode\":\"markers\",\"name\":\"Africa\",\"orientation\":\"v\",\"showlegend\":true,\"x\":[5023.216647,2627.845685,1191.207681,7954.111645,931.7527731,631.6998778,1793.1632780000002,747.9055252,1058.0643,1246.90737,457.7191807,4016.239529,1648.073791,2377.156192000001,3794.755195,1132.055034,582.8585102000002,421.3534653,13522.15752,665.6244126,925.060154,794.3484384,745.5398706,1341.9217210000004,977.4862725,636.6229191000001,9640.138501,1040.67619,563.2000145,739.014375,1361.369784,6058.253846000001,2948.047252,410.8968239,3804.537999,581.182725,1619.848217,6101.255823,737.0685949,1428.777814,1367.899369,1068.696278,926.9602964,7225.069257999998,1492.197043,3553.0224,825.682454,1034.298904,4332.720164,644.1707968999998,1210.884633,693.4207856],\"xaxis\":\"x\",\"y\":[67.744,40.647,53.919,62.745,50.26,44.736,54.31399999999999,49.396,51.724,57.93899999999999,45.548,56.433,52.044,51.604,63.674,47.545,49.99100000000001,48.091,61.36600000000001,52.644,57.50100000000001,48.576,43.26600000000001,59.285,59.685,40.802,68.755,52.214,49.42,48.38800000000001,58.333,69.745,65.393,44.284,61.999,47.39100000000001,47.472,73.615,23.599,62.742,58.19600000000001,38.333,39.658,61.88800000000001,53.556,58.474,50.44,58.06100000000001,70.001,48.825,46.1,60.377],\"yaxis\":\"y\",\"type\":\"scatter\"},{\"hovertemplate\":\"<b>%{hovertext}</b><br><br>continent=Americas<br>year=1992<br>gdpPercap=%{x}<br>lifeExp=%{y}<br>pop=%{marker.size}<extra></extra>\",\"hovertext\":[\"Argentina\",\"Bolivia\",\"Brazil\",\"Canada\",\"Chile\",\"Colombia\",\"Costa Rica\",\"Cuba\",\"Dominican Republic\",\"Ecuador\",\"El Salvador\",\"Guatemala\",\"Haiti\",\"Honduras\",\"Jamaica\",\"Mexico\",\"Nicaragua\",\"Panama\",\"Paraguay\",\"Peru\",\"Puerto Rico\",\"Trinidad and Tobago\",\"United States\",\"Uruguay\",\"Venezuela\"],\"ids\":[\"Argentina\",\"Bolivia\",\"Brazil\",\"Canada\",\"Chile\",\"Colombia\",\"Costa Rica\",\"Cuba\",\"Dominican Republic\",\"Ecuador\",\"El Salvador\",\"Guatemala\",\"Haiti\",\"Honduras\",\"Jamaica\",\"Mexico\",\"Nicaragua\",\"Panama\",\"Paraguay\",\"Peru\",\"Puerto Rico\",\"Trinidad and Tobago\",\"United States\",\"Uruguay\",\"Venezuela\"],\"legendgroup\":\"Americas\",\"marker\":{\"color\":\"#ab63fa\",\"size\":[33958947,6893451,155975974,28523502,13572994,34202721,3173216,10723260,7351181,10748394,5274649,8486949,6326682,5077347,2378618,88111030,4017939,2484997,4483945,22430449,3585176,1183669,256894189,3149262,20265563],\"sizemode\":\"area\",\"sizeref\":435928.2961983471,\"symbol\":\"circle\"},\"mode\":\"markers\",\"name\":\"Americas\",\"orientation\":\"v\",\"showlegend\":true,\"x\":[9308.41871,2961.699694,6950.283020999998,26342.88426,7596.125964,5444.648617,6160.416317,5592.843963,3044.214214,7103.702595000002,4444.2317,4439.45084,1456.309517,3081.694603,7404.923685,9472.384295,2170.151724,6618.74305,4196.411078,4446.380924,14641.58711,7370.990932,32003.93224,8137.004775,10733.92631],\"xaxis\":\"x\",\"y\":[71.868,59.957,67.057,77.95,74.126,68.421,75.71300000000002,74.414,68.457,69.613,66.798,63.37300000000001,55.089,66.399,71.766,71.455,65.843,72.462,68.225,66.458,73.911,69.862,76.09,72.752,71.15],\"yaxis\":\"y\",\"type\":\"scatter\"},{\"hovertemplate\":\"<b>%{hovertext}</b><br><br>continent=Oceania<br>year=1992<br>gdpPercap=%{x}<br>lifeExp=%{y}<br>pop=%{marker.size}<extra></extra>\",\"hovertext\":[\"Australia\",\"New Zealand\"],\"ids\":[\"Australia\",\"New Zealand\"],\"legendgroup\":\"Oceania\",\"marker\":{\"color\":\"#FFA15A\",\"size\":[17481977,3437674],\"sizemode\":\"area\",\"sizeref\":435928.2961983471,\"symbol\":\"circle\"},\"mode\":\"markers\",\"name\":\"Oceania\",\"orientation\":\"v\",\"showlegend\":true,\"x\":[23424.76683,18363.32494],\"xaxis\":\"x\",\"y\":[77.56,76.33],\"yaxis\":\"y\",\"type\":\"scatter\"}],\"name\":\"1992\"},{\"data\":[{\"hovertemplate\":\"<b>%{hovertext}</b><br><br>continent=Asia<br>year=1997<br>gdpPercap=%{x}<br>lifeExp=%{y}<br>pop=%{marker.size}<extra></extra>\",\"hovertext\":[\"Afghanistan\",\"Bahrain\",\"Bangladesh\",\"Cambodia\",\"China\",\"Hong Kong, China\",\"India\",\"Indonesia\",\"Iran\",\"Iraq\",\"Israel\",\"Japan\",\"Jordan\",\"Korea, Dem. Rep.\",\"Korea, Rep.\",\"Kuwait\",\"Lebanon\",\"Malaysia\",\"Mongolia\",\"Myanmar\",\"Nepal\",\"Oman\",\"Pakistan\",\"Philippines\",\"Saudi Arabia\",\"Singapore\",\"Sri Lanka\",\"Syria\",\"Taiwan\",\"Thailand\",\"Vietnam\",\"West Bank and Gaza\",\"Yemen, Rep.\"],\"ids\":[\"Afghanistan\",\"Bahrain\",\"Bangladesh\",\"Cambodia\",\"China\",\"Hong Kong, China\",\"India\",\"Indonesia\",\"Iran\",\"Iraq\",\"Israel\",\"Japan\",\"Jordan\",\"Korea, Dem. Rep.\",\"Korea, Rep.\",\"Kuwait\",\"Lebanon\",\"Malaysia\",\"Mongolia\",\"Myanmar\",\"Nepal\",\"Oman\",\"Pakistan\",\"Philippines\",\"Saudi Arabia\",\"Singapore\",\"Sri Lanka\",\"Syria\",\"Taiwan\",\"Thailand\",\"Vietnam\",\"West Bank and Gaza\",\"Yemen, Rep.\"],\"legendgroup\":\"Asia\",\"marker\":{\"color\":\"#636efa\",\"size\":[22227415,598561,123315288,11782962,1230075000,6495918,959000000,199278000,63327987,20775703,5531387,125956499,4526235,21585105,46173816,1765345,3430388,20476091,2494803,43247867,23001113,2283635,135564834,75012988,21229759,3802309,18698655,15081016,21628605,60216677,76048996,2826046,15826497],\"sizemode\":\"area\",\"sizeref\":435928.2961983471,\"symbol\":\"circle\"},\"mode\":\"markers\",\"name\":\"Asia\",\"orientation\":\"v\",\"showlegend\":true,\"x\":[635.341351,20292.01679,972.7700352,734.28517,2289.234136,28377.63219,1458.817442,3119.335603,8263.590301,3076.239795,20896.60924,28816.58499,3645.379572,1690.756814,15993.52796,40300.61996,8754.96385,10132.90964,1902.2521,415.0,1010.892138,19702.05581,2049.3505210000008,2536.534925,20586.69019,33519.4766,2664.477257,4014.238972,20206.82098,5852.625497,1385.896769,7110.667619,2117.484526],\"xaxis\":\"x\",\"y\":[41.76300000000001,73.925,59.412,56.534,70.426,80.0,61.765,66.041,68.042,58.81100000000001,78.26899999999998,80.69,69.77199999999999,67.727,74.64699999999998,76.156,70.265,71.938,63.625,60.328,59.426,72.499,61.81800000000001,68.564,70.533,77.158,70.457,71.527,75.25,67.521,70.672,71.096,58.02],\"yaxis\":\"y\",\"type\":\"scatter\"},{\"hovertemplate\":\"<b>%{hovertext}</b><br><br>continent=Europe<br>year=1997<br>gdpPercap=%{x}<br>lifeExp=%{y}<br>pop=%{marker.size}<extra></extra>\",\"hovertext\":[\"Albania\",\"Austria\",\"Belgium\",\"Bosnia and Herzegovina\",\"Bulgaria\",\"Croatia\",\"Czech Republic\",\"Denmark\",\"Finland\",\"France\",\"Germany\",\"Greece\",\"Hungary\",\"Iceland\",\"Ireland\",\"Italy\",\"Montenegro\",\"Netherlands\",\"Norway\",\"Poland\",\"Portugal\",\"Romania\",\"Serbia\",\"Slovak Republic\",\"Slovenia\",\"Spain\",\"Sweden\",\"Switzerland\",\"Turkey\",\"United Kingdom\"],\"ids\":[\"Albania\",\"Austria\",\"Belgium\",\"Bosnia and Herzegovina\",\"Bulgaria\",\"Croatia\",\"Czech Republic\",\"Denmark\",\"Finland\",\"France\",\"Germany\",\"Greece\",\"Hungary\",\"Iceland\",\"Ireland\",\"Italy\",\"Montenegro\",\"Netherlands\",\"Norway\",\"Poland\",\"Portugal\",\"Romania\",\"Serbia\",\"Slovak Republic\",\"Slovenia\",\"Spain\",\"Sweden\",\"Switzerland\",\"Turkey\",\"United Kingdom\"],\"legendgroup\":\"Europe\",\"marker\":{\"color\":\"#EF553B\",\"size\":[3428038,8069876,10199787,3607000,8066057,4444595,10300707,5283663,5134406,58623428,82011073,10502372,10244684,271192,3667233,57479469,692651,15604464,4405672,38654957,10156415,22562458,10336594,5383010,2011612,39855442,8897619,7193761,63047647,58808266],\"sizemode\":\"area\",\"sizeref\":435928.2961983471,\"symbol\":\"circle\"},\"mode\":\"markers\",\"name\":\"Europe\",\"orientation\":\"v\",\"showlegend\":true,\"x\":[3193.054604,29095.920660000003,27561.19663,4766.355904,5970.38876,9875.604515,16048.51424,29804.34567,23723.9502,25889.78487,27788.88416,18747.69814,11712.7768,28061.099660000003,24521.94713,24675.02446,6465.613349,30246.13063,41283.16433,10159.58368,17641.03156,7346.547556999999,7914.320304000002,12126.23065,17161.10735,20445.29896,25266.59499,32135.323010000004,6601.429915,26074.53136],\"xaxis\":\"x\",\"y\":[72.95,77.51,77.53,73.244,70.32,73.68,74.01,76.11,77.13,78.64,77.34,77.869,71.04,78.95,76.122,78.82,75.445,78.03,78.32,72.75,75.97,69.72,72.232,72.71,75.13,78.77,79.39,79.37,68.835,77.218],\"yaxis\":\"y\",\"type\":\"scatter\"},{\"hovertemplate\":\"<b>%{hovertext}</b><br><br>continent=Africa<br>year=1997<br>gdpPercap=%{x}<br>lifeExp=%{y}<br>pop=%{marker.size}<extra></extra>\",\"hovertext\":[\"Algeria\",\"Angola\",\"Benin\",\"Botswana\",\"Burkina Faso\",\"Burundi\",\"Cameroon\",\"Central African Republic\",\"Chad\",\"Comoros\",\"Congo, Dem. Rep.\",\"Congo, Rep.\",\"Cote d'Ivoire\",\"Djibouti\",\"Egypt\",\"Equatorial Guinea\",\"Eritrea\",\"Ethiopia\",\"Gabon\",\"Gambia\",\"Ghana\",\"Guinea\",\"Guinea-Bissau\",\"Kenya\",\"Lesotho\",\"Liberia\",\"Libya\",\"Madagascar\",\"Malawi\",\"Mali\",\"Mauritania\",\"Mauritius\",\"Morocco\",\"Mozambique\",\"Namibia\",\"Niger\",\"Nigeria\",\"Reunion\",\"Rwanda\",\"Sao Tome and Principe\",\"Senegal\",\"Sierra Leone\",\"Somalia\",\"South Africa\",\"Sudan\",\"Swaziland\",\"Tanzania\",\"Togo\",\"Tunisia\",\"Uganda\",\"Zambia\",\"Zimbabwe\"],\"ids\":[\"Algeria\",\"Angola\",\"Benin\",\"Botswana\",\"Burkina Faso\",\"Burundi\",\"Cameroon\",\"Central African Republic\",\"Chad\",\"Comoros\",\"Congo, Dem. Rep.\",\"Congo, Rep.\",\"Cote d'Ivoire\",\"Djibouti\",\"Egypt\",\"Equatorial Guinea\",\"Eritrea\",\"Ethiopia\",\"Gabon\",\"Gambia\",\"Ghana\",\"Guinea\",\"Guinea-Bissau\",\"Kenya\",\"Lesotho\",\"Liberia\",\"Libya\",\"Madagascar\",\"Malawi\",\"Mali\",\"Mauritania\",\"Mauritius\",\"Morocco\",\"Mozambique\",\"Namibia\",\"Niger\",\"Nigeria\",\"Reunion\",\"Rwanda\",\"Sao Tome and Principe\",\"Senegal\",\"Sierra Leone\",\"Somalia\",\"South Africa\",\"Sudan\",\"Swaziland\",\"Tanzania\",\"Togo\",\"Tunisia\",\"Uganda\",\"Zambia\",\"Zimbabwe\"],\"legendgroup\":\"Africa\",\"marker\":{\"color\":\"#00cc96\",\"size\":[29072015,9875024,6066080,1536536,10352843,6121610,14195809,3696513,7562011,527982,47798986,2800947,14625967,417908,66134291,439971,4058319,59861301,1126189,1235767,18418288,8048834,1193708,28263827,1982823,2200725,4759670,14165114,10419991,9384984,2444741,1149818,28529501,16603334,1774766,9666252,106207839,684810,7212583,145608,9535314,4578212,6633514,42835005,32160729,1054486,30686889,4320890,9231669,21210254,9417789,11404948],\"sizemode\":\"area\",\"sizeref\":435928.2961983471,\"symbol\":\"circle\"},\"mode\":\"markers\",\"name\":\"Africa\",\"orientation\":\"v\",\"showlegend\":true,\"x\":[4797.295051,2277.140884,1232.975292,8647.142313,946.2949618,463.1151478,1694.337469,740.5063317,1004.961353,1173.618235,312.188423,3484.164376,1786.265407,1895.016984,4173.181797,2814.480755,913.47079,515.8894013,14722.841880000002,653.7301704,1005.245812,869.4497667999998,796.6644681,1360.4850210000004,1186.147994,609.1739508,9467.446056,986.2958956,692.2758102999999,790.2579846,1483.136136,7425.705295000002,2982.101858,472.34607710000006,3899.52426,580.3052092,1624.941275,6071.941411,589.9445051,1339.076036,1392.368347,574.6481576,930.5964284,7479.188244,1632.2107640000004,3876.76846,789.1862231,982.2869243,4876.798614,816.559081,1071.353818,792.4499602999998],\"xaxis\":\"x\",\"y\":[69.152,40.963,54.777,52.556,50.324,45.326,52.199,46.066,51.573,60.66,42.587,52.962,47.99100000000001,53.157,67.217,48.245,53.378,49.402,60.46100000000001,55.861,58.556,51.455,44.87300000000001,54.407,55.558,42.221,71.555,54.978,47.495,49.903,60.43,70.736,67.66,46.344,58.909,51.313,47.464,74.77199999999998,36.087,63.306,60.187,39.897,43.795,60.236,55.37300000000001,54.289,48.466,58.39,71.973,44.578,40.238,46.809],\"yaxis\":\"y\",\"type\":\"scatter\"},{\"hovertemplate\":\"<b>%{hovertext}</b><br><br>continent=Americas<br>year=1997<br>gdpPercap=%{x}<br>lifeExp=%{y}<br>pop=%{marker.size}<extra></extra>\",\"hovertext\":[\"Argentina\",\"Bolivia\",\"Brazil\",\"Canada\",\"Chile\",\"Colombia\",\"Costa Rica\",\"Cuba\",\"Dominican Republic\",\"Ecuador\",\"El Salvador\",\"Guatemala\",\"Haiti\",\"Honduras\",\"Jamaica\",\"Mexico\",\"Nicaragua\",\"Panama\",\"Paraguay\",\"Peru\",\"Puerto Rico\",\"Trinidad and Tobago\",\"United States\",\"Uruguay\",\"Venezuela\"],\"ids\":[\"Argentina\",\"Bolivia\",\"Brazil\",\"Canada\",\"Chile\",\"Colombia\",\"Costa Rica\",\"Cuba\",\"Dominican Republic\",\"Ecuador\",\"El Salvador\",\"Guatemala\",\"Haiti\",\"Honduras\",\"Jamaica\",\"Mexico\",\"Nicaragua\",\"Panama\",\"Paraguay\",\"Peru\",\"Puerto Rico\",\"Trinidad and Tobago\",\"United States\",\"Uruguay\",\"Venezuela\"],\"legendgroup\":\"Americas\",\"marker\":{\"color\":\"#ab63fa\",\"size\":[36203463,7693188,168546719,30305843,14599929,37657830,3518107,10983007,7992357,11911819,5783439,9803875,6913545,5867957,2531311,95895146,4609572,2734531,5154123,24748122,3759430,1138101,272911760,3262838,22374398],\"sizemode\":\"area\",\"sizeref\":435928.2961983471,\"symbol\":\"circle\"},\"mode\":\"markers\",\"name\":\"Americas\",\"orientation\":\"v\",\"showlegend\":true,\"x\":[10967.28195,3326.143191,7957.980823999998,28954.92589,10118.05318,6117.361746000001,6677.045314,5431.990415,3614.101285,7429.4558769999985,5154.825496,4684.313807,1341.726931,3160.454906,7121.924704000001,9767.29753,2253.023004,7113.692252,4247.400261,5838.347657,16999.4333,8792.573126000001,35767.43303,9230.240708,10165.49518],\"xaxis\":\"x\",\"y\":[73.275,62.05,69.388,78.61,75.816,70.313,77.26,76.15100000000002,69.957,72.312,69.535,66.322,56.67100000000001,67.65899999999999,72.262,73.67,68.426,73.738,69.4,68.38600000000001,74.917,69.465,76.81,74.223,72.146],\"yaxis\":\"y\",\"type\":\"scatter\"},{\"hovertemplate\":\"<b>%{hovertext}</b><br><br>continent=Oceania<br>year=1997<br>gdpPercap=%{x}<br>lifeExp=%{y}<br>pop=%{marker.size}<extra></extra>\",\"hovertext\":[\"Australia\",\"New Zealand\"],\"ids\":[\"Australia\",\"New Zealand\"],\"legendgroup\":\"Oceania\",\"marker\":{\"color\":\"#FFA15A\",\"size\":[18565243,3676187],\"sizemode\":\"area\",\"sizeref\":435928.2961983471,\"symbol\":\"circle\"},\"mode\":\"markers\",\"name\":\"Oceania\",\"orientation\":\"v\",\"showlegend\":true,\"x\":[26997.93657,21050.41377],\"xaxis\":\"x\",\"y\":[78.83,77.55],\"yaxis\":\"y\",\"type\":\"scatter\"}],\"name\":\"1997\"},{\"data\":[{\"hovertemplate\":\"<b>%{hovertext}</b><br><br>continent=Asia<br>year=2002<br>gdpPercap=%{x}<br>lifeExp=%{y}<br>pop=%{marker.size}<extra></extra>\",\"hovertext\":[\"Afghanistan\",\"Bahrain\",\"Bangladesh\",\"Cambodia\",\"China\",\"Hong Kong, China\",\"India\",\"Indonesia\",\"Iran\",\"Iraq\",\"Israel\",\"Japan\",\"Jordan\",\"Korea, Dem. Rep.\",\"Korea, Rep.\",\"Kuwait\",\"Lebanon\",\"Malaysia\",\"Mongolia\",\"Myanmar\",\"Nepal\",\"Oman\",\"Pakistan\",\"Philippines\",\"Saudi Arabia\",\"Singapore\",\"Sri Lanka\",\"Syria\",\"Taiwan\",\"Thailand\",\"Vietnam\",\"West Bank and Gaza\",\"Yemen, Rep.\"],\"ids\":[\"Afghanistan\",\"Bahrain\",\"Bangladesh\",\"Cambodia\",\"China\",\"Hong Kong, China\",\"India\",\"Indonesia\",\"Iran\",\"Iraq\",\"Israel\",\"Japan\",\"Jordan\",\"Korea, Dem. Rep.\",\"Korea, Rep.\",\"Kuwait\",\"Lebanon\",\"Malaysia\",\"Mongolia\",\"Myanmar\",\"Nepal\",\"Oman\",\"Pakistan\",\"Philippines\",\"Saudi Arabia\",\"Singapore\",\"Sri Lanka\",\"Syria\",\"Taiwan\",\"Thailand\",\"Vietnam\",\"West Bank and Gaza\",\"Yemen, Rep.\"],\"legendgroup\":\"Asia\",\"marker\":{\"color\":\"#636efa\",\"size\":[25268405,656397,135656790,12926707,1280400000,6762476,1034172547,211060000,66907826,24001816,6029529,127065841,5307470,22215365,47969150,2111561,3677780,22662365,2674234,45598081,25873917,2713462,153403524,82995088,24501530,4197776,19576783,17155814,22454239,62806748,80908147,3389578,18701257],\"sizemode\":\"area\",\"sizeref\":435928.2961983471,\"symbol\":\"circle\"},\"mode\":\"markers\",\"name\":\"Asia\",\"orientation\":\"v\",\"showlegend\":true,\"x\":[726.7340548,23403.55927,1136.3904300000004,896.2260152999999,3119.280896,30209.015160000006,1746.769454,2873.91287,9240.761975,4390.717312,21905.59514,28604.5919,3844.917194,1646.758151,19233.98818,35110.10566,9313.93883,10206.97794,2140.739323,611.0,1057.206311,19774.83687,2092.712441,2650.921068,19014.54118,36023.1054,3015.378833,4090.925331,23235.42329,5913.187529,1764.456677,4515.487575,2234.820827],\"xaxis\":\"x\",\"y\":[42.129,74.795,62.01300000000001,56.752,72.028,81.495,62.879,68.58800000000001,69.45100000000001,57.04600000000001,79.696,82.0,71.263,66.66199999999999,77.045,76.904,71.028,73.044,65.033,59.908,61.34,74.193,63.61,70.303,71.626,78.77,70.815,73.053,76.99,68.564,73.017,72.37,60.308],\"yaxis\":\"y\",\"type\":\"scatter\"},{\"hovertemplate\":\"<b>%{hovertext}</b><br><br>continent=Europe<br>year=2002<br>gdpPercap=%{x}<br>lifeExp=%{y}<br>pop=%{marker.size}<extra></extra>\",\"hovertext\":[\"Albania\",\"Austria\",\"Belgium\",\"Bosnia and Herzegovina\",\"Bulgaria\",\"Croatia\",\"Czech Republic\",\"Denmark\",\"Finland\",\"France\",\"Germany\",\"Greece\",\"Hungary\",\"Iceland\",\"Ireland\",\"Italy\",\"Montenegro\",\"Netherlands\",\"Norway\",\"Poland\",\"Portugal\",\"Romania\",\"Serbia\",\"Slovak Republic\",\"Slovenia\",\"Spain\",\"Sweden\",\"Switzerland\",\"Turkey\",\"United Kingdom\"],\"ids\":[\"Albania\",\"Austria\",\"Belgium\",\"Bosnia and Herzegovina\",\"Bulgaria\",\"Croatia\",\"Czech Republic\",\"Denmark\",\"Finland\",\"France\",\"Germany\",\"Greece\",\"Hungary\",\"Iceland\",\"Ireland\",\"Italy\",\"Montenegro\",\"Netherlands\",\"Norway\",\"Poland\",\"Portugal\",\"Romania\",\"Serbia\",\"Slovak Republic\",\"Slovenia\",\"Spain\",\"Sweden\",\"Switzerland\",\"Turkey\",\"United Kingdom\"],\"legendgroup\":\"Europe\",\"marker\":{\"color\":\"#EF553B\",\"size\":[3508512,8148312,10311970,4165416,7661799,4481020,10256295,5374693,5193039,59925035,82350671,10603863,10083313,288030,3879155,57926999,720230,16122830,4535591,38625976,10433867,22404337,10111559,5410052,2011497,40152517,8954175,7361757,67308928,59912431],\"sizemode\":\"area\",\"sizeref\":435928.2961983471,\"symbol\":\"circle\"},\"mode\":\"markers\",\"name\":\"Europe\",\"orientation\":\"v\",\"showlegend\":true,\"x\":[4604.211737,32417.60769,30485.88375,6018.975239,7696.777725,11628.38895,17596.210219999994,32166.50006,28204.59057,28926.03234,30035.80198,22514.2548,14843.93556,31163.20196,34077.04939,27968.09817,6557.194282,33724.75778,44683.97525,12002.23908,19970.90787,7885.360081,7236.075251,13638.778369999998,20660.01936,24835.47166,29341.630930000007,34480.95771,6508.085718,29478.99919],\"xaxis\":\"x\",\"y\":[75.65100000000002,78.98,78.32,74.09,72.14,74.876,75.51,77.18,78.37,79.59,78.67,78.256,72.59,80.5,77.783,80.24,73.98100000000002,78.53,79.05,74.67,77.29,71.322,73.21300000000002,73.8,76.66,79.78,80.04,80.62,70.845,78.471],\"yaxis\":\"y\",\"type\":\"scatter\"},{\"hovertemplate\":\"<b>%{hovertext}</b><br><br>continent=Africa<br>year=2002<br>gdpPercap=%{x}<br>lifeExp=%{y}<br>pop=%{marker.size}<extra></extra>\",\"hovertext\":[\"Algeria\",\"Angola\",\"Benin\",\"Botswana\",\"Burkina Faso\",\"Burundi\",\"Cameroon\",\"Central African Republic\",\"Chad\",\"Comoros\",\"Congo, Dem. Rep.\",\"Congo, Rep.\",\"Cote d'Ivoire\",\"Djibouti\",\"Egypt\",\"Equatorial Guinea\",\"Eritrea\",\"Ethiopia\",\"Gabon\",\"Gambia\",\"Ghana\",\"Guinea\",\"Guinea-Bissau\",\"Kenya\",\"Lesotho\",\"Liberia\",\"Libya\",\"Madagascar\",\"Malawi\",\"Mali\",\"Mauritania\",\"Mauritius\",\"Morocco\",\"Mozambique\",\"Namibia\",\"Niger\",\"Nigeria\",\"Reunion\",\"Rwanda\",\"Sao Tome and Principe\",\"Senegal\",\"Sierra Leone\",\"Somalia\",\"South Africa\",\"Sudan\",\"Swaziland\",\"Tanzania\",\"Togo\",\"Tunisia\",\"Uganda\",\"Zambia\",\"Zimbabwe\"],\"ids\":[\"Algeria\",\"Angola\",\"Benin\",\"Botswana\",\"Burkina Faso\",\"Burundi\",\"Cameroon\",\"Central African Republic\",\"Chad\",\"Comoros\",\"Congo, Dem. Rep.\",\"Congo, Rep.\",\"Cote d'Ivoire\",\"Djibouti\",\"Egypt\",\"Equatorial Guinea\",\"Eritrea\",\"Ethiopia\",\"Gabon\",\"Gambia\",\"Ghana\",\"Guinea\",\"Guinea-Bissau\",\"Kenya\",\"Lesotho\",\"Liberia\",\"Libya\",\"Madagascar\",\"Malawi\",\"Mali\",\"Mauritania\",\"Mauritius\",\"Morocco\",\"Mozambique\",\"Namibia\",\"Niger\",\"Nigeria\",\"Reunion\",\"Rwanda\",\"Sao Tome and Principe\",\"Senegal\",\"Sierra Leone\",\"Somalia\",\"South Africa\",\"Sudan\",\"Swaziland\",\"Tanzania\",\"Togo\",\"Tunisia\",\"Uganda\",\"Zambia\",\"Zimbabwe\"],\"legendgroup\":\"Africa\",\"marker\":{\"color\":\"#00cc96\",\"size\":[31287142,10866106,7026113,1630347,12251209,7021078,15929988,4048013,8835739,614382,55379852,3328795,16252726,447416,73312559,495627,4414865,67946797,1299304,1457766,20550751,8807818,1332459,31386842,2046772,2814651,5368585,16473477,11824495,10580176,2828858,1200206,31167783,18473780,1972153,11140655,119901274,743981,7852401,170372,10870037,5359092,7753310,44433622,37090298,1130269,34593779,4977378,9770575,24739869,10595811,11926563],\"sizemode\":\"area\",\"sizeref\":435928.2961983471,\"symbol\":\"circle\"},\"mode\":\"markers\",\"name\":\"Africa\",\"orientation\":\"v\",\"showlegend\":true,\"x\":[5288.040382,2773.287312,1372.877931,11003.60508,1037.645221,446.4035126,1934.011449,738.6906068,1156.18186,1075.811558,241.1658765,3484.06197,1648.800823,1908.260867,4754.604414,7703.4959,765.3500015,530.0535319,12521.71392,660.5855997,1111.9845779999996,945.5835837,575.7047176,1287.514732,1275.184575,531.4823679,9534.677467,894.6370822,665.4231186000002,951.4097518,1579.019543,9021.815894,3258.495584,633.6179466,4072.324751,601.0745012,1615.286395,6316.1652,785.6537647999999,1353.09239,1519.635262,699.4897129999998,882.0818218000002,7710.946444,1993.398314,4128.116943,899.0742111,886.2205765000001,5722.895654999998,927.7210018,1071.6139380000004,672.0386227000001],\"xaxis\":\"x\",\"y\":[70.994,41.003,54.40600000000001,46.63399999999999,50.65,47.36,49.856,43.308,50.525,62.974,44.966,52.97,46.832,53.37300000000001,69.806,49.348,55.24,50.725,56.761,58.041,58.453,53.676,45.504,50.992,44.593,43.753,72.737,57.286,45.00899999999999,51.81800000000001,62.247,71.954,69.615,44.026,51.479,54.496,46.608,75.744,43.413,64.337,61.6,41.012,45.93600000000001,53.365,56.369,43.869,49.651,57.56100000000001,73.042,47.813,39.19300000000001,39.989],\"yaxis\":\"y\",\"type\":\"scatter\"},{\"hovertemplate\":\"<b>%{hovertext}</b><br><br>continent=Americas<br>year=2002<br>gdpPercap=%{x}<br>lifeExp=%{y}<br>pop=%{marker.size}<extra></extra>\",\"hovertext\":[\"Argentina\",\"Bolivia\",\"Brazil\",\"Canada\",\"Chile\",\"Colombia\",\"Costa Rica\",\"Cuba\",\"Dominican Republic\",\"Ecuador\",\"El Salvador\",\"Guatemala\",\"Haiti\",\"Honduras\",\"Jamaica\",\"Mexico\",\"Nicaragua\",\"Panama\",\"Paraguay\",\"Peru\",\"Puerto Rico\",\"Trinidad and Tobago\",\"United States\",\"Uruguay\",\"Venezuela\"],\"ids\":[\"Argentina\",\"Bolivia\",\"Brazil\",\"Canada\",\"Chile\",\"Colombia\",\"Costa Rica\",\"Cuba\",\"Dominican Republic\",\"Ecuador\",\"El Salvador\",\"Guatemala\",\"Haiti\",\"Honduras\",\"Jamaica\",\"Mexico\",\"Nicaragua\",\"Panama\",\"Paraguay\",\"Peru\",\"Puerto Rico\",\"Trinidad and Tobago\",\"United States\",\"Uruguay\",\"Venezuela\"],\"legendgroup\":\"Americas\",\"marker\":{\"color\":\"#ab63fa\",\"size\":[38331121,8445134,179914212,31902268,15497046,41008227,3834934,11226999,8650322,12921234,6353681,11178650,7607651,6677328,2664659,102479927,5146848,2990875,5884491,26769436,3859606,1101832,287675526,3363085,24287670],\"sizemode\":\"area\",\"sizeref\":435928.2961983471,\"symbol\":\"circle\"},\"mode\":\"markers\",\"name\":\"Americas\",\"orientation\":\"v\",\"showlegend\":true,\"x\":[8797.640716,3413.26269,8131.212843000001,33328.96507,10778.78385,5755.259962,7723.447195000002,6340.646683,4563.808154,5773.044512,5351.568665999999,4858.347495,1270.364932,3099.72866,6994.774861,10742.44053,2474.548819,7356.0319340000015,3783.674243,5909.020073,18855.60618,11460.60023,39097.09955,7727.002004000001,8605.047831],\"xaxis\":\"x\",\"y\":[74.34,63.883,71.006,79.77,77.86,71.682,78.123,77.158,70.847,74.173,70.734,68.97800000000001,58.137,68.565,72.047,74.902,70.836,74.712,70.755,69.906,77.778,68.976,77.31,75.307,72.766],\"yaxis\":\"y\",\"type\":\"scatter\"},{\"hovertemplate\":\"<b>%{hovertext}</b><br><br>continent=Oceania<br>year=2002<br>gdpPercap=%{x}<br>lifeExp=%{y}<br>pop=%{marker.size}<extra></extra>\",\"hovertext\":[\"Australia\",\"New Zealand\"],\"ids\":[\"Australia\",\"New Zealand\"],\"legendgroup\":\"Oceania\",\"marker\":{\"color\":\"#FFA15A\",\"size\":[19546792,3908037],\"sizemode\":\"area\",\"sizeref\":435928.2961983471,\"symbol\":\"circle\"},\"mode\":\"markers\",\"name\":\"Oceania\",\"orientation\":\"v\",\"showlegend\":true,\"x\":[30687.75473,23189.80135],\"xaxis\":\"x\",\"y\":[80.37,79.11],\"yaxis\":\"y\",\"type\":\"scatter\"}],\"name\":\"2002\"},{\"data\":[{\"hovertemplate\":\"<b>%{hovertext}</b><br><br>continent=Asia<br>year=2007<br>gdpPercap=%{x}<br>lifeExp=%{y}<br>pop=%{marker.size}<extra></extra>\",\"hovertext\":[\"Afghanistan\",\"Bahrain\",\"Bangladesh\",\"Cambodia\",\"China\",\"Hong Kong, China\",\"India\",\"Indonesia\",\"Iran\",\"Iraq\",\"Israel\",\"Japan\",\"Jordan\",\"Korea, Dem. Rep.\",\"Korea, Rep.\",\"Kuwait\",\"Lebanon\",\"Malaysia\",\"Mongolia\",\"Myanmar\",\"Nepal\",\"Oman\",\"Pakistan\",\"Philippines\",\"Saudi Arabia\",\"Singapore\",\"Sri Lanka\",\"Syria\",\"Taiwan\",\"Thailand\",\"Vietnam\",\"West Bank and Gaza\",\"Yemen, Rep.\"],\"ids\":[\"Afghanistan\",\"Bahrain\",\"Bangladesh\",\"Cambodia\",\"China\",\"Hong Kong, China\",\"India\",\"Indonesia\",\"Iran\",\"Iraq\",\"Israel\",\"Japan\",\"Jordan\",\"Korea, Dem. Rep.\",\"Korea, Rep.\",\"Kuwait\",\"Lebanon\",\"Malaysia\",\"Mongolia\",\"Myanmar\",\"Nepal\",\"Oman\",\"Pakistan\",\"Philippines\",\"Saudi Arabia\",\"Singapore\",\"Sri Lanka\",\"Syria\",\"Taiwan\",\"Thailand\",\"Vietnam\",\"West Bank and Gaza\",\"Yemen, Rep.\"],\"legendgroup\":\"Asia\",\"marker\":{\"color\":\"#636efa\",\"size\":[31889923,708573,150448339,14131858,1318683096,6980412,1110396331,223547000,69453570,27499638,6426679,127467972,6053193,23301725,49044790,2505559,3921278,24821286,2874127,47761980,28901790,3204897,169270617,91077287,27601038,4553009,20378239,19314747,23174294,65068149,85262356,4018332,22211743],\"sizemode\":\"area\",\"sizeref\":435928.2961983471,\"symbol\":\"circle\"},\"mode\":\"markers\",\"name\":\"Asia\",\"orientation\":\"v\",\"showlegend\":true,\"x\":[974.5803384,29796.04834,1391.253792,1713.778686,4959.114854,39724.97867,2452.210407,3540.651564,11605.71449,4471.061906,25523.2771,31656.06806,4519.461171,1593.06548,23348.139730000006,47306.98978,10461.05868,12451.6558,3095.7722710000007,944.0,1091.359778,22316.19287,2605.94758,3190.481016,21654.83194,47143.17964,3970.095407,4184.548089,28718.27684,7458.396326999998,2441.576404,3025.349798,2280.769906],\"xaxis\":\"x\",\"y\":[43.828,75.635,64.062,59.723,72.961,82.208,64.69800000000001,70.65,70.964,59.545,80.745,82.603,72.535,67.297,78.623,77.58800000000002,71.993,74.241,66.803,62.069,63.785,75.64,65.483,71.688,72.777,79.972,72.396,74.143,78.4,70.616,74.249,73.422,62.698],\"yaxis\":\"y\",\"type\":\"scatter\"},{\"hovertemplate\":\"<b>%{hovertext}</b><br><br>continent=Europe<br>year=2007<br>gdpPercap=%{x}<br>lifeExp=%{y}<br>pop=%{marker.size}<extra></extra>\",\"hovertext\":[\"Albania\",\"Austria\",\"Belgium\",\"Bosnia and Herzegovina\",\"Bulgaria\",\"Croatia\",\"Czech Republic\",\"Denmark\",\"Finland\",\"France\",\"Germany\",\"Greece\",\"Hungary\",\"Iceland\",\"Ireland\",\"Italy\",\"Montenegro\",\"Netherlands\",\"Norway\",\"Poland\",\"Portugal\",\"Romania\",\"Serbia\",\"Slovak Republic\",\"Slovenia\",\"Spain\",\"Sweden\",\"Switzerland\",\"Turkey\",\"United Kingdom\"],\"ids\":[\"Albania\",\"Austria\",\"Belgium\",\"Bosnia and Herzegovina\",\"Bulgaria\",\"Croatia\",\"Czech Republic\",\"Denmark\",\"Finland\",\"France\",\"Germany\",\"Greece\",\"Hungary\",\"Iceland\",\"Ireland\",\"Italy\",\"Montenegro\",\"Netherlands\",\"Norway\",\"Poland\",\"Portugal\",\"Romania\",\"Serbia\",\"Slovak Republic\",\"Slovenia\",\"Spain\",\"Sweden\",\"Switzerland\",\"Turkey\",\"United Kingdom\"],\"legendgroup\":\"Europe\",\"marker\":{\"color\":\"#EF553B\",\"size\":[3600523,8199783,10392226,4552198,7322858,4493312,10228744,5468120,5238460,61083916,82400996,10706290,9956108,301931,4109086,58147733,684736,16570613,4627926,38518241,10642836,22276056,10150265,5447502,2009245,40448191,9031088,7554661,71158647,60776238],\"sizemode\":\"area\",\"sizeref\":435928.2961983471,\"symbol\":\"circle\"},\"mode\":\"markers\",\"name\":\"Europe\",\"orientation\":\"v\",\"showlegend\":true,\"x\":[5937.029525999998,36126.4927,33692.60508,7446.298803,10680.79282,14619.222719999998,22833.30851,35278.41874,33207.0844,30470.0167,32170.37442,27538.41188,18008.94444,36180.78919,40675.99635,28569.7197,9253.896111,36797.93332,49357.19017,15389.924680000002,20509.64777,10808.47561,9786.534714,18678.31435,25768.25759,28821.0637,33859.74835,37506.41907,8458.276384,33203.26128],\"xaxis\":\"x\",\"y\":[76.423,79.829,79.441,74.852,73.005,75.748,76.486,78.332,79.313,80.657,79.406,79.483,73.33800000000002,81.757,78.885,80.546,74.543,79.762,80.196,75.563,78.098,72.476,74.002,74.663,77.926,80.941,80.884,81.70100000000002,71.777,79.425],\"yaxis\":\"y\",\"type\":\"scatter\"},{\"hovertemplate\":\"<b>%{hovertext}</b><br><br>continent=Africa<br>year=2007<br>gdpPercap=%{x}<br>lifeExp=%{y}<br>pop=%{marker.size}<extra></extra>\",\"hovertext\":[\"Algeria\",\"Angola\",\"Benin\",\"Botswana\",\"Burkina Faso\",\"Burundi\",\"Cameroon\",\"Central African Republic\",\"Chad\",\"Comoros\",\"Congo, Dem. Rep.\",\"Congo, Rep.\",\"Cote d'Ivoire\",\"Djibouti\",\"Egypt\",\"Equatorial Guinea\",\"Eritrea\",\"Ethiopia\",\"Gabon\",\"Gambia\",\"Ghana\",\"Guinea\",\"Guinea-Bissau\",\"Kenya\",\"Lesotho\",\"Liberia\",\"Libya\",\"Madagascar\",\"Malawi\",\"Mali\",\"Mauritania\",\"Mauritius\",\"Morocco\",\"Mozambique\",\"Namibia\",\"Niger\",\"Nigeria\",\"Reunion\",\"Rwanda\",\"Sao Tome and Principe\",\"Senegal\",\"Sierra Leone\",\"Somalia\",\"South Africa\",\"Sudan\",\"Swaziland\",\"Tanzania\",\"Togo\",\"Tunisia\",\"Uganda\",\"Zambia\",\"Zimbabwe\"],\"ids\":[\"Algeria\",\"Angola\",\"Benin\",\"Botswana\",\"Burkina Faso\",\"Burundi\",\"Cameroon\",\"Central African Republic\",\"Chad\",\"Comoros\",\"Congo, Dem. Rep.\",\"Congo, Rep.\",\"Cote d'Ivoire\",\"Djibouti\",\"Egypt\",\"Equatorial Guinea\",\"Eritrea\",\"Ethiopia\",\"Gabon\",\"Gambia\",\"Ghana\",\"Guinea\",\"Guinea-Bissau\",\"Kenya\",\"Lesotho\",\"Liberia\",\"Libya\",\"Madagascar\",\"Malawi\",\"Mali\",\"Mauritania\",\"Mauritius\",\"Morocco\",\"Mozambique\",\"Namibia\",\"Niger\",\"Nigeria\",\"Reunion\",\"Rwanda\",\"Sao Tome and Principe\",\"Senegal\",\"Sierra Leone\",\"Somalia\",\"South Africa\",\"Sudan\",\"Swaziland\",\"Tanzania\",\"Togo\",\"Tunisia\",\"Uganda\",\"Zambia\",\"Zimbabwe\"],\"legendgroup\":\"Africa\",\"marker\":{\"color\":\"#00cc96\",\"size\":[33333216,12420476,8078314,1639131,14326203,8390505,17696293,4369038,10238807,710960,64606759,3800610,18013409,496374,80264543,551201,4906585,76511887,1454867,1688359,22873338,9947814,1472041,35610177,2012649,3193942,6036914,19167654,13327079,12031795,3270065,1250882,33757175,19951656,2055080,12894865,135031164,798094,8860588,199579,12267493,6144562,9118773,43997828,42292929,1133066,38139640,5701579,10276158,29170398,11746035,12311143],\"sizemode\":\"area\",\"sizeref\":435928.2961983471,\"symbol\":\"circle\"},\"mode\":\"markers\",\"name\":\"Africa\",\"orientation\":\"v\",\"showlegend\":true,\"x\":[6223.367465,4797.231267,1441.284873,12569.85177,1217.032994,430.0706916,2042.09524,706.016537,1704.063724,986.1478792,277.5518587,3632.557798,1544.750112,2082.4815670000007,5581.180998,12154.08975,641.3695236000002,690.8055759,13206.48452,752.7497265,1327.60891,942.6542111,579.2317429999998,1463.249282,1569.331442,414.5073415,12057.49928,1044.770126,759.3499101,1042.581557,1803.151496,10956.99112,3820.17523,823.6856205,4811.060429,619.6768923999998,2013.977305,7670.122558,863.0884639000002,1598.435089,1712.472136,862.5407561000002,926.1410683,9269.657808,2602.394995,4513.480643,1107.482182,882.9699437999999,7092.923025,1056.380121,1271.211593,469.70929810000007],\"xaxis\":\"x\",\"y\":[72.301,42.731,56.728,50.728,52.295,49.58,50.43,44.74100000000001,50.651,65.152,46.462,55.322,48.328,54.791,71.33800000000002,51.57899999999999,58.04,52.947,56.735,59.448,60.022,56.007,46.38800000000001,54.11,42.592,45.678,73.952,59.44300000000001,48.303,54.467,64.164,72.801,71.164,42.082,52.90600000000001,56.867,46.859,76.442,46.242,65.528,63.062,42.56800000000001,48.159,49.339,58.556,39.613,52.517,58.42,73.923,51.542,42.38399999999999,43.487],\"yaxis\":\"y\",\"type\":\"scatter\"},{\"hovertemplate\":\"<b>%{hovertext}</b><br><br>continent=Americas<br>year=2007<br>gdpPercap=%{x}<br>lifeExp=%{y}<br>pop=%{marker.size}<extra></extra>\",\"hovertext\":[\"Argentina\",\"Bolivia\",\"Brazil\",\"Canada\",\"Chile\",\"Colombia\",\"Costa Rica\",\"Cuba\",\"Dominican Republic\",\"Ecuador\",\"El Salvador\",\"Guatemala\",\"Haiti\",\"Honduras\",\"Jamaica\",\"Mexico\",\"Nicaragua\",\"Panama\",\"Paraguay\",\"Peru\",\"Puerto Rico\",\"Trinidad and Tobago\",\"United States\",\"Uruguay\",\"Venezuela\"],\"ids\":[\"Argentina\",\"Bolivia\",\"Brazil\",\"Canada\",\"Chile\",\"Colombia\",\"Costa Rica\",\"Cuba\",\"Dominican Republic\",\"Ecuador\",\"El Salvador\",\"Guatemala\",\"Haiti\",\"Honduras\",\"Jamaica\",\"Mexico\",\"Nicaragua\",\"Panama\",\"Paraguay\",\"Peru\",\"Puerto Rico\",\"Trinidad and Tobago\",\"United States\",\"Uruguay\",\"Venezuela\"],\"legendgroup\":\"Americas\",\"marker\":{\"color\":\"#ab63fa\",\"size\":[40301927,9119152,190010647,33390141,16284741,44227550,4133884,11416987,9319622,13755680,6939688,12572928,8502814,7483763,2780132,108700891,5675356,3242173,6667147,28674757,3942491,1056608,301139947,3447496,26084662],\"sizemode\":\"area\",\"sizeref\":435928.2961983471,\"symbol\":\"circle\"},\"mode\":\"markers\",\"name\":\"Americas\",\"orientation\":\"v\",\"showlegend\":true,\"x\":[12779.37964,3822.137084,9065.800825,36319.23501,13171.63885,7006.580419,9645.06142,8948.102923,6025.3747520000015,6873.262326000001,5728.353514,5186.050003,1201.637154,3548.3308460000007,7320.8802620000015,11977.57496,2749.320965,9809.185636,4172.838464,7408.905561,19328.70901,18008.50924,42951.65309,10611.46299,11415.80569],\"xaxis\":\"x\",\"y\":[75.32,65.554,72.39,80.653,78.553,72.889,78.782,78.273,72.235,74.994,71.878,70.259,60.916,70.19800000000001,72.567,76.195,72.899,75.53699999999998,71.752,71.421,78.74600000000002,69.819,78.242,76.384,73.747],\"yaxis\":\"y\",\"type\":\"scatter\"},{\"hovertemplate\":\"<b>%{hovertext}</b><br><br>continent=Oceania<br>year=2007<br>gdpPercap=%{x}<br>lifeExp=%{y}<br>pop=%{marker.size}<extra></extra>\",\"hovertext\":[\"Australia\",\"New Zealand\"],\"ids\":[\"Australia\",\"New Zealand\"],\"legendgroup\":\"Oceania\",\"marker\":{\"color\":\"#FFA15A\",\"size\":[20434176,4115771],\"sizemode\":\"area\",\"sizeref\":435928.2961983471,\"symbol\":\"circle\"},\"mode\":\"markers\",\"name\":\"Oceania\",\"orientation\":\"v\",\"showlegend\":true,\"x\":[34435.367439999995,25185.00911],\"xaxis\":\"x\",\"y\":[81.235,80.204],\"yaxis\":\"y\",\"type\":\"scatter\"}],\"name\":\"2007\"}]);\n",
       "                        }).then(function(){\n",
       "                            \n",
       "var gd = document.getElementById('e53caf7c-553f-4b41-86aa-0cd3503e9a71');\n",
       "var x = new MutationObserver(function (mutations, observer) {{\n",
       "        var display = window.getComputedStyle(gd).display;\n",
       "        if (!display || display === 'none') {{\n",
       "            console.log([gd, 'removed!']);\n",
       "            Plotly.purge(gd);\n",
       "            observer.disconnect();\n",
       "        }}\n",
       "}});\n",
       "\n",
       "// Listen for the removal of the full notebook cells\n",
       "var notebookContainer = gd.closest('#notebook-container');\n",
       "if (notebookContainer) {{\n",
       "    x.observe(notebookContainer, {childList: true});\n",
       "}}\n",
       "\n",
       "// Listen for the clearing of the current output cell\n",
       "var outputEl = gd.closest('.output');\n",
       "if (outputEl) {{\n",
       "    x.observe(outputEl, {childList: true});\n",
       "}}\n",
       "\n",
       "                        })                };                });            </script>        </div>"
      ]
     },
     "metadata": {},
     "output_type": "display_data"
    }
   ],
   "source": [
    "df = px.data.gapminder()\n",
    "px.scatter(df, x=\"gdpPercap\", y=\"lifeExp\", animation_frame=\"year\", animation_group=\"country\",\n",
    "           size=\"pop\", color=\"continent\", hover_name=\"country\",\n",
    "           log_x=True, size_max=55, range_x=[100,100000], range_y=[25,90])"
   ]
  },
  {
   "cell_type": "code",
   "execution_count": 15,
   "metadata": {},
   "outputs": [
    {
     "data": {
      "text/html": [
       "<div>\n",
       "<style scoped>\n",
       "    .dataframe tbody tr th:only-of-type {\n",
       "        vertical-align: middle;\n",
       "    }\n",
       "\n",
       "    .dataframe tbody tr th {\n",
       "        vertical-align: top;\n",
       "    }\n",
       "\n",
       "    .dataframe thead th {\n",
       "        text-align: right;\n",
       "    }\n",
       "</style>\n",
       "<table border=\"1\" class=\"dataframe\">\n",
       "  <thead>\n",
       "    <tr style=\"text-align: right;\">\n",
       "      <th></th>\n",
       "      <th>endTime</th>\n",
       "      <th>ms_played</th>\n",
       "      <th>trackName</th>\n",
       "      <th>artistName</th>\n",
       "      <th>reason_start</th>\n",
       "      <th>reason_end</th>\n",
       "      <th>shuffle</th>\n",
       "      <th>skipped</th>\n",
       "    </tr>\n",
       "  </thead>\n",
       "  <tbody>\n",
       "    <tr>\n",
       "      <th>0</th>\n",
       "      <td>2013-09-13 13:21:20+00:00</td>\n",
       "      <td>295026</td>\n",
       "      <td>Invaders Must Die</td>\n",
       "      <td>The Prodigy</td>\n",
       "      <td>trackdone</td>\n",
       "      <td>trackdone</td>\n",
       "      <td>False</td>\n",
       "      <td>0.0</td>\n",
       "    </tr>\n",
       "    <tr>\n",
       "      <th>1</th>\n",
       "      <td>2018-06-11 10:08:43+00:00</td>\n",
       "      <td>10440</td>\n",
       "      <td>Friendzone</td>\n",
       "      <td>Adonis</td>\n",
       "      <td>clickrow</td>\n",
       "      <td>endplay</td>\n",
       "      <td>True</td>\n",
       "      <td>NaN</td>\n",
       "    </tr>\n",
       "    <tr>\n",
       "      <th>2</th>\n",
       "      <td>2015-08-18 09:40:04+00:00</td>\n",
       "      <td>9471</td>\n",
       "      <td>I Choose U</td>\n",
       "      <td>Timeflies</td>\n",
       "      <td>clickrow</td>\n",
       "      <td>endplay</td>\n",
       "      <td>False</td>\n",
       "      <td>1.0</td>\n",
       "    </tr>\n",
       "    <tr>\n",
       "      <th>3</th>\n",
       "      <td>2018-07-12 15:48:40+00:00</td>\n",
       "      <td>199401</td>\n",
       "      <td>Passionfruit</td>\n",
       "      <td>Drake</td>\n",
       "      <td>trackdone</td>\n",
       "      <td>fwdbtn</td>\n",
       "      <td>True</td>\n",
       "      <td>NaN</td>\n",
       "    </tr>\n",
       "    <tr>\n",
       "      <th>4</th>\n",
       "      <td>2014-08-18 20:34:35+00:00</td>\n",
       "      <td>3641</td>\n",
       "      <td>Follow the Lights</td>\n",
       "      <td>Orion</td>\n",
       "      <td>popup</td>\n",
       "      <td>popup</td>\n",
       "      <td>False</td>\n",
       "      <td>1.0</td>\n",
       "    </tr>\n",
       "    <tr>\n",
       "      <th>...</th>\n",
       "      <td>...</td>\n",
       "      <td>...</td>\n",
       "      <td>...</td>\n",
       "      <td>...</td>\n",
       "      <td>...</td>\n",
       "      <td>...</td>\n",
       "      <td>...</td>\n",
       "      <td>...</td>\n",
       "    </tr>\n",
       "    <tr>\n",
       "      <th>16335</th>\n",
       "      <td>2021-11-21 22:30:01+00:00</td>\n",
       "      <td>213640</td>\n",
       "      <td>Sex with My Ex</td>\n",
       "      <td>Lil Peep</td>\n",
       "      <td>trackdone</td>\n",
       "      <td>trackdone</td>\n",
       "      <td>False</td>\n",
       "      <td>NaN</td>\n",
       "    </tr>\n",
       "    <tr>\n",
       "      <th>16336</th>\n",
       "      <td>2017-05-05 05:34:04+00:00</td>\n",
       "      <td>1184</td>\n",
       "      <td>Alla vill till himmelen men ingen vill dö</td>\n",
       "      <td>Timbuktu</td>\n",
       "      <td>fwdbtn</td>\n",
       "      <td>fwdbtn</td>\n",
       "      <td>True</td>\n",
       "      <td>NaN</td>\n",
       "    </tr>\n",
       "    <tr>\n",
       "      <th>16337</th>\n",
       "      <td>2015-05-01 15:22:56+00:00</td>\n",
       "      <td>244363</td>\n",
       "      <td>They Don't Know (feat. Varren Wade)</td>\n",
       "      <td>Loveless</td>\n",
       "      <td>trackdone</td>\n",
       "      <td>trackdone</td>\n",
       "      <td>False</td>\n",
       "      <td>0.0</td>\n",
       "    </tr>\n",
       "    <tr>\n",
       "      <th>16338</th>\n",
       "      <td>2013-10-02 15:56:20+00:00</td>\n",
       "      <td>203560</td>\n",
       "      <td>Back 2 Life (Live It Up) (feat. T.I.)</td>\n",
       "      <td>Sean Kingston</td>\n",
       "      <td>trackdone</td>\n",
       "      <td>trackdone</td>\n",
       "      <td>False</td>\n",
       "      <td>0.0</td>\n",
       "    </tr>\n",
       "    <tr>\n",
       "      <th>16339</th>\n",
       "      <td>2016-12-05 16:05:06+00:00</td>\n",
       "      <td>192154</td>\n",
       "      <td>Love$ick</td>\n",
       "      <td>Mura Masa</td>\n",
       "      <td>trackdone</td>\n",
       "      <td>trackdone</td>\n",
       "      <td>False</td>\n",
       "      <td>NaN</td>\n",
       "    </tr>\n",
       "  </tbody>\n",
       "</table>\n",
       "<p>264797 rows × 8 columns</p>\n",
       "</div>"
      ],
      "text/plain": [
       "                        endTime  ms_played  \\\n",
       "0     2013-09-13 13:21:20+00:00     295026   \n",
       "1     2018-06-11 10:08:43+00:00      10440   \n",
       "2     2015-08-18 09:40:04+00:00       9471   \n",
       "3     2018-07-12 15:48:40+00:00     199401   \n",
       "4     2014-08-18 20:34:35+00:00       3641   \n",
       "...                         ...        ...   \n",
       "16335 2021-11-21 22:30:01+00:00     213640   \n",
       "16336 2017-05-05 05:34:04+00:00       1184   \n",
       "16337 2015-05-01 15:22:56+00:00     244363   \n",
       "16338 2013-10-02 15:56:20+00:00     203560   \n",
       "16339 2016-12-05 16:05:06+00:00     192154   \n",
       "\n",
       "                                       trackName     artistName reason_start  \\\n",
       "0                              Invaders Must Die    The Prodigy    trackdone   \n",
       "1                                     Friendzone         Adonis     clickrow   \n",
       "2                                     I Choose U      Timeflies     clickrow   \n",
       "3                                   Passionfruit          Drake    trackdone   \n",
       "4                              Follow the Lights          Orion        popup   \n",
       "...                                          ...            ...          ...   \n",
       "16335                             Sex with My Ex       Lil Peep    trackdone   \n",
       "16336  Alla vill till himmelen men ingen vill dö       Timbuktu       fwdbtn   \n",
       "16337        They Don't Know (feat. Varren Wade)       Loveless    trackdone   \n",
       "16338      Back 2 Life (Live It Up) (feat. T.I.)  Sean Kingston    trackdone   \n",
       "16339                                   Love$ick      Mura Masa    trackdone   \n",
       "\n",
       "      reason_end  shuffle  skipped  \n",
       "0      trackdone    False      0.0  \n",
       "1        endplay     True      NaN  \n",
       "2        endplay    False      1.0  \n",
       "3         fwdbtn     True      NaN  \n",
       "4          popup    False      1.0  \n",
       "...          ...      ...      ...  \n",
       "16335  trackdone    False      NaN  \n",
       "16336     fwdbtn     True      NaN  \n",
       "16337  trackdone    False      0.0  \n",
       "16338  trackdone    False      0.0  \n",
       "16339  trackdone    False      NaN  \n",
       "\n",
       "[264797 rows x 8 columns]"
      ]
     },
     "execution_count": 15,
     "metadata": {},
     "output_type": "execute_result"
    }
   ],
   "source": [
    "streaming_df"
   ]
  },
  {
   "cell_type": "code",
   "execution_count": 16,
   "metadata": {},
   "outputs": [],
   "source": [
    "group_df = streaming_df.groupby([(streaming_df.endTime.dt.year), (streaming_df.trackName)]).size().sort_values(ascending=False).reset_index(name='count') "
   ]
  },
  {
   "cell_type": "code",
   "execution_count": 17,
   "metadata": {},
   "outputs": [
    {
     "data": {
      "text/html": [
       "<div>\n",
       "<style scoped>\n",
       "    .dataframe tbody tr th:only-of-type {\n",
       "        vertical-align: middle;\n",
       "    }\n",
       "\n",
       "    .dataframe tbody tr th {\n",
       "        vertical-align: top;\n",
       "    }\n",
       "\n",
       "    .dataframe thead th {\n",
       "        text-align: right;\n",
       "    }\n",
       "</style>\n",
       "<table border=\"1\" class=\"dataframe\">\n",
       "  <thead>\n",
       "    <tr style=\"text-align: right;\">\n",
       "      <th></th>\n",
       "      <th>endTime</th>\n",
       "      <th>trackName</th>\n",
       "      <th>count</th>\n",
       "    </tr>\n",
       "  </thead>\n",
       "  <tbody>\n",
       "    <tr>\n",
       "      <th>0</th>\n",
       "      <td>2021</td>\n",
       "      <td>Alone</td>\n",
       "      <td>181</td>\n",
       "    </tr>\n",
       "    <tr>\n",
       "      <th>1</th>\n",
       "      <td>2021</td>\n",
       "      <td>Tyler</td>\n",
       "      <td>146</td>\n",
       "    </tr>\n",
       "    <tr>\n",
       "      <th>2</th>\n",
       "      <td>2021</td>\n",
       "      <td>NUMB</td>\n",
       "      <td>133</td>\n",
       "    </tr>\n",
       "    <tr>\n",
       "      <th>3</th>\n",
       "      <td>2021</td>\n",
       "      <td>lonewolf</td>\n",
       "      <td>131</td>\n",
       "    </tr>\n",
       "    <tr>\n",
       "      <th>4</th>\n",
       "      <td>2014</td>\n",
       "      <td>Numb / Encore</td>\n",
       "      <td>131</td>\n",
       "    </tr>\n",
       "    <tr>\n",
       "      <th>...</th>\n",
       "      <td>...</td>\n",
       "      <td>...</td>\n",
       "      <td>...</td>\n",
       "    </tr>\n",
       "    <tr>\n",
       "      <th>62969</th>\n",
       "      <td>2017</td>\n",
       "      <td>Now &amp; Then - Tilø &amp; ConKi Remix</td>\n",
       "      <td>1</td>\n",
       "    </tr>\n",
       "    <tr>\n",
       "      <th>62970</th>\n",
       "      <td>2017</td>\n",
       "      <td>Now I Know (What I Will Give You For Christmas)</td>\n",
       "      <td>1</td>\n",
       "    </tr>\n",
       "    <tr>\n",
       "      <th>62971</th>\n",
       "      <td>2017</td>\n",
       "      <td>Now Or Never - Estiva Vs. Juventa Remix</td>\n",
       "      <td>1</td>\n",
       "    </tr>\n",
       "    <tr>\n",
       "      <th>62972</th>\n",
       "      <td>2017</td>\n",
       "      <td>Now You're Gone (feat. DJ Mental Theos Bazzhea...</td>\n",
       "      <td>1</td>\n",
       "    </tr>\n",
       "    <tr>\n",
       "      <th>62973</th>\n",
       "      <td>2022</td>\n",
       "      <td>垂直的</td>\n",
       "      <td>1</td>\n",
       "    </tr>\n",
       "  </tbody>\n",
       "</table>\n",
       "<p>62974 rows × 3 columns</p>\n",
       "</div>"
      ],
      "text/plain": [
       "       endTime                                          trackName  count\n",
       "0         2021                                              Alone    181\n",
       "1         2021                                              Tyler    146\n",
       "2         2021                                               NUMB    133\n",
       "3         2021                                           lonewolf    131\n",
       "4         2014                                      Numb / Encore    131\n",
       "...        ...                                                ...    ...\n",
       "62969     2017                    Now & Then - Tilø & ConKi Remix      1\n",
       "62970     2017    Now I Know (What I Will Give You For Christmas)      1\n",
       "62971     2017            Now Or Never - Estiva Vs. Juventa Remix      1\n",
       "62972     2017  Now You're Gone (feat. DJ Mental Theos Bazzhea...      1\n",
       "62973     2022                                                垂直的      1\n",
       "\n",
       "[62974 rows x 3 columns]"
      ]
     },
     "execution_count": 17,
     "metadata": {},
     "output_type": "execute_result"
    }
   ],
   "source": [
    "group_df"
   ]
  },
  {
   "cell_type": "code",
   "execution_count": 18,
   "metadata": {},
   "outputs": [],
   "source": [
    "df = streaming_df.groupby([(streaming_df.endTime.dt.year), (streaming_df.trackName)])\\\n",
    ".agg({'ms_played':'sum','trackName':'count', 'artistName':'first'}).rename(columns={'trackName':'count'}).reset_index()"
   ]
  },
  {
   "cell_type": "code",
   "execution_count": 19,
   "metadata": {},
   "outputs": [
    {
     "data": {
      "text/html": [
       "<div>\n",
       "<style scoped>\n",
       "    .dataframe tbody tr th:only-of-type {\n",
       "        vertical-align: middle;\n",
       "    }\n",
       "\n",
       "    .dataframe tbody tr th {\n",
       "        vertical-align: top;\n",
       "    }\n",
       "\n",
       "    .dataframe thead th {\n",
       "        text-align: right;\n",
       "    }\n",
       "</style>\n",
       "<table border=\"1\" class=\"dataframe\">\n",
       "  <thead>\n",
       "    <tr style=\"text-align: right;\">\n",
       "      <th></th>\n",
       "      <th>endTime</th>\n",
       "      <th>trackName</th>\n",
       "      <th>ms_played</th>\n",
       "      <th>count</th>\n",
       "      <th>artistName</th>\n",
       "    </tr>\n",
       "  </thead>\n",
       "  <tbody>\n",
       "    <tr>\n",
       "      <th>0</th>\n",
       "      <td>2010</td>\n",
       "      <td>007 Is Also Gonna Die</td>\n",
       "      <td>22870</td>\n",
       "      <td>1</td>\n",
       "      <td>Nephew</td>\n",
       "    </tr>\n",
       "    <tr>\n",
       "      <th>1</th>\n",
       "      <td>2010</td>\n",
       "      <td>00:01</td>\n",
       "      <td>11551</td>\n",
       "      <td>1</td>\n",
       "      <td>Danger</td>\n",
       "    </tr>\n",
       "    <tr>\n",
       "      <th>2</th>\n",
       "      <td>2010</td>\n",
       "      <td>1 Thing</td>\n",
       "      <td>26641</td>\n",
       "      <td>1</td>\n",
       "      <td>Amerie</td>\n",
       "    </tr>\n",
       "    <tr>\n",
       "      <th>3</th>\n",
       "      <td>2010</td>\n",
       "      <td>100 Aar</td>\n",
       "      <td>14120</td>\n",
       "      <td>2</td>\n",
       "      <td>Kevin</td>\n",
       "    </tr>\n",
       "    <tr>\n",
       "      <th>4</th>\n",
       "      <td>2010</td>\n",
       "      <td>187 Ulm</td>\n",
       "      <td>3670</td>\n",
       "      <td>1</td>\n",
       "      <td>Snoop Dogg</td>\n",
       "    </tr>\n",
       "    <tr>\n",
       "      <th>...</th>\n",
       "      <td>...</td>\n",
       "      <td>...</td>\n",
       "      <td>...</td>\n",
       "      <td>...</td>\n",
       "      <td>...</td>\n",
       "    </tr>\n",
       "    <tr>\n",
       "      <th>62969</th>\n",
       "      <td>2022</td>\n",
       "      <td>you're my everything</td>\n",
       "      <td>6560</td>\n",
       "      <td>1</td>\n",
       "      <td>sadeyes</td>\n",
       "    </tr>\n",
       "    <tr>\n",
       "      <th>62970</th>\n",
       "      <td>2022</td>\n",
       "      <td>you*</td>\n",
       "      <td>126114</td>\n",
       "      <td>1</td>\n",
       "      <td>steve breaux</td>\n",
       "    </tr>\n",
       "    <tr>\n",
       "      <th>62971</th>\n",
       "      <td>2022</td>\n",
       "      <td>your favorite dress</td>\n",
       "      <td>5410</td>\n",
       "      <td>1</td>\n",
       "      <td>Lil Peep</td>\n",
       "    </tr>\n",
       "    <tr>\n",
       "      <th>62972</th>\n",
       "      <td>2022</td>\n",
       "      <td>Æ vil bare dans</td>\n",
       "      <td>22950</td>\n",
       "      <td>1</td>\n",
       "      <td>Sirkus Eliassen</td>\n",
       "    </tr>\n",
       "    <tr>\n",
       "      <th>62973</th>\n",
       "      <td>2022</td>\n",
       "      <td>垂直的</td>\n",
       "      <td>221955</td>\n",
       "      <td>1</td>\n",
       "      <td>已知射手</td>\n",
       "    </tr>\n",
       "  </tbody>\n",
       "</table>\n",
       "<p>62974 rows × 5 columns</p>\n",
       "</div>"
      ],
      "text/plain": [
       "       endTime              trackName  ms_played  count       artistName\n",
       "0         2010  007 Is Also Gonna Die      22870      1           Nephew\n",
       "1         2010                  00:01      11551      1           Danger\n",
       "2         2010                1 Thing      26641      1           Amerie\n",
       "3         2010                100 Aar      14120      2            Kevin\n",
       "4         2010                187 Ulm       3670      1       Snoop Dogg\n",
       "...        ...                    ...        ...    ...              ...\n",
       "62969     2022   you're my everything       6560      1          sadeyes\n",
       "62970     2022                   you*     126114      1     steve breaux\n",
       "62971     2022    your favorite dress       5410      1         Lil Peep\n",
       "62972     2022        Æ vil bare dans      22950      1  Sirkus Eliassen\n",
       "62973     2022                    垂直的     221955      1             已知射手\n",
       "\n",
       "[62974 rows x 5 columns]"
      ]
     },
     "execution_count": 19,
     "metadata": {},
     "output_type": "execute_result"
    }
   ],
   "source": [
    "df"
   ]
  },
  {
   "cell_type": "code",
   "execution_count": 20,
   "metadata": {},
   "outputs": [],
   "source": [
    "df = df.groupby(['endTime']).apply(lambda x: x.nlargest(100,['count'])).reset_index(drop=True)"
   ]
  },
  {
   "cell_type": "code",
   "execution_count": 23,
   "metadata": {},
   "outputs": [
    {
     "data": {
      "text/html": [
       "<div>\n",
       "<style scoped>\n",
       "    .dataframe tbody tr th:only-of-type {\n",
       "        vertical-align: middle;\n",
       "    }\n",
       "\n",
       "    .dataframe tbody tr th {\n",
       "        vertical-align: top;\n",
       "    }\n",
       "\n",
       "    .dataframe thead th {\n",
       "        text-align: right;\n",
       "    }\n",
       "</style>\n",
       "<table border=\"1\" class=\"dataframe\">\n",
       "  <thead>\n",
       "    <tr style=\"text-align: right;\">\n",
       "      <th></th>\n",
       "      <th>endTime</th>\n",
       "      <th>trackName</th>\n",
       "      <th>ms_played</th>\n",
       "      <th>count</th>\n",
       "      <th>artistName</th>\n",
       "    </tr>\n",
       "  </thead>\n",
       "  <tbody>\n",
       "    <tr>\n",
       "      <th>0</th>\n",
       "      <td>2010</td>\n",
       "      <td>Who's That Chick ? (feat. Rihanna) - Single Ve...</td>\n",
       "      <td>6488119</td>\n",
       "      <td>64</td>\n",
       "      <td>David Guetta</td>\n",
       "    </tr>\n",
       "    <tr>\n",
       "      <th>1</th>\n",
       "      <td>2010</td>\n",
       "      <td>Club Can't Handle Me (feat. David Guetta) - Fr...</td>\n",
       "      <td>5417380</td>\n",
       "      <td>35</td>\n",
       "      <td>Flo Rida</td>\n",
       "    </tr>\n",
       "    <tr>\n",
       "      <th>2</th>\n",
       "      <td>2010</td>\n",
       "      <td>Disco Pogo - Atzen Musik Mix</td>\n",
       "      <td>5842941</td>\n",
       "      <td>32</td>\n",
       "      <td>Die Atzen</td>\n",
       "    </tr>\n",
       "    <tr>\n",
       "      <th>3</th>\n",
       "      <td>2010</td>\n",
       "      <td>Find Your Love</td>\n",
       "      <td>4226113</td>\n",
       "      <td>30</td>\n",
       "      <td>Drake</td>\n",
       "    </tr>\n",
       "    <tr>\n",
       "      <th>4</th>\n",
       "      <td>2010</td>\n",
       "      <td>S&amp;M</td>\n",
       "      <td>5610296</td>\n",
       "      <td>29</td>\n",
       "      <td>Rihanna</td>\n",
       "    </tr>\n",
       "    <tr>\n",
       "      <th>...</th>\n",
       "      <td>...</td>\n",
       "      <td>...</td>\n",
       "      <td>...</td>\n",
       "      <td>...</td>\n",
       "      <td>...</td>\n",
       "    </tr>\n",
       "    <tr>\n",
       "      <th>1295</th>\n",
       "      <td>2022</td>\n",
       "      <td>Heartaches</td>\n",
       "      <td>5330608</td>\n",
       "      <td>29</td>\n",
       "      <td>Shallou</td>\n",
       "    </tr>\n",
       "    <tr>\n",
       "      <th>1296</th>\n",
       "      <td>2022</td>\n",
       "      <td>Leave My Casket Open...</td>\n",
       "      <td>3776549</td>\n",
       "      <td>29</td>\n",
       "      <td>Arrested Youth</td>\n",
       "    </tr>\n",
       "    <tr>\n",
       "      <th>1297</th>\n",
       "      <td>2022</td>\n",
       "      <td>Where You Went Wrong</td>\n",
       "      <td>2621546</td>\n",
       "      <td>29</td>\n",
       "      <td>Kado</td>\n",
       "    </tr>\n",
       "    <tr>\n",
       "      <th>1298</th>\n",
       "      <td>2022</td>\n",
       "      <td>A New Error</td>\n",
       "      <td>8800883</td>\n",
       "      <td>28</td>\n",
       "      <td>Moderat</td>\n",
       "    </tr>\n",
       "    <tr>\n",
       "      <th>1299</th>\n",
       "      <td>2022</td>\n",
       "      <td>Blood Of An Angel</td>\n",
       "      <td>3987480</td>\n",
       "      <td>28</td>\n",
       "      <td>G Smoove</td>\n",
       "    </tr>\n",
       "  </tbody>\n",
       "</table>\n",
       "<p>1300 rows × 5 columns</p>\n",
       "</div>"
      ],
      "text/plain": [
       "      endTime                                          trackName  ms_played  \\\n",
       "0        2010  Who's That Chick ? (feat. Rihanna) - Single Ve...    6488119   \n",
       "1        2010  Club Can't Handle Me (feat. David Guetta) - Fr...    5417380   \n",
       "2        2010                       Disco Pogo - Atzen Musik Mix    5842941   \n",
       "3        2010                                     Find Your Love    4226113   \n",
       "4        2010                                                S&M    5610296   \n",
       "...       ...                                                ...        ...   \n",
       "1295     2022                                         Heartaches    5330608   \n",
       "1296     2022                            Leave My Casket Open...    3776549   \n",
       "1297     2022                               Where You Went Wrong    2621546   \n",
       "1298     2022                                        A New Error    8800883   \n",
       "1299     2022                                  Blood Of An Angel    3987480   \n",
       "\n",
       "      count      artistName  \n",
       "0        64    David Guetta  \n",
       "1        35        Flo Rida  \n",
       "2        32       Die Atzen  \n",
       "3        30           Drake  \n",
       "4        29         Rihanna  \n",
       "...     ...             ...  \n",
       "1295     29         Shallou  \n",
       "1296     29  Arrested Youth  \n",
       "1297     29            Kado  \n",
       "1298     28         Moderat  \n",
       "1299     28        G Smoove  \n",
       "\n",
       "[1300 rows x 5 columns]"
      ]
     },
     "execution_count": 23,
     "metadata": {},
     "output_type": "execute_result"
    }
   ],
   "source": [
    "df"
   ]
  },
  {
   "cell_type": "code",
   "execution_count": 21,
   "metadata": {},
   "outputs": [],
   "source": [
    "#df = df.nlargest(100, columns='count').sort_values(by='endTime')"
   ]
  },
  {
   "cell_type": "markdown",
   "metadata": {},
   "source": [
    "Need to add legend and limit the legend.\n",
    "\n",
    "This should be done by adding a new column with the generes. Only the top 10 genres are assigned. Songs with another genre will\n",
    "have assigned a neutral value."
   ]
  },
  {
   "cell_type": "code",
   "execution_count": 26,
   "metadata": {},
   "outputs": [
    {
     "data": {
      "application/vnd.plotly.v1+json": {
       "config": {
        "plotlyServerURL": "https://plot.ly"
       },
       "data": [
        {
         "customdata": [
          [
           "Jack Harlow"
          ],
          [
           "Lensko"
          ],
          [
           "Lensko"
          ],
          [
           "The Kid LAROI"
          ],
          [
           "The Kid LAROI"
          ],
          [
           "Pop Smoke"
          ],
          [
           "Zero 9:36"
          ],
          [
           "Greta Van Fleet"
          ],
          [
           "Jung"
          ],
          [
           "Stormzy"
          ],
          [
           "DaBaby"
          ],
          [
           "Pop Smoke"
          ],
          [
           "Oberg"
          ],
          [
           "Lil Baby"
          ],
          [
           "JAY-Z"
          ],
          [
           "Stormzy"
          ],
          [
           "24kGoldn"
          ],
          [
           "The Strokes"
          ],
          [
           "PIND"
          ],
          [
           "Badflower"
          ],
          [
           "The Dangerous Summer"
          ],
          [
           "Falling In Reverse"
          ],
          [
           "Lil Tjay"
          ],
          [
           "Headie One"
          ],
          [
           "Juice"
          ],
          [
           "Kanye West"
          ],
          [
           "Bring Me The Horizon"
          ],
          [
           "Stormzy"
          ],
          [
           "Pop Smoke"
          ],
          [
           "I Prevail"
          ],
          [
           "Jung"
          ],
          [
           "Jesu Brødre"
          ],
          [
           "Dagny"
          ],
          [
           "Gorillaz"
          ],
          [
           "Fort Minor"
          ],
          [
           "Stormzy"
          ],
          [
           "The Prodigy"
          ],
          [
           "Eminem"
          ],
          [
           "The Minds Of 99"
          ],
          [
           "Noisestorm"
          ],
          [
           "Fleetwood Mac"
          ],
          [
           "Albatraoz"
          ],
          [
           "A$AP Rocky"
          ],
          [
           "You Me At Six"
          ],
          [
           "The Notorious B.I.G."
          ],
          [
           "Headie One"
          ],
          [
           "Thousand Foot Krutch"
          ],
          [
           "PVRIS"
          ],
          [
           "Blue Öyster Cult"
          ],
          [
           "MGMT"
          ],
          [
           "Darude"
          ],
          [
           "Kanye West"
          ],
          [
           "KennyHoopla"
          ],
          [
           "Polo G"
          ],
          [
           "Stormzy"
          ],
          [
           "The Strokes"
          ],
          [
           "Bring Me The Horizon"
          ],
          [
           "Karpe"
          ],
          [
           "Linkin Park"
          ],
          [
           "You Me At Six"
          ],
          [
           "Dave"
          ],
          [
           "The Midnight"
          ],
          [
           "KennyHoopla"
          ],
          [
           "Greta Van Fleet"
          ],
          [
           "Dire Straits"
          ],
          [
           "THE SCOTTS"
          ],
          [
           "iann dior"
          ],
          [
           "KennyHoopla"
          ],
          [
           "Highly Suspect"
          ],
          [
           "Tristam"
          ],
          [
           "JAY-Z"
          ],
          [
           "JAY-Z"
          ],
          [
           "Linkin Park"
          ],
          [
           "Timecop1983"
          ],
          [
           "Judge Bitch"
          ],
          [
           "Jung"
          ],
          [
           "Eminem"
          ],
          [
           "Dr. Dre"
          ],
          [
           "The Midnight"
          ],
          [
           "Jack Harlow"
          ],
          [
           "Machine Gun Kelly"
          ],
          [
           "B.o.B"
          ],
          [
           "Motionless In White"
          ],
          [
           "Lil Mosey"
          ],
          [
           "Bolaget"
          ],
          [
           "Rainbow Kitten Surprise"
          ],
          [
           "Pop Smoke"
          ],
          [
           "The Strokes"
          ],
          [
           "JAY-Z"
          ],
          [
           "iann dior"
          ],
          [
           "The Prodigy"
          ],
          [
           "Foxing"
          ],
          [
           "Judge Bitch"
          ],
          [
           "Current Joys"
          ],
          [
           "Kanye West"
          ],
          [
           "Falling In Reverse"
          ],
          [
           "Juice WRLD"
          ],
          [
           "Lil Tecca"
          ],
          [
           "Bee Gees"
          ],
          [
           "The Weeknd"
          ]
         ],
         "hovertemplate": "<b>%{hovertext}</b><br><br>endTime=2020<br>ms_played=%{marker.size}<br>count=%{y}<br>artistName=%{customdata[0]}<extra></extra>",
         "hovertext": [
          "WHATS POPPIN",
          "Circles",
          "Cetus",
          "WRONG (feat. Lil Mosey)",
          "ALWAYS DO",
          "Dior - Bonus",
          "Come Thru",
          "Black Smoke Rising",
          "Hun Kommer Tilbage",
          "One Second (feat. H.E.R.)",
          "ROCKSTAR (feat. Roddy Ricch)",
          "The Woo (feat. 50 Cent & Roddy Ricch)",
          "Take My Hand",
          "Emotionally Scarred",
          "Numb / Encore",
          "Sounds of the Skeng",
          "Mood (feat. iann dior)",
          "Bad Decisions",
          "Plastic",
          "The Jester",
          "Fuck Them All",
          "Popular Monster",
          "20/20",
          "Ain't It Different (feat. AJ Tracey & Stormzy)",
          "Audrey Tell Me",
          "POWER",
          "Sleepwalking",
          "Wiley Flow",
          "For The Night (feat. Lil Baby & DaBaby)",
          "Hurricane",
          "Jeg Skal Nok Vente",
          "Trampertøsen",
          "Somebody",
          "Feel Good Inc.",
          "Remember the Name (feat. Styles of Beyond)",
          "Audacity (feat. Headie One)",
          "Breathe",
          "Darkness",
          "Som Fluer",
          "Crab Rave",
          "Dreams - 2004 Remaster",
          "E (Ventex)",
          "F**kin' Problems (feat. Drake, 2 Chainz & Kendrick Lamar)",
          "Heavy Soul",
          "Juicy - 2005 Remaster",
          "Only You Freestyle",
          "Take It Out On Me",
          "What's Wrong",
          "(Don't Fear) The Reaper",
          "Electric Feel",
          "Sandstorm",
          "Stronger",
          "how will i rest in peace if i'm buried by a highway?//",
          "Martin & Gina",
          "Own It (feat. Ed Sheeran & Burna Boy)",
          "Someday",
          "Teardrops",
          "Toyota'n til Magdi",
          "In the End",
          "Our House (The Mess We Made)",
          "Thiago Silva",
          "Vampires",
          "lost cause//",
          "Highway Tune",
          "Sultans Of Swing",
          "THE SCOTTS",
          "gone girl",
          "plastic door//",
          "16",
          "Flight",
          "Ni**as In Paris",
          "No Church In The Wild",
          "Papercut",
          "Tonight",
          "Trash Pandas",
          "Ud I Kørebanen",
          "'Till I Collapse",
          "Forgot About Dre",
          "Jason",
          "Tyler Herro",
          "bloody valentine",
          "Airplanes, Pt. II (feat. Eminem & Hayley Williams of Paramore)",
          "Another Life",
          "Blueberry Faygo",
          "Dum",
          "First Class",
          "Got It On Me",
          "Last Nite",
          "Run This Town",
          "Sick and Tired",
          "Smack My Bitch Up",
          "The Medic",
          "Vandal",
          "A Different Age",
          "Black Skinhead",
          "Carry On",
          "Conversations",
          "Ransom",
          "Stayin' Alive - From \"Saturday Night Fever\" Soundtrack",
          "Blinding Lights"
         ],
         "legendgroup": "",
         "marker": {
          "color": "#636efa",
          "size": [
           8787898,
           9963200,
           11224359,
           7135241,
           4962521,
           8662228,
           6846085,
           9804071,
           6816811,
           9119397,
           4020531,
           6252100,
           5967017,
           7319516,
           6749777,
           6853664,
           4841944,
           9639148,
           5843768,
           7660425,
           5998513,
           3920099,
           6433797,
           5490099,
           6239932,
           7964756,
           6628574,
           5783161,
           2782352,
           6328448,
           4875638,
           3767279,
           3402275,
           5554444,
           4288047,
           4704504,
           5901477,
           3169533,
           5037281,
           3579371,
           5226975,
           2963078,
           4791804,
           5076466,
           3123969,
           5296610,
           3900158,
           6529472,
           6330205,
           4965370,
           3046226,
           4270615,
           4991332,
           2526916,
           3373301,
           3322361,
           4315989,
           3277443,
           3073806,
           3765798,
           3618174,
           5976962,
           3905406,
           2776599,
           8010460,
           1814572,
           1826768,
           4059788,
           3981141,
           3674565,
           3930290,
           5119254,
           3235166,
           4968161,
           3460936,
           4026435,
           3979354,
           3188159,
           5530868,
           2189471,
           3691521,
           5147674,
           3582214,
           1846492,
           3072218,
           4723770,
           1922597,
           2826155,
           3643528,
           2325614,
           5974781,
           3838244,
           4426412,
           6210512,
           2156853,
           3492243,
           1315188,
           2289095,
           3585680,
           2083501
          ],
          "sizemode": "area",
          "sizeref": 9270.937777777777,
          "symbol": "circle"
         },
         "mode": "markers",
         "name": "",
         "orientation": "v",
         "showlegend": false,
         "type": "scatter",
         "x": [
          8787898,
          9963200,
          11224359,
          7135241,
          4962521,
          8662228,
          6846085,
          9804071,
          6816811,
          9119397,
          4020531,
          6252100,
          5967017,
          7319516,
          6749777,
          6853664,
          4841944,
          9639148,
          5843768,
          7660425,
          5998513,
          3920099,
          6433797,
          5490099,
          6239932,
          7964756,
          6628574,
          5783161,
          2782352,
          6328448,
          4875638,
          3767279,
          3402275,
          5554444,
          4288047,
          4704504,
          5901477,
          3169533,
          5037281,
          3579371,
          5226975,
          2963078,
          4791804,
          5076466,
          3123969,
          5296610,
          3900158,
          6529472,
          6330205,
          4965370,
          3046226,
          4270615,
          4991332,
          2526916,
          3373301,
          3322361,
          4315989,
          3277443,
          3073806,
          3765798,
          3618174,
          5976962,
          3905406,
          2776599,
          8010460,
          1814572,
          1826768,
          4059788,
          3981141,
          3674565,
          3930290,
          5119254,
          3235166,
          4968161,
          3460936,
          4026435,
          3979354,
          3188159,
          5530868,
          2189471,
          3691521,
          5147674,
          3582214,
          1846492,
          3072218,
          4723770,
          1922597,
          2826155,
          3643528,
          2325614,
          5974781,
          3838244,
          4426412,
          6210512,
          2156853,
          3492243,
          1315188,
          2289095,
          3585680,
          2083501
         ],
         "xaxis": "x",
         "y": [
          77,
          50,
          49,
          48,
          47,
          46,
          45,
          44,
          44,
          44,
          44,
          44,
          43,
          42,
          42,
          41,
          40,
          39,
          39,
          37,
          36,
          36,
          35,
          34,
          34,
          34,
          34,
          33,
          32,
          32,
          31,
          31,
          30,
          29,
          29,
          28,
          28,
          28,
          28,
          27,
          27,
          27,
          27,
          27,
          27,
          27,
          27,
          27,
          26,
          26,
          26,
          26,
          26,
          25,
          25,
          25,
          25,
          25,
          24,
          24,
          24,
          24,
          24,
          23,
          23,
          23,
          23,
          23,
          22,
          22,
          22,
          22,
          22,
          22,
          22,
          22,
          21,
          21,
          21,
          21,
          21,
          20,
          20,
          20,
          20,
          20,
          20,
          20,
          20,
          20,
          20,
          20,
          20,
          19,
          19,
          19,
          19,
          19,
          19,
          18
         ],
         "yaxis": "y"
        }
       ],
       "frames": [
        {
         "data": [
          {
           "customdata": [
            [
             "David Guetta"
            ],
            [
             "Flo Rida"
            ],
            [
             "Die Atzen"
            ],
            [
             "Drake"
            ],
            [
             "Rihanna"
            ],
            [
             "Kato"
            ],
            [
             "Chris Decay"
            ],
            [
             "Young Money"
            ],
            [
             "Shakira"
            ],
            [
             "David Guetta"
            ],
            [
             "Bruno Mars"
            ],
            [
             "Paramore"
            ],
            [
             "Yolanda Be Cool"
            ],
            [
             "A. Lee"
            ],
            [
             "Tiësto"
            ],
            [
             "Karen"
            ],
            [
             "B.o.B"
            ],
            [
             "Justin Timberlake"
            ],
            [
             "Katy Perry"
            ],
            [
             "Bruno Mars"
            ],
            [
             "Black Sabbath"
            ],
            [
             "Tim Berg"
            ],
            [
             "Akon"
            ],
            [
             "Oli Chang"
            ],
            [
             "MORTEN"
            ],
            [
             "Swedish House Mafia"
            ],
            [
             "Dance DJ & Company"
            ],
            [
             "Linkin Park"
            ],
            [
             "Paramore"
            ],
            [
             "Chamillionaire"
            ],
            [
             "Milow"
            ],
            [
             "Eminem"
            ],
            [
             "Nelly"
            ],
            [
             "September"
            ],
            [
             "Chiddy Bang"
            ],
            [
             "Jason Derulo"
            ],
            [
             "Iyaz"
            ],
            [
             "Black Eyed Peas"
            ],
            [
             "Tinie Tempah"
            ],
            [
             "Kevin"
            ],
            [
             "Green Day"
            ],
            [
             "Vanessa Carlton"
            ],
            [
             "Lady Gaga"
            ],
            [
             "Eminem"
            ],
            [
             "Travie McCoy"
            ],
            [
             "Nik & Jay"
            ],
            [
             "Lazee"
            ],
            [
             "Justin Bieber"
            ],
            [
             "Tom Mountain Feat. Nicco"
            ],
            [
             "Storm Weather Shanty Choir"
            ],
            [
             "Space Cowboy"
            ],
            [
             "Remady"
            ],
            [
             "Sean Banan"
            ],
            [
             "Pitbull"
            ],
            [
             "Nickelback"
            ],
            [
             "Timbaland"
            ],
            [
             "Paramore"
            ],
            [
             "McFly"
            ],
            [
             "Eminem"
            ],
            [
             "David Guetta"
            ],
            [
             "Justin Bieber"
            ],
            [
             "Eminem"
            ],
            [
             "Mark Ronson"
            ],
            [
             "Nephew"
            ],
            [
             "Nickelback"
            ],
            [
             "Shakira"
            ],
            [
             "Nephew"
            ],
            [
             "Dr. Dre"
            ],
            [
             "Disturbed"
            ],
            [
             "Baby Bash"
            ],
            [
             "Rihanna"
            ],
            [
             "CS"
            ],
            [
             "Nephew"
            ],
            [
             "Danger"
            ],
            [
             "Amerie"
            ],
            [
             "Snoop Dogg"
            ],
            [
             "Phoenix"
            ],
            [
             "2Pac"
            ],
            [
             "Jay Sean"
            ],
            [
             "50 Cent"
            ],
            [
             "Eminem"
            ],
            [
             "Medina"
            ],
            [
             "R.I.O."
            ],
            [
             "Van Halen"
            ],
            [
             "Airbeat One Project"
            ],
            [
             "B.o.B"
            ],
            [
             "Nelly Furtado"
            ],
            [
             "DJ Khaled"
            ],
            [
             "Sleep Station"
            ],
            [
             "Timbuktu"
            ],
            [
             "Rolf Just Nilsen"
            ],
            [
             "Estelle"
            ],
            [
             "Basshunter"
            ],
            [
             "Justin Bieber"
            ],
            [
             "Ella Fitzgerald and Louis Jordan"
            ],
            [
             "Volbeat"
            ],
            [
             "Jace Everett"
            ],
            [
             "Bamse & Kylling"
            ],
            [
             "Jordin Sparks"
            ],
            [
             "JLS"
            ]
           ],
           "hovertemplate": "<b>%{hovertext}</b><br><br>endTime=2010<br>ms_played=%{marker.size}<br>count=%{y}<br>artistName=%{customdata[0]}<extra></extra>",
           "hovertext": [
            "Who's That Chick ? (feat. Rihanna) - Single Version",
            "Club Can't Handle Me (feat. David Guetta) - From the Step Up 3D Soundtrack",
            "Disco Pogo - Atzen Musik Mix",
            "Find Your Love",
            "S&M",
            "Desert Walk (feat. Outlandish) - Radio Edit",
            "Hold Tight - Tim Verba Radio Edit",
            "BedRock",
            "Loca (Featuring Dizzee Rascal)",
            "Love Is Gone - Fred Riester & Joachim Garraud Radio Edit Remix",
            "Grenade",
            "Misery Business - Acoustic Version",
            "We No Speak Americano - Radio Edit",
            "Gotta Let Go - Radio Mix",
            "Escape Me",
            "Har det hele (feat Karen & Jooks)",
            "Magic - feat. Rivers Cuomo",
            "What Goes Around...Comes Around - Radio Edit",
            "Firework",
            "Just The Way You Are",
            "Changes",
            "Seek Bromance - Avicii Vocal Edit",
            "Angel",
            "Chicken Techno",
            "Fest (feat. Nik & Jay) - Original",
            "Miami 2 Ibiza - Swedish House Mafia vs. Tinie Tempah",
            "Wearing My Rolex (Dance)",
            "Blackout",
            "Misery Business",
            "Good Morning",
            "Ayo Technology",
            "Going Through Changes",
            "Just A Dream - Main",
            "Mikrofonkåt",
            "Opposite of Adults",
            "Ridin' Solo",
            "Solo",
            "The Time (Dirty Bit)",
            "Written in the Stars (feat. Eric Turner)",
            "100 Aar",
            "21 Guns",
            "A Thousand Miles",
            "Alejandro",
            "Beautiful",
            "Billionaire (feat. Bruno Mars)",
            "Boing!",
            "Calling Out (feat. Apollo Drive)",
            "Common Denominator - iTunes Bonus",
            "Dance Hall Track - California Row Edit",
            "Drunken Sailor",
            "Falling Down - Featuring Chelsea From The Paradiso Girls",
            "Give Me A Sign - Radio Edit",
            "Gott nytt jul",
            "Hey Baby (Drop It to the Floor) (feat. T-Pain)",
            "If Today Was Your Last Day",
            "If We Ever Meet Again (Featuring Katy Perry)",
            "Ignorance",
            "Lies",
            "Lose Yourself - Soundtrack Version",
            "Love Is Gone",
            "Love Me",
            "Not Afraid",
            "Ooh Wee (feat. Ghostface Killah, Nate Dogg, Trife & Saigon)",
            "Police Bells & Church Sirens",
            "Rockstar",
            "She Wolf",
            "Sov for Satan Mand",
            "Still D.R.E.",
            "Stupify",
            "Suga Suga",
            "What's My Name?",
            "World So Cold",
            "007 Is Also Gonna Die",
            "00:01",
            "1 Thing",
            "187 Ulm",
            "1901",
            "2 Of Amerikaz Most Wanted - (Explicit)",
            "2012 (It Ain't The End)",
            "21 Questions",
            "25 To Life",
            "Addiction - Radio Edit",
            "After The Love - Radio Edit",
            "Ain't Talkin' 'Bout Love - 2004 Remaster",
            "Airbeat One 2006 - Single Version",
            "Airplanes, Part II [feat Eminem & Hayley Williams of Paramore]",
            "All Good Things (Come To An End)",
            "All I Do Is Win - Feat. T-Pain, Ludacris, Snoop Dogg & Rick Ross",
            "All That Remains",
            "Alla Vill Till Himmelen Men Ingen Vill Dö",
            "Alle Fugler",
            "American Boy (feat. Kanye West)",
            "Angel in the Night - Radio Edit",
            "Baby",
            "Baby, It's Cold Outside",
            "Back To Prom",
            "Bad Things - Soundtrack Version",
            "Bamse og Kylling",
            "Battlefield",
            "Beat Again - Digital Dog Remix"
           ],
           "legendgroup": "",
           "marker": {
            "color": "#636efa",
            "size": [
             6488119,
             5417380,
             5842941,
             4226113,
             5610296,
             4320074,
             1891988,
             3415731,
             1668534,
             1582699,
             2324635,
             60529,
             618726,
             1344895,
             430326,
             1251926,
             2143438,
             891129,
             1823814,
             1478774,
             145160,
             1385451,
             494856,
             416077,
             267321,
             459517,
             727352,
             627192,
             205779,
             233665,
             73820,
             5500,
             30410,
             42072,
             582066,
             282940,
             580950,
             58512,
             61619,
             14120,
             40150,
             7354,
             3150,
             71799,
             26867,
             187892,
             3482,
             15633,
             209175,
             23062,
             65796,
             12652,
             43374,
             5230,
             15364,
             310,
             92037,
             424199,
             17899,
             244184,
             382284,
             19470,
             68673,
             115952,
             26885,
             190770,
             13770,
             20809,
             1982,
             6742,
             298433,
             23561,
             22870,
             11551,
             26641,
             3670,
             18420,
             109701,
             0,
             22593,
             951,
             12181,
             5862,
             1792,
             40422,
             10209,
             2383,
             156220,
             6130,
             11167,
             11726,
             626,
             9150,
             216081,
             6531,
             3530,
             6456,
             2320,
             38602,
             3467
            ],
            "sizemode": "area",
            "sizeref": 9270.937777777777,
            "symbol": "circle"
           },
           "mode": "markers",
           "name": "",
           "orientation": "v",
           "showlegend": false,
           "type": "scatter",
           "x": [
            6488119,
            5417380,
            5842941,
            4226113,
            5610296,
            4320074,
            1891988,
            3415731,
            1668534,
            1582699,
            2324635,
            60529,
            618726,
            1344895,
            430326,
            1251926,
            2143438,
            891129,
            1823814,
            1478774,
            145160,
            1385451,
            494856,
            416077,
            267321,
            459517,
            727352,
            627192,
            205779,
            233665,
            73820,
            5500,
            30410,
            42072,
            582066,
            282940,
            580950,
            58512,
            61619,
            14120,
            40150,
            7354,
            3150,
            71799,
            26867,
            187892,
            3482,
            15633,
            209175,
            23062,
            65796,
            12652,
            43374,
            5230,
            15364,
            310,
            92037,
            424199,
            17899,
            244184,
            382284,
            19470,
            68673,
            115952,
            26885,
            190770,
            13770,
            20809,
            1982,
            6742,
            298433,
            23561,
            22870,
            11551,
            26641,
            3670,
            18420,
            109701,
            0,
            22593,
            951,
            12181,
            5862,
            1792,
            40422,
            10209,
            2383,
            156220,
            6130,
            11167,
            11726,
            626,
            9150,
            216081,
            6531,
            3530,
            6456,
            2320,
            38602,
            3467
           ],
           "xaxis": "x",
           "y": [
            64,
            35,
            32,
            30,
            29,
            24,
            20,
            19,
            15,
            15,
            14,
            13,
            13,
            12,
            11,
            11,
            11,
            11,
            10,
            10,
            9,
            9,
            8,
            8,
            7,
            6,
            6,
            5,
            5,
            4,
            3,
            3,
            3,
            3,
            3,
            3,
            3,
            3,
            3,
            2,
            2,
            2,
            2,
            2,
            2,
            2,
            2,
            2,
            2,
            2,
            2,
            2,
            2,
            2,
            2,
            2,
            2,
            2,
            2,
            2,
            2,
            2,
            2,
            2,
            2,
            2,
            2,
            2,
            2,
            2,
            2,
            2,
            1,
            1,
            1,
            1,
            1,
            1,
            1,
            1,
            1,
            1,
            1,
            1,
            1,
            1,
            1,
            1,
            1,
            1,
            1,
            1,
            1,
            1,
            1,
            1,
            1,
            1,
            1,
            1
           ],
           "yaxis": "y"
          }
         ],
         "name": "2010"
        },
        {
         "data": [
          {
           "customdata": [
            [
             "Don Omar"
            ],
            [
             "Snoop Dogg"
            ],
            [
             "Wiz Khalifa"
            ],
            [
             "Nicole Scherzinger"
            ],
            [
             "Shakira"
            ],
            [
             "Mattafix"
            ],
            [
             "New Boyz"
            ],
            [
             "Pitbull"
            ],
            [
             "Katy Perry"
            ],
            [
             "DJ Antoine feat. The Beat Shakers"
            ],
            [
             "Usher"
            ],
            [
             "Cir.Cuz"
            ],
            [
             "Chris Brown"
            ],
            [
             "Carlos Baute"
            ],
            [
             "Kato"
            ],
            [
             "Alexandra Stan"
            ],
            [
             "Far East Movement"
            ],
            [
             "Dave Darell"
            ],
            [
             "Pimp! Code"
            ],
            [
             "Flo Rida"
            ],
            [
             "Michael Jackson Duet with Akon"
            ],
            [
             "Eddy Wata"
            ],
            [
             "David Guetta"
            ],
            [
             "David Guetta"
            ],
            [
             "Pitbull"
            ],
            [
             "Stevie Mycs"
            ],
            [
             "The Lonely Island"
            ],
            [
             "Pitbull"
            ],
            [
             "LMFAO"
            ],
            [
             "Black Eyed Peas"
            ],
            [
             "Kato"
            ],
            [
             "The Cataracs"
            ],
            [
             "Jennifer Lopez"
            ],
            [
             "Lupe Fiasco"
            ],
            [
             "Dr. Dre"
            ],
            [
             "Kobojsarna"
            ],
            [
             "Swedish House Mafia"
            ],
            [
             "Iyaz"
            ],
            [
             "DJ Disciple"
            ],
            [
             "Jason Derulo"
            ],
            [
             "Rasmus Seebach"
            ],
            [
             "Skrillex"
            ],
            [
             "DJ Antoine"
            ],
            [
             "Owl City"
            ],
            [
             "Benny Benassi"
            ],
            [
             "Busta Rhymes"
            ],
            [
             "David Guetta"
            ],
            [
             "Eddy Wata"
            ],
            [
             "Linkin Park"
            ],
            [
             "Nicki Minaj"
            ],
            [
             "Etienne"
            ],
            [
             "Bastian Bates feat. Nicco"
            ],
            [
             "Mohombi"
            ],
            [
             "Three 6 Mafia"
            ],
            [
             "Britney Spears"
            ],
            [
             "INNA"
            ],
            [
             "maNga"
            ],
            [
             "Sidney Samson"
            ],
            [
             "Danny Saucedo"
            ],
            [
             "Pitbull"
            ],
            [
             "OneRepublic"
            ],
            [
             "Waka Flocka Flame"
            ],
            [
             "P!nk"
            ],
            [
             "Wiz Khalifa"
            ],
            [
             "Detail"
            ],
            [
             "Bruno Mars"
            ],
            [
             "Discotronic"
            ],
            [
             "Die Atzen"
            ],
            [
             "deadmau5"
            ],
            [
             "Black Eyed Peas"
            ],
            [
             "Sak Noel"
            ],
            [
             "The Lonely Island"
            ],
            [
             "Britney Spears"
            ],
            [
             "New Boyz"
            ],
            [
             "Simena"
            ],
            [
             "Pitbull"
            ],
            [
             "The Lonely Island"
            ],
            [
             "LMFAO"
            ],
            [
             "Black Eyed Peas"
            ],
            [
             "Flo Rida"
            ],
            [
             "Chester See"
            ],
            [
             "Chip"
            ],
            [
             "Enrique Iglesias"
            ],
            [
             "Pitbull"
            ],
            [
             "Kato"
            ],
            [
             "Avril Lavigne"
            ],
            [
             "Duck Sauce"
            ],
            [
             "Mohombi"
            ],
            [
             "Linkin Park"
            ],
            [
             "Snow"
            ],
            [
             "Eminem"
            ],
            [
             "Linkin Park"
            ],
            [
             "Black Eyed Peas"
            ],
            [
             "Jessie J"
            ],
            [
             "Xander Linnet"
            ],
            [
             "Block McCloud"
            ],
            [
             "Showtek"
            ],
            [
             "Manian"
            ],
            [
             "Nicki Minaj"
            ],
            [
             "Maroon 5"
            ]
           ],
           "hovertemplate": "<b>%{hovertext}</b><br><br>endTime=2011<br>ms_played=%{marker.size}<br>count=%{y}<br>artistName=%{customdata[0]}<extra></extra>",
           "hovertext": [
            "Danza Kuduro",
            "Sweat - Remix",
            "Black and Yellow",
            "Don't Hold Your Breath",
            "Rabiosa",
            "Big City Life",
            "Better with the Lights Off (feat. Chris Brown)",
            "Give Me Everything (feat. Ne-Yo, Afrojack & Nayer)",
            "Last Friday Night (T.G.I.F.)",
            "Ma Chérie - Remady Radio Edit",
            "More - RedOne Jimmy Joker Remix",
            "Radio",
            "Yeah 3x",
            "Colgando en tus manos (con Marta Sánchez)",
            "Hey Shorty (Yeah Yeah Part II)",
            "Mr. Saxobeat - Radio Edit",
            "If I Was You (OMG)",
            "Freeloader - Spencer & Hill Radio Edit",
            "Raise your Head up! - Radio Edit",
            "Turn Around (5,4,3,2,1)",
            "Hold My Hand - Duet with Akon",
            "I Like The Way - Original Radio Edit",
            "Where Them Girls At (feat. Nicki Minaj & Flo Rida)",
            "Who's That Chick ? (feat. Rihanna) - Single Version",
            "Hey Baby (Drop It to the Floor) (feat. T-Pain)",
            "Hey Uncle DJ - Radio Edit",
            "I Just Had Sex - Edited Version",
            "Mr. Worldwide (Intro) (feat. Vein)",
            "Party Rock Anthem",
            "The Time (Dirty Bit)",
            "Desert Walk (feat. Outlandish) - Radio Edit",
            "Top Of The World",
            "On The Floor - Radio Edit",
            "The Show Goes On",
            "Kush - Main",
            "La Perla",
            "Miami 2 Ibiza - Swedish House Mafia vs. Tinie Tempah",
            "So Big",
            "Work It Out - Klaas Short Edit",
            "Don't Wanna Go Home",
            "Natteravn",
            "Scary Monsters and Nice Sprites",
            "Welcome to St. Tropez - DJ Antoine vs. Mad Mark Radio Edit",
            "Alligator Sky",
            "Cinema (feat. Gary Go) - Skrillex Remix",
            "How We Roll - Fast Five Remix",
            "Little Bad Girl (feat. Taio Cruz & Ludacris)",
            "My Dream - Radio Edit",
            "New Divide",
            "Super Bass",
            "Bounce - Fresh Edit Remix",
            "Can't Slow Down - Dan Winter Radio Edit",
            "Coconut Tree",
            "Feel It (with Sean Kingston & Flo Rida) - Explicit Album Version",
            "I Wanna Go",
            "10 Minutes",
            "Bir Kadın Çizeceksin",
            "Riverside (Let's Go!) - Radio Edit",
            "Tokyo - Radio Version",
            "Took My Love (feat. Red Foo, Vein & David Rush)",
            "Good Life",
            "No Hands (feat. Roscoe Dash & Wale)",
            "Raise Your Glass",
            "Roll Up",
            "SMH (Shakin My Head) - Edited Version",
            "The Lazy Song",
            "To The Moon And Back - Paramond Radio Mix",
            "Disco Pogo - Atzen Musik Mix",
            "Ghosts 'N' Stuff - Radio Edit",
            "Just Can’t Get Enough",
            "Loca People (What the F**k!\") - Radio Edit",
            "Motherlover - Album Versions",
            "Till the World Ends",
            "Backseat - feat. The Cataracs & Dev",
            "Cannabus 2011",
            "Come N Go (feat. Enrique Iglesias)",
            "Jack Sparrow",
            "Sexy And I Know It",
            "Where Is The Love?",
            "Who Dat Girl (feat. Akon)",
            "You're Beautiful (Clean Version)",
            "Champion",
            "Dirty Dancer",
            "International Love (feat. Chris Brown)",
            "Sjus - Radio Edit",
            "What the Hell",
            "Barbra Streisand - Radio Edit",
            "Dirty Situation",
            "In the End",
            "Informer",
            "Not Afraid",
            "Numb",
            "Rock That Body",
            "Who's Laughing Now",
            "Det burde ikk være sådan her",
            "End of Days Feat. Block McCloud",
            "FTS (Original Mix)",
            "Loco - Video Edit",
            "Moment 4 Life",
            "Moves Like Jagger - Studio Recording From The Voice Performance"
           ],
           "legendgroup": "",
           "marker": {
            "color": "#636efa",
            "size": [
             7722301,
             5782208,
             6670040,
             6512809,
             3547066,
             5034266,
             5940449,
             6671469,
             7355345,
             4770066,
             4204380,
             4339120,
             5795393,
             6470334,
             3921066,
             3205316,
             5373814,
             3180559,
             2242334,
             3640750,
             2859752,
             3874469,
             2257106,
             2303136,
             3572846,
             2337951,
             2349811,
             1248376,
             2196410,
             3243155,
             2556543,
             3100136,
             3446599,
             2953899,
             2651646,
             1900856,
             3677135,
             2990975,
             3628134,
             2944457,
             2753390,
             2194194,
             2286526,
             2473137,
             2266040,
             2129400,
             2764148,
             2744010,
             3813694,
             2176396,
             2339986,
             2455216,
             2143784,
             1793202,
             1959123,
             2856791,
             2110021,
             1697871,
             2049702,
             1554522,
             2556338,
             2447472,
             2035295,
             2528775,
             1240708,
             1110478,
             1508714,
             2670171,
             372779,
             2862698,
             1652987,
             1568622,
             1694862,
             2760258,
             1461933,
             1103074,
             1329555,
             1741357,
             2012479,
             1215457,
             3494043,
             2293963,
             1084443,
             396600,
             1549706,
             1105448,
             822243,
             1918366,
             1543922,
             1475816,
             1642855,
             1487697,
             2025224,
             2121290,
             2189941,
             791008,
             707595,
             564455,
             1837079,
             1351991
            ],
            "sizemode": "area",
            "sizeref": 9270.937777777777,
            "symbol": "circle"
           },
           "mode": "markers",
           "name": "",
           "orientation": "v",
           "showlegend": false,
           "type": "scatter",
           "x": [
            7722301,
            5782208,
            6670040,
            6512809,
            3547066,
            5034266,
            5940449,
            6671469,
            7355345,
            4770066,
            4204380,
            4339120,
            5795393,
            6470334,
            3921066,
            3205316,
            5373814,
            3180559,
            2242334,
            3640750,
            2859752,
            3874469,
            2257106,
            2303136,
            3572846,
            2337951,
            2349811,
            1248376,
            2196410,
            3243155,
            2556543,
            3100136,
            3446599,
            2953899,
            2651646,
            1900856,
            3677135,
            2990975,
            3628134,
            2944457,
            2753390,
            2194194,
            2286526,
            2473137,
            2266040,
            2129400,
            2764148,
            2744010,
            3813694,
            2176396,
            2339986,
            2455216,
            2143784,
            1793202,
            1959123,
            2856791,
            2110021,
            1697871,
            2049702,
            1554522,
            2556338,
            2447472,
            2035295,
            2528775,
            1240708,
            1110478,
            1508714,
            2670171,
            372779,
            2862698,
            1652987,
            1568622,
            1694862,
            2760258,
            1461933,
            1103074,
            1329555,
            1741357,
            2012479,
            1215457,
            3494043,
            2293963,
            1084443,
            396600,
            1549706,
            1105448,
            822243,
            1918366,
            1543922,
            1475816,
            1642855,
            1487697,
            2025224,
            2121290,
            2189941,
            791008,
            707595,
            564455,
            1837079,
            1351991
           ],
           "xaxis": "x",
           "y": [
            65,
            51,
            44,
            43,
            43,
            42,
            41,
            40,
            37,
            35,
            35,
            34,
            34,
            33,
            33,
            33,
            31,
            29,
            28,
            28,
            27,
            27,
            27,
            27,
            26,
            26,
            26,
            26,
            26,
            26,
            25,
            25,
            24,
            24,
            23,
            23,
            23,
            22,
            22,
            21,
            21,
            21,
            21,
            20,
            20,
            20,
            20,
            20,
            20,
            20,
            19,
            19,
            19,
            19,
            19,
            18,
            18,
            18,
            18,
            18,
            17,
            17,
            17,
            17,
            17,
            17,
            17,
            16,
            16,
            16,
            16,
            16,
            16,
            15,
            15,
            15,
            15,
            15,
            15,
            15,
            15,
            14,
            14,
            14,
            14,
            14,
            13,
            13,
            13,
            13,
            13,
            13,
            13,
            13,
            12,
            12,
            12,
            12,
            12,
            12
           ],
           "yaxis": "y"
          }
         ],
         "name": "2011"
        },
        {
         "data": [
          {
           "customdata": [
            [
             "Juan Magán"
            ],
            [
             "Linkin Park"
            ],
            [
             "Sexion d'Assaut"
            ],
            [
             "PSY"
            ],
            [
             "Sexion d'Assaut"
            ],
            [
             "Bruno Mars"
            ],
            [
             "Owl City"
            ],
            [
             "Alex Clare"
            ],
            [
             "Calvin Harris"
            ],
            [
             "Fort Minor"
            ],
            [
             "Linkin Park"
            ],
            [
             "Linkin Park"
            ],
            [
             "Linkin Park"
            ],
            [
             "Linkin Park"
            ],
            [
             "Matchbox Twenty"
            ],
            [
             "Wiley"
            ],
            [
             "Lupe Fiasco"
            ],
            [
             "The Script"
            ],
            [
             "Muri & Mario"
            ],
            [
             "Sexion d'Assaut"
            ],
            [
             "Linkin Park"
            ],
            [
             "Panic! At The Disco"
            ],
            [
             "Imagine Dragons"
            ],
            [
             "Kid Cudi"
            ],
            [
             "Sexion d'Assaut"
            ],
            [
             "Chris Brown"
            ],
            [
             "Swedish House Mafia"
            ],
            [
             "Daddy Yankee"
            ],
            [
             "Sexion d'Assaut"
            ],
            [
             "Outlandish"
            ],
            [
             "The Fray"
            ],
            [
             "Dirty Money"
            ],
            [
             "B.o.B"
            ],
            [
             "Mario Vazquez"
            ],
            [
             "Global Deejays"
            ],
            [
             "Ed Sheeran"
            ],
            [
             "The Script"
            ],
            [
             "JAY-Z"
            ],
            [
             "Glamrock Brothers"
            ],
            [
             "Olly Murs"
            ],
            [
             "Linkin Park"
            ],
            [
             "Simple Plan"
            ],
            [
             "L.O.C."
            ],
            [
             "Maroon 5"
            ],
            [
             "Juan Magán"
            ],
            [
             "Frank Ocean"
            ],
            [
             "Taylor Swift"
            ],
            [
             "Linkin Park"
            ],
            [
             "K'NAAN"
            ],
            [
             "Outlandish"
            ],
            [
             "Linkin Park"
            ],
            [
             "Maroon 5"
            ],
            [
             "The Fray"
            ],
            [
             "Train"
            ],
            [
             "OneRepublic"
            ],
            [
             "Wiley"
            ],
            [
             "Flo Rida"
            ],
            [
             "L.O.C."
            ],
            [
             "David Guetta"
            ],
            [
             "Example"
            ],
            [
             "Simple Plan"
            ],
            [
             "The Script"
            ],
            [
             "Panic! At The Disco"
            ],
            [
             "Example"
            ],
            [
             "Ludacris"
            ],
            [
             "Matchbox Twenty"
            ],
            [
             "Ed Sheeran"
            ],
            [
             "Jake Miller"
            ],
            [
             "Volbeat"
            ],
            [
             "Karmin"
            ],
            [
             "Outlandish"
            ],
            [
             "Paramore"
            ],
            [
             "Imagine Dragons"
            ],
            [
             "deadmau5"
            ],
            [
             "Calvin Harris"
            ],
            [
             "The Script"
            ],
            [
             "Thirty Seconds To Mars"
            ],
            [
             "Linkin Park"
            ],
            [
             "Bernhoft"
            ],
            [
             "The Lumineers"
            ],
            [
             "L.O.C."
            ],
            [
             "Daughtry"
            ],
            [
             "Nirvana"
            ],
            [
             "fun."
            ],
            [
             "deadmau5"
            ],
            [
             "De Nattergale"
            ],
            [
             "Panetoz"
            ],
            [
             "Rihanna"
            ],
            [
             "L.O.C."
            ],
            [
             "Chris Richardson"
            ],
            [
             "Thirty Seconds To Mars"
            ],
            [
             "Outlandish"
            ],
            [
             "Cir.Cuz"
            ],
            [
             "Foo Fighters"
            ],
            [
             "Matchbox Twenty"
            ],
            [
             "Outlandish"
            ],
            [
             "Wiley"
            ],
            [
             "U2"
            ],
            [
             "Carly Rae Jepsen"
            ],
            [
             "Far East Movement"
            ]
           ],
           "hovertemplate": "<b>%{hovertext}</b><br><br>endTime=2012<br>ms_played=%{marker.size}<br>count=%{y}<br>artistName=%{customdata[0]}<extra></extra>",
           "hovertext": [
            "Bailando por el Mundo (feat. Pitbull & El Cata)",
            "Faint",
            "Désolé",
            "Gangnam Style (강남스타일)",
            "Ma direction",
            "Locked out of Heaven",
            "Good Time",
            "Too Close",
            "We'll Be Coming Back (feat. Example)",
            "Remember the Name (feat. Styles of Beyond)",
            "One Step Closer",
            "Breaking the Habit",
            "Papercut",
            "In the End",
            "How Far We've Come",
            "Can You Hear Me? (ayayaya) (feat. Skepta, JME & Ms D)",
            "Battle Scars (with Guy Sebastian)",
            "Hall of Fame (feat. will.i.am)",
            "Hun Tog Min Guitar",
            "A bout d'souffle",
            "Hands Held High",
            "I Write Sins Not Tragedies",
            "It's Time",
            "Pursuit Of Happiness - Extended Steve Aoki Remix (Explicit)",
            "Avant qu'elle parte",
            "Don't Wake Me Up",
            "Don't You Worry Child (Radio Edit) [feat. John Martin]",
            "Lovumba",
            "Qui t'a dit",
            "Aicha",
            "How to Save a Life",
            "I'm On You - DJ Antoine vs Mad Mark Video Edit",
            "Both of Us (feat. Taylor Swift)",
            "Gallery",
            "Hardcore Vibes - Radio Edit",
            "Lego House",
            "Nothing",
            "Numb / Encore",
            "Push The Feeling On 2k12 (feat. NightCrawler) - Glamrock Brothers Vocal Edit",
            "Troublemaker (feat. Flo Rida)",
            "BURN IT DOWN",
            "Jet Lag - feat. Natasha Bedingfield",
            "Noget Dumt",
            "One More Night",
            "Se Vuelve Loca",
            "Swim Good",
            "We Are Never Ever Getting Back Together",
            "A Place For My Head",
            "Better",
            "Gypsy Cab",
            "LOST IN THE ECHO",
            "Lucky Strike",
            "You Found Me",
            "50 Ways to Say Goodbye",
            "Good Life",
            "Heatwave (feat. Ms. D)",
            "I Cry",
            "Momentet (feat. U$O)",
            "She Wolf (Falling to Pieces) [feat. Sia]",
            "Stay Awake",
            "Summer Paradise (feat. Sean Paul) - Single Version",
            "Breakeven",
            "Lying Is the Most Fun a Girl Can Have Without Taking Her Clothes Off",
            "Midnight Run",
            "Rest Of My Life",
            "She's so Mean",
            "The A Team",
            "Day Without Your Love (feat. Jeremy Thurber)",
            "Fallen - Edit",
            "Hello",
            "Kom Igen (feat. U$O, ADL & Salah Edin)",
            "Misery Business",
            "Radioactive",
            "Some Chords",
            "Sweet Nothing (feat. Florence Welch)",
            "The Man Who Can't Be Moved",
            "This Is War",
            "CASTLE OF GLASS",
            "Choices - Edit",
            "Ho Hey",
            "Langt ude",
            "Over You",
            "Smells Like Teen Spirit",
            "Some Nights",
            "Strobe - Radio Edit",
            "The Støvle Dance",
            "Dansa Pausa",
            "Diamonds",
            "Helt Min Egen",
            "Joy & Pain",
            "Kings And Queens",
            "Look Into My Eyes",
            "Supernova (feat. Julie Bergan)",
            "The Pretender",
            "Unwell - 2007 Remaster",
            "Warrior // Worrier",
            "Wearing My Rolex - Radio Edit",
            "Beautiful Day",
            "Call Me Maybe",
            "Christmas in Downtown LA"
           ],
           "legendgroup": "",
           "marker": {
            "color": "#636efa",
            "size": [
             2899868,
             5992434,
             7427695,
             3368403,
             8070949,
             5767643,
             3060560,
             5817162,
             5217229,
             6297710,
             3650325,
             4875616,
             4455553,
             3106971,
             3201703,
             4463563,
             4073865,
             2296951,
             2631356,
             3788238,
             4811583,
             2685538,
             1237303,
             3427064,
             3565239,
             2350119,
             2765871,
             3824279,
             4038175,
             2353093,
             4052097,
             3040697,
             2731627,
             2615665,
             2928988,
             2784212,
             3822818,
             3541044,
             3036799,
             2526501,
             2634491,
             3427565,
             2623209,
             1429352,
             2785606,
             2140940,
             1125406,
             2121661,
             2105739,
             2570744,
             2401342,
             2180356,
             3246369,
             2303037,
             2132836,
             1399977,
             1190464,
             2958417,
             2263322,
             3050229,
             2693953,
             3110299,
             1186541,
             2968586,
             2934903,
             1623695,
             2289063,
             2111953,
             2497689,
             2254212,
             2183546,
             2315417,
             524669,
             3486147,
             2021792,
             2330405,
             3334864,
             2751367,
             1096191,
             143197,
             1799194,
             503722,
             2695123,
             70253,
             2008150,
             1096152,
             1524047,
             327478,
             1171404,
             1742046,
             2949355,
             2514696,
             1762122,
             2767230,
             993063,
             1120312,
             1486028,
             1634651,
             963324,
             860020
            ],
            "sizemode": "area",
            "sizeref": 9270.937777777777,
            "symbol": "circle"
           },
           "mode": "markers",
           "name": "",
           "orientation": "v",
           "showlegend": false,
           "type": "scatter",
           "x": [
            2899868,
            5992434,
            7427695,
            3368403,
            8070949,
            5767643,
            3060560,
            5817162,
            5217229,
            6297710,
            3650325,
            4875616,
            4455553,
            3106971,
            3201703,
            4463563,
            4073865,
            2296951,
            2631356,
            3788238,
            4811583,
            2685538,
            1237303,
            3427064,
            3565239,
            2350119,
            2765871,
            3824279,
            4038175,
            2353093,
            4052097,
            3040697,
            2731627,
            2615665,
            2928988,
            2784212,
            3822818,
            3541044,
            3036799,
            2526501,
            2634491,
            3427565,
            2623209,
            1429352,
            2785606,
            2140940,
            1125406,
            2121661,
            2105739,
            2570744,
            2401342,
            2180356,
            3246369,
            2303037,
            2132836,
            1399977,
            1190464,
            2958417,
            2263322,
            3050229,
            2693953,
            3110299,
            1186541,
            2968586,
            2934903,
            1623695,
            2289063,
            2111953,
            2497689,
            2254212,
            2183546,
            2315417,
            524669,
            3486147,
            2021792,
            2330405,
            3334864,
            2751367,
            1096191,
            143197,
            1799194,
            503722,
            2695123,
            70253,
            2008150,
            1096152,
            1524047,
            327478,
            1171404,
            1742046,
            2949355,
            2514696,
            1762122,
            2767230,
            993063,
            1120312,
            1486028,
            1634651,
            963324,
            860020
           ],
           "xaxis": "x",
           "y": [
            52,
            46,
            45,
            40,
            39,
            37,
            36,
            36,
            36,
            35,
            32,
            31,
            30,
            29,
            28,
            27,
            26,
            26,
            26,
            25,
            25,
            25,
            25,
            25,
            24,
            23,
            23,
            23,
            23,
            22,
            22,
            22,
            21,
            21,
            21,
            21,
            21,
            21,
            21,
            21,
            20,
            20,
            20,
            20,
            20,
            20,
            20,
            19,
            19,
            19,
            19,
            19,
            19,
            18,
            18,
            18,
            18,
            18,
            18,
            18,
            18,
            17,
            17,
            17,
            17,
            17,
            17,
            16,
            16,
            16,
            16,
            16,
            16,
            16,
            16,
            16,
            16,
            15,
            15,
            15,
            15,
            15,
            15,
            15,
            15,
            15,
            14,
            14,
            14,
            14,
            14,
            14,
            14,
            14,
            14,
            14,
            14,
            13,
            13,
            13
           ],
           "yaxis": "y"
          }
         ],
         "name": "2012"
        },
        {
         "data": [
          {
           "customdata": [
            [
             "Macklemore & Ryan Lewis"
            ],
            [
             "Bastille"
            ],
            [
             "Imagine Dragons"
            ],
            [
             "Eminem"
            ],
            [
             "A$AP Rocky"
            ],
            [
             "Passenger"
            ],
            [
             "Calvin Harris"
            ],
            [
             "Kim Cesarion"
            ],
            [
             "Ellie Goulding"
            ],
            [
             "Axel Morris"
            ],
            [
             "Avicii"
            ],
            [
             "Avicii"
            ],
            [
             "Macklemore & Ryan Lewis"
            ],
            [
             "Daft Punk"
            ],
            [
             "Robin Thicke"
            ],
            [
             "2 Chainz"
            ],
            [
             "Pendulum"
            ],
            [
             "Nelly"
            ],
            [
             "Naughty Boy"
            ],
            [
             "Fort Minor"
            ],
            [
             "AWOLNATION"
            ],
            [
             "Selena Gomez"
            ],
            [
             "Nik & Jay"
            ],
            [
             "Macklemore & Ryan Lewis"
            ],
            [
             "Emeli Sandé"
            ],
            [
             "DJ Borgny"
            ],
            [
             "A$AP Rocky"
            ],
            [
             "Nico & Vinz"
            ],
            [
             "Justin Timberlake"
            ],
            [
             "OneRepublic"
            ],
            [
             "Linkin Park"
            ],
            [
             "Miley Cyrus"
            ],
            [
             "ItaloBrothers"
            ],
            [
             "will.i.am"
            ],
            [
             "Dimitri Vegas"
            ],
            [
             "Fall Out Boy"
            ],
            [
             "Hoodie Allen"
            ],
            [
             "Katy Perry"
            ],
            [
             "Paramore"
            ],
            [
             "Bruno Mars"
            ],
            [
             "The Lumineers"
            ],
            [
             "Lady Gaga"
            ],
            [
             "Macklemore"
            ],
            [
             "John Newman"
            ],
            [
             "Jason Derulo"
            ],
            [
             "Karpe"
            ],
            [
             "Rihanna"
            ],
            [
             "Nico & Vinz"
            ],
            [
             "Alligatoah"
            ],
            [
             "will.i.am"
            ],
            [
             "Demi Lovato"
            ],
            [
             "Nause"
            ],
            [
             "Eminem"
            ],
            [
             "Dave Darell"
            ],
            [
             "JAY-Z"
            ],
            [
             "J. Cole"
            ],
            [
             "Eminem"
            ],
            [
             "Calvin Harris"
            ],
            [
             "Drake"
            ],
            [
             "Timeflies"
            ],
            [
             "Miley Cyrus"
            ],
            [
             "Avicii"
            ],
            [
             "Outlandish"
            ],
            [
             "Chris Brown"
            ],
            [
             "Linkin Park"
            ],
            [
             "P!nk"
            ],
            [
             "Macklemore & Ryan Lewis"
            ],
            [
             "Linkin Park"
            ],
            [
             "Hollywood Undead"
            ],
            [
             "Icona Pop"
            ],
            [
             "Calvin Harris"
            ],
            [
             "Atlas Genius"
            ],
            [
             "Taylor Swift"
            ],
            [
             "JAY-Z"
            ],
            [
             "B.o.B"
            ],
            [
             "The Script"
            ],
            [
             "Linkin Park"
            ],
            [
             "OneRepublic"
            ],
            [
             "Pitbull"
            ],
            [
             "Zara Larsson"
            ],
            [
             "Pitbull"
            ],
            [
             "Ed Sheeran"
            ],
            [
             "Sammy Adams"
            ],
            [
             "Lorde"
            ],
            [
             "Timeflies"
            ],
            [
             "Knife Party"
            ],
            [
             "The Script"
            ],
            [
             "C2C"
            ],
            [
             "Truls"
            ],
            [
             "Stromae"
            ],
            [
             "Hilltop Hoods"
            ],
            [
             "Martin Garrix"
            ],
            [
             "Gavin DeGraw"
            ],
            [
             "Dizzee Rascal"
            ],
            [
             "Teddybears"
            ],
            [
             "Hollywood Undead"
            ],
            [
             "Kid Ink"
            ],
            [
             "Cir.Cuz"
            ],
            [
             "Young Squage"
            ],
            [
             "Imagine Dragons"
            ]
           ],
           "hovertemplate": "<b>%{hovertext}</b><br><br>endTime=2013<br>ms_played=%{marker.size}<br>count=%{y}<br>artistName=%{customdata[0]}<extra></extra>",
           "hovertext": [
            "Can't Hold Us (feat. Ray Dalton)",
            "Pompeii",
            "Radioactive",
            "The Monster",
            "F**kin' Problems (feat. Drake, 2 Chainz & Kendrick Lamar)",
            "Let Her Go",
            "I Need Your Love (feat. Ellie Goulding)",
            "Undressed",
            "Burn",
            "Licence to Chill 2012 (feat. Savant & Celina Svanberg)",
            "Wake Me Up",
            "I Could Be The One (Avicii Vs. Nicky Romero) - Nicktim / Radio Edit",
            "Thrift Shop (feat. Wanz)",
            "Get Lucky (feat. Pharrell Williams & Nile Rodgers) - Radio Edit",
            "Blurred Lines",
            "We Own It (Fast & Furious)",
            "Witchcraft",
            "Hey Porsche",
            "La La La",
            "Remember the Name (feat. Styles of Beyond)",
            "Sail",
            "Come & Get It",
            "En dag tilbage",
            "Same Love (feat. Mary Lambert)",
            "Read All About It, Pt. III",
            "Richie Rich 2012",
            "Wild for the Night (feat. Skrillex & Birdy Nam Nam)",
            "Am I Wrong",
            "Mirrors",
            "Counting Stars",
            "In the End",
            "We Can't Stop",
            "This Is Nightlife - Video Edit",
            "Scream & Shout",
            "Mammoth - Original Mix",
            "My Songs Know What You Did In The Dark (Light Em Up)",
            "No Faith in Brooklyn (feat. Jhameel)",
            "Roar",
            "Still into You",
            "When I Was Your Man",
            "Ho Hey",
            "Applause",
            "And We Danced (feat. Ziggy Stardust)",
            "Love Me Again",
            "The Other Side",
            "Toyota´n til Magdi",
            "What Now",
            "In Your Arms",
            "Willst du",
            "#thatPOWER",
            "Heart Attack",
            "Hungry Hearts - Radio Edit",
            "Talkin’ 2 Myself",
            "Freeloader - Spencer & Hill Radio Edit",
            "Holy Grail",
            "Power Trip (feat. Miguel)",
            "Berzerk",
            "Drinking from the Bottle (feat. Tinie Tempah)",
            "Hold On, We're Going Home",
            "Lose My Mind",
            "Wrecking Ball",
            "You Make Me",
            "Aicha",
            "Fine China",
            "Hands Held High",
            "Just Give Me a Reason (feat. Nate Ruess)",
            "Wing$",
            "A LIGHT THAT NEVER COMES",
            "Hear Me Now",
            "I Love It (feat. Charli XCX)",
            "Sweet Nothing (feat. Florence Welch)",
            "Trojans - EP Version",
            "22",
            "99 Problems",
            "HeadBand (feat. 2 Chainz)",
            "If You Could See Me Now",
            "Faint",
            "Something I Need",
            "Timber (feat. Ke$ha)",
            "Uncover",
            "Feel This Moment (feat. Christina Aguilera)",
            "Lego House",
            "Only One",
            "Royals",
            "Turn It Up",
            "Bonfire",
            "Hall of Fame (feat. will.i.am)",
            "Happy",
            "Out of Yourself",
            "Papaoutai",
            "Still Standing",
            "Animals - Radio Edit",
            "Best I Ever Had",
            "Bonkers",
            "Cobrastyle",
            "Comin’ In Hot",
            "Money and the Power",
            "Tidløs",
            "Transformer",
            "Demons"
           ],
           "legendgroup": "",
           "marker": {
            "color": "#636efa",
            "size": [
             15332981,
             6348796,
             1683902,
             5192958,
             9188648,
             1613590,
             1844686,
             3783529,
             1736908,
             9915344,
             3417644,
             4277598,
             5975451,
             3529045,
             1801317,
             3676797,
             9266455,
             5731038,
             3614176,
             9561716,
             3329203,
             2182095,
             5452287,
             1411296,
             3689349,
             6385914,
             3257291,
             4114043,
             4021927,
             2395016,
             5853780,
             424809,
             2962786,
             3975738,
             7037044,
             3423205,
             6500405,
             1821595,
             4891260,
             362939,
             617916,
             2284507,
             3857066,
             3164555,
             835269,
             2948786,
             2879736,
             3245686,
             5088653,
             1806292,
             968364,
             1358206,
             6394576,
             5043906,
             1168007,
             2313192,
             2090416,
             2410043,
             505940,
             5487004,
             1396225,
             2154094,
             2156723,
             4745937,
             3592811,
             159196,
             2769515,
             3626587,
             4706969,
             205589,
             1588392,
             4320177,
             2706618,
             3873258,
             1984415,
             4002256,
             3669451,
             2738075,
             2434533,
             158232,
             184257,
             3405212,
             5517524,
             319751,
             3066556,
             4355088,
             1516118,
             1721950,
             1685321,
             2590578,
             3768556,
             1476744,
             3466278,
             1064490,
             3365550,
             3391363,
             3250128,
             3038863,
             3604531,
             142890
            ],
            "sizemode": "area",
            "sizeref": 9270.937777777777,
            "symbol": "circle"
           },
           "mode": "markers",
           "name": "",
           "orientation": "v",
           "showlegend": false,
           "type": "scatter",
           "x": [
            15332981,
            6348796,
            1683902,
            5192958,
            9188648,
            1613590,
            1844686,
            3783529,
            1736908,
            9915344,
            3417644,
            4277598,
            5975451,
            3529045,
            1801317,
            3676797,
            9266455,
            5731038,
            3614176,
            9561716,
            3329203,
            2182095,
            5452287,
            1411296,
            3689349,
            6385914,
            3257291,
            4114043,
            4021927,
            2395016,
            5853780,
            424809,
            2962786,
            3975738,
            7037044,
            3423205,
            6500405,
            1821595,
            4891260,
            362939,
            617916,
            2284507,
            3857066,
            3164555,
            835269,
            2948786,
            2879736,
            3245686,
            5088653,
            1806292,
            968364,
            1358206,
            6394576,
            5043906,
            1168007,
            2313192,
            2090416,
            2410043,
            505940,
            5487004,
            1396225,
            2154094,
            2156723,
            4745937,
            3592811,
            159196,
            2769515,
            3626587,
            4706969,
            205589,
            1588392,
            4320177,
            2706618,
            3873258,
            1984415,
            4002256,
            3669451,
            2738075,
            2434533,
            158232,
            184257,
            3405212,
            5517524,
            319751,
            3066556,
            4355088,
            1516118,
            1721950,
            1685321,
            2590578,
            3768556,
            1476744,
            3466278,
            1064490,
            3365550,
            3391363,
            3250128,
            3038863,
            3604531,
            142890
           ],
           "xaxis": "x",
           "y": [
            110,
            94,
            80,
            73,
            69,
            69,
            68,
            68,
            66,
            66,
            66,
            64,
            64,
            63,
            61,
            61,
            58,
            57,
            57,
            57,
            56,
            55,
            55,
            55,
            54,
            54,
            54,
            53,
            52,
            51,
            50,
            50,
            47,
            46,
            45,
            45,
            45,
            45,
            45,
            45,
            44,
            43,
            42,
            42,
            42,
            42,
            42,
            41,
            41,
            40,
            40,
            40,
            40,
            39,
            39,
            39,
            38,
            38,
            38,
            38,
            38,
            38,
            37,
            37,
            37,
            37,
            37,
            36,
            36,
            36,
            36,
            36,
            35,
            35,
            35,
            35,
            34,
            34,
            34,
            34,
            33,
            33,
            33,
            33,
            33,
            32,
            32,
            32,
            32,
            32,
            32,
            31,
            31,
            31,
            31,
            31,
            31,
            31,
            31,
            30
           ],
           "yaxis": "y"
          }
         ],
         "name": "2013"
        },
        {
         "data": [
          {
           "customdata": [
            [
             "JAY-Z"
            ],
            [
             "Linkin Park"
            ],
            [
             "Gnarls Barkley"
            ],
            [
             "Linkin Park"
            ],
            [
             "Ty Dolla $ign"
            ],
            [
             "Linkin Park"
            ],
            [
             "Linkin Park"
            ],
            [
             "Linkin Park"
            ],
            [
             "Julie Bergan"
            ],
            [
             "Clean Bandit"
            ],
            [
             "Trey Songz"
            ],
            [
             "Mr. Probz"
            ],
            [
             "Twenty One Pilots"
            ],
            [
             "Linkin Park"
            ],
            [
             "Yiruma"
            ],
            [
             "A Great Big World"
            ],
            [
             "D-A-D"
            ],
            [
             "Albatraoz"
            ],
            [
             "Linkin Park"
            ],
            [
             "Rita Ora"
            ],
            [
             "A Day To Remember"
            ],
            [
             "Rise Against"
            ],
            [
             "John Legend"
            ],
            [
             "Linkin Park"
            ],
            [
             "Shinedown"
            ],
            [
             "Disclosure"
            ],
            [
             "Eminem"
            ],
            [
             "Tinashe"
            ],
            [
             "Linkin Park"
            ],
            [
             "Fort Minor"
            ],
            [
             "Linkin Park"
            ],
            [
             "Milky Chance"
            ],
            [
             "The Weeknd"
            ],
            [
             "Kato"
            ],
            [
             "Deorro"
            ],
            [
             "Kodaline"
            ],
            [
             "Sam Smith"
            ],
            [
             "Ariana Grande"
            ],
            [
             "Ed Sheeran"
            ],
            [
             "Flume"
            ],
            [
             "LITTLE INDIA"
            ],
            [
             "Bad Meets Evil"
            ],
            [
             "Kanye West"
            ],
            [
             "Black Milk"
            ],
            [
             "Linkin Park"
            ],
            [
             "You Me At Six"
            ],
            [
             "Tyga"
            ],
            [
             "All That Remains"
            ],
            [
             "Ariana Grande"
            ],
            [
             "Julias Moon"
            ],
            [
             "Eminem"
            ],
            [
             "Kaveh"
            ],
            [
             "Linkin Park"
            ],
            [
             "Van Halen"
            ],
            [
             "Jeremih"
            ],
            [
             "Shawn Mendes"
            ],
            [
             "Sum 41"
            ],
            [
             "Outlandish"
            ],
            [
             "Tracy Chapman"
            ],
            [
             "The Notorious B.I.G."
            ],
            [
             "L.O.C."
            ],
            [
             "Brandon Beal"
            ],
            [
             "Etienne"
            ],
            [
             "Childish Gambino"
            ],
            [
             "Eric Bellinger"
            ],
            [
             "Meek Mill"
            ],
            [
             "Linkin Park"
            ],
            [
             "Justin Timberlake"
            ],
            [
             "Jez Dior"
            ],
            [
             "Sum 41"
            ],
            [
             "Pop Evil"
            ],
            [
             "Linkin Park"
            ],
            [
             "Linkin Park"
            ],
            [
             "Oliver Heldens"
            ],
            [
             "Hoodie Allen"
            ],
            [
             "Sick Puppies"
            ],
            [
             "Echosmith"
            ],
            [
             "Matt and Kim"
            ],
            [
             "Lukas Graham"
            ],
            [
             "PVRIS"
            ],
            [
             "Parachute"
            ],
            [
             "John Mayer"
            ],
            [
             "A$AP Rocky"
            ],
            [
             "Iggy Azalea"
            ],
            [
             "Karen"
            ],
            [
             "Burhan G"
            ],
            [
             "Tiësto"
            ],
            [
             "Linkin Park"
            ],
            [
             "Bullet For My Valentine"
            ],
            [
             "Aloe Blacc"
            ],
            [
             "Chiddy Bang"
            ],
            [
             "Tiësto"
            ],
            [
             "Matthew Koma"
            ],
            [
             "Black M"
            ],
            [
             "Sum 41"
            ],
            [
             "Rihanna"
            ],
            [
             "Coldplay"
            ],
            [
             "Asking Alexandria"
            ],
            [
             "Becky G"
            ],
            [
             "Akon"
            ]
           ],
           "hovertemplate": "<b>%{hovertext}</b><br><br>endTime=2014<br>ms_played=%{marker.size}<br>count=%{y}<br>artistName=%{customdata[0]}<extra></extra>",
           "hovertext": [
            "Numb / Encore",
            "In the End",
            "Crazy",
            "Papercut",
            "Paranoid (feat. B.o.B)",
            "Waiting for the End",
            "Leave Out All The Rest",
            "Hands Held High",
            "Undressed",
            "Rather Be (feat. Jess Glynne)",
            "Touchin, Lovin (feat. Nicki Minaj)",
            "Waves - Robin Schulz Radio Edit",
            "Car Radio",
            "Crawling",
            "River Flows In You - Original",
            "Say Something",
            "Sleeping My Day Away",
            "Albatraoz",
            "BURN IT DOWN",
            "I Will Never Let You Down",
            "If It Means a Lot to You",
            "People Live Here",
            "All of Me",
            "Numb",
            "Simple Man - Acoustic",
            "Latch",
            "Cinderella Man",
            "2 On (feat. ScHoolboy Q)",
            "CASTLE OF GLASS",
            "Remember the Name (feat. Styles of Beyond)",
            "Runaway",
            "Stolen Dance",
            "Wicked Games",
            "Dumt På Dig (feat. TopGunn) - Radio Edit",
            "Five Hours",
            "All I Want",
            "I'm Not The Only One",
            "Problem",
            "I See Fire - From \"The Hobbit - The Desolation Of Smaug\"",
            "On Top",
            "Sleep",
            "Fast Lane",
            "Gorgeous",
            "Losing Out feat. Royce da 5'9",
            "New Divide",
            "Stay With Me - Acoustic Version",
            "Tyga Tyga",
            "What If I Was Nothing",
            "Break Free",
            "Lipstick Lies",
            "Sing For The Moment",
            "Snufs",
            "What I've Done",
            "Ain't Talkin' 'Bout Love",
            "Don't Tell 'Em",
            "Life Of The Party",
            "With Me",
            "Aicha",
            "Fast Car",
            "Juicy - 2005 Remaster",
            "Noget Dumt",
            "Twerk It Like Miley",
            "Bounce - Fresh Edit Remix",
            "Heartbeat",
            "I Don't Want Her (feat. Problem)",
            "Ima Boss (feat. Rick Ross)",
            "LOST IN THE ECHO",
            "Not a Bad Thing",
            "Old No. 7 (feat. G-Eazy)",
            "Still Waiting",
            "Beautiful",
            "Burning in the Skies",
            "Faint",
            "Gecko (Overdrive) - Radio Edit",
            "Make It Home (feat. Kina Grannis)",
            "You're Going Down",
            "Cool Kids",
            "Daylight",
            "Mama Said",
            "My House",
            "The Mess I Made",
            "XO",
            "F**kin' Problems (feat. Drake, 2 Chainz & Kendrick Lamar)",
            "Fancy",
            "Har det hele (feat Karen & Jooks)",
            "Karma",
            "Last Train",
            "One Step Closer",
            "Tears Don't Fall",
            "The Man",
            "Opposite of Adults",
            "Red Lights",
            "Spectrum - Acoustic",
            "Sur ma route",
            "The Hell Song",
            "Diamonds - Remix",
            "Magic",
            "Moving On",
            "Shower",
            "Sorry, Blame It On Me"
           ],
           "legendgroup": "",
           "marker": {
            "color": "#636efa",
            "size": [
             20430044,
             18002508,
             11304412,
             13856905,
             12952515,
             11779653,
             13209621,
             12130418,
             11039624,
             6832954,
             12198624,
             6822689,
             10626002,
             8617465,
             9183049,
             6275067,
             11952165,
             9041427,
             8618230,
             8723481,
             10270229,
             10785736,
             6189713,
             8361495,
             9717841,
             6077649,
             15485933,
             9918044,
             8911045,
             11199041,
             7918196,
             1723308,
             6860331,
             4581040,
             9083375,
             5423311,
             8802256,
             4005580,
             6343132,
             8293377,
             7072583,
             9513158,
             14313949,
             10028566,
             7746546,
             7001145,
             6755620,
             7680183,
             5107218,
             5253055,
             11048179,
             6265081,
             5882694,
             7101466,
             7107998,
             6464546,
             13172218,
             3959904,
             6463673,
             5654663,
             7156134,
             4363614,
             7724593,
             7468826,
             7446395,
             9855509,
             7461122,
             6871262,
             5517948,
             5696382,
             7957917,
             7997324,
             4375078,
             7145947,
             8019631,
             6270782,
             5805458,
             4864651,
             5764986,
             8467149,
             6658894,
             6288935,
             8118009,
             4314453,
             5659540,
             5410274,
             6373952,
             4775763,
             12512174,
             3329717,
             8648931,
             4629713,
             6563517,
             5251484,
             7868706,
             7185804,
             2957051,
             8375670,
             4456366,
             6902016
            ],
            "sizemode": "area",
            "sizeref": 9270.937777777777,
            "symbol": "circle"
           },
           "mode": "markers",
           "name": "",
           "orientation": "v",
           "showlegend": false,
           "type": "scatter",
           "x": [
            20430044,
            18002508,
            11304412,
            13856905,
            12952515,
            11779653,
            13209621,
            12130418,
            11039624,
            6832954,
            12198624,
            6822689,
            10626002,
            8617465,
            9183049,
            6275067,
            11952165,
            9041427,
            8618230,
            8723481,
            10270229,
            10785736,
            6189713,
            8361495,
            9717841,
            6077649,
            15485933,
            9918044,
            8911045,
            11199041,
            7918196,
            1723308,
            6860331,
            4581040,
            9083375,
            5423311,
            8802256,
            4005580,
            6343132,
            8293377,
            7072583,
            9513158,
            14313949,
            10028566,
            7746546,
            7001145,
            6755620,
            7680183,
            5107218,
            5253055,
            11048179,
            6265081,
            5882694,
            7101466,
            7107998,
            6464546,
            13172218,
            3959904,
            6463673,
            5654663,
            7156134,
            4363614,
            7724593,
            7468826,
            7446395,
            9855509,
            7461122,
            6871262,
            5517948,
            5696382,
            7957917,
            7997324,
            4375078,
            7145947,
            8019631,
            6270782,
            5805458,
            4864651,
            5764986,
            8467149,
            6658894,
            6288935,
            8118009,
            4314453,
            5659540,
            5410274,
            6373952,
            4775763,
            12512174,
            3329717,
            8648931,
            4629713,
            6563517,
            5251484,
            7868706,
            7185804,
            2957051,
            8375670,
            4456366,
            6902016
           ],
           "xaxis": "x",
           "y": [
            131,
            122,
            110,
            97,
            91,
            89,
            88,
            87,
            85,
            82,
            81,
            81,
            80,
            77,
            77,
            72,
            72,
            71,
            71,
            71,
            71,
            71,
            70,
            70,
            69,
            68,
            67,
            66,
            66,
            66,
            65,
            65,
            65,
            63,
            63,
            62,
            62,
            62,
            61,
            61,
            61,
            60,
            60,
            60,
            59,
            59,
            59,
            59,
            58,
            58,
            58,
            58,
            58,
            57,
            57,
            57,
            57,
            56,
            56,
            56,
            56,
            56,
            55,
            54,
            54,
            54,
            54,
            54,
            54,
            54,
            53,
            53,
            53,
            53,
            53,
            53,
            52,
            52,
            52,
            52,
            52,
            52,
            51,
            51,
            51,
            51,
            51,
            51,
            51,
            51,
            50,
            50,
            50,
            50,
            50,
            49,
            49,
            49,
            49,
            49
           ],
           "yaxis": "y"
          }
         ],
         "name": "2014"
        },
        {
         "data": [
          {
           "customdata": [
            [
             "Linkin Park"
            ],
            [
             "The Notorious B.I.G."
            ],
            [
             "Family of the Year"
            ],
            [
             "Calvin Harris"
            ],
            [
             "Paramore"
            ],
            [
             "B.o.B"
            ],
            [
             "KO"
            ],
            [
             "D-A-D"
            ],
            [
             "Tez Cadey"
            ],
            [
             "Tonight Alive"
            ],
            [
             "D-A-D"
            ],
            [
             "Kid Ink"
            ],
            [
             "Madcon"
            ],
            [
             "Papa Roach"
            ],
            [
             "Tez Cadey"
            ],
            [
             "Outlandish"
            ],
            [
             "LISTENBEE"
            ],
            [
             "Jack Ü"
            ],
            [
             "Matoma"
            ],
            [
             "Jimmy Eat World"
            ],
            [
             "D-A-D"
            ],
            [
             "Hit The Lights"
            ],
            [
             "Wiz Khalifa"
            ],
            [
             "Tiësto"
            ],
            [
             "Natalie La Rose"
            ],
            [
             "Chris Brown"
            ],
            [
             "Major Lazer"
            ],
            [
             "Charlene Soraia"
            ],
            [
             "Karmin"
            ],
            [
             "Christina Perri"
            ],
            [
             "Deorro"
            ],
            [
             "James Bay"
            ],
            [
             "Syn Cole"
            ],
            [
             "Nick Jonas"
            ],
            [
             "Gostan"
            ],
            [
             "Linkin Park"
            ],
            [
             "ONE OK ROCK"
            ],
            [
             "Machine Gun Kelly"
            ],
            [
             "Lost Frequencies"
            ],
            [
             "Otto Knows"
            ],
            [
             "Alphabeat"
            ],
            [
             "Loveless"
            ],
            [
             "Rihanna"
            ],
            [
             "PVRIS"
            ],
            [
             "Machine Gun Kelly"
            ],
            [
             "Kodaline"
            ],
            [
             "Dizzy Mizz Lizzy"
            ],
            [
             "Nephew"
            ],
            [
             "Julia Sheer"
            ],
            [
             "Nicki Minaj"
            ],
            [
             "Mark Ronson"
            ],
            [
             "ScHoolboy Q"
            ],
            [
             "Juan Magán"
            ],
            [
             "Chris Brown"
            ],
            [
             "Kid Ink"
            ],
            [
             "D-A-D"
            ],
            [
             "Felix Cartal"
            ],
            [
             "Ellie Goulding"
            ],
            [
             "DJ DX"
            ],
            [
             "Ankerstjerne"
            ],
            [
             "Chris Brown"
            ],
            [
             "Omarion"
            ],
            [
             "Ludovico Einaudi"
            ],
            [
             "Fort Minor"
            ],
            [
             "William Singe"
            ],
            [
             "Clemens"
            ],
            [
             "Vigiland"
            ],
            [
             "Jetta"
            ],
            [
             "Tyga"
            ],
            [
             "Good Charlotte"
            ],
            [
             "Starting Six"
            ],
            [
             "Lemaitre"
            ],
            [
             "Kid Ink"
            ],
            [
             "Aurix"
            ],
            [
             "The Red Jumpsuit Apparatus"
            ],
            [
             "Common"
            ],
            [
             "Tyga"
            ],
            [
             "East & Young"
            ],
            [
             "3 Doors Down"
            ],
            [
             "Yiruma"
            ],
            [
             "Breaking Benjamin"
            ],
            [
             "A$AP Rocky"
            ],
            [
             "Karpe"
            ],
            [
             "Linkin Park"
            ],
            [
             "Ude Af Kontrol"
            ],
            [
             "Martin Garrix"
            ],
            [
             "Hinder"
            ],
            [
             "Syn Cole"
            ],
            [
             "ONE OK ROCK"
            ],
            [
             "JAY-Z"
            ],
            [
             "Kanye West"
            ],
            [
             "Pitbull"
            ],
            [
             "Clemens"
            ],
            [
             "Kanye West"
            ],
            [
             "Carly Rae Jepsen"
            ],
            [
             "Ty Dolla $ign"
            ],
            [
             "Antonio Giacca"
            ],
            [
             "Imagine Dragons"
            ],
            [
             "Kid Ink"
            ],
            [
             "Stonebank"
            ]
           ],
           "hovertemplate": "<b>%{hovertext}</b><br><br>endTime=2015<br>ms_played=%{marker.size}<br>count=%{y}<br>artistName=%{customdata[0]}<extra></extra>",
           "hovertext": [
            "In the End",
            "Juicy - 2007 Remaster",
            "Hero",
            "Iron",
            "Careful",
            "Airplanes, Pt. II (feat. Eminem & Hayley Williams of Paramore)",
            "Stay With Me",
            "Nineteenhundredandyesterday - 2009 - Remaster",
            "Runaway",
            "Lonely Girl",
            "Laugh 'n' a 1/2 - 2009 - Remaster",
            "Ride Out",
            "Don't Worry (feat. Ray Dalton)",
            "Gravity",
            "Seve - Radio Edit",
            "Aicha",
            "Save Me",
            "Where Are Ü Now (with Justin Bieber)",
            "Old Thing Back (feat. Ja Rule and Ralph Tresvant)",
            "The Middle",
            "Everything Glows - 2009 - Remaster",
            "Fucked up Kids",
            "See You Again (feat. Charlie Puth)",
            "Secrets - Radio Edit",
            "Somebody",
            "Ayo",
            "Lean On (feat. MØ & DJ Snake)",
            "Wherever You Will Go",
            "Hello",
            "burning gold - Autograf Remix",
            "Five More Hours",
            "Hold Back The River",
            "It's You - Broiler Remix",
            "Jealous",
            "Klanga - De Hofnar Remix",
            "Papercut",
            "Re:make",
            "A Little More",
            "Are You With Me - Radio Edit",
            "Next to Me",
            "The Spell",
            "They Don't Know (feat. Varren Wade)",
            "Love The Way You Lie (Part II) - Pt. 2",
            "My House",
            "Half Naked & Almost Famous",
            "High Hopes - filous Remix",
            "I Would If I Could But I Can't",
            "Igen & Igen &",
            "Little Talks",
            "Truffle Butter",
            "Uptown Funk (feat. Bruno Mars)",
            "3 on (feat. Tinashe, Drake)",
            "Bailando por el Mundo (feat. Pitbull & El Cata)",
            "Bitches N Marijuana (feat. ScHoolboy Q)",
            "Dolo (feat. R. Kelly)",
            "Sleeping My Day Away",
            "With You",
            "Love Me Like You Do - From \"Fifty Shades Of Grey\"",
            "Make It a better day",
            "Mit Navn I Lys",
            "Nothin' Like Me (feat. Ty Dolla $ign)",
            "Post to Be (feat. Chris Brown & Jhene Aiko)",
            "Primavera",
            "Remember the Name (feat. Styles of Beyond)",
            "Trap Queen",
            "Champion (feat. Jon)",
            "UFO - Radio Edit",
            "I'd Love to Change the World - Matstubs Remix",
            "Stimulated",
            "The River",
            "This Ain't Water",
            "All I Need - Prince Fox Remix",
            "Be Real",
            "Breathe",
            "False Pretense",
            "Glory (From the Motion Picture Selma)",
            "Hookah",
            "Horizon",
            "Kryptonite",
            "River Flows In You - Original",
            "The Diary of Jane - Acoustic",
            "Everyday (feat. Rod Stewart, Miguel & Mark Ronson)",
            "Hvite menn som pusher 50",
            "Numb",
            "Det Halve Ku' Være Nok",
            "Forbidden Voices",
            "Is It Just Me",
            "It's You - Radio Edit",
            "Mighty Long Fall",
            "Numb / Encore",
            "Stronger",
            "Time of Our Lives",
            "Øjenåbner (feat. MAIA)",
            "Good Life",
            "I Really Like You",
            "Saved (feat. E-40)",
            "Sensation - Radio Mix",
            "Shots - Broiler Remix",
            "Show Me (feat. Trey Songz, Juicy J, 2 Chainz & Chris Brown) - Remix",
            "Stronger (feat. Emel)"
           ],
           "legendgroup": "",
           "marker": {
            "color": "#636efa",
            "size": [
             5658497,
             1592637,
             11071452,
             758950,
             11158841,
             15227886,
             8018364,
             9010858,
             7341371,
             7783604,
             6075578,
             5140318,
             7194622,
             9502637,
             7143645,
             558073,
             3631997,
             5873593,
             3905481,
             5765247,
             6933285,
             4450768,
             5359913,
             4117859,
             4738572,
             6460158,
             2808993,
             4242466,
             3126769,
             6872956,
             4505896,
             6753098,
             4244875,
             5425475,
             6487261,
             6157502,
             6971713,
             6113591,
             1635373,
             3429302,
             6800730,
             4736074,
             7005640,
             4288986,
             4305972,
             5231726,
             5043446,
             5873194,
             4925852,
             3831305,
             2200634,
             6181194,
             265856,
             6222905,
             4202927,
             5988888,
             4857241,
             2870884,
             4230919,
             6544314,
             2366816,
             3257617,
             9422576,
             6282565,
             592863,
             6939887,
             1414482,
             3670914,
             4171183,
             5845525,
             3123665,
             3559907,
             3334492,
             4350552,
             4328946,
             5625181,
             3239900,
             3875569,
             5968979,
             5122570,
             3361832,
             2497127,
             5401580,
             3167072,
             2252740,
             4176400,
             4405568,
             4209177,
             5287012,
             4080933,
             6032342,
             2805167,
             5097521,
             4907618,
             3065898,
             3815153,
             2645948,
             4110078,
             5502841,
             3737807
            ],
            "sizemode": "area",
            "sizeref": 9270.937777777777,
            "symbol": "circle"
           },
           "mode": "markers",
           "name": "",
           "orientation": "v",
           "showlegend": false,
           "type": "scatter",
           "x": [
            5658497,
            1592637,
            11071452,
            758950,
            11158841,
            15227886,
            8018364,
            9010858,
            7341371,
            7783604,
            6075578,
            5140318,
            7194622,
            9502637,
            7143645,
            558073,
            3631997,
            5873593,
            3905481,
            5765247,
            6933285,
            4450768,
            5359913,
            4117859,
            4738572,
            6460158,
            2808993,
            4242466,
            3126769,
            6872956,
            4505896,
            6753098,
            4244875,
            5425475,
            6487261,
            6157502,
            6971713,
            6113591,
            1635373,
            3429302,
            6800730,
            4736074,
            7005640,
            4288986,
            4305972,
            5231726,
            5043446,
            5873194,
            4925852,
            3831305,
            2200634,
            6181194,
            265856,
            6222905,
            4202927,
            5988888,
            4857241,
            2870884,
            4230919,
            6544314,
            2366816,
            3257617,
            9422576,
            6282565,
            592863,
            6939887,
            1414482,
            3670914,
            4171183,
            5845525,
            3123665,
            3559907,
            3334492,
            4350552,
            4328946,
            5625181,
            3239900,
            3875569,
            5968979,
            5122570,
            3361832,
            2497127,
            5401580,
            3167072,
            2252740,
            4176400,
            4405568,
            4209177,
            5287012,
            4080933,
            6032342,
            2805167,
            5097521,
            4907618,
            3065898,
            3815153,
            2645948,
            4110078,
            5502841,
            3737807
           ],
           "xaxis": "x",
           "y": [
            91,
            83,
            80,
            79,
            73,
            63,
            62,
            60,
            59,
            58,
            56,
            55,
            54,
            54,
            54,
            53,
            50,
            49,
            48,
            48,
            47,
            47,
            47,
            46,
            46,
            45,
            44,
            44,
            43,
            43,
            42,
            42,
            42,
            42,
            42,
            42,
            42,
            41,
            41,
            41,
            40,
            40,
            39,
            39,
            38,
            38,
            38,
            38,
            38,
            38,
            38,
            37,
            37,
            37,
            37,
            37,
            37,
            36,
            36,
            36,
            36,
            36,
            36,
            36,
            36,
            35,
            35,
            34,
            34,
            34,
            34,
            33,
            33,
            33,
            33,
            33,
            33,
            33,
            33,
            33,
            33,
            32,
            32,
            32,
            31,
            31,
            31,
            31,
            31,
            31,
            31,
            31,
            31,
            30,
            30,
            30,
            30,
            30,
            30,
            30
           ],
           "yaxis": "y"
          }
         ],
         "name": "2015"
        },
        {
         "data": [
          {
           "customdata": [
            [
             "G-Eazy"
            ],
            [
             "Drake"
            ],
            [
             "USO"
            ],
            [
             "Big Gigantic"
            ],
            [
             "Infected Mushroom"
            ],
            [
             "The Chainsmokers"
            ],
            [
             "Goldmund"
            ],
            [
             "Drake"
            ],
            [
             "Ludovico Einaudi"
            ],
            [
             "The Chainsmokers"
            ],
            [
             "Mura Masa"
            ],
            [
             "Major Lazer"
            ],
            [
             "Anderson .Paak"
            ],
            [
             "Drake"
            ],
            [
             "Deaf Kev"
            ],
            [
             "Mac Miller"
            ],
            [
             "Ludovico Einaudi"
            ],
            [
             "Omar LinX"
            ],
            [
             "Bryson Tiller"
            ],
            [
             "Desiigner"
            ],
            [
             "Yiruma"
            ],
            [
             "Drake"
            ],
            [
             "G-Eazy"
            ],
            [
             "Linkin Park"
            ],
            [
             "Kings of Leon"
            ],
            [
             "Theory of a Deadman"
            ],
            [
             "DNCE"
            ],
            [
             "G-Eazy"
            ],
            [
             "Ludovico Einaudi"
            ],
            [
             "Skillet"
            ],
            [
             "Goldmund"
            ],
            [
             "The Notorious B.I.G."
            ],
            [
             "Arif"
            ],
            [
             "Kendrick Lamar"
            ],
            [
             "B.o.B"
            ],
            [
             "Infected Mushroom"
            ],
            [
             "G-Eazy"
            ],
            [
             "Kygo"
            ],
            [
             "Avicii"
            ],
            [
             "Karpe"
            ],
            [
             "Ludovico Einaudi"
            ],
            [
             "Ludovico Einaudi"
            ],
            [
             "Helen Jane Long"
            ],
            [
             "Tinie Tempah"
            ],
            [
             "OneRepublic"
            ],
            [
             "Sungha Jung"
            ],
            [
             "Sungha Jung"
            ],
            [
             "Ludovico Einaudi"
            ],
            [
             "Howard Shore"
            ],
            [
             "Hans Zimmer"
            ],
            [
             "G-Eazy"
            ],
            [
             "Omarion"
            ],
            [
             "Yiruma"
            ],
            [
             "G-Eazy"
            ],
            [
             "Anno Domini Beats"
            ],
            [
             "Mike Perry"
            ],
            [
             "Macklemore & Ryan Lewis"
            ],
            [
             "Macklemore & Ryan Lewis"
            ],
            [
             "Zack Hemsey"
            ],
            [
             "Ludovico Einaudi"
            ],
            [
             "Ludovico Einaudi"
            ],
            [
             "G-Eazy"
            ],
            [
             "Flume"
            ],
            [
             "Cam Meekins"
            ],
            [
             "Tiësto"
            ],
            [
             "Drake"
            ],
            [
             "Nicki Minaj"
            ],
            [
             "Armin van Buuren"
            ],
            [
             "GIMS"
            ],
            [
             "Klaus Badelt"
            ],
            [
             "Ludovico Einaudi"
            ],
            [
             "Sungha Jung"
            ],
            [
             "Gramatik"
            ],
            [
             "Volbeat"
            ],
            [
             "Madison Mars"
            ],
            [
             "Cap 1"
            ],
            [
             "Tech N9ne"
            ],
            [
             "A$AP Rocky"
            ],
            [
             "Bro"
            ],
            [
             "Justin Bieber"
            ],
            [
             "Linkin Park"
            ],
            [
             "Kid Ink"
            ],
            [
             "Radical Something"
            ],
            [
             "Sia"
            ],
            [
             "Nathan Goshen"
            ],
            [
             "Foo Fighters"
            ],
            [
             "Volbeat"
            ],
            [
             "The Glitch Mob"
            ],
            [
             "Startisan"
            ],
            [
             "The Ironix"
            ],
            [
             "Kanye West"
            ],
            [
             "Ludovico Einaudi"
            ],
            [
             "Karpe"
            ],
            [
             "Vinnie Paz"
            ],
            [
             "Karpe"
            ],
            [
             "Shaun Taylor McManus"
            ],
            [
             "Skillet"
            ],
            [
             "Karpe"
            ],
            [
             "Kygo"
            ],
            [
             "Snakehips"
            ]
           ],
           "hovertemplate": "<b>%{hovertext}</b><br><br>endTime=2016<br>ms_played=%{marker.size}<br>count=%{y}<br>artistName=%{customdata[0]}<extra></extra>",
           "hovertext": [
            "Calm Down",
            "One Dance",
            "Supermayn i Lommen (feat. Johnson) - F**k Boy Remix",
            "All of Me",
            "Bass Nipple",
            "Closer",
            "Threnody",
            "Controlla",
            "Primavera",
            "Roses",
            "Love$ick",
            "Cold Water (feat. Justin Bieber & MØ)",
            "Come Down - Feat. T.I.",
            "Headlines",
            "Invincible",
            "Donald Trump",
            "I Giorni",
            "Little Moment",
            "Exchange",
            "Panda",
            "River Flows In You - Original",
            "The Motto",
            "Tumblr Girls (feat. Christoph Andersson)",
            "In the End",
            "Waste A Moment",
            "Angel",
            "Cake By The Ocean",
            "Drifting (feat. Chris Brown & Tory Lanez)",
            "Fly",
            "Hero",
            "Image-Autumn-Womb",
            "Juicy - 2005 Remaster",
            "Lowkey",
            "Money Trees",
            "Airplanes, Pt. II (feat. Eminem & Hayley Williams of Paramore)",
            "Kazabubu",
            "Me, Myself & I",
            "Raging (feat. Kodaline)",
            "Taste The Feeling (Avicii Vs. Conrad Sewell)",
            "Toyota´n til Magdi",
            "Andare",
            "Divenire",
            "Embers",
            "Girls Like (feat. Zara Larsson)",
            "Good Life",
            "One of Us",
            "River Flows In You",
            "The Earth Prelude",
            "The Fellowship Reunited (feat. Sir James Galway, Viggo Mortensen and Renée Fleming)",
            "Time",
            "I Mean It (feat. Remo)",
            "I'm Sayin' (feat. Rich Homie Quan)",
            "Kiss The Rain - Original",
            "Nothing to Me (feat. Keyshia Cole & E-40)",
            "Same Story (feat. Vinnie Paz)",
            "The Ocean (feat. Shy Martin)",
            "Can't Hold Us (feat. Ray Dalton)",
            "Downtown (feat. Melle Mel, Grandmaster Caz, Kool Moe Dee & Eric Nally)",
            "Mind Heist",
            "Nightbook",
            "Nuvole Bianche",
            "Random",
            "Say It",
            "Slow Down",
            "The Right Song",
            "Too Good",
            "Truffle Butter",
            "Another You (feat. Mr. Probz) - Radio Edit",
            "Est-ce que tu m'aimes ? - Pilule bleue",
            "He's a Pirate",
            "Le Onde",
            "Riding a Bicycle",
            "Satoshi Nakamoto",
            "The Devil's Bleeding Crown",
            "Theme O",
            "Tonite",
            "Erbody But Me",
            "F**kin' Problems (feat. Drake, 2 Chainz & Kendrick Lamar)",
            "Hvor Er Du Bro?",
            "Love Yourself",
            "Papercut",
            "Promise (feat. Fetty Wap)",
            "Say Yes",
            "The Greatest",
            "Thinking About It (Let It Go) - KVR Remix",
            "Walk",
            "For Evigt",
            "Fortune Days",
            "Just",
            "Lost in the Water - Usb Players Remix Edit",
            "Stronger",
            "Una Mattina",
            "Hvite menn som pusher 50",
            "Is Happiness Just a Word? (feat. Yes Alexander)",
            "Kunsten å være inder",
            "Manga",
            "Monster",
            "Snøhvit",
            "Stay (feat. Maty Noyes)",
            "All My Friends (feat. Tinashe & Chance the Rapper)"
           ],
           "legendgroup": "",
           "marker": {
            "color": "#636efa",
            "size": [
             9013136,
             6977817,
             6968863,
             7470484,
             2963463,
             8484572,
             10613470,
             7189421,
             11047032,
             5308048,
             6453077,
             6015148,
             7342423,
             7247417,
             7026454,
             5414883,
             13456762,
             6590337,
             5129270,
             6553324,
             6324391,
             4641960,
             5797362,
             5629058,
             6143442,
             5406240,
             4933027,
             6064206,
             8228644,
             5370762,
             4773854,
             2612125,
             5718760,
             9497028,
             8160651,
             6486530,
             5339995,
             5218385,
             5039629,
             5818023,
             12479234,
             10668949,
             7882540,
             4394376,
             5116273,
             6597038,
             6230184,
             8398605,
             13719166,
             7655866,
             4358486,
             2464579,
             6858200,
             5043818,
             5909275,
             2998460,
             5714414,
             6210122,
             3377644,
             8105562,
             9928571,
             3313296,
             5204416,
             5219990,
             5156519,
             5243780,
             5789435,
             4160041,
             4133408,
             1804275,
             9359840,
             5740188,
             4758933,
             4875215,
             3628788,
             1762651,
             4958085,
             5885020,
             3862851,
             3904215,
             4526232,
             3744522,
             3041326,
             5121964,
             3090686,
             5100290,
             5972471,
             7889654,
             3927608,
             22286736,
             6693357,
             5089590,
             5951391,
             5520890,
             3413879,
             3814694,
             6160273,
             3484020,
             6147879,
             2871050
            ],
            "sizemode": "area",
            "sizeref": 9270.937777777777,
            "symbol": "circle"
           },
           "mode": "markers",
           "name": "",
           "orientation": "v",
           "showlegend": false,
           "type": "scatter",
           "x": [
            9013136,
            6977817,
            6968863,
            7470484,
            2963463,
            8484572,
            10613470,
            7189421,
            11047032,
            5308048,
            6453077,
            6015148,
            7342423,
            7247417,
            7026454,
            5414883,
            13456762,
            6590337,
            5129270,
            6553324,
            6324391,
            4641960,
            5797362,
            5629058,
            6143442,
            5406240,
            4933027,
            6064206,
            8228644,
            5370762,
            4773854,
            2612125,
            5718760,
            9497028,
            8160651,
            6486530,
            5339995,
            5218385,
            5039629,
            5818023,
            12479234,
            10668949,
            7882540,
            4394376,
            5116273,
            6597038,
            6230184,
            8398605,
            13719166,
            7655866,
            4358486,
            2464579,
            6858200,
            5043818,
            5909275,
            2998460,
            5714414,
            6210122,
            3377644,
            8105562,
            9928571,
            3313296,
            5204416,
            5219990,
            5156519,
            5243780,
            5789435,
            4160041,
            4133408,
            1804275,
            9359840,
            5740188,
            4758933,
            4875215,
            3628788,
            1762651,
            4958085,
            5885020,
            3862851,
            3904215,
            4526232,
            3744522,
            3041326,
            5121964,
            3090686,
            5100290,
            5972471,
            7889654,
            3927608,
            22286736,
            6693357,
            5089590,
            5951391,
            5520890,
            3413879,
            3814694,
            6160273,
            3484020,
            6147879,
            2871050
           ],
           "xaxis": "x",
           "y": [
            72,
            62,
            47,
            45,
            45,
            43,
            43,
            42,
            42,
            42,
            39,
            38,
            38,
            38,
            38,
            37,
            37,
            37,
            36,
            36,
            36,
            36,
            36,
            35,
            35,
            34,
            34,
            34,
            34,
            34,
            34,
            34,
            34,
            34,
            33,
            33,
            33,
            33,
            33,
            33,
            32,
            32,
            32,
            32,
            32,
            32,
            32,
            32,
            32,
            32,
            31,
            31,
            31,
            31,
            31,
            31,
            30,
            30,
            30,
            30,
            30,
            30,
            30,
            30,
            30,
            30,
            30,
            29,
            29,
            29,
            29,
            29,
            29,
            29,
            29,
            29,
            28,
            28,
            28,
            28,
            28,
            28,
            28,
            28,
            28,
            28,
            27,
            27,
            27,
            27,
            27,
            27,
            26,
            26,
            26,
            26,
            26,
            26,
            26,
            25
           ],
           "yaxis": "y"
          }
         ],
         "name": "2016"
        },
        {
         "data": [
          {
           "customdata": [
            [
             "Jon Bellion"
            ],
            [
             "Hkeem"
            ],
            [
             "JAY-Z"
            ],
            [
             "The Glitch Mob"
            ],
            [
             "Danny Ocean"
            ],
            [
             "Ed Sheeran"
            ],
            [
             "Lemaitre"
            ],
            [
             "Halestorm"
            ],
            [
             "Karpe"
            ],
            [
             "Future"
            ],
            [
             "Ed Sheeran"
            ],
            [
             "Kanye West"
            ],
            [
             "Ratatat"
            ],
            [
             "Stormzy"
            ],
            [
             "Rainbow Kitten Surprise"
            ],
            [
             "You Me At Six"
            ],
            [
             "OMFG"
            ],
            [
             "Papa Roach"
            ],
            [
             "Stanley Most"
            ],
            [
             "Yung Dash"
            ],
            [
             "Like A Storm"
            ],
            [
             "Keyshia Cole"
            ],
            [
             "Ed Sheeran"
            ],
            [
             "Aesop Rock"
            ],
            [
             "Stormzy"
            ],
            [
             "Starley"
            ],
            [
             "Benal"
            ],
            [
             "Nas"
            ],
            [
             "Nephew"
            ],
            [
             "Stormzy"
            ],
            [
             "Frank Ocean"
            ],
            [
             "B.o.B"
            ],
            [
             "Mac Miller"
            ],
            [
             "Carly Rae Jepsen"
            ],
            [
             "The Chainsmokers"
            ],
            [
             "Eminem"
            ],
            [
             "Kanye West"
            ],
            [
             "ItaloBrothers"
            ],
            [
             "Logic"
            ],
            [
             "Arif"
            ],
            [
             "Alan Walker"
            ],
            [
             "Linkin Park"
            ],
            [
             "Kanye West"
            ],
            [
             "Kelly Clarkson"
            ],
            [
             "Luis Fonsi"
            ],
            [
             "Lil Kleine"
            ],
            [
             "N.W.A."
            ],
            [
             "Karpe"
            ],
            [
             "Karpe"
            ],
            [
             "Vince Staples"
            ],
            [
             "Outkast"
            ],
            [
             "Lauv"
            ],
            [
             "J. Cole"
            ],
            [
             "Sub Focus"
            ],
            [
             "L.O.C."
            ],
            [
             "Enrique Iglesias"
            ],
            [
             "Halestorm"
            ],
            [
             "Yepha"
            ],
            [
             "NF"
            ],
            [
             "Carly Rae Jepsen"
            ],
            [
             "The Notorious B.I.G."
            ],
            [
             "Edy Lemond"
            ],
            [
             "Carly Rae Jepsen"
            ],
            [
             "Aesop Rock"
            ],
            [
             "Big Sean"
            ],
            [
             "Kygo"
            ],
            [
             "Frank Ocean"
            ],
            [
             "Mura Masa"
            ],
            [
             "L.O.C."
            ],
            [
             "Drake"
            ],
            [
             "Eminem"
            ],
            [
             "Like A Storm"
            ],
            [
             "KNA Connected"
            ],
            [
             "Arif"
            ],
            [
             "Diddy"
            ],
            [
             "John Williams"
            ],
            [
             "Khalid"
            ],
            [
             "Shawn Mendes"
            ],
            [
             "Karpe"
            ],
            [
             "SEB"
            ],
            [
             "A$AP Rocky"
            ],
            [
             "Wilkinson"
            ],
            [
             "Papa Roach"
            ],
            [
             "The Glitch Mob"
            ],
            [
             "Benal"
            ],
            [
             "Carlos Baute"
            ],
            [
             "S3RL"
            ],
            [
             "The Glitch Mob"
            ],
            [
             "Sunstroke Project"
            ],
            [
             "Kanye West"
            ],
            [
             "Gulddreng"
            ],
            [
             "Stromae"
            ],
            [
             "Like A Storm"
            ],
            [
             "John Williams"
            ],
            [
             "John Mayer"
            ],
            [
             "Stormzy"
            ],
            [
             "Phil Collins"
            ],
            [
             "Stormzy"
            ],
            [
             "Ed Sheeran"
            ],
            [
             "Ed Sheeran"
            ]
           ],
           "hovertemplate": "<b>%{hovertext}</b><br><br>endTime=2017<br>ms_played=%{marker.size}<br>count=%{y}<br>artistName=%{customdata[0]}<extra></extra>",
           "hovertext": [
            "All Time Low",
            "Fy Faen",
            "Numb / Encore",
            "We Can Make The World Stop",
            "Me Rehúso",
            "Shape of You - Stormzy Remix",
            "Closer",
            "Here's to Us",
            "Toyota´n til Magdi",
            "Mask Off",
            "Shape of You",
            "Gold Digger",
            "Loud Pipes",
            "Shut Up",
            "Devil Like Me",
            "Give",
            "Hello",
            "Help",
            "Kom kom",
            "Momma I Made It",
            "Ordinary",
            "Last Night",
            "Castle on the Hill",
            "None Shall Pass",
            "Big For Your Boots",
            "Call on Me - Ryan Riback Remix",
            "Fri",
            "Hero",
            "Hospital - Live",
            "Know Me From",
            "Pink + White",
            "Airplanes, Pt. II (feat. Eminem & Hayley Williams of Paramore)",
            "Donald Trump",
            "Emotion",
            "Paris",
            "Shake That",
            "Stronger",
            "Summer Air",
            "1-800-273-8255",
            "Alene",
            "Alone",
            "In the End",
            "POWER",
            "Since U Been Gone",
            "Despacito (Featuring Daddy Yankee)",
            "Drank & Drugs",
            "Fuck Tha Police",
            "Her",
            "Snøhvit",
            "BagBak",
            "Hey Ya!",
            "I Like Me Better",
            "Power Trip (feat. Miguel)",
            "Rock It",
            "Undskyld",
            "DUELE EL CORAZON (feat. Wisin)",
            "I Am the Fire",
            "Ik' Gør' Det",
            "Let You Down",
            "Let’s Get Lost",
            "Notorious Thugs - 2014 Remaster",
            "Pensando em Voce",
            "Run Away With Me",
            "Daylight",
            "I Don't Fuck With You",
            "It Ain't Me (with Selena Gomez)",
            "Lost",
            "Love$ick",
            "Noget Dumt",
            "Passionfruit",
            "Beautiful",
            "Break Free",
            "Fibs(Løgn & Latin)",
            "Flexnes",
            "I'll Be Missing You (feat. Faith Evans & 112) - 2014 Remaster",
            "Leaving Hogwarts",
            "Location",
            "Mercy",
            "Regnvær",
            "Tro På Os To",
            "Wild for the Night (feat. Skrillex & Birdy Nam Nam)",
            "Afterglow",
            "American Dreams",
            "Animus Vox",
            "Babelfisk",
            "Colgando en tus manos (con Marta Sánchez)",
            "Feel the Melody (feat. Sara)",
            "Fortune Days",
            "Hey Mamma - Radio Edit",
            "Touch The Sky",
            "UPN",
            "Alors On Danse",
            "Change Tomorrow",
            "Hedwig's Theme",
            "Love on the Weekend",
            "Scary",
            "Strangers Like Me",
            "Cold",
            "Don't",
            "Eraser"
           ],
           "legendgroup": "",
           "marker": {
            "color": "#636efa",
            "size": [
             7847578,
             8898103,
             6238760,
             10141572,
             7653289,
             6634660,
             6955029,
             5827675,
             5611140,
             6983495,
             5263764,
             6551652,
             6769589,
             6348744,
             6278549,
             6672023,
             6405507,
             7471156,
             5974505,
             7372430,
             8373183,
             7598872,
             5752047,
             5101613,
             6952730,
             5448311,
             6810878,
             5060428,
             6193026,
             3721539,
             4669867,
             6606770,
             5182430,
             4152437,
             5661252,
             7041830,
             5710732,
             4798973,
             5244600,
             5201630,
             3534228,
             5043087,
             7027627,
             3605393,
             5410608,
             3141595,
             5431115,
             3312240,
             3688110,
             3076673,
             4235494,
             5194501,
             4347284,
             6382030,
             4930295,
             4616179,
             5178107,
             2219819,
             5261197,
             2984780,
             6261570,
             4759344,
             3388015,
             3197006,
             3145871,
             2131168,
             4562890,
             4272786,
             3780907,
             3448258,
             4638155,
             6519831,
             4926737,
             3714332,
             6775526,
             2862108,
             3598452,
             3550803,
             2181346,
             3273999,
             2896562,
             5172514,
             4464602,
             4851357,
             4288796,
             3862754,
             4924543,
             6055831,
             2877296,
             4655509,
             3792058,
             3592408,
             4567111,
             5848985,
             3796151,
             4268747,
             3666339,
             3362138,
             2289867,
             3962535
            ],
            "sizemode": "area",
            "sizeref": 9270.937777777777,
            "symbol": "circle"
           },
           "mode": "markers",
           "name": "",
           "orientation": "v",
           "showlegend": false,
           "type": "scatter",
           "x": [
            7847578,
            8898103,
            6238760,
            10141572,
            7653289,
            6634660,
            6955029,
            5827675,
            5611140,
            6983495,
            5263764,
            6551652,
            6769589,
            6348744,
            6278549,
            6672023,
            6405507,
            7471156,
            5974505,
            7372430,
            8373183,
            7598872,
            5752047,
            5101613,
            6952730,
            5448311,
            6810878,
            5060428,
            6193026,
            3721539,
            4669867,
            6606770,
            5182430,
            4152437,
            5661252,
            7041830,
            5710732,
            4798973,
            5244600,
            5201630,
            3534228,
            5043087,
            7027627,
            3605393,
            5410608,
            3141595,
            5431115,
            3312240,
            3688110,
            3076673,
            4235494,
            5194501,
            4347284,
            6382030,
            4930295,
            4616179,
            5178107,
            2219819,
            5261197,
            2984780,
            6261570,
            4759344,
            3388015,
            3197006,
            3145871,
            2131168,
            4562890,
            4272786,
            3780907,
            3448258,
            4638155,
            6519831,
            4926737,
            3714332,
            6775526,
            2862108,
            3598452,
            3550803,
            2181346,
            3273999,
            2896562,
            5172514,
            4464602,
            4851357,
            4288796,
            3862754,
            4924543,
            6055831,
            2877296,
            4655509,
            3792058,
            3592408,
            4567111,
            5848985,
            3796151,
            4268747,
            3666339,
            3362138,
            2289867,
            3962535
           ],
           "xaxis": "x",
           "y": [
            55,
            54,
            45,
            44,
            43,
            43,
            42,
            42,
            42,
            41,
            41,
            40,
            40,
            40,
            39,
            39,
            38,
            38,
            38,
            38,
            38,
            37,
            35,
            35,
            34,
            34,
            34,
            34,
            34,
            34,
            34,
            33,
            33,
            33,
            33,
            33,
            33,
            33,
            32,
            32,
            32,
            32,
            32,
            32,
            31,
            31,
            31,
            31,
            31,
            30,
            30,
            30,
            30,
            30,
            30,
            29,
            29,
            29,
            29,
            29,
            29,
            29,
            29,
            28,
            28,
            28,
            28,
            28,
            28,
            28,
            27,
            27,
            27,
            27,
            27,
            27,
            27,
            27,
            27,
            27,
            27,
            26,
            26,
            26,
            26,
            26,
            26,
            26,
            26,
            26,
            26,
            25,
            25,
            25,
            25,
            25,
            25,
            24,
            24,
            24
           ],
           "yaxis": "y"
          }
         ],
         "name": "2017"
        },
        {
         "data": [
          {
           "customdata": [
            [
             "Karpe"
            ],
            [
             "KESI"
            ],
            [
             "BasedBoys"
            ],
            [
             "Childish Gambino"
            ],
            [
             "Drake"
            ],
            [
             "Huncho Jack"
            ],
            [
             "Justin Timberlake"
            ],
            [
             "Juice WRLD"
            ],
            [
             "Post Malone"
            ],
            [
             "Stonebank"
            ],
            [
             "Logic"
            ],
            [
             "KIDS SEE GHOSTS"
            ],
            [
             "BasedBoys"
            ],
            [
             "PVRIS"
            ],
            [
             "Eminem"
            ],
            [
             "XXXTENTACION"
            ],
            [
             "Jimmy Eat World"
            ],
            [
             "The Minds Of 99"
            ],
            [
             "MGMT"
            ],
            [
             "Ratatat"
            ],
            [
             "Benal"
            ],
            [
             "Gilli"
            ],
            [
             "Logic"
            ],
            [
             "Logic"
            ],
            [
             "Eminem"
            ],
            [
             "Through Fire"
            ],
            [
             "Childish Gambino"
            ],
            [
             "BasedBoys"
            ],
            [
             "Chris Stapleton"
            ],
            [
             "Childish Gambino"
            ],
            [
             "Dúné"
            ],
            [
             "Childish Gambino"
            ],
            [
             "Raury"
            ],
            [
             "Eminem"
            ],
            [
             "Childish Gambino"
            ],
            [
             "Hollywood Undead"
            ],
            [
             "Bas"
            ],
            [
             "Benal"
            ],
            [
             "Post Malone"
            ],
            [
             "A Tribe Called Quest"
            ],
            [
             "Ab-Soul"
            ],
            [
             "Bill Wurtz"
            ],
            [
             "Gilli"
            ],
            [
             "Logic"
            ],
            [
             "Stonebank"
            ],
            [
             "Ratatat"
            ],
            [
             "Dúné"
            ],
            [
             "The Glitch Mob"
            ],
            [
             "OMFG"
            ],
            [
             "Fugees"
            ],
            [
             "Too Close To Touch"
            ],
            [
             "Feint"
            ],
            [
             "Bruno Mars"
            ],
            [
             "Outkast"
            ],
            [
             "Au5"
            ],
            [
             "Enrique Iglesias"
            ],
            [
             "Perfume Genius"
            ],
            [
             "Tame Impala"
            ],
            [
             "Mura Masa"
            ],
            [
             "MARS"
            ],
            [
             "J. Cole"
            ],
            [
             "EDEN"
            ],
            [
             "The Minds Of 99"
            ],
            [
             "The Glitch Mob"
            ],
            [
             "Skillet"
            ],
            [
             "The Notorious B.I.G."
            ],
            [
             "Juice WRLD"
            ],
            [
             "J. Cole"
            ],
            [
             "A$AP Rocky"
            ],
            [
             "Aesop Rock"
            ],
            [
             "Juice WRLD"
            ],
            [
             "Kanye West"
            ],
            [
             "The Glitch Mob"
            ],
            [
             "Imagine Dragons"
            ],
            [
             "A$AP Rocky"
            ],
            [
             "Ramz"
            ],
            [
             "Cardi B"
            ],
            [
             "The Glitch Mob"
            ],
            [
             "Lil Dicky"
            ],
            [
             "Jay Rock"
            ],
            [
             "KESI"
            ],
            [
             "Cascada"
            ],
            [
             "Saveus"
            ],
            [
             "Eminem"
            ],
            [
             "Drake"
            ],
            [
             "Saveus"
            ],
            [
             "Juice WRLD"
            ],
            [
             "Céline Dion"
            ],
            [
             "Ne-Yo"
            ],
            [
             "Thirty Seconds To Mars"
            ],
            [
             "Domo Genesis"
            ],
            [
             "PVRIS"
            ],
            [
             "Spose"
            ],
            [
             "The Temper Trap"
            ],
            [
             "Tyga"
            ],
            [
             "Dion Timmer"
            ],
            [
             "Kendrick Lamar"
            ],
            [
             "Loveless"
            ],
            [
             "Eminem"
            ],
            [
             "Mac Miller"
            ]
           ],
           "hovertemplate": "<b>%{hovertext}</b><br><br>endTime=2018<br>ms_played=%{marker.size}<br>count=%{y}<br>artistName=%{customdata[0]}<extra></extra>",
           "hovertext": [
            "Rett i foret",
            "Mamacita (feat. Benny Jamz)",
            "Det' så svært",
            "Kids",
            "Nice For What",
            "Saint",
            "Say Something (feat. Chris Stapleton)",
            "Lucid Dreams",
            "Sunflower - Spider-Man: Into the Spider-Verse",
            "Who's Got Your Love",
            "Everyday",
            "4th Dimension",
            "Gizpræsidenter",
            "Holy",
            "Lucky You (feat. Joyner Lucas)",
            "SAD!",
            "The Middle",
            "Alle Skuffer Over Tid - Single Edit",
            "Electric Feel",
            "Loud Pipes",
            "Når Du Kigger På Mig (feat. Clara Sofie)",
            "Rica (feat. Kesi & Sivas)",
            "Super Mario World",
            "The Return",
            "The Ringer",
            "Breathe",
            "Lights Turned On",
            "Deja Vu (feat. MAAN)",
            "Fire Away",
            "Freaks And Geeks",
            "Never Be Alone",
            "Redbone",
            "Crystal Express",
            "Fall",
            "Fire Fly",
            "Gravity",
            "Tribe (with J. Cole)",
            "Lampeskærm",
            "Psycho (feat. Ty Dolla $ign)",
            "Can I Kick It?",
            "Illuminate (feat. Kendrick Lamar)",
            "La de Da de Da de Da de Day Oh",
            "Langsom",
            "Overnight",
            "Ripped to Pieces (feat. EMEL)",
            "Wildcat",
            "Dry Lips",
            "Fortune Days",
            "Hello",
            "Ready or Not",
            "Sympathy",
            "Time Bomb (feat. Veela)",
            "Finesse - Remix; feat. Cardi B",
            "Hey Ya!",
            "Moonland",
            "SUBEME LA RADIO (feat. Descemer Bueno & Zion & Lennox)",
            "Slip Away",
            "The Less I Know The Better",
            "What If I Go? (feat. Bonzai)",
            "jeg er lei meg",
            "Apparently",
            "Billie Jean",
            "Det Er Knud Som Er Død",
            "Enter Formless (feat. Rituals of Mine)",
            "Hero",
            "Juicy - 2005 Remaster",
            "Legends",
            "No Role Modelz",
            "Praise The Lord (Da Shine) (feat. Skepta)",
            "Preservation",
            "Rich And Blind",
            "Stronger",
            "We Can Make The World Stop",
            "Whatever It Takes",
            "A$AP Forever (feat. Moby)",
            "Barking",
            "Be Careful",
            "Can't Kill Us",
            "Freaky Friday (feat. Chris Brown)",
            "King's Dead (with Kendrick Lamar, Future & James Blake)",
            "Ligesom Mig",
            "Everytime We Touch - Radio Edit",
            "Ready To Die",
            "Shake That",
            "Signs",
            "Time Can Heal A Man",
            "All Girls Are The Same",
            "Ashes - from \"Deadpool 2\" Motion Picture Soundtrack",
            "Closer",
            "Dangerous Night",
            "Dapper (feat. Anderson .Paak)",
            "Ghosts",
            "Nobody (feat. Watsky)",
            "Sweet Disposition",
            "Taste (feat. Offset)",
            "Textacy",
            "The Art of Peer Pressure",
            "They Don't Know (feat. Varren Wade)",
            "When I'm Gone",
            "100 Grandkids"
           ],
           "legendgroup": "",
           "marker": {
            "color": "#636efa",
            "size": [
             13401276,
             11428976,
             8934345,
             7634142,
             7112568,
             5081550,
             7653247,
             6372904,
             4724912,
             6309907,
             4969168,
             4131086,
             5001899,
             9741011,
             5821157,
             1906218,
             4653184,
             4866050,
             6408247,
             6077425,
             5115108,
             4661432,
             4351269,
             5115629,
             5785794,
             4868021,
             5821799,
             4246350,
             4311393,
             4889719,
             5978252,
             7148154,
             2594860,
             6342677,
             3970692,
             4720004,
             4866703,
             4241549,
             2991630,
             5068908,
             3633673,
             2450810,
             3733083,
             4597914,
             5329820,
             4638145,
             3678691,
             6722503,
             2788795,
             2264795,
             4387854,
             4284821,
             3538737,
             3455837,
             2589693,
             2525619,
             2326308,
             4441605,
             3598643,
             3382754,
             4227839,
             3701672,
             1431448,
             3648353,
             3379713,
             2601608,
             1877968,
             4037864,
             2026213,
             1560014,
             4111338,
             4085948,
             5772129,
             1261139,
             2781693,
             1894655,
             1580985,
             3318496,
             2955032,
             2241048,
             2370148,
             3302625,
             4057151,
             4396965,
             3146774,
             3653176,
             2325776,
             3478831,
             3254917,
             2479343,
             1886672,
             3687389,
             3849102,
             4209539,
             2107298,
             2519800,
             2285821,
             4365599,
             3708139,
             4121060
            ],
            "sizemode": "area",
            "sizeref": 9270.937777777777,
            "symbol": "circle"
           },
           "mode": "markers",
           "name": "",
           "orientation": "v",
           "showlegend": false,
           "type": "scatter",
           "x": [
            13401276,
            11428976,
            8934345,
            7634142,
            7112568,
            5081550,
            7653247,
            6372904,
            4724912,
            6309907,
            4969168,
            4131086,
            5001899,
            9741011,
            5821157,
            1906218,
            4653184,
            4866050,
            6408247,
            6077425,
            5115108,
            4661432,
            4351269,
            5115629,
            5785794,
            4868021,
            5821799,
            4246350,
            4311393,
            4889719,
            5978252,
            7148154,
            2594860,
            6342677,
            3970692,
            4720004,
            4866703,
            4241549,
            2991630,
            5068908,
            3633673,
            2450810,
            3733083,
            4597914,
            5329820,
            4638145,
            3678691,
            6722503,
            2788795,
            2264795,
            4387854,
            4284821,
            3538737,
            3455837,
            2589693,
            2525619,
            2326308,
            4441605,
            3598643,
            3382754,
            4227839,
            3701672,
            1431448,
            3648353,
            3379713,
            2601608,
            1877968,
            4037864,
            2026213,
            1560014,
            4111338,
            4085948,
            5772129,
            1261139,
            2781693,
            1894655,
            1580985,
            3318496,
            2955032,
            2241048,
            2370148,
            3302625,
            4057151,
            4396965,
            3146774,
            3653176,
            2325776,
            3478831,
            3254917,
            2479343,
            1886672,
            3687389,
            3849102,
            4209539,
            2107298,
            2519800,
            2285821,
            4365599,
            3708139,
            4121060
           ],
           "xaxis": "x",
           "y": [
            71,
            61,
            49,
            48,
            47,
            41,
            40,
            39,
            39,
            39,
            38,
            36,
            36,
            36,
            36,
            36,
            34,
            33,
            33,
            33,
            33,
            32,
            32,
            32,
            32,
            31,
            31,
            30,
            30,
            30,
            30,
            30,
            29,
            29,
            28,
            28,
            28,
            27,
            27,
            26,
            26,
            26,
            26,
            26,
            26,
            26,
            25,
            25,
            25,
            25,
            25,
            25,
            24,
            24,
            24,
            24,
            24,
            24,
            24,
            24,
            23,
            23,
            23,
            23,
            23,
            23,
            23,
            23,
            23,
            23,
            23,
            23,
            23,
            23,
            22,
            22,
            22,
            22,
            22,
            22,
            22,
            21,
            21,
            21,
            21,
            21,
            20,
            20,
            20,
            20,
            20,
            20,
            20,
            20,
            20,
            20,
            20,
            20,
            20,
            19
           ],
           "yaxis": "y"
          }
         ],
         "name": "2018"
        },
        {
         "data": [
          {
           "customdata": [
            [
             "Post Malone"
            ],
            [
             "Juice WRLD"
            ],
            [
             "Bring Me The Horizon"
            ],
            [
             "Linkin Park"
            ],
            [
             "Tyga"
            ],
            [
             "Lil Tecca"
            ],
            [
             "Papa Roach"
            ],
            [
             "The Notorious B.I.G."
            ],
            [
             "Eminem"
            ],
            [
             "Bring Me The Horizon"
            ],
            [
             "TV On The Radio"
            ],
            [
             "Kings of Leon"
            ],
            [
             "Eminem"
            ],
            [
             "Isah"
            ],
            [
             "The Prodigy"
            ],
            [
             "Infected Mushroom"
            ],
            [
             "Juice WRLD"
            ],
            [
             "Linkin Park"
            ],
            [
             "You Me At Six"
            ],
            [
             "Eminem"
            ],
            [
             "Kodak Black"
            ],
            [
             "Lil Nas X"
            ],
            [
             "DREAMERS"
            ],
            [
             "Kygo"
            ],
            [
             "Isah"
            ],
            [
             "Dirty Honey"
            ],
            [
             "Bring Me The Horizon"
            ],
            [
             "Manafest"
            ],
            [
             "Gang of Youths"
            ],
            [
             "Lil Tecca"
            ],
            [
             "PVRIS"
            ],
            [
             "Eminem"
            ],
            [
             "Disturbed"
            ],
            [
             "Normandie"
            ],
            [
             "PVRIS"
            ],
            [
             "TWO LANES"
            ],
            [
             "Neukrapsio"
            ],
            [
             "Linkin Park"
            ],
            [
             "Kings of Leon"
            ],
            [
             "xajk"
            ],
            [
             "Beartooth"
            ],
            [
             "Halestorm"
            ],
            [
             "Stand Atlantic"
            ],
            [
             "Linkin Park"
            ],
            [
             "The Minds Of 99"
            ],
            [
             "Linkin Park"
            ],
            [
             "Young Thug"
            ],
            [
             "BigLion"
            ],
            [
             "Juice WRLD"
            ],
            [
             "Hollywood Undead"
            ],
            [
             "KALEO"
            ],
            [
             "Ratatat"
            ],
            [
             "Carpark North"
            ],
            [
             "The Minds Of 99"
            ],
            [
             "Post Malone"
            ],
            [
             "The Minds Of 99"
            ],
            [
             "Avenged Sevenfold"
            ],
            [
             "Nothing But Thieves"
            ],
            [
             "Eminem"
            ],
            [
             "Sueco"
            ],
            [
             "Linkin Park"
            ],
            [
             "You Me At Six"
            ],
            [
             "The Maine"
            ],
            [
             "Eminem"
            ],
            [
             "Paramore"
            ],
            [
             "Beartooth"
            ],
            [
             "Neukrapsio"
            ],
            [
             "Mari"
            ],
            [
             "caxju"
            ],
            [
             "Kings of Leon"
            ],
            [
             "Jesper Binzer"
            ],
            [
             "Neukrapsio"
            ],
            [
             "Skillet"
            ],
            [
             "MGMT"
            ],
            [
             "Linkin Park"
            ],
            [
             "Matoma"
            ],
            [
             "Suspekt"
            ],
            [
             "Rasmus Seebach"
            ],
            [
             "Fall Out Boy"
            ],
            [
             "NF"
            ],
            [
             "Linkin Park"
            ],
            [
             "Linkin Park"
            ],
            [
             "Nothing But Thieves"
            ],
            [
             "You Me At Six"
            ],
            [
             "Babifoot"
            ],
            [
             "Clara"
            ],
            [
             "Rainbow Kitten Surprise"
            ],
            [
             "Tonight Alive"
            ],
            [
             "Avenged Sevenfold"
            ],
            [
             "WishKid"
            ],
            [
             "Panic! At The Disco"
            ],
            [
             "Linkin Park"
            ],
            [
             "Linkin Park"
            ],
            [
             "Stonebank"
            ],
            [
             "Kings of Leon"
            ],
            [
             "Linkin Park"
            ],
            [
             "PVRIS"
            ],
            [
             "Muse"
            ],
            [
             "Carpark North"
            ],
            [
             "Volbeat"
            ]
           ],
           "hovertemplate": "<b>%{hovertext}</b><br><br>endTime=2019<br>ms_played=%{marker.size}<br>count=%{y}<br>artistName=%{customdata[0]}<extra></extra>",
           "hovertext": [
            "Circles",
            "Armed And Dangerous",
            "Throne",
            "In the End",
            "Goddamn (feat. A Boogie wit da Hoodie)",
            "Ransom",
            "Come Around",
            "Juicy - 2005 Remaster",
            "Greatest",
            "medicine",
            "Happy Idiot",
            "Be Somebody",
            "Fall",
            "HALLO",
            "Smack My Bitch Up",
            "The Pretender",
            "Robbery",
            "Numb",
            "Take on the World",
            "W.T.P.",
            "ZEZE (feat. Travis Scott & Offset)",
            "Panini",
            "All Washed Out",
            "Kem Kan Eg Ringe (feat. Store P & Lars Vaular)",
            "Lollipop",
            "When I'm Gone",
            "Doomed",
            "Impossible",
            "Let Me Down Easy",
            "Love Me",
            "St. Patrick",
            "The Ringer",
            "The Sound of Silence",
            "White Flag",
            "Winter",
            "Back to You",
            "Breathe",
            "Hands Held High",
            "WALLS",
            "Embrace",
            "Hated",
            "I Miss the Misery",
            "Lavender Bones",
            "Papercut",
            "Stor Som En Sol / Flad Som En Pandekage",
            "Talking to Myself",
            "The London (feat. J. Cole & Travis Scott)",
            "Vestido Rojo",
            "Bandit (with YoungBoy Never Broke Again)",
            "Gravity",
            "Hot Blood",
            "Loud Pipes",
            "Shall We Be Grateful",
            "Solkongen",
            "Sunflower - Spider-Man: Into the Spider-Verse",
            "Hurtige Hænder - Acoustic Version - Moyo Live P3",
            "Shepherd of Fire",
            "Trip Switch",
            "You Don't Know",
            "fast (Remix) [feat. Offset & A Boogie Wit da Hoodie]",
            "BURN IT DOWN",
            "Back Again",
            "Black Butterflies and Déjà Vu",
            "Business",
            "Careful",
            "Disease",
            "Goodbye Summer",
            "Organ Inspiration",
            "Owls",
            "Closer",
            "Dying Is Easy (Rock'N'Roll Is Hard)",
            "Escape from Reality",
            "Hero",
            "Kids",
            "LOST IN THE ECHO",
            "Old Thing Back (feat. Ja Rule and Ralph Tresvant)",
            "Proletar (Hvor Jeg Står)",
            "Sandstorm",
            "Thnks fr th Mmrs",
            "Time - Edit",
            "What I've Done",
            "With You",
            "Amsterdam",
            "Brand New",
            "Comeback",
            "Crazy",
            "Devil Like Me",
            "Disappear (Feat. Lynn Gunn)",
            "Hail to the King",
            "Hollywood",
            "I Write Sins Not Tragedies",
            "Iridescent",
            "One More Light",
            "Stronger",
            "Beautiful War",
            "CASTLE OF GLASS",
            "Ghosts",
            "Madness",
            "Transparent and Glasslike",
            "Back To Prom"
           ],
           "legendgroup": "",
           "marker": {
            "color": "#636efa",
            "size": [
             12481219,
             6183335,
             7976291,
             3102316,
             3997895,
             4588728,
             6912110,
             8128773,
             5480790,
             6421046,
             5042245,
             6189856,
             6299678,
             3820000,
             7557796,
             6260231,
             4727578,
             3303441,
             5942891,
             4922004,
             5756768,
             2661981,
             5040351,
             5462912,
             3041719,
             4714761,
             6227885,
             4727581,
             5939647,
             2436541,
             4401240,
             5769670,
             2640713,
             4807083,
             4020437,
             3428285,
             4358196,
             3528483,
             5341555,
             1227970,
             4242012,
             2505266,
             4571150,
             3408222,
             4381643,
             3204830,
             2742939,
             929669,
             2017090,
             4341314,
             3907516,
             3706041,
             2728151,
             3104689,
             2466940,
             4207393,
             5337024,
             2764989,
             5771830,
             3129096,
             2108453,
             2819855,
             3213902,
             2403206,
             3471020,
             2633239,
             333042,
             856155,
             1393299,
             3114942,
             4425948,
             299978,
             2882111,
             4064022,
             3242407,
             5141205,
             4205310,
             2032446,
             2441260,
             4514252,
             2483553,
             1880489,
             3898231,
             3298783,
             969977,
             1461939,
             3175578,
             3597016,
             6027404,
             970019,
             590035,
             1460011,
             1966987,
             3020119,
             3550447,
             1393309,
             3172717,
             1097827,
             2121497,
             1385506
            ],
            "sizemode": "area",
            "sizeref": 9270.937777777777,
            "symbol": "circle"
           },
           "mode": "markers",
           "name": "",
           "orientation": "v",
           "showlegend": false,
           "type": "scatter",
           "x": [
            12481219,
            6183335,
            7976291,
            3102316,
            3997895,
            4588728,
            6912110,
            8128773,
            5480790,
            6421046,
            5042245,
            6189856,
            6299678,
            3820000,
            7557796,
            6260231,
            4727578,
            3303441,
            5942891,
            4922004,
            5756768,
            2661981,
            5040351,
            5462912,
            3041719,
            4714761,
            6227885,
            4727581,
            5939647,
            2436541,
            4401240,
            5769670,
            2640713,
            4807083,
            4020437,
            3428285,
            4358196,
            3528483,
            5341555,
            1227970,
            4242012,
            2505266,
            4571150,
            3408222,
            4381643,
            3204830,
            2742939,
            929669,
            2017090,
            4341314,
            3907516,
            3706041,
            2728151,
            3104689,
            2466940,
            4207393,
            5337024,
            2764989,
            5771830,
            3129096,
            2108453,
            2819855,
            3213902,
            2403206,
            3471020,
            2633239,
            333042,
            856155,
            1393299,
            3114942,
            4425948,
            299978,
            2882111,
            4064022,
            3242407,
            5141205,
            4205310,
            2032446,
            2441260,
            4514252,
            2483553,
            1880489,
            3898231,
            3298783,
            969977,
            1461939,
            3175578,
            3597016,
            6027404,
            970019,
            590035,
            1460011,
            1966987,
            3020119,
            3550447,
            1393309,
            3172717,
            1097827,
            2121497,
            1385506
           ],
           "xaxis": "x",
           "y": [
            71,
            50,
            50,
            46,
            45,
            43,
            42,
            42,
            40,
            40,
            39,
            37,
            35,
            35,
            35,
            35,
            34,
            33,
            33,
            33,
            33,
            32,
            31,
            31,
            31,
            31,
            30,
            30,
            30,
            30,
            30,
            30,
            30,
            30,
            30,
            29,
            29,
            29,
            29,
            28,
            28,
            28,
            28,
            28,
            28,
            28,
            28,
            28,
            27,
            27,
            27,
            27,
            27,
            27,
            27,
            26,
            26,
            26,
            26,
            26,
            25,
            25,
            25,
            25,
            25,
            25,
            25,
            25,
            25,
            24,
            24,
            24,
            24,
            24,
            24,
            24,
            24,
            24,
            24,
            24,
            24,
            24,
            23,
            23,
            23,
            23,
            23,
            23,
            23,
            23,
            23,
            23,
            23,
            23,
            22,
            22,
            22,
            22,
            22,
            21
           ],
           "yaxis": "y"
          }
         ],
         "name": "2019"
        },
        {
         "data": [
          {
           "customdata": [
            [
             "Jack Harlow"
            ],
            [
             "Lensko"
            ],
            [
             "Lensko"
            ],
            [
             "The Kid LAROI"
            ],
            [
             "The Kid LAROI"
            ],
            [
             "Pop Smoke"
            ],
            [
             "Zero 9:36"
            ],
            [
             "Greta Van Fleet"
            ],
            [
             "Jung"
            ],
            [
             "Stormzy"
            ],
            [
             "DaBaby"
            ],
            [
             "Pop Smoke"
            ],
            [
             "Oberg"
            ],
            [
             "Lil Baby"
            ],
            [
             "JAY-Z"
            ],
            [
             "Stormzy"
            ],
            [
             "24kGoldn"
            ],
            [
             "The Strokes"
            ],
            [
             "PIND"
            ],
            [
             "Badflower"
            ],
            [
             "The Dangerous Summer"
            ],
            [
             "Falling In Reverse"
            ],
            [
             "Lil Tjay"
            ],
            [
             "Headie One"
            ],
            [
             "Juice"
            ],
            [
             "Kanye West"
            ],
            [
             "Bring Me The Horizon"
            ],
            [
             "Stormzy"
            ],
            [
             "Pop Smoke"
            ],
            [
             "I Prevail"
            ],
            [
             "Jung"
            ],
            [
             "Jesu Brødre"
            ],
            [
             "Dagny"
            ],
            [
             "Gorillaz"
            ],
            [
             "Fort Minor"
            ],
            [
             "Stormzy"
            ],
            [
             "The Prodigy"
            ],
            [
             "Eminem"
            ],
            [
             "The Minds Of 99"
            ],
            [
             "Noisestorm"
            ],
            [
             "Fleetwood Mac"
            ],
            [
             "Albatraoz"
            ],
            [
             "A$AP Rocky"
            ],
            [
             "You Me At Six"
            ],
            [
             "The Notorious B.I.G."
            ],
            [
             "Headie One"
            ],
            [
             "Thousand Foot Krutch"
            ],
            [
             "PVRIS"
            ],
            [
             "Blue Öyster Cult"
            ],
            [
             "MGMT"
            ],
            [
             "Darude"
            ],
            [
             "Kanye West"
            ],
            [
             "KennyHoopla"
            ],
            [
             "Polo G"
            ],
            [
             "Stormzy"
            ],
            [
             "The Strokes"
            ],
            [
             "Bring Me The Horizon"
            ],
            [
             "Karpe"
            ],
            [
             "Linkin Park"
            ],
            [
             "You Me At Six"
            ],
            [
             "Dave"
            ],
            [
             "The Midnight"
            ],
            [
             "KennyHoopla"
            ],
            [
             "Greta Van Fleet"
            ],
            [
             "Dire Straits"
            ],
            [
             "THE SCOTTS"
            ],
            [
             "iann dior"
            ],
            [
             "KennyHoopla"
            ],
            [
             "Highly Suspect"
            ],
            [
             "Tristam"
            ],
            [
             "JAY-Z"
            ],
            [
             "JAY-Z"
            ],
            [
             "Linkin Park"
            ],
            [
             "Timecop1983"
            ],
            [
             "Judge Bitch"
            ],
            [
             "Jung"
            ],
            [
             "Eminem"
            ],
            [
             "Dr. Dre"
            ],
            [
             "The Midnight"
            ],
            [
             "Jack Harlow"
            ],
            [
             "Machine Gun Kelly"
            ],
            [
             "B.o.B"
            ],
            [
             "Motionless In White"
            ],
            [
             "Lil Mosey"
            ],
            [
             "Bolaget"
            ],
            [
             "Rainbow Kitten Surprise"
            ],
            [
             "Pop Smoke"
            ],
            [
             "The Strokes"
            ],
            [
             "JAY-Z"
            ],
            [
             "iann dior"
            ],
            [
             "The Prodigy"
            ],
            [
             "Foxing"
            ],
            [
             "Judge Bitch"
            ],
            [
             "Current Joys"
            ],
            [
             "Kanye West"
            ],
            [
             "Falling In Reverse"
            ],
            [
             "Juice WRLD"
            ],
            [
             "Lil Tecca"
            ],
            [
             "Bee Gees"
            ],
            [
             "The Weeknd"
            ]
           ],
           "hovertemplate": "<b>%{hovertext}</b><br><br>endTime=2020<br>ms_played=%{marker.size}<br>count=%{y}<br>artistName=%{customdata[0]}<extra></extra>",
           "hovertext": [
            "WHATS POPPIN",
            "Circles",
            "Cetus",
            "WRONG (feat. Lil Mosey)",
            "ALWAYS DO",
            "Dior - Bonus",
            "Come Thru",
            "Black Smoke Rising",
            "Hun Kommer Tilbage",
            "One Second (feat. H.E.R.)",
            "ROCKSTAR (feat. Roddy Ricch)",
            "The Woo (feat. 50 Cent & Roddy Ricch)",
            "Take My Hand",
            "Emotionally Scarred",
            "Numb / Encore",
            "Sounds of the Skeng",
            "Mood (feat. iann dior)",
            "Bad Decisions",
            "Plastic",
            "The Jester",
            "Fuck Them All",
            "Popular Monster",
            "20/20",
            "Ain't It Different (feat. AJ Tracey & Stormzy)",
            "Audrey Tell Me",
            "POWER",
            "Sleepwalking",
            "Wiley Flow",
            "For The Night (feat. Lil Baby & DaBaby)",
            "Hurricane",
            "Jeg Skal Nok Vente",
            "Trampertøsen",
            "Somebody",
            "Feel Good Inc.",
            "Remember the Name (feat. Styles of Beyond)",
            "Audacity (feat. Headie One)",
            "Breathe",
            "Darkness",
            "Som Fluer",
            "Crab Rave",
            "Dreams - 2004 Remaster",
            "E (Ventex)",
            "F**kin' Problems (feat. Drake, 2 Chainz & Kendrick Lamar)",
            "Heavy Soul",
            "Juicy - 2005 Remaster",
            "Only You Freestyle",
            "Take It Out On Me",
            "What's Wrong",
            "(Don't Fear) The Reaper",
            "Electric Feel",
            "Sandstorm",
            "Stronger",
            "how will i rest in peace if i'm buried by a highway?//",
            "Martin & Gina",
            "Own It (feat. Ed Sheeran & Burna Boy)",
            "Someday",
            "Teardrops",
            "Toyota'n til Magdi",
            "In the End",
            "Our House (The Mess We Made)",
            "Thiago Silva",
            "Vampires",
            "lost cause//",
            "Highway Tune",
            "Sultans Of Swing",
            "THE SCOTTS",
            "gone girl",
            "plastic door//",
            "16",
            "Flight",
            "Ni**as In Paris",
            "No Church In The Wild",
            "Papercut",
            "Tonight",
            "Trash Pandas",
            "Ud I Kørebanen",
            "'Till I Collapse",
            "Forgot About Dre",
            "Jason",
            "Tyler Herro",
            "bloody valentine",
            "Airplanes, Pt. II (feat. Eminem & Hayley Williams of Paramore)",
            "Another Life",
            "Blueberry Faygo",
            "Dum",
            "First Class",
            "Got It On Me",
            "Last Nite",
            "Run This Town",
            "Sick and Tired",
            "Smack My Bitch Up",
            "The Medic",
            "Vandal",
            "A Different Age",
            "Black Skinhead",
            "Carry On",
            "Conversations",
            "Ransom",
            "Stayin' Alive - From \"Saturday Night Fever\" Soundtrack",
            "Blinding Lights"
           ],
           "legendgroup": "",
           "marker": {
            "color": "#636efa",
            "size": [
             8787898,
             9963200,
             11224359,
             7135241,
             4962521,
             8662228,
             6846085,
             9804071,
             6816811,
             9119397,
             4020531,
             6252100,
             5967017,
             7319516,
             6749777,
             6853664,
             4841944,
             9639148,
             5843768,
             7660425,
             5998513,
             3920099,
             6433797,
             5490099,
             6239932,
             7964756,
             6628574,
             5783161,
             2782352,
             6328448,
             4875638,
             3767279,
             3402275,
             5554444,
             4288047,
             4704504,
             5901477,
             3169533,
             5037281,
             3579371,
             5226975,
             2963078,
             4791804,
             5076466,
             3123969,
             5296610,
             3900158,
             6529472,
             6330205,
             4965370,
             3046226,
             4270615,
             4991332,
             2526916,
             3373301,
             3322361,
             4315989,
             3277443,
             3073806,
             3765798,
             3618174,
             5976962,
             3905406,
             2776599,
             8010460,
             1814572,
             1826768,
             4059788,
             3981141,
             3674565,
             3930290,
             5119254,
             3235166,
             4968161,
             3460936,
             4026435,
             3979354,
             3188159,
             5530868,
             2189471,
             3691521,
             5147674,
             3582214,
             1846492,
             3072218,
             4723770,
             1922597,
             2826155,
             3643528,
             2325614,
             5974781,
             3838244,
             4426412,
             6210512,
             2156853,
             3492243,
             1315188,
             2289095,
             3585680,
             2083501
            ],
            "sizemode": "area",
            "sizeref": 9270.937777777777,
            "symbol": "circle"
           },
           "mode": "markers",
           "name": "",
           "orientation": "v",
           "showlegend": false,
           "type": "scatter",
           "x": [
            8787898,
            9963200,
            11224359,
            7135241,
            4962521,
            8662228,
            6846085,
            9804071,
            6816811,
            9119397,
            4020531,
            6252100,
            5967017,
            7319516,
            6749777,
            6853664,
            4841944,
            9639148,
            5843768,
            7660425,
            5998513,
            3920099,
            6433797,
            5490099,
            6239932,
            7964756,
            6628574,
            5783161,
            2782352,
            6328448,
            4875638,
            3767279,
            3402275,
            5554444,
            4288047,
            4704504,
            5901477,
            3169533,
            5037281,
            3579371,
            5226975,
            2963078,
            4791804,
            5076466,
            3123969,
            5296610,
            3900158,
            6529472,
            6330205,
            4965370,
            3046226,
            4270615,
            4991332,
            2526916,
            3373301,
            3322361,
            4315989,
            3277443,
            3073806,
            3765798,
            3618174,
            5976962,
            3905406,
            2776599,
            8010460,
            1814572,
            1826768,
            4059788,
            3981141,
            3674565,
            3930290,
            5119254,
            3235166,
            4968161,
            3460936,
            4026435,
            3979354,
            3188159,
            5530868,
            2189471,
            3691521,
            5147674,
            3582214,
            1846492,
            3072218,
            4723770,
            1922597,
            2826155,
            3643528,
            2325614,
            5974781,
            3838244,
            4426412,
            6210512,
            2156853,
            3492243,
            1315188,
            2289095,
            3585680,
            2083501
           ],
           "xaxis": "x",
           "y": [
            77,
            50,
            49,
            48,
            47,
            46,
            45,
            44,
            44,
            44,
            44,
            44,
            43,
            42,
            42,
            41,
            40,
            39,
            39,
            37,
            36,
            36,
            35,
            34,
            34,
            34,
            34,
            33,
            32,
            32,
            31,
            31,
            30,
            29,
            29,
            28,
            28,
            28,
            28,
            27,
            27,
            27,
            27,
            27,
            27,
            27,
            27,
            27,
            26,
            26,
            26,
            26,
            26,
            25,
            25,
            25,
            25,
            25,
            24,
            24,
            24,
            24,
            24,
            23,
            23,
            23,
            23,
            23,
            22,
            22,
            22,
            22,
            22,
            22,
            22,
            22,
            21,
            21,
            21,
            21,
            21,
            20,
            20,
            20,
            20,
            20,
            20,
            20,
            20,
            20,
            20,
            20,
            20,
            19,
            19,
            19,
            19,
            19,
            19,
            18
           ],
           "yaxis": "y"
          }
         ],
         "name": "2020"
        },
        {
         "data": [
          {
           "customdata": [
            [
             "Lund"
            ],
            [
             "Yxngxr1"
            ],
            [
             "Chri$tian Gate$"
            ],
            [
             "convolk"
            ],
            [
             "AJ Tracey"
            ],
            [
             "Promoting Sounds"
            ],
            [
             "347aidan"
            ],
            [
             "Noah Carter"
            ],
            [
             "convolk"
            ],
            [
             "deadmau5"
            ],
            [
             "Mustard"
            ],
            [
             "Lil Peep"
            ],
            [
             "Vicetone"
            ],
            [
             "nothing,nowhere."
            ],
            [
             "Lil Peep"
            ],
            [
             "Lund"
            ],
            [
             "Kodak Black"
            ],
            [
             "Lil Peep"
            ],
            [
             "Memoria XI"
            ],
            [
             "Yung Pinch"
            ],
            [
             "Lane 8"
            ],
            [
             "Dave"
            ],
            [
             "A$AP Rocky"
            ],
            [
             "deadmau5"
            ],
            [
             "Aries"
            ],
            [
             "Promoting Sounds"
            ],
            [
             "JAY-Z"
            ],
            [
             "Camo & Krooked"
            ],
            [
             "Lund"
            ],
            [
             "Juice WRLD"
            ],
            [
             "Ukendt Kunstner"
            ],
            [
             "convolk"
            ],
            [
             "CLMD"
            ],
            [
             "Ryan Oakes"
            ],
            [
             "Machine Gun Kelly"
            ],
            [
             "Monseigner"
            ],
            [
             "The Naked And Famous"
            ],
            [
             "Lane 8"
            ],
            [
             "Pop Smoke"
            ],
            [
             "Stormzy"
            ],
            [
             "whiterosemoxie"
            ],
            [
             "Meek Mill"
            ],
            [
             "Matoma"
            ],
            [
             "Surf Curse"
            ],
            [
             "Aries"
            ],
            [
             "Pop Smoke"
            ],
            [
             "Lane 8"
            ],
            [
             "Promoting Sounds"
            ],
            [
             "The Killers"
            ],
            [
             "Papithbk"
            ],
            [
             "Gilli"
            ],
            [
             "Dree Low"
            ],
            [
             "David Guetta"
            ],
            [
             "CJ"
            ],
            [
             "nothing,nowhere."
            ],
            [
             "Kanye West"
            ],
            [
             "EKKSTACY"
            ],
            [
             "Ty Dolla $ign"
            ],
            [
             "diveliner"
            ],
            [
             "Matt and Kim"
            ],
            [
             "44phantom"
            ],
            [
             "Edwin Rosen"
            ],
            [
             "Lil Peep"
            ],
            [
             "Bad Boy Chiller Crew"
            ],
            [
             "Aries"
            ],
            [
             "Desiigner"
            ],
            [
             "The Kid LAROI"
            ],
            [
             "convolk"
            ],
            [
             "Josh A"
            ],
            [
             "Tyga"
            ],
            [
             "Kavinsky"
            ],
            [
             "G-Eazy"
            ],
            [
             "convolk"
            ],
            [
             "XXXTENTACION"
            ],
            [
             "Mac Miller"
            ],
            [
             "Memoria XI"
            ],
            [
             "deadmau5"
            ],
            [
             "Lane 8"
            ],
            [
             "Promoting Sounds"
            ],
            [
             "Josh A"
            ],
            [
             "Riton"
            ],
            [
             "M83"
            ],
            [
             "The Naked And Famous"
            ],
            [
             "Dax"
            ],
            [
             "carwash"
            ],
            [
             "Gilli"
            ],
            [
             "jaden"
            ],
            [
             "Justice"
            ],
            [
             "MGMT"
            ],
            [
             "Tyga"
            ],
            [
             "Nicki Minaj"
            ],
            [
             "G-Eazy"
            ],
            [
             "cøzybøy"
            ],
            [
             "Skinny Atlas"
            ],
            [
             "Cimón"
            ],
            [
             "Promoting Sounds"
            ],
            [
             "Night Lovell"
            ],
            [
             "Stonebank"
            ],
            [
             "Berner"
            ],
            [
             "Balken"
            ]
           ],
           "hovertemplate": "<b>%{hovertext}</b><br><br>endTime=2021<br>ms_played=%{marker.size}<br>count=%{y}<br>artistName=%{customdata[0]}<extra></extra>",
           "hovertext": [
            "Alone",
            "Tyler",
            "NUMB",
            "lonewolf",
            "Dinner Guest (feat. MoStack)",
            "Artificial Love",
            "MEMORIES!",
            "Come Alive",
            "i fucked up",
            "Moar Ghosts 'n' Stuff",
            "Pure Water (with Migos)",
            "Save That Shit",
            "Nevada",
            "lights (4444)",
            "Sex with My Ex",
            "Fiction",
            "ZEZE (feat. Travis Scott & Offset)",
            "Falling Down - Bonus Track",
            "Just Friends",
            "Why Would I Wait (feat. G-Eazy)",
            "Run",
            "Thiago Silva",
            "F**kin' Problems (feat. Drake, 2 Chainz & Kendrick Lamar)",
            "Ghosts 'n' Stuff",
            "DITTO",
            "Down For Real",
            "Ni**as In Paris",
            "Watch It Burn",
            "Broken",
            "Empty",
            "Fucking Nummer",
            "whatever it takes",
            "All My Friends",
            "Drinking About You",
            "Invincible",
            "Let You Go",
            "Young Blood",
            "The Rope (feat. POLIÇA)",
            "The Woo (feat. 50 Cent & Roddy Ricch)",
            "Shut Up",
            "Beeline",
            "Ima Boss (feat. Rick Ross)",
            "Old Thing Back (feat. Ja Rule and Ralph Tresvant)",
            "Freaks",
            "SANTA MONICA",
            "Dior - Bonus",
            "Road",
            "Memory",
            "Mr. Brightside",
            "Sad Nibba Hours",
            "Orale",
            "PIPPI",
            "Save My Life (feat. Lovespeake)",
            "Whoopty",
            "I'm Sorry, I'm Trying",
            "Gold Digger",
            "i walk this earth all by myself",
            "Saved (feat. E-40)",
            "basketball",
            "Daylight",
            "freak",
            "leichter//kälter",
            "yesterday",
            "450",
            "KIDS ON MOLLY",
            "Panda",
            "STAY (with Justin Bieber)",
            "all black fit",
            "PAINLESS",
            "Goddamn (feat. A Boogie wit da Hoodie)",
            "Nightcall",
            "Still Be Friends (feat. Tory Lanez & Tyga)",
            "just another day",
            "whoa (mind in awe)",
            "Donald Trump",
            "Patience",
            "Polaris",
            "Reviver",
            "Dead Eyes",
            "Endless Nightmare",
            "Friday (feat. Mufasa & Hypeman) - Dopamine Re-Edit",
            "Midnight City",
            "Punching In A Dream",
            "She Cheated Again",
            "striptease",
            "Knokler Hårdt",
            "smoke and mirrors",
            "Genesis",
            "Kids",
            "Taste (feat. Offset)",
            "Truffle Butter",
            "Calm Down",
            "i swear this søng is abøut eating øut my best friend's pussy",
            "you never meant it",
            "Final Destination",
            "I Hate That...",
            "Still Cold / Pathway Private",
            "Stronger",
            "20 Joints",
            "Another Day"
           ],
           "legendgroup": "",
           "marker": {
            "color": "#636efa",
            "size": [
             33375376,
             16691016,
             15468039,
             19820577,
             20410294,
             16921146,
             12936840,
             18386495,
             14477026,
             23686121,
             16612740,
             17323388,
             16155902,
             12813384,
             15772379,
             21967909,
             16876341,
             15536016,
             11394682,
             13105867,
             15649324,
             13458776,
             12501178,
             20994484,
             8962394,
             9382824,
             12005318,
             13874748,
             11796530,
             13751735,
             14114039,
             13920922,
             10548527,
             13610111,
             8340370,
             12084487,
             15546658,
             19755685,
             11389146,
             10240842,
             9953707,
             13024955,
             16404547,
             8289072,
             8074718,
             12440369,
             14473329,
             6478337,
             11839293,
             7309214,
             12891710,
             9356766,
             9692356,
             6311892,
             9555846,
             8196247,
             8487302,
             10095885,
             7442850,
             8132296,
             7721340,
             10439075,
             5738469,
             7435612,
             7829501,
             9477170,
             6097326,
             7274983,
             7083289,
             9402533,
             11823593,
             8511387,
             9845264,
             7132870,
             7564401,
             8187727,
             28028611,
             11172562,
             8266253,
             7477157,
             6092298,
             12333981,
             10655069,
             8120395,
             8092328,
             11241135,
             5845989,
             11437622,
             12859944,
             9958377,
             9454060,
             5181969,
             8907779,
             5086111,
             8084473,
             8080756,
             8760803,
             11247199,
             7162051,
             8218358
            ],
            "sizemode": "area",
            "sizeref": 9270.937777777777,
            "symbol": "circle"
           },
           "mode": "markers",
           "name": "",
           "orientation": "v",
           "showlegend": false,
           "type": "scatter",
           "x": [
            33375376,
            16691016,
            15468039,
            19820577,
            20410294,
            16921146,
            12936840,
            18386495,
            14477026,
            23686121,
            16612740,
            17323388,
            16155902,
            12813384,
            15772379,
            21967909,
            16876341,
            15536016,
            11394682,
            13105867,
            15649324,
            13458776,
            12501178,
            20994484,
            8962394,
            9382824,
            12005318,
            13874748,
            11796530,
            13751735,
            14114039,
            13920922,
            10548527,
            13610111,
            8340370,
            12084487,
            15546658,
            19755685,
            11389146,
            10240842,
            9953707,
            13024955,
            16404547,
            8289072,
            8074718,
            12440369,
            14473329,
            6478337,
            11839293,
            7309214,
            12891710,
            9356766,
            9692356,
            6311892,
            9555846,
            8196247,
            8487302,
            10095885,
            7442850,
            8132296,
            7721340,
            10439075,
            5738469,
            7435612,
            7829501,
            9477170,
            6097326,
            7274983,
            7083289,
            9402533,
            11823593,
            8511387,
            9845264,
            7132870,
            7564401,
            8187727,
            28028611,
            11172562,
            8266253,
            7477157,
            6092298,
            12333981,
            10655069,
            8120395,
            8092328,
            11241135,
            5845989,
            11437622,
            12859944,
            9958377,
            9454060,
            5181969,
            8907779,
            5086111,
            8084473,
            8080756,
            8760803,
            11247199,
            7162051,
            8218358
           ],
           "xaxis": "x",
           "y": [
            181,
            146,
            133,
            131,
            123,
            117,
            114,
            111,
            104,
            102,
            100,
            99,
            97,
            97,
            95,
            94,
            92,
            90,
            86,
            85,
            84,
            84,
            81,
            80,
            79,
            79,
            79,
            79,
            78,
            77,
            77,
            77,
            76,
            76,
            76,
            76,
            76,
            75,
            73,
            72,
            71,
            71,
            71,
            70,
            70,
            69,
            69,
            68,
            68,
            68,
            67,
            67,
            67,
            67,
            66,
            65,
            65,
            64,
            63,
            62,
            62,
            62,
            62,
            61,
            61,
            61,
            61,
            61,
            59,
            58,
            58,
            58,
            58,
            58,
            57,
            57,
            57,
            57,
            56,
            56,
            56,
            56,
            56,
            56,
            56,
            55,
            55,
            54,
            54,
            54,
            54,
            53,
            53,
            53,
            52,
            52,
            52,
            52,
            51,
            51
           ],
           "yaxis": "y"
          }
         ],
         "name": "2021"
        },
        {
         "data": [
          {
           "customdata": [
            [
             "Benedixhion"
            ],
            [
             "kiLLa Laharl"
            ],
            [
             "The Wavy Kid"
            ],
            [
             "Hikiray"
            ],
            [
             "Ollie"
            ],
            [
             "Lund"
            ],
            [
             "Aries"
            ],
            [
             "Justin Stone"
            ],
            [
             "TWO LANES"
            ],
            [
             "Moderat"
            ],
            [
             "Reti"
            ],
            [
             "DI$play"
            ],
            [
             "Ollie"
            ],
            [
             "LoveJSan"
            ],
            [
             "Noah 216"
            ],
            [
             "Nate Good"
            ],
            [
             "Killstation"
            ],
            [
             "LoveJSan"
            ],
            [
             "Justin Stone"
            ],
            [
             "Ollie"
            ],
            [
             "guardin"
            ],
            [
             "iamjakehill"
            ],
            [
             "Songer"
            ],
            [
             "Ollie"
            ],
            [
             "nothing,nowhere."
            ],
            [
             "Jbrisko"
            ],
            [
             "EMBRZ"
            ],
            [
             "Cold Hart"
            ],
            [
             "Sadzilla"
            ],
            [
             "MASN"
            ],
            [
             "Ouse"
            ],
            [
             "Benedixhion"
            ],
            [
             "re4se"
            ],
            [
             "Dave"
            ],
            [
             "Shallou"
            ],
            [
             "CORPSE"
            ],
            [
             "Lund"
            ],
            [
             "Memoria XI"
            ],
            [
             "Benedixhion"
            ],
            [
             "Tom Enzy"
            ],
            [
             "s0cliché"
            ],
            [
             "Chri$tian Gate$"
            ],
            [
             "Lund"
            ],
            [
             "Lil Xtra"
            ],
            [
             "ODESZA"
            ],
            [
             "TWO LANES"
            ],
            [
             "Skinny Atlas"
            ],
            [
             "Songer"
            ],
            [
             "EMBRZ"
            ],
            [
             "Ryan Oakes"
            ],
            [
             "Swedish House Mafia"
            ],
            [
             "EMBRZ"
            ],
            [
             "BURNS"
            ],
            [
             "Baby Keem"
            ],
            [
             "Ollie"
            ],
            [
             "Marmon"
            ],
            [
             "Lonely in the Rain"
            ],
            [
             "LoveJSan"
            ],
            [
             "Sultan + Shepard"
            ],
            [
             "Lund"
            ],
            [
             "Lil Xtra"
            ],
            [
             "Ethan Ross"
            ],
            [
             "sadeyes"
            ],
            [
             "Tritonal"
            ],
            [
             "Akros"
            ],
            [
             "Lil Peep"
            ],
            [
             "Pierce Fulton"
            ],
            [
             "IDK"
            ],
            [
             "EMBRZ"
            ],
            [
             "sadeyes"
            ],
            [
             "convolk"
            ],
            [
             "Fred again.."
            ],
            [
             "JAY-Z"
            ],
            [
             "Shallou"
            ],
            [
             "Lund"
            ],
            [
             "Memoria XI"
            ],
            [
             "RKCB"
            ],
            [
             "Moderat"
            ],
            [
             "22december"
            ],
            [
             "Ethan Ross"
            ],
            [
             "convolk"
            ],
            [
             "Lane 8"
            ],
            [
             "Lil Peep"
            ],
            [
             "NF"
            ],
            [
             "VIC MENSA"
            ],
            [
             "Lil Peep"
            ],
            [
             "Kado"
            ],
            [
             "Shady Moon"
            ],
            [
             "Gilli"
            ],
            [
             "Songer"
            ],
            [
             "AJ Tracey"
            ],
            [
             "Lund"
            ],
            [
             "Sultan + Shepard"
            ],
            [
             "lil aaron"
            ],
            [
             "Klur"
            ],
            [
             "Shallou"
            ],
            [
             "Arrested Youth"
            ],
            [
             "Kado"
            ],
            [
             "Moderat"
            ],
            [
             "G Smoove"
            ]
           ],
           "hovertemplate": "<b>%{hovertext}</b><br><br>endTime=2022<br>ms_played=%{marker.size}<br>count=%{y}<br>artistName=%{customdata[0]}<extra></extra>",
           "hovertext": [
            "toxin",
            "Phonk House '99",
            "Bad",
            "Sad Side",
            "Street Lights",
            "Alone",
            "ONE PUNCH",
            "MESS",
            "Another Time",
            "Therapy",
            "Splendor",
            "Baddie",
            "Feelings",
            "I Got You Flowers!",
            "ENOUGH",
            "Fast & Furious",
            "Sarcoma",
            "hello?",
            "Goldmine",
            "Need Someone",
            "ditch",
            "I Chose Violence",
            "Look At The Clouds",
            "Like I Do",
            "Sledgehammer",
            "Slo Mo",
            "Sound 4 U X Be Mine",
            "Thru the Screen",
            "THIRTIES",
            "Hate Me!",
            "You Make It Worse",
            "its2much",
            "Sadboi Anthem 2",
            "Thiago Silva",
            "count on",
            "HOT DEMON B!TCHES NEAR U ! ! !",
            "Issues",
            "Monte Carlo",
            "friendlist",
            "Ice & Cold",
            "Lotus",
            "NUMB",
            "Low",
            "Sober",
            "The Last Goodbye (feat. Bettye LaVette)",
            "Reflections",
            "you never meant it",
            "Carefree",
            "Don't Look Back",
            "HELLBOY",
            "Redlight",
            "Stay",
            "Talamanca",
            "16",
            "Affection",
            "COBAIN",
            "Stronger",
            "Who Cares?",
            "Assassin",
            "Fiction",
            "Forestdale",
            "SINISTER",
            "fast life",
            "Getaway - Koven Remix",
            "Innerlich sind wir stehen geblieben",
            "Kiss",
            "Kuaga (Lost Time) - Radio Edit",
            "ONCE UPON A TIME (FREESTYLE)",
            "Where You Are",
            "i'm not okay",
            "I fucked up",
            "Lights Out",
            "No Church In The Wild",
            "All Your Days",
            "Broken",
            "Just Friends",
            "Know Love - OTR Remix",
            "Rusty Nails",
            "chinatown!",
            "katana",
            "lonewolf",
            "Automatic",
            "Better Off (Dying)",
            "Hate Myself",
            "Reverse (feat. G-Eazy)",
            "Save That Shit",
            "Take It All",
            "Cherry Blossoms",
            "Knokler Hårdt",
            "All I Can Do",
            "Dinner Guest (feat. MoStack)",
            "Red Tide",
            "Skipping Stones",
            "Dark Matter",
            "Floating",
            "Heartaches",
            "Leave My Casket Open...",
            "Where You Went Wrong",
            "A New Error",
            "Blood Of An Angel"
           ],
           "legendgroup": "",
           "marker": {
            "color": "#636efa",
            "size": [
             13105078,
             8840519,
             9372564,
             6895276,
             15755526,
             9605128,
             7711602,
             6390202,
             12800514,
             16789295,
             4215443,
             6422459,
             8084126,
             5399348,
             3858217,
             8534673,
             6262716,
             5231564,
             5421940,
             7389238,
             4156573,
             5038800,
             8953316,
             4903471,
             6120721,
             6136767,
             7245622,
             7347365,
             4975552,
             4059176,
             4923225,
             5471282,
             4852043,
             7306620,
             8016988,
             3389795,
             7183664,
             5697643,
             6227640,
             6450445,
             4605542,
             6264134,
             6969930,
             5651222,
             11760615,
             7592314,
             2379180,
             3828849,
             6859233,
             4733692,
             7728138,
             8091981,
             5697399,
             4478293,
             5791815,
             4644193,
             5710314,
             4183357,
             9672572,
             7713652,
             4087533,
             3585364,
             3604054,
             6060083,
             4755617,
             7283075,
             5128705,
             4406428,
             6245159,
             3449351,
             4807231,
             8271754,
             7998778,
             6767938,
             2955243,
             4255578,
             5309941,
             8208529,
             3720759,
             3687556,
             5195080,
             6876292,
             3922388,
             4869261,
             4637367,
             5478165,
             4557836,
             2941572,
             6744325,
             4852686,
             5054152,
             4071226,
             5967416,
             3273894,
             6098458,
             5330608,
             3776549,
             2621546,
             8800883,
             3987480
            ],
            "sizemode": "area",
            "sizeref": 9270.937777777777,
            "symbol": "circle"
           },
           "mode": "markers",
           "name": "",
           "orientation": "v",
           "showlegend": false,
           "type": "scatter",
           "x": [
            13105078,
            8840519,
            9372564,
            6895276,
            15755526,
            9605128,
            7711602,
            6390202,
            12800514,
            16789295,
            4215443,
            6422459,
            8084126,
            5399348,
            3858217,
            8534673,
            6262716,
            5231564,
            5421940,
            7389238,
            4156573,
            5038800,
            8953316,
            4903471,
            6120721,
            6136767,
            7245622,
            7347365,
            4975552,
            4059176,
            4923225,
            5471282,
            4852043,
            7306620,
            8016988,
            3389795,
            7183664,
            5697643,
            6227640,
            6450445,
            4605542,
            6264134,
            6969930,
            5651222,
            11760615,
            7592314,
            2379180,
            3828849,
            6859233,
            4733692,
            7728138,
            8091981,
            5697399,
            4478293,
            5791815,
            4644193,
            5710314,
            4183357,
            9672572,
            7713652,
            4087533,
            3585364,
            3604054,
            6060083,
            4755617,
            7283075,
            5128705,
            4406428,
            6245159,
            3449351,
            4807231,
            8271754,
            7998778,
            6767938,
            2955243,
            4255578,
            5309941,
            8208529,
            3720759,
            3687556,
            5195080,
            6876292,
            3922388,
            4869261,
            4637367,
            5478165,
            4557836,
            2941572,
            6744325,
            4852686,
            5054152,
            4071226,
            5967416,
            3273894,
            6098458,
            5330608,
            3776549,
            2621546,
            8800883,
            3987480
           ],
           "xaxis": "x",
           "y": [
            111,
            91,
            90,
            83,
            77,
            75,
            64,
            61,
            60,
            58,
            55,
            53,
            53,
            53,
            51,
            51,
            51,
            51,
            49,
            49,
            49,
            47,
            47,
            46,
            46,
            46,
            46,
            46,
            45,
            44,
            44,
            44,
            43,
            43,
            43,
            42,
            42,
            42,
            42,
            41,
            41,
            41,
            40,
            40,
            40,
            39,
            39,
            38,
            38,
            38,
            38,
            38,
            38,
            37,
            37,
            37,
            37,
            37,
            36,
            36,
            36,
            36,
            36,
            35,
            35,
            35,
            35,
            35,
            35,
            35,
            34,
            34,
            34,
            33,
            33,
            33,
            33,
            33,
            33,
            33,
            33,
            32,
            32,
            32,
            32,
            32,
            32,
            31,
            31,
            30,
            30,
            30,
            30,
            29,
            29,
            29,
            29,
            29,
            28,
            28
           ],
           "yaxis": "y"
          }
         ],
         "name": "2022"
        }
       ],
       "layout": {
        "autosize": true,
        "legend": {
         "itemsizing": "constant",
         "tracegroupgap": 0
        },
        "margin": {
         "t": 60
        },
        "sliders": [
         {
          "active": 10,
          "currentvalue": {
           "prefix": "endTime="
          },
          "len": 0.9,
          "pad": {
           "b": 10,
           "t": 60
          },
          "steps": [
           {
            "args": [
             [
              "2010"
             ],
             {
              "frame": {
               "duration": 0,
               "redraw": false
              },
              "fromcurrent": true,
              "mode": "immediate",
              "transition": {
               "duration": 0,
               "easing": "linear"
              }
             }
            ],
            "label": "2010",
            "method": "animate"
           },
           {
            "args": [
             [
              "2011"
             ],
             {
              "frame": {
               "duration": 0,
               "redraw": false
              },
              "fromcurrent": true,
              "mode": "immediate",
              "transition": {
               "duration": 0,
               "easing": "linear"
              }
             }
            ],
            "label": "2011",
            "method": "animate"
           },
           {
            "args": [
             [
              "2012"
             ],
             {
              "frame": {
               "duration": 0,
               "redraw": false
              },
              "fromcurrent": true,
              "mode": "immediate",
              "transition": {
               "duration": 0,
               "easing": "linear"
              }
             }
            ],
            "label": "2012",
            "method": "animate"
           },
           {
            "args": [
             [
              "2013"
             ],
             {
              "frame": {
               "duration": 0,
               "redraw": false
              },
              "fromcurrent": true,
              "mode": "immediate",
              "transition": {
               "duration": 0,
               "easing": "linear"
              }
             }
            ],
            "label": "2013",
            "method": "animate"
           },
           {
            "args": [
             [
              "2014"
             ],
             {
              "frame": {
               "duration": 0,
               "redraw": false
              },
              "fromcurrent": true,
              "mode": "immediate",
              "transition": {
               "duration": 0,
               "easing": "linear"
              }
             }
            ],
            "label": "2014",
            "method": "animate"
           },
           {
            "args": [
             [
              "2015"
             ],
             {
              "frame": {
               "duration": 0,
               "redraw": false
              },
              "fromcurrent": true,
              "mode": "immediate",
              "transition": {
               "duration": 0,
               "easing": "linear"
              }
             }
            ],
            "label": "2015",
            "method": "animate"
           },
           {
            "args": [
             [
              "2016"
             ],
             {
              "frame": {
               "duration": 0,
               "redraw": false
              },
              "fromcurrent": true,
              "mode": "immediate",
              "transition": {
               "duration": 0,
               "easing": "linear"
              }
             }
            ],
            "label": "2016",
            "method": "animate"
           },
           {
            "args": [
             [
              "2017"
             ],
             {
              "frame": {
               "duration": 0,
               "redraw": false
              },
              "fromcurrent": true,
              "mode": "immediate",
              "transition": {
               "duration": 0,
               "easing": "linear"
              }
             }
            ],
            "label": "2017",
            "method": "animate"
           },
           {
            "args": [
             [
              "2018"
             ],
             {
              "frame": {
               "duration": 0,
               "redraw": false
              },
              "fromcurrent": true,
              "mode": "immediate",
              "transition": {
               "duration": 0,
               "easing": "linear"
              }
             }
            ],
            "label": "2018",
            "method": "animate"
           },
           {
            "args": [
             [
              "2019"
             ],
             {
              "frame": {
               "duration": 0,
               "redraw": false
              },
              "fromcurrent": true,
              "mode": "immediate",
              "transition": {
               "duration": 0,
               "easing": "linear"
              }
             }
            ],
            "label": "2019",
            "method": "animate"
           },
           {
            "args": [
             [
              "2020"
             ],
             {
              "frame": {
               "duration": 0,
               "redraw": false
              },
              "fromcurrent": true,
              "mode": "immediate",
              "transition": {
               "duration": 0,
               "easing": "linear"
              }
             }
            ],
            "label": "2020",
            "method": "animate"
           },
           {
            "args": [
             [
              "2021"
             ],
             {
              "frame": {
               "duration": 0,
               "redraw": false
              },
              "fromcurrent": true,
              "mode": "immediate",
              "transition": {
               "duration": 0,
               "easing": "linear"
              }
             }
            ],
            "label": "2021",
            "method": "animate"
           },
           {
            "args": [
             [
              "2022"
             ],
             {
              "frame": {
               "duration": 0,
               "redraw": false
              },
              "fromcurrent": true,
              "mode": "immediate",
              "transition": {
               "duration": 0,
               "easing": "linear"
              }
             }
            ],
            "label": "2022",
            "method": "animate"
           }
          ],
          "x": 0.1,
          "xanchor": "left",
          "y": 0,
          "yanchor": "top"
         }
        ],
        "template": {
         "data": {
          "bar": [
           {
            "error_x": {
             "color": "#2a3f5f"
            },
            "error_y": {
             "color": "#2a3f5f"
            },
            "marker": {
             "line": {
              "color": "#E5ECF6",
              "width": 0.5
             },
             "pattern": {
              "fillmode": "overlay",
              "size": 10,
              "solidity": 0.2
             }
            },
            "type": "bar"
           }
          ],
          "barpolar": [
           {
            "marker": {
             "line": {
              "color": "#E5ECF6",
              "width": 0.5
             },
             "pattern": {
              "fillmode": "overlay",
              "size": 10,
              "solidity": 0.2
             }
            },
            "type": "barpolar"
           }
          ],
          "carpet": [
           {
            "aaxis": {
             "endlinecolor": "#2a3f5f",
             "gridcolor": "white",
             "linecolor": "white",
             "minorgridcolor": "white",
             "startlinecolor": "#2a3f5f"
            },
            "baxis": {
             "endlinecolor": "#2a3f5f",
             "gridcolor": "white",
             "linecolor": "white",
             "minorgridcolor": "white",
             "startlinecolor": "#2a3f5f"
            },
            "type": "carpet"
           }
          ],
          "choropleth": [
           {
            "colorbar": {
             "outlinewidth": 0,
             "ticks": ""
            },
            "type": "choropleth"
           }
          ],
          "contour": [
           {
            "colorbar": {
             "outlinewidth": 0,
             "ticks": ""
            },
            "colorscale": [
             [
              0,
              "#0d0887"
             ],
             [
              0.1111111111111111,
              "#46039f"
             ],
             [
              0.2222222222222222,
              "#7201a8"
             ],
             [
              0.3333333333333333,
              "#9c179e"
             ],
             [
              0.4444444444444444,
              "#bd3786"
             ],
             [
              0.5555555555555556,
              "#d8576b"
             ],
             [
              0.6666666666666666,
              "#ed7953"
             ],
             [
              0.7777777777777778,
              "#fb9f3a"
             ],
             [
              0.8888888888888888,
              "#fdca26"
             ],
             [
              1,
              "#f0f921"
             ]
            ],
            "type": "contour"
           }
          ],
          "contourcarpet": [
           {
            "colorbar": {
             "outlinewidth": 0,
             "ticks": ""
            },
            "type": "contourcarpet"
           }
          ],
          "heatmap": [
           {
            "colorbar": {
             "outlinewidth": 0,
             "ticks": ""
            },
            "colorscale": [
             [
              0,
              "#0d0887"
             ],
             [
              0.1111111111111111,
              "#46039f"
             ],
             [
              0.2222222222222222,
              "#7201a8"
             ],
             [
              0.3333333333333333,
              "#9c179e"
             ],
             [
              0.4444444444444444,
              "#bd3786"
             ],
             [
              0.5555555555555556,
              "#d8576b"
             ],
             [
              0.6666666666666666,
              "#ed7953"
             ],
             [
              0.7777777777777778,
              "#fb9f3a"
             ],
             [
              0.8888888888888888,
              "#fdca26"
             ],
             [
              1,
              "#f0f921"
             ]
            ],
            "type": "heatmap"
           }
          ],
          "heatmapgl": [
           {
            "colorbar": {
             "outlinewidth": 0,
             "ticks": ""
            },
            "colorscale": [
             [
              0,
              "#0d0887"
             ],
             [
              0.1111111111111111,
              "#46039f"
             ],
             [
              0.2222222222222222,
              "#7201a8"
             ],
             [
              0.3333333333333333,
              "#9c179e"
             ],
             [
              0.4444444444444444,
              "#bd3786"
             ],
             [
              0.5555555555555556,
              "#d8576b"
             ],
             [
              0.6666666666666666,
              "#ed7953"
             ],
             [
              0.7777777777777778,
              "#fb9f3a"
             ],
             [
              0.8888888888888888,
              "#fdca26"
             ],
             [
              1,
              "#f0f921"
             ]
            ],
            "type": "heatmapgl"
           }
          ],
          "histogram": [
           {
            "marker": {
             "pattern": {
              "fillmode": "overlay",
              "size": 10,
              "solidity": 0.2
             }
            },
            "type": "histogram"
           }
          ],
          "histogram2d": [
           {
            "colorbar": {
             "outlinewidth": 0,
             "ticks": ""
            },
            "colorscale": [
             [
              0,
              "#0d0887"
             ],
             [
              0.1111111111111111,
              "#46039f"
             ],
             [
              0.2222222222222222,
              "#7201a8"
             ],
             [
              0.3333333333333333,
              "#9c179e"
             ],
             [
              0.4444444444444444,
              "#bd3786"
             ],
             [
              0.5555555555555556,
              "#d8576b"
             ],
             [
              0.6666666666666666,
              "#ed7953"
             ],
             [
              0.7777777777777778,
              "#fb9f3a"
             ],
             [
              0.8888888888888888,
              "#fdca26"
             ],
             [
              1,
              "#f0f921"
             ]
            ],
            "type": "histogram2d"
           }
          ],
          "histogram2dcontour": [
           {
            "colorbar": {
             "outlinewidth": 0,
             "ticks": ""
            },
            "colorscale": [
             [
              0,
              "#0d0887"
             ],
             [
              0.1111111111111111,
              "#46039f"
             ],
             [
              0.2222222222222222,
              "#7201a8"
             ],
             [
              0.3333333333333333,
              "#9c179e"
             ],
             [
              0.4444444444444444,
              "#bd3786"
             ],
             [
              0.5555555555555556,
              "#d8576b"
             ],
             [
              0.6666666666666666,
              "#ed7953"
             ],
             [
              0.7777777777777778,
              "#fb9f3a"
             ],
             [
              0.8888888888888888,
              "#fdca26"
             ],
             [
              1,
              "#f0f921"
             ]
            ],
            "type": "histogram2dcontour"
           }
          ],
          "mesh3d": [
           {
            "colorbar": {
             "outlinewidth": 0,
             "ticks": ""
            },
            "type": "mesh3d"
           }
          ],
          "parcoords": [
           {
            "line": {
             "colorbar": {
              "outlinewidth": 0,
              "ticks": ""
             }
            },
            "type": "parcoords"
           }
          ],
          "pie": [
           {
            "automargin": true,
            "type": "pie"
           }
          ],
          "scatter": [
           {
            "fillpattern": {
             "fillmode": "overlay",
             "size": 10,
             "solidity": 0.2
            },
            "type": "scatter"
           }
          ],
          "scatter3d": [
           {
            "line": {
             "colorbar": {
              "outlinewidth": 0,
              "ticks": ""
             }
            },
            "marker": {
             "colorbar": {
              "outlinewidth": 0,
              "ticks": ""
             }
            },
            "type": "scatter3d"
           }
          ],
          "scattercarpet": [
           {
            "marker": {
             "colorbar": {
              "outlinewidth": 0,
              "ticks": ""
             }
            },
            "type": "scattercarpet"
           }
          ],
          "scattergeo": [
           {
            "marker": {
             "colorbar": {
              "outlinewidth": 0,
              "ticks": ""
             }
            },
            "type": "scattergeo"
           }
          ],
          "scattergl": [
           {
            "marker": {
             "colorbar": {
              "outlinewidth": 0,
              "ticks": ""
             }
            },
            "type": "scattergl"
           }
          ],
          "scattermapbox": [
           {
            "marker": {
             "colorbar": {
              "outlinewidth": 0,
              "ticks": ""
             }
            },
            "type": "scattermapbox"
           }
          ],
          "scatterpolar": [
           {
            "marker": {
             "colorbar": {
              "outlinewidth": 0,
              "ticks": ""
             }
            },
            "type": "scatterpolar"
           }
          ],
          "scatterpolargl": [
           {
            "marker": {
             "colorbar": {
              "outlinewidth": 0,
              "ticks": ""
             }
            },
            "type": "scatterpolargl"
           }
          ],
          "scatterternary": [
           {
            "marker": {
             "colorbar": {
              "outlinewidth": 0,
              "ticks": ""
             }
            },
            "type": "scatterternary"
           }
          ],
          "surface": [
           {
            "colorbar": {
             "outlinewidth": 0,
             "ticks": ""
            },
            "colorscale": [
             [
              0,
              "#0d0887"
             ],
             [
              0.1111111111111111,
              "#46039f"
             ],
             [
              0.2222222222222222,
              "#7201a8"
             ],
             [
              0.3333333333333333,
              "#9c179e"
             ],
             [
              0.4444444444444444,
              "#bd3786"
             ],
             [
              0.5555555555555556,
              "#d8576b"
             ],
             [
              0.6666666666666666,
              "#ed7953"
             ],
             [
              0.7777777777777778,
              "#fb9f3a"
             ],
             [
              0.8888888888888888,
              "#fdca26"
             ],
             [
              1,
              "#f0f921"
             ]
            ],
            "type": "surface"
           }
          ],
          "table": [
           {
            "cells": {
             "fill": {
              "color": "#EBF0F8"
             },
             "line": {
              "color": "white"
             }
            },
            "header": {
             "fill": {
              "color": "#C8D4E3"
             },
             "line": {
              "color": "white"
             }
            },
            "type": "table"
           }
          ]
         },
         "layout": {
          "annotationdefaults": {
           "arrowcolor": "#2a3f5f",
           "arrowhead": 0,
           "arrowwidth": 1
          },
          "autotypenumbers": "strict",
          "coloraxis": {
           "colorbar": {
            "outlinewidth": 0,
            "ticks": ""
           }
          },
          "colorscale": {
           "diverging": [
            [
             0,
             "#8e0152"
            ],
            [
             0.1,
             "#c51b7d"
            ],
            [
             0.2,
             "#de77ae"
            ],
            [
             0.3,
             "#f1b6da"
            ],
            [
             0.4,
             "#fde0ef"
            ],
            [
             0.5,
             "#f7f7f7"
            ],
            [
             0.6,
             "#e6f5d0"
            ],
            [
             0.7,
             "#b8e186"
            ],
            [
             0.8,
             "#7fbc41"
            ],
            [
             0.9,
             "#4d9221"
            ],
            [
             1,
             "#276419"
            ]
           ],
           "sequential": [
            [
             0,
             "#0d0887"
            ],
            [
             0.1111111111111111,
             "#46039f"
            ],
            [
             0.2222222222222222,
             "#7201a8"
            ],
            [
             0.3333333333333333,
             "#9c179e"
            ],
            [
             0.4444444444444444,
             "#bd3786"
            ],
            [
             0.5555555555555556,
             "#d8576b"
            ],
            [
             0.6666666666666666,
             "#ed7953"
            ],
            [
             0.7777777777777778,
             "#fb9f3a"
            ],
            [
             0.8888888888888888,
             "#fdca26"
            ],
            [
             1,
             "#f0f921"
            ]
           ],
           "sequentialminus": [
            [
             0,
             "#0d0887"
            ],
            [
             0.1111111111111111,
             "#46039f"
            ],
            [
             0.2222222222222222,
             "#7201a8"
            ],
            [
             0.3333333333333333,
             "#9c179e"
            ],
            [
             0.4444444444444444,
             "#bd3786"
            ],
            [
             0.5555555555555556,
             "#d8576b"
            ],
            [
             0.6666666666666666,
             "#ed7953"
            ],
            [
             0.7777777777777778,
             "#fb9f3a"
            ],
            [
             0.8888888888888888,
             "#fdca26"
            ],
            [
             1,
             "#f0f921"
            ]
           ]
          },
          "colorway": [
           "#636efa",
           "#EF553B",
           "#00cc96",
           "#ab63fa",
           "#FFA15A",
           "#19d3f3",
           "#FF6692",
           "#B6E880",
           "#FF97FF",
           "#FECB52"
          ],
          "font": {
           "color": "#2a3f5f"
          },
          "geo": {
           "bgcolor": "white",
           "lakecolor": "white",
           "landcolor": "#E5ECF6",
           "showlakes": true,
           "showland": true,
           "subunitcolor": "white"
          },
          "hoverlabel": {
           "align": "left"
          },
          "hovermode": "closest",
          "mapbox": {
           "style": "light"
          },
          "paper_bgcolor": "white",
          "plot_bgcolor": "#E5ECF6",
          "polar": {
           "angularaxis": {
            "gridcolor": "white",
            "linecolor": "white",
            "ticks": ""
           },
           "bgcolor": "#E5ECF6",
           "radialaxis": {
            "gridcolor": "white",
            "linecolor": "white",
            "ticks": ""
           }
          },
          "scene": {
           "xaxis": {
            "backgroundcolor": "#E5ECF6",
            "gridcolor": "white",
            "gridwidth": 2,
            "linecolor": "white",
            "showbackground": true,
            "ticks": "",
            "zerolinecolor": "white"
           },
           "yaxis": {
            "backgroundcolor": "#E5ECF6",
            "gridcolor": "white",
            "gridwidth": 2,
            "linecolor": "white",
            "showbackground": true,
            "ticks": "",
            "zerolinecolor": "white"
           },
           "zaxis": {
            "backgroundcolor": "#E5ECF6",
            "gridcolor": "white",
            "gridwidth": 2,
            "linecolor": "white",
            "showbackground": true,
            "ticks": "",
            "zerolinecolor": "white"
           }
          },
          "shapedefaults": {
           "line": {
            "color": "#2a3f5f"
           }
          },
          "ternary": {
           "aaxis": {
            "gridcolor": "white",
            "linecolor": "white",
            "ticks": ""
           },
           "baxis": {
            "gridcolor": "white",
            "linecolor": "white",
            "ticks": ""
           },
           "bgcolor": "#E5ECF6",
           "caxis": {
            "gridcolor": "white",
            "linecolor": "white",
            "ticks": ""
           }
          },
          "title": {
           "x": 0.05
          },
          "xaxis": {
           "automargin": true,
           "gridcolor": "white",
           "linecolor": "white",
           "ticks": "",
           "title": {
            "standoff": 15
           },
           "zerolinecolor": "white",
           "zerolinewidth": 2
          },
          "yaxis": {
           "automargin": true,
           "gridcolor": "white",
           "linecolor": "white",
           "ticks": "",
           "title": {
            "standoff": 15
           },
           "zerolinecolor": "white",
           "zerolinewidth": 2
          }
         }
        },
        "updatemenus": [
         {
          "active": 1,
          "buttons": [
           {
            "args": [
             null,
             {
              "frame": {
               "duration": 500,
               "redraw": false
              },
              "fromcurrent": true,
              "mode": "immediate",
              "transition": {
               "duration": 500,
               "easing": "linear"
              }
             }
            ],
            "label": "&#9654;",
            "method": "animate"
           },
           {
            "args": [
             [
              null
             ],
             {
              "frame": {
               "duration": 0,
               "redraw": false
              },
              "fromcurrent": true,
              "mode": "immediate",
              "transition": {
               "duration": 0,
               "easing": "linear"
              }
             }
            ],
            "label": "&#9724;",
            "method": "animate"
           }
          ],
          "direction": "left",
          "pad": {
           "r": 10,
           "t": 70
          },
          "showactive": false,
          "type": "buttons",
          "x": 0.1,
          "xanchor": "right",
          "y": 0,
          "yanchor": "top"
         }
        ],
        "xaxis": {
         "anchor": "y",
         "domain": [
          0,
          1
         ],
         "range": [
          4,
          7.3979400086720375
         ],
         "title": {
          "text": "ms_played"
         },
         "type": "log"
        },
        "yaxis": {
         "anchor": "x",
         "domain": [
          0,
          1
         ],
         "range": [
          0,
          200
         ],
         "title": {
          "text": "count"
         },
         "type": "linear"
        }
       }
      },
      "image/png": "[encoded data removed]",
      "text/html": [
       "<div>                            <div id=\"4f46cacd-ce77-41d5-a9ab-f8d82336c980\" class=\"plotly-graph-div\" style=\"height:525px; width:100%;\"></div>            <script type=\"text/javascript\">                require([\"plotly\"], function(Plotly) {                    window.PLOTLYENV=window.PLOTLYENV || {};                                    if (document.getElementById(\"4f46cacd-ce77-41d5-a9ab-f8d82336c980\")) {                    Plotly.newPlot(                        \"4f46cacd-ce77-41d5-a9ab-f8d82336c980\",                        [{\"customdata\":[[\"David Guetta\"],[\"Flo Rida\"],[\"Die Atzen\"],[\"Drake\"],[\"Rihanna\"],[\"Kato\"],[\"Chris Decay\"],[\"Young Money\"],[\"Shakira\"],[\"David Guetta\"],[\"Bruno Mars\"],[\"Paramore\"],[\"Yolanda Be Cool\"],[\"A. Lee\"],[\"Ti\\u00ebsto\"],[\"Karen\"],[\"B.o.B\"],[\"Justin Timberlake\"],[\"Katy Perry\"],[\"Bruno Mars\"],[\"Black Sabbath\"],[\"Tim Berg\"],[\"Akon\"],[\"Oli Chang\"],[\"MORTEN\"],[\"Swedish House Mafia\"],[\"Dance DJ & Company\"],[\"Linkin Park\"],[\"Paramore\"],[\"Chamillionaire\"],[\"Milow\"],[\"Eminem\"],[\"Nelly\"],[\"September\"],[\"Chiddy Bang\"],[\"Jason Derulo\"],[\"Iyaz\"],[\"Black Eyed Peas\"],[\"Tinie Tempah\"],[\"Kevin\"],[\"Green Day\"],[\"Vanessa Carlton\"],[\"Lady Gaga\"],[\"Eminem\"],[\"Travie McCoy\"],[\"Nik & Jay\"],[\"Lazee\"],[\"Justin Bieber\"],[\"Tom Mountain Feat. Nicco\"],[\"Storm Weather Shanty Choir\"],[\"Space Cowboy\"],[\"Remady\"],[\"Sean Banan\"],[\"Pitbull\"],[\"Nickelback\"],[\"Timbaland\"],[\"Paramore\"],[\"McFly\"],[\"Eminem\"],[\"David Guetta\"],[\"Justin Bieber\"],[\"Eminem\"],[\"Mark Ronson\"],[\"Nephew\"],[\"Nickelback\"],[\"Shakira\"],[\"Nephew\"],[\"Dr. Dre\"],[\"Disturbed\"],[\"Baby Bash\"],[\"Rihanna\"],[\"CS\"],[\"Nephew\"],[\"Danger\"],[\"Amerie\"],[\"Snoop Dogg\"],[\"Phoenix\"],[\"2Pac\"],[\"Jay Sean\"],[\"50 Cent\"],[\"Eminem\"],[\"Medina\"],[\"R.I.O.\"],[\"Van Halen\"],[\"Airbeat One Project\"],[\"B.o.B\"],[\"Nelly Furtado\"],[\"DJ Khaled\"],[\"Sleep Station\"],[\"Timbuktu\"],[\"Rolf Just Nilsen\"],[\"Estelle\"],[\"Basshunter\"],[\"Justin Bieber\"],[\"Ella Fitzgerald and Louis Jordan\"],[\"Volbeat\"],[\"Jace Everett\"],[\"Bamse & Kylling\"],[\"Jordin Sparks\"],[\"JLS\"]],\"hovertemplate\":\"<b>%{hovertext}</b><br><br>endTime=2010<br>ms_played=%{marker.size}<br>count=%{y}<br>artistName=%{customdata[0]}<extra></extra>\",\"hovertext\":[\"Who's That Chick ? (feat. Rihanna) - Single Version\",\"Club Can't Handle Me (feat. David Guetta) - From the Step Up 3D Soundtrack\",\"Disco Pogo - Atzen Musik Mix\",\"Find Your Love\",\"S&M\",\"Desert Walk (feat. Outlandish) - Radio Edit\",\"Hold Tight - Tim Verba Radio Edit\",\"BedRock\",\"Loca (Featuring Dizzee Rascal)\",\"Love Is Gone - Fred Riester & Joachim Garraud Radio Edit Remix\",\"Grenade\",\"Misery Business - Acoustic Version\",\"We No Speak Americano - Radio Edit\",\"Gotta Let Go - Radio Mix\",\"Escape Me\",\"Har det hele (feat Karen & Jooks)\",\"Magic - feat. Rivers Cuomo\",\"What Goes Around...Comes Around - Radio Edit\",\"Firework\",\"Just The Way You Are\",\"Changes\",\"Seek Bromance - Avicii Vocal Edit\",\"Angel\",\"Chicken Techno\",\"Fest (feat. Nik & Jay) - Original\",\"Miami 2 Ibiza - Swedish House Mafia vs. Tinie Tempah\",\"Wearing My Rolex (Dance)\",\"Blackout\",\"Misery Business\",\"Good Morning\",\"Ayo Technology\",\"Going Through Changes\",\"Just A Dream - Main\",\"Mikrofonk\\u00e5t\",\"Opposite of Adults\",\"Ridin' Solo\",\"Solo\",\"The Time (Dirty Bit)\",\"Written in the Stars (feat. Eric Turner)\",\"100 Aar\",\"21 Guns\",\"A Thousand Miles\",\"Alejandro\",\"Beautiful\",\"Billionaire (feat. Bruno Mars)\",\"Boing!\",\"Calling Out (feat. Apollo Drive)\",\"Common Denominator - iTunes Bonus\",\"Dance Hall Track - California Row Edit\",\"Drunken Sailor\",\"Falling Down - Featuring Chelsea From The Paradiso Girls\",\"Give Me A Sign - Radio Edit\",\"Gott nytt jul\",\"Hey Baby (Drop It to the Floor) (feat. T-Pain)\",\"If Today Was Your Last Day\",\"If We Ever Meet Again (Featuring Katy Perry)\",\"Ignorance\",\"Lies\",\"Lose Yourself - Soundtrack Version\",\"Love Is Gone\",\"Love Me\",\"Not Afraid\",\"Ooh Wee (feat. Ghostface Killah, Nate Dogg, Trife & Saigon)\",\"Police Bells & Church Sirens\",\"Rockstar\",\"She Wolf\",\"Sov for Satan Mand\",\"Still D.R.E.\",\"Stupify\",\"Suga Suga\",\"What's My Name?\",\"World So Cold\",\"007 Is Also Gonna Die\",\"00:01\",\"1 Thing\",\"187 Ulm\",\"1901\",\"2 Of Amerikaz Most Wanted - (Explicit)\",\"2012 (It Ain't The End)\",\"21 Questions\",\"25 To Life\",\"Addiction - Radio Edit\",\"After The Love - Radio Edit\",\"Ain't Talkin' 'Bout Love - 2004 Remaster\",\"Airbeat One 2006 - Single Version\",\"Airplanes, Part II [feat Eminem & Hayley Williams of Paramore]\",\"All Good Things (Come To An End)\",\"All I Do Is Win - Feat. T-Pain, Ludacris, Snoop Dogg & Rick Ross\",\"All That Remains\",\"Alla Vill Till Himmelen Men Ingen Vill D\\u00f6\",\"Alle Fugler\",\"American Boy (feat. Kanye West)\",\"Angel in the Night - Radio Edit\",\"Baby\",\"Baby, It's Cold Outside\",\"Back To Prom\",\"Bad Things - Soundtrack Version\",\"Bamse og Kylling\",\"Battlefield\",\"Beat Again - Digital Dog Remix\"],\"legendgroup\":\"\",\"marker\":{\"color\":\"#636efa\",\"size\":[6488119,5417380,5842941,4226113,5610296,4320074,1891988,3415731,1668534,1582699,2324635,60529,618726,1344895,430326,1251926,2143438,891129,1823814,1478774,145160,1385451,494856,416077,267321,459517,727352,627192,205779,233665,73820,5500,30410,42072,582066,282940,580950,58512,61619,14120,40150,7354,3150,71799,26867,187892,3482,15633,209175,23062,65796,12652,43374,5230,15364,310,92037,424199,17899,244184,382284,19470,68673,115952,26885,190770,13770,20809,1982,6742,298433,23561,22870,11551,26641,3670,18420,109701,0,22593,951,12181,5862,1792,40422,10209,2383,156220,6130,11167,11726,626,9150,216081,6531,3530,6456,2320,38602,3467],\"sizemode\":\"area\",\"sizeref\":9270.937777777777,\"symbol\":\"circle\"},\"mode\":\"markers\",\"name\":\"\",\"orientation\":\"v\",\"showlegend\":false,\"x\":[6488119,5417380,5842941,4226113,5610296,4320074,1891988,3415731,1668534,1582699,2324635,60529,618726,1344895,430326,1251926,2143438,891129,1823814,1478774,145160,1385451,494856,416077,267321,459517,727352,627192,205779,233665,73820,5500,30410,42072,582066,282940,580950,58512,61619,14120,40150,7354,3150,71799,26867,187892,3482,15633,209175,23062,65796,12652,43374,5230,15364,310,92037,424199,17899,244184,382284,19470,68673,115952,26885,190770,13770,20809,1982,6742,298433,23561,22870,11551,26641,3670,18420,109701,0,22593,951,12181,5862,1792,40422,10209,2383,156220,6130,11167,11726,626,9150,216081,6531,3530,6456,2320,38602,3467],\"xaxis\":\"x\",\"y\":[64,35,32,30,29,24,20,19,15,15,14,13,13,12,11,11,11,11,10,10,9,9,8,8,7,6,6,5,5,4,3,3,3,3,3,3,3,3,3,2,2,2,2,2,2,2,2,2,2,2,2,2,2,2,2,2,2,2,2,2,2,2,2,2,2,2,2,2,2,2,2,2,1,1,1,1,1,1,1,1,1,1,1,1,1,1,1,1,1,1,1,1,1,1,1,1,1,1,1,1],\"yaxis\":\"y\",\"type\":\"scatter\"}],                        {\"template\":{\"data\":{\"histogram2dcontour\":[{\"type\":\"histogram2dcontour\",\"colorbar\":{\"outlinewidth\":0,\"ticks\":\"\"},\"colorscale\":[[0.0,\"#0d0887\"],[0.1111111111111111,\"#46039f\"],[0.2222222222222222,\"#7201a8\"],[0.3333333333333333,\"#9c179e\"],[0.4444444444444444,\"#bd3786\"],[0.5555555555555556,\"#d8576b\"],[0.6666666666666666,\"#ed7953\"],[0.7777777777777778,\"#fb9f3a\"],[0.8888888888888888,\"#fdca26\"],[1.0,\"#f0f921\"]]}],\"choropleth\":[{\"type\":\"choropleth\",\"colorbar\":{\"outlinewidth\":0,\"ticks\":\"\"}}],\"histogram2d\":[{\"type\":\"histogram2d\",\"colorbar\":{\"outlinewidth\":0,\"ticks\":\"\"},\"colorscale\":[[0.0,\"#0d0887\"],[0.1111111111111111,\"#46039f\"],[0.2222222222222222,\"#7201a8\"],[0.3333333333333333,\"#9c179e\"],[0.4444444444444444,\"#bd3786\"],[0.5555555555555556,\"#d8576b\"],[0.6666666666666666,\"#ed7953\"],[0.7777777777777778,\"#fb9f3a\"],[0.8888888888888888,\"#fdca26\"],[1.0,\"#f0f921\"]]}],\"heatmap\":[{\"type\":\"heatmap\",\"colorbar\":{\"outlinewidth\":0,\"ticks\":\"\"},\"colorscale\":[[0.0,\"#0d0887\"],[0.1111111111111111,\"#46039f\"],[0.2222222222222222,\"#7201a8\"],[0.3333333333333333,\"#9c179e\"],[0.4444444444444444,\"#bd3786\"],[0.5555555555555556,\"#d8576b\"],[0.6666666666666666,\"#ed7953\"],[0.7777777777777778,\"#fb9f3a\"],[0.8888888888888888,\"#fdca26\"],[1.0,\"#f0f921\"]]}],\"heatmapgl\":[{\"type\":\"heatmapgl\",\"colorbar\":{\"outlinewidth\":0,\"ticks\":\"\"},\"colorscale\":[[0.0,\"#0d0887\"],[0.1111111111111111,\"#46039f\"],[0.2222222222222222,\"#7201a8\"],[0.3333333333333333,\"#9c179e\"],[0.4444444444444444,\"#bd3786\"],[0.5555555555555556,\"#d8576b\"],[0.6666666666666666,\"#ed7953\"],[0.7777777777777778,\"#fb9f3a\"],[0.8888888888888888,\"#fdca26\"],[1.0,\"#f0f921\"]]}],\"contourcarpet\":[{\"type\":\"contourcarpet\",\"colorbar\":{\"outlinewidth\":0,\"ticks\":\"\"}}],\"contour\":[{\"type\":\"contour\",\"colorbar\":{\"outlinewidth\":0,\"ticks\":\"\"},\"colorscale\":[[0.0,\"#0d0887\"],[0.1111111111111111,\"#46039f\"],[0.2222222222222222,\"#7201a8\"],[0.3333333333333333,\"#9c179e\"],[0.4444444444444444,\"#bd3786\"],[0.5555555555555556,\"#d8576b\"],[0.6666666666666666,\"#ed7953\"],[0.7777777777777778,\"#fb9f3a\"],[0.8888888888888888,\"#fdca26\"],[1.0,\"#f0f921\"]]}],\"surface\":[{\"type\":\"surface\",\"colorbar\":{\"outlinewidth\":0,\"ticks\":\"\"},\"colorscale\":[[0.0,\"#0d0887\"],[0.1111111111111111,\"#46039f\"],[0.2222222222222222,\"#7201a8\"],[0.3333333333333333,\"#9c179e\"],[0.4444444444444444,\"#bd3786\"],[0.5555555555555556,\"#d8576b\"],[0.6666666666666666,\"#ed7953\"],[0.7777777777777778,\"#fb9f3a\"],[0.8888888888888888,\"#fdca26\"],[1.0,\"#f0f921\"]]}],\"mesh3d\":[{\"type\":\"mesh3d\",\"colorbar\":{\"outlinewidth\":0,\"ticks\":\"\"}}],\"scatter\":[{\"fillpattern\":{\"fillmode\":\"overlay\",\"size\":10,\"solidity\":0.2},\"type\":\"scatter\"}],\"parcoords\":[{\"type\":\"parcoords\",\"line\":{\"colorbar\":{\"outlinewidth\":0,\"ticks\":\"\"}}}],\"scatterpolargl\":[{\"type\":\"scatterpolargl\",\"marker\":{\"colorbar\":{\"outlinewidth\":0,\"ticks\":\"\"}}}],\"bar\":[{\"error_x\":{\"color\":\"#2a3f5f\"},\"error_y\":{\"color\":\"#2a3f5f\"},\"marker\":{\"line\":{\"color\":\"#E5ECF6\",\"width\":0.5},\"pattern\":{\"fillmode\":\"overlay\",\"size\":10,\"solidity\":0.2}},\"type\":\"bar\"}],\"scattergeo\":[{\"type\":\"scattergeo\",\"marker\":{\"colorbar\":{\"outlinewidth\":0,\"ticks\":\"\"}}}],\"scatterpolar\":[{\"type\":\"scatterpolar\",\"marker\":{\"colorbar\":{\"outlinewidth\":0,\"ticks\":\"\"}}}],\"histogram\":[{\"marker\":{\"pattern\":{\"fillmode\":\"overlay\",\"size\":10,\"solidity\":0.2}},\"type\":\"histogram\"}],\"scattergl\":[{\"type\":\"scattergl\",\"marker\":{\"colorbar\":{\"outlinewidth\":0,\"ticks\":\"\"}}}],\"scatter3d\":[{\"type\":\"scatter3d\",\"line\":{\"colorbar\":{\"outlinewidth\":0,\"ticks\":\"\"}},\"marker\":{\"colorbar\":{\"outlinewidth\":0,\"ticks\":\"\"}}}],\"scattermapbox\":[{\"type\":\"scattermapbox\",\"marker\":{\"colorbar\":{\"outlinewidth\":0,\"ticks\":\"\"}}}],\"scatterternary\":[{\"type\":\"scatterternary\",\"marker\":{\"colorbar\":{\"outlinewidth\":0,\"ticks\":\"\"}}}],\"scattercarpet\":[{\"type\":\"scattercarpet\",\"marker\":{\"colorbar\":{\"outlinewidth\":0,\"ticks\":\"\"}}}],\"carpet\":[{\"aaxis\":{\"endlinecolor\":\"#2a3f5f\",\"gridcolor\":\"white\",\"linecolor\":\"white\",\"minorgridcolor\":\"white\",\"startlinecolor\":\"#2a3f5f\"},\"baxis\":{\"endlinecolor\":\"#2a3f5f\",\"gridcolor\":\"white\",\"linecolor\":\"white\",\"minorgridcolor\":\"white\",\"startlinecolor\":\"#2a3f5f\"},\"type\":\"carpet\"}],\"table\":[{\"cells\":{\"fill\":{\"color\":\"#EBF0F8\"},\"line\":{\"color\":\"white\"}},\"header\":{\"fill\":{\"color\":\"#C8D4E3\"},\"line\":{\"color\":\"white\"}},\"type\":\"table\"}],\"barpolar\":[{\"marker\":{\"line\":{\"color\":\"#E5ECF6\",\"width\":0.5},\"pattern\":{\"fillmode\":\"overlay\",\"size\":10,\"solidity\":0.2}},\"type\":\"barpolar\"}],\"pie\":[{\"automargin\":true,\"type\":\"pie\"}]},\"layout\":{\"autotypenumbers\":\"strict\",\"colorway\":[\"#636efa\",\"#EF553B\",\"#00cc96\",\"#ab63fa\",\"#FFA15A\",\"#19d3f3\",\"#FF6692\",\"#B6E880\",\"#FF97FF\",\"#FECB52\"],\"font\":{\"color\":\"#2a3f5f\"},\"hovermode\":\"closest\",\"hoverlabel\":{\"align\":\"left\"},\"paper_bgcolor\":\"white\",\"plot_bgcolor\":\"#E5ECF6\",\"polar\":{\"bgcolor\":\"#E5ECF6\",\"angularaxis\":{\"gridcolor\":\"white\",\"linecolor\":\"white\",\"ticks\":\"\"},\"radialaxis\":{\"gridcolor\":\"white\",\"linecolor\":\"white\",\"ticks\":\"\"}},\"ternary\":{\"bgcolor\":\"#E5ECF6\",\"aaxis\":{\"gridcolor\":\"white\",\"linecolor\":\"white\",\"ticks\":\"\"},\"baxis\":{\"gridcolor\":\"white\",\"linecolor\":\"white\",\"ticks\":\"\"},\"caxis\":{\"gridcolor\":\"white\",\"linecolor\":\"white\",\"ticks\":\"\"}},\"coloraxis\":{\"colorbar\":{\"outlinewidth\":0,\"ticks\":\"\"}},\"colorscale\":{\"sequential\":[[0.0,\"#0d0887\"],[0.1111111111111111,\"#46039f\"],[0.2222222222222222,\"#7201a8\"],[0.3333333333333333,\"#9c179e\"],[0.4444444444444444,\"#bd3786\"],[0.5555555555555556,\"#d8576b\"],[0.6666666666666666,\"#ed7953\"],[0.7777777777777778,\"#fb9f3a\"],[0.8888888888888888,\"#fdca26\"],[1.0,\"#f0f921\"]],\"sequentialminus\":[[0.0,\"#0d0887\"],[0.1111111111111111,\"#46039f\"],[0.2222222222222222,\"#7201a8\"],[0.3333333333333333,\"#9c179e\"],[0.4444444444444444,\"#bd3786\"],[0.5555555555555556,\"#d8576b\"],[0.6666666666666666,\"#ed7953\"],[0.7777777777777778,\"#fb9f3a\"],[0.8888888888888888,\"#fdca26\"],[1.0,\"#f0f921\"]],\"diverging\":[[0,\"#8e0152\"],[0.1,\"#c51b7d\"],[0.2,\"#de77ae\"],[0.3,\"#f1b6da\"],[0.4,\"#fde0ef\"],[0.5,\"#f7f7f7\"],[0.6,\"#e6f5d0\"],[0.7,\"#b8e186\"],[0.8,\"#7fbc41\"],[0.9,\"#4d9221\"],[1,\"#276419\"]]},\"xaxis\":{\"gridcolor\":\"white\",\"linecolor\":\"white\",\"ticks\":\"\",\"title\":{\"standoff\":15},\"zerolinecolor\":\"white\",\"automargin\":true,\"zerolinewidth\":2},\"yaxis\":{\"gridcolor\":\"white\",\"linecolor\":\"white\",\"ticks\":\"\",\"title\":{\"standoff\":15},\"zerolinecolor\":\"white\",\"automargin\":true,\"zerolinewidth\":2},\"scene\":{\"xaxis\":{\"backgroundcolor\":\"#E5ECF6\",\"gridcolor\":\"white\",\"linecolor\":\"white\",\"showbackground\":true,\"ticks\":\"\",\"zerolinecolor\":\"white\",\"gridwidth\":2},\"yaxis\":{\"backgroundcolor\":\"#E5ECF6\",\"gridcolor\":\"white\",\"linecolor\":\"white\",\"showbackground\":true,\"ticks\":\"\",\"zerolinecolor\":\"white\",\"gridwidth\":2},\"zaxis\":{\"backgroundcolor\":\"#E5ECF6\",\"gridcolor\":\"white\",\"linecolor\":\"white\",\"showbackground\":true,\"ticks\":\"\",\"zerolinecolor\":\"white\",\"gridwidth\":2}},\"shapedefaults\":{\"line\":{\"color\":\"#2a3f5f\"}},\"annotationdefaults\":{\"arrowcolor\":\"#2a3f5f\",\"arrowhead\":0,\"arrowwidth\":1},\"geo\":{\"bgcolor\":\"white\",\"landcolor\":\"#E5ECF6\",\"subunitcolor\":\"white\",\"showland\":true,\"showlakes\":true,\"lakecolor\":\"white\"},\"title\":{\"x\":0.05},\"mapbox\":{\"style\":\"light\"}}},\"xaxis\":{\"anchor\":\"y\",\"domain\":[0.0,1.0],\"title\":{\"text\":\"ms_played\"},\"type\":\"log\",\"range\":[4.0,7.3979400086720375]},\"yaxis\":{\"anchor\":\"x\",\"domain\":[0.0,1.0],\"title\":{\"text\":\"count\"},\"range\":[0,200]},\"legend\":{\"tracegroupgap\":0,\"itemsizing\":\"constant\"},\"margin\":{\"t\":60},\"updatemenus\":[{\"buttons\":[{\"args\":[null,{\"frame\":{\"duration\":500,\"redraw\":false},\"mode\":\"immediate\",\"fromcurrent\":true,\"transition\":{\"duration\":500,\"easing\":\"linear\"}}],\"label\":\"&#9654;\",\"method\":\"animate\"},{\"args\":[[null],{\"frame\":{\"duration\":0,\"redraw\":false},\"mode\":\"immediate\",\"fromcurrent\":true,\"transition\":{\"duration\":0,\"easing\":\"linear\"}}],\"label\":\"&#9724;\",\"method\":\"animate\"}],\"direction\":\"left\",\"pad\":{\"r\":10,\"t\":70},\"showactive\":false,\"type\":\"buttons\",\"x\":0.1,\"xanchor\":\"right\",\"y\":0,\"yanchor\":\"top\"}],\"sliders\":[{\"active\":0,\"currentvalue\":{\"prefix\":\"endTime=\"},\"len\":0.9,\"pad\":{\"b\":10,\"t\":60},\"steps\":[{\"args\":[[\"2010\"],{\"frame\":{\"duration\":0,\"redraw\":false},\"mode\":\"immediate\",\"fromcurrent\":true,\"transition\":{\"duration\":0,\"easing\":\"linear\"}}],\"label\":\"2010\",\"method\":\"animate\"},{\"args\":[[\"2011\"],{\"frame\":{\"duration\":0,\"redraw\":false},\"mode\":\"immediate\",\"fromcurrent\":true,\"transition\":{\"duration\":0,\"easing\":\"linear\"}}],\"label\":\"2011\",\"method\":\"animate\"},{\"args\":[[\"2012\"],{\"frame\":{\"duration\":0,\"redraw\":false},\"mode\":\"immediate\",\"fromcurrent\":true,\"transition\":{\"duration\":0,\"easing\":\"linear\"}}],\"label\":\"2012\",\"method\":\"animate\"},{\"args\":[[\"2013\"],{\"frame\":{\"duration\":0,\"redraw\":false},\"mode\":\"immediate\",\"fromcurrent\":true,\"transition\":{\"duration\":0,\"easing\":\"linear\"}}],\"label\":\"2013\",\"method\":\"animate\"},{\"args\":[[\"2014\"],{\"frame\":{\"duration\":0,\"redraw\":false},\"mode\":\"immediate\",\"fromcurrent\":true,\"transition\":{\"duration\":0,\"easing\":\"linear\"}}],\"label\":\"2014\",\"method\":\"animate\"},{\"args\":[[\"2015\"],{\"frame\":{\"duration\":0,\"redraw\":false},\"mode\":\"immediate\",\"fromcurrent\":true,\"transition\":{\"duration\":0,\"easing\":\"linear\"}}],\"label\":\"2015\",\"method\":\"animate\"},{\"args\":[[\"2016\"],{\"frame\":{\"duration\":0,\"redraw\":false},\"mode\":\"immediate\",\"fromcurrent\":true,\"transition\":{\"duration\":0,\"easing\":\"linear\"}}],\"label\":\"2016\",\"method\":\"animate\"},{\"args\":[[\"2017\"],{\"frame\":{\"duration\":0,\"redraw\":false},\"mode\":\"immediate\",\"fromcurrent\":true,\"transition\":{\"duration\":0,\"easing\":\"linear\"}}],\"label\":\"2017\",\"method\":\"animate\"},{\"args\":[[\"2018\"],{\"frame\":{\"duration\":0,\"redraw\":false},\"mode\":\"immediate\",\"fromcurrent\":true,\"transition\":{\"duration\":0,\"easing\":\"linear\"}}],\"label\":\"2018\",\"method\":\"animate\"},{\"args\":[[\"2019\"],{\"frame\":{\"duration\":0,\"redraw\":false},\"mode\":\"immediate\",\"fromcurrent\":true,\"transition\":{\"duration\":0,\"easing\":\"linear\"}}],\"label\":\"2019\",\"method\":\"animate\"},{\"args\":[[\"2020\"],{\"frame\":{\"duration\":0,\"redraw\":false},\"mode\":\"immediate\",\"fromcurrent\":true,\"transition\":{\"duration\":0,\"easing\":\"linear\"}}],\"label\":\"2020\",\"method\":\"animate\"},{\"args\":[[\"2021\"],{\"frame\":{\"duration\":0,\"redraw\":false},\"mode\":\"immediate\",\"fromcurrent\":true,\"transition\":{\"duration\":0,\"easing\":\"linear\"}}],\"label\":\"2021\",\"method\":\"animate\"},{\"args\":[[\"2022\"],{\"frame\":{\"duration\":0,\"redraw\":false},\"mode\":\"immediate\",\"fromcurrent\":true,\"transition\":{\"duration\":0,\"easing\":\"linear\"}}],\"label\":\"2022\",\"method\":\"animate\"}],\"x\":0.1,\"xanchor\":\"left\",\"y\":0,\"yanchor\":\"top\"}]},                        {\"responsive\": true}                    ).then(function(){\n",
       "                            Plotly.addFrames('4f46cacd-ce77-41d5-a9ab-f8d82336c980', [{\"data\":[{\"customdata\":[[\"David Guetta\"],[\"Flo Rida\"],[\"Die Atzen\"],[\"Drake\"],[\"Rihanna\"],[\"Kato\"],[\"Chris Decay\"],[\"Young Money\"],[\"Shakira\"],[\"David Guetta\"],[\"Bruno Mars\"],[\"Paramore\"],[\"Yolanda Be Cool\"],[\"A. Lee\"],[\"Ti\\u00ebsto\"],[\"Karen\"],[\"B.o.B\"],[\"Justin Timberlake\"],[\"Katy Perry\"],[\"Bruno Mars\"],[\"Black Sabbath\"],[\"Tim Berg\"],[\"Akon\"],[\"Oli Chang\"],[\"MORTEN\"],[\"Swedish House Mafia\"],[\"Dance DJ & Company\"],[\"Linkin Park\"],[\"Paramore\"],[\"Chamillionaire\"],[\"Milow\"],[\"Eminem\"],[\"Nelly\"],[\"September\"],[\"Chiddy Bang\"],[\"Jason Derulo\"],[\"Iyaz\"],[\"Black Eyed Peas\"],[\"Tinie Tempah\"],[\"Kevin\"],[\"Green Day\"],[\"Vanessa Carlton\"],[\"Lady Gaga\"],[\"Eminem\"],[\"Travie McCoy\"],[\"Nik & Jay\"],[\"Lazee\"],[\"Justin Bieber\"],[\"Tom Mountain Feat. Nicco\"],[\"Storm Weather Shanty Choir\"],[\"Space Cowboy\"],[\"Remady\"],[\"Sean Banan\"],[\"Pitbull\"],[\"Nickelback\"],[\"Timbaland\"],[\"Paramore\"],[\"McFly\"],[\"Eminem\"],[\"David Guetta\"],[\"Justin Bieber\"],[\"Eminem\"],[\"Mark Ronson\"],[\"Nephew\"],[\"Nickelback\"],[\"Shakira\"],[\"Nephew\"],[\"Dr. Dre\"],[\"Disturbed\"],[\"Baby Bash\"],[\"Rihanna\"],[\"CS\"],[\"Nephew\"],[\"Danger\"],[\"Amerie\"],[\"Snoop Dogg\"],[\"Phoenix\"],[\"2Pac\"],[\"Jay Sean\"],[\"50 Cent\"],[\"Eminem\"],[\"Medina\"],[\"R.I.O.\"],[\"Van Halen\"],[\"Airbeat One Project\"],[\"B.o.B\"],[\"Nelly Furtado\"],[\"DJ Khaled\"],[\"Sleep Station\"],[\"Timbuktu\"],[\"Rolf Just Nilsen\"],[\"Estelle\"],[\"Basshunter\"],[\"Justin Bieber\"],[\"Ella Fitzgerald and Louis Jordan\"],[\"Volbeat\"],[\"Jace Everett\"],[\"Bamse & Kylling\"],[\"Jordin Sparks\"],[\"JLS\"]],\"hovertemplate\":\"<b>%{hovertext}</b><br><br>endTime=2010<br>ms_played=%{marker.size}<br>count=%{y}<br>artistName=%{customdata[0]}<extra></extra>\",\"hovertext\":[\"Who's That Chick ? (feat. Rihanna) - Single Version\",\"Club Can't Handle Me (feat. David Guetta) - From the Step Up 3D Soundtrack\",\"Disco Pogo - Atzen Musik Mix\",\"Find Your Love\",\"S&M\",\"Desert Walk (feat. Outlandish) - Radio Edit\",\"Hold Tight - Tim Verba Radio Edit\",\"BedRock\",\"Loca (Featuring Dizzee Rascal)\",\"Love Is Gone - Fred Riester & Joachim Garraud Radio Edit Remix\",\"Grenade\",\"Misery Business - Acoustic Version\",\"We No Speak Americano - Radio Edit\",\"Gotta Let Go - Radio Mix\",\"Escape Me\",\"Har det hele (feat Karen & Jooks)\",\"Magic - feat. Rivers Cuomo\",\"What Goes Around...Comes Around - Radio Edit\",\"Firework\",\"Just The Way You Are\",\"Changes\",\"Seek Bromance - Avicii Vocal Edit\",\"Angel\",\"Chicken Techno\",\"Fest (feat. Nik & Jay) - Original\",\"Miami 2 Ibiza - Swedish House Mafia vs. Tinie Tempah\",\"Wearing My Rolex (Dance)\",\"Blackout\",\"Misery Business\",\"Good Morning\",\"Ayo Technology\",\"Going Through Changes\",\"Just A Dream - Main\",\"Mikrofonk\\u00e5t\",\"Opposite of Adults\",\"Ridin' Solo\",\"Solo\",\"The Time (Dirty Bit)\",\"Written in the Stars (feat. Eric Turner)\",\"100 Aar\",\"21 Guns\",\"A Thousand Miles\",\"Alejandro\",\"Beautiful\",\"Billionaire (feat. Bruno Mars)\",\"Boing!\",\"Calling Out (feat. Apollo Drive)\",\"Common Denominator - iTunes Bonus\",\"Dance Hall Track - California Row Edit\",\"Drunken Sailor\",\"Falling Down - Featuring Chelsea From The Paradiso Girls\",\"Give Me A Sign - Radio Edit\",\"Gott nytt jul\",\"Hey Baby (Drop It to the Floor) (feat. T-Pain)\",\"If Today Was Your Last Day\",\"If We Ever Meet Again (Featuring Katy Perry)\",\"Ignorance\",\"Lies\",\"Lose Yourself - Soundtrack Version\",\"Love Is Gone\",\"Love Me\",\"Not Afraid\",\"Ooh Wee (feat. Ghostface Killah, Nate Dogg, Trife & Saigon)\",\"Police Bells & Church Sirens\",\"Rockstar\",\"She Wolf\",\"Sov for Satan Mand\",\"Still D.R.E.\",\"Stupify\",\"Suga Suga\",\"What's My Name?\",\"World So Cold\",\"007 Is Also Gonna Die\",\"00:01\",\"1 Thing\",\"187 Ulm\",\"1901\",\"2 Of Amerikaz Most Wanted - (Explicit)\",\"2012 (It Ain't The End)\",\"21 Questions\",\"25 To Life\",\"Addiction - Radio Edit\",\"After The Love - Radio Edit\",\"Ain't Talkin' 'Bout Love - 2004 Remaster\",\"Airbeat One 2006 - Single Version\",\"Airplanes, Part II [feat Eminem & Hayley Williams of Paramore]\",\"All Good Things (Come To An End)\",\"All I Do Is Win - Feat. T-Pain, Ludacris, Snoop Dogg & Rick Ross\",\"All That Remains\",\"Alla Vill Till Himmelen Men Ingen Vill D\\u00f6\",\"Alle Fugler\",\"American Boy (feat. Kanye West)\",\"Angel in the Night - Radio Edit\",\"Baby\",\"Baby, It's Cold Outside\",\"Back To Prom\",\"Bad Things - Soundtrack Version\",\"Bamse og Kylling\",\"Battlefield\",\"Beat Again - Digital Dog Remix\"],\"legendgroup\":\"\",\"marker\":{\"color\":\"#636efa\",\"size\":[6488119,5417380,5842941,4226113,5610296,4320074,1891988,3415731,1668534,1582699,2324635,60529,618726,1344895,430326,1251926,2143438,891129,1823814,1478774,145160,1385451,494856,416077,267321,459517,727352,627192,205779,233665,73820,5500,30410,42072,582066,282940,580950,58512,61619,14120,40150,7354,3150,71799,26867,187892,3482,15633,209175,23062,65796,12652,43374,5230,15364,310,92037,424199,17899,244184,382284,19470,68673,115952,26885,190770,13770,20809,1982,6742,298433,23561,22870,11551,26641,3670,18420,109701,0,22593,951,12181,5862,1792,40422,10209,2383,156220,6130,11167,11726,626,9150,216081,6531,3530,6456,2320,38602,3467],\"sizemode\":\"area\",\"sizeref\":9270.937777777777,\"symbol\":\"circle\"},\"mode\":\"markers\",\"name\":\"\",\"orientation\":\"v\",\"showlegend\":false,\"x\":[6488119,5417380,5842941,4226113,5610296,4320074,1891988,3415731,1668534,1582699,2324635,60529,618726,1344895,430326,1251926,2143438,891129,1823814,1478774,145160,1385451,494856,416077,267321,459517,727352,627192,205779,233665,73820,5500,30410,42072,582066,282940,580950,58512,61619,14120,40150,7354,3150,71799,26867,187892,3482,15633,209175,23062,65796,12652,43374,5230,15364,310,92037,424199,17899,244184,382284,19470,68673,115952,26885,190770,13770,20809,1982,6742,298433,23561,22870,11551,26641,3670,18420,109701,0,22593,951,12181,5862,1792,40422,10209,2383,156220,6130,11167,11726,626,9150,216081,6531,3530,6456,2320,38602,3467],\"xaxis\":\"x\",\"y\":[64,35,32,30,29,24,20,19,15,15,14,13,13,12,11,11,11,11,10,10,9,9,8,8,7,6,6,5,5,4,3,3,3,3,3,3,3,3,3,2,2,2,2,2,2,2,2,2,2,2,2,2,2,2,2,2,2,2,2,2,2,2,2,2,2,2,2,2,2,2,2,2,1,1,1,1,1,1,1,1,1,1,1,1,1,1,1,1,1,1,1,1,1,1,1,1,1,1,1,1],\"yaxis\":\"y\",\"type\":\"scatter\"}],\"name\":\"2010\"},{\"data\":[{\"customdata\":[[\"Don Omar\"],[\"Snoop Dogg\"],[\"Wiz Khalifa\"],[\"Nicole Scherzinger\"],[\"Shakira\"],[\"Mattafix\"],[\"New Boyz\"],[\"Pitbull\"],[\"Katy Perry\"],[\"DJ Antoine feat. The Beat Shakers\"],[\"Usher\"],[\"Cir.Cuz\"],[\"Chris Brown\"],[\"Carlos Baute\"],[\"Kato\"],[\"Alexandra Stan\"],[\"Far East Movement\"],[\"Dave Darell\"],[\"Pimp! Code\"],[\"Flo Rida\"],[\"Michael Jackson Duet with Akon\"],[\"Eddy Wata\"],[\"David Guetta\"],[\"David Guetta\"],[\"Pitbull\"],[\"Stevie Mycs\"],[\"The Lonely Island\"],[\"Pitbull\"],[\"LMFAO\"],[\"Black Eyed Peas\"],[\"Kato\"],[\"The Cataracs\"],[\"Jennifer Lopez\"],[\"Lupe Fiasco\"],[\"Dr. Dre\"],[\"Kobojsarna\"],[\"Swedish House Mafia\"],[\"Iyaz\"],[\"DJ Disciple\"],[\"Jason Derulo\"],[\"Rasmus Seebach\"],[\"Skrillex\"],[\"DJ Antoine\"],[\"Owl City\"],[\"Benny Benassi\"],[\"Busta Rhymes\"],[\"David Guetta\"],[\"Eddy Wata\"],[\"Linkin Park\"],[\"Nicki Minaj\"],[\"Etienne\"],[\"Bastian Bates feat. Nicco\"],[\"Mohombi\"],[\"Three 6 Mafia\"],[\"Britney Spears\"],[\"INNA\"],[\"maNga\"],[\"Sidney Samson\"],[\"Danny Saucedo\"],[\"Pitbull\"],[\"OneRepublic\"],[\"Waka Flocka Flame\"],[\"P!nk\"],[\"Wiz Khalifa\"],[\"Detail\"],[\"Bruno Mars\"],[\"Discotronic\"],[\"Die Atzen\"],[\"deadmau5\"],[\"Black Eyed Peas\"],[\"Sak Noel\"],[\"The Lonely Island\"],[\"Britney Spears\"],[\"New Boyz\"],[\"Simena\"],[\"Pitbull\"],[\"The Lonely Island\"],[\"LMFAO\"],[\"Black Eyed Peas\"],[\"Flo Rida\"],[\"Chester See\"],[\"Chip\"],[\"Enrique Iglesias\"],[\"Pitbull\"],[\"Kato\"],[\"Avril Lavigne\"],[\"Duck Sauce\"],[\"Mohombi\"],[\"Linkin Park\"],[\"Snow\"],[\"Eminem\"],[\"Linkin Park\"],[\"Black Eyed Peas\"],[\"Jessie J\"],[\"Xander Linnet\"],[\"Block McCloud\"],[\"Showtek\"],[\"Manian\"],[\"Nicki Minaj\"],[\"Maroon 5\"]],\"hovertemplate\":\"<b>%{hovertext}</b><br><br>endTime=2011<br>ms_played=%{marker.size}<br>count=%{y}<br>artistName=%{customdata[0]}<extra></extra>\",\"hovertext\":[\"Danza Kuduro\",\"Sweat - Remix\",\"Black and Yellow\",\"Don't Hold Your Breath\",\"Rabiosa\",\"Big City Life\",\"Better with the Lights Off (feat. Chris Brown)\",\"Give Me Everything (feat. Ne-Yo, Afrojack & Nayer)\",\"Last Friday Night (T.G.I.F.)\",\"Ma Ch\\u00e9rie - Remady Radio Edit\",\"More - RedOne Jimmy Joker Remix\",\"Radio\",\"Yeah 3x\",\"Colgando en tus manos (con Marta S\\u00e1nchez)\",\"Hey Shorty (Yeah Yeah Part II)\",\"Mr. Saxobeat - Radio Edit\",\"If I Was You (OMG)\",\"Freeloader - Spencer & Hill Radio Edit\",\"Raise your Head up! - Radio Edit\",\"Turn Around (5,4,3,2,1)\",\"Hold My Hand - Duet with Akon\",\"I Like The Way - Original Radio Edit\",\"Where Them Girls At (feat. Nicki Minaj & Flo Rida)\",\"Who's That Chick ? (feat. Rihanna) - Single Version\",\"Hey Baby (Drop It to the Floor) (feat. T-Pain)\",\"Hey Uncle DJ - Radio Edit\",\"I Just Had Sex - Edited Version\",\"Mr. Worldwide (Intro) (feat. Vein)\",\"Party Rock Anthem\",\"The Time (Dirty Bit)\",\"Desert Walk (feat. Outlandish) - Radio Edit\",\"Top Of The World\",\"On The Floor - Radio Edit\",\"The Show Goes On\",\"Kush - Main\",\"La Perla\",\"Miami 2 Ibiza - Swedish House Mafia vs. Tinie Tempah\",\"So Big\",\"Work It Out - Klaas Short Edit\",\"Don't Wanna Go Home\",\"Natteravn\",\"Scary Monsters and Nice Sprites\",\"Welcome to St. Tropez - DJ Antoine vs. Mad Mark Radio Edit\",\"Alligator Sky\",\"Cinema (feat. Gary Go) - Skrillex Remix\",\"How We Roll - Fast Five Remix\",\"Little Bad Girl (feat. Taio Cruz & Ludacris)\",\"My Dream - Radio Edit\",\"New Divide\",\"Super Bass\",\"Bounce - Fresh Edit Remix\",\"Can't Slow Down - Dan Winter Radio Edit\",\"Coconut Tree\",\"Feel It (with Sean Kingston & Flo Rida) - Explicit Album Version\",\"I Wanna Go\",\"10 Minutes\",\"Bir Kad\\u0131n \\u00c7izeceksin\",\"Riverside (Let's Go!) - Radio Edit\",\"Tokyo - Radio Version\",\"Took My Love (feat. Red Foo, Vein & David Rush)\",\"Good Life\",\"No Hands (feat. Roscoe Dash & Wale)\",\"Raise Your Glass\",\"Roll Up\",\"SMH (Shakin My Head) - Edited Version\",\"The Lazy Song\",\"To The Moon And Back - Paramond Radio Mix\",\"Disco Pogo - Atzen Musik Mix\",\"Ghosts 'N' Stuff - Radio Edit\",\"Just Can\\u2019t Get Enough\",\"Loca People (What the F**k!\\\") - Radio Edit\",\"Motherlover - Album Versions\",\"Till the World Ends\",\"Backseat - feat. The Cataracs & Dev\",\"Cannabus 2011\",\"Come N Go (feat. Enrique Iglesias)\",\"Jack Sparrow\",\"Sexy And I Know It\",\"Where Is The Love?\",\"Who Dat Girl (feat. Akon)\",\"You're Beautiful (Clean Version)\",\"Champion\",\"Dirty Dancer\",\"International Love (feat. Chris Brown)\",\"Sjus - Radio Edit\",\"What the Hell\",\"Barbra Streisand - Radio Edit\",\"Dirty Situation\",\"In the End\",\"Informer\",\"Not Afraid\",\"Numb\",\"Rock That Body\",\"Who's Laughing Now\",\"Det burde ikk v\\u00e6re s\\u00e5dan her\",\"End of Days Feat. Block McCloud\",\"FTS (Original Mix)\",\"Loco - Video Edit\",\"Moment 4 Life\",\"Moves Like Jagger - Studio Recording From The Voice Performance\"],\"legendgroup\":\"\",\"marker\":{\"color\":\"#636efa\",\"size\":[7722301,5782208,6670040,6512809,3547066,5034266,5940449,6671469,7355345,4770066,4204380,4339120,5795393,6470334,3921066,3205316,5373814,3180559,2242334,3640750,2859752,3874469,2257106,2303136,3572846,2337951,2349811,1248376,2196410,3243155,2556543,3100136,3446599,2953899,2651646,1900856,3677135,2990975,3628134,2944457,2753390,2194194,2286526,2473137,2266040,2129400,2764148,2744010,3813694,2176396,2339986,2455216,2143784,1793202,1959123,2856791,2110021,1697871,2049702,1554522,2556338,2447472,2035295,2528775,1240708,1110478,1508714,2670171,372779,2862698,1652987,1568622,1694862,2760258,1461933,1103074,1329555,1741357,2012479,1215457,3494043,2293963,1084443,396600,1549706,1105448,822243,1918366,1543922,1475816,1642855,1487697,2025224,2121290,2189941,791008,707595,564455,1837079,1351991],\"sizemode\":\"area\",\"sizeref\":9270.937777777777,\"symbol\":\"circle\"},\"mode\":\"markers\",\"name\":\"\",\"orientation\":\"v\",\"showlegend\":false,\"x\":[7722301,5782208,6670040,6512809,3547066,5034266,5940449,6671469,7355345,4770066,4204380,4339120,5795393,6470334,3921066,3205316,5373814,3180559,2242334,3640750,2859752,3874469,2257106,2303136,3572846,2337951,2349811,1248376,2196410,3243155,2556543,3100136,3446599,2953899,2651646,1900856,3677135,2990975,3628134,2944457,2753390,2194194,2286526,2473137,2266040,2129400,2764148,2744010,3813694,2176396,2339986,2455216,2143784,1793202,1959123,2856791,2110021,1697871,2049702,1554522,2556338,2447472,2035295,2528775,1240708,1110478,1508714,2670171,372779,2862698,1652987,1568622,1694862,2760258,1461933,1103074,1329555,1741357,2012479,1215457,3494043,2293963,1084443,396600,1549706,1105448,822243,1918366,1543922,1475816,1642855,1487697,2025224,2121290,2189941,791008,707595,564455,1837079,1351991],\"xaxis\":\"x\",\"y\":[65,51,44,43,43,42,41,40,37,35,35,34,34,33,33,33,31,29,28,28,27,27,27,27,26,26,26,26,26,26,25,25,24,24,23,23,23,22,22,21,21,21,21,20,20,20,20,20,20,20,19,19,19,19,19,18,18,18,18,18,17,17,17,17,17,17,17,16,16,16,16,16,16,15,15,15,15,15,15,15,15,14,14,14,14,14,13,13,13,13,13,13,13,13,12,12,12,12,12,12],\"yaxis\":\"y\",\"type\":\"scatter\"}],\"name\":\"2011\"},{\"data\":[{\"customdata\":[[\"Juan Mag\\u00e1n\"],[\"Linkin Park\"],[\"Sexion d'Assaut\"],[\"PSY\"],[\"Sexion d'Assaut\"],[\"Bruno Mars\"],[\"Owl City\"],[\"Alex Clare\"],[\"Calvin Harris\"],[\"Fort Minor\"],[\"Linkin Park\"],[\"Linkin Park\"],[\"Linkin Park\"],[\"Linkin Park\"],[\"Matchbox Twenty\"],[\"Wiley\"],[\"Lupe Fiasco\"],[\"The Script\"],[\"Muri & Mario\"],[\"Sexion d'Assaut\"],[\"Linkin Park\"],[\"Panic! At The Disco\"],[\"Imagine Dragons\"],[\"Kid Cudi\"],[\"Sexion d'Assaut\"],[\"Chris Brown\"],[\"Swedish House Mafia\"],[\"Daddy Yankee\"],[\"Sexion d'Assaut\"],[\"Outlandish\"],[\"The Fray\"],[\"Dirty Money\"],[\"B.o.B\"],[\"Mario Vazquez\"],[\"Global Deejays\"],[\"Ed Sheeran\"],[\"The Script\"],[\"JAY-Z\"],[\"Glamrock Brothers\"],[\"Olly Murs\"],[\"Linkin Park\"],[\"Simple Plan\"],[\"L.O.C.\"],[\"Maroon 5\"],[\"Juan Mag\\u00e1n\"],[\"Frank Ocean\"],[\"Taylor Swift\"],[\"Linkin Park\"],[\"K'NAAN\"],[\"Outlandish\"],[\"Linkin Park\"],[\"Maroon 5\"],[\"The Fray\"],[\"Train\"],[\"OneRepublic\"],[\"Wiley\"],[\"Flo Rida\"],[\"L.O.C.\"],[\"David Guetta\"],[\"Example\"],[\"Simple Plan\"],[\"The Script\"],[\"Panic! At The Disco\"],[\"Example\"],[\"Ludacris\"],[\"Matchbox Twenty\"],[\"Ed Sheeran\"],[\"Jake Miller\"],[\"Volbeat\"],[\"Karmin\"],[\"Outlandish\"],[\"Paramore\"],[\"Imagine Dragons\"],[\"deadmau5\"],[\"Calvin Harris\"],[\"The Script\"],[\"Thirty Seconds To Mars\"],[\"Linkin Park\"],[\"Bernhoft\"],[\"The Lumineers\"],[\"L.O.C.\"],[\"Daughtry\"],[\"Nirvana\"],[\"fun.\"],[\"deadmau5\"],[\"De Nattergale\"],[\"Panetoz\"],[\"Rihanna\"],[\"L.O.C.\"],[\"Chris Richardson\"],[\"Thirty Seconds To Mars\"],[\"Outlandish\"],[\"Cir.Cuz\"],[\"Foo Fighters\"],[\"Matchbox Twenty\"],[\"Outlandish\"],[\"Wiley\"],[\"U2\"],[\"Carly Rae Jepsen\"],[\"Far East Movement\"]],\"hovertemplate\":\"<b>%{hovertext}</b><br><br>endTime=2012<br>ms_played=%{marker.size}<br>count=%{y}<br>artistName=%{customdata[0]}<extra></extra>\",\"hovertext\":[\"Bailando por el Mundo (feat. Pitbull & El Cata)\",\"Faint\",\"D\\u00e9sol\\u00e9\",\"Gangnam Style (\\uac15\\ub0a8\\uc2a4\\ud0c0\\uc77c)\",\"Ma direction\",\"Locked out of Heaven\",\"Good Time\",\"Too Close\",\"We'll Be Coming Back (feat. Example)\",\"Remember the Name (feat. Styles of Beyond)\",\"One Step Closer\",\"Breaking the Habit\",\"Papercut\",\"In the End\",\"How Far We've Come\",\"Can You Hear Me? (ayayaya) (feat. Skepta, JME & Ms D)\",\"Battle Scars (with Guy Sebastian)\",\"Hall of Fame (feat. will.i.am)\",\"Hun Tog Min Guitar\",\"A bout d'souffle\",\"Hands Held High\",\"I Write Sins Not Tragedies\",\"It's Time\",\"Pursuit Of Happiness - Extended Steve Aoki Remix (Explicit)\",\"Avant qu'elle parte\",\"Don't Wake Me Up\",\"Don't You Worry Child (Radio Edit) [feat. John Martin]\",\"Lovumba\",\"Qui t'a dit\",\"Aicha\",\"How to Save a Life\",\"I'm On You - DJ Antoine vs Mad Mark Video Edit\",\"Both of Us (feat. Taylor Swift)\",\"Gallery\",\"Hardcore Vibes - Radio Edit\",\"Lego House\",\"Nothing\",\"Numb / Encore\",\"Push The Feeling On 2k12 (feat. NightCrawler) - Glamrock Brothers Vocal Edit\",\"Troublemaker (feat. Flo Rida)\",\"BURN IT DOWN\",\"Jet Lag - feat. Natasha Bedingfield\",\"Noget Dumt\",\"One More Night\",\"Se Vuelve Loca\",\"Swim Good\",\"We Are Never Ever Getting Back Together\",\"A Place For My Head\",\"Better\",\"Gypsy Cab\",\"LOST IN THE ECHO\",\"Lucky Strike\",\"You Found Me\",\"50 Ways to Say Goodbye\",\"Good Life\",\"Heatwave (feat. Ms. D)\",\"I Cry\",\"Momentet (feat. U$O)\",\"She Wolf (Falling to Pieces) [feat. Sia]\",\"Stay Awake\",\"Summer Paradise (feat. Sean Paul) - Single Version\",\"Breakeven\",\"Lying Is the Most Fun a Girl Can Have Without Taking Her Clothes Off\",\"Midnight Run\",\"Rest Of My Life\",\"She's so Mean\",\"The A Team\",\"Day Without Your Love (feat. Jeremy Thurber)\",\"Fallen - Edit\",\"Hello\",\"Kom Igen (feat. U$O, ADL & Salah Edin)\",\"Misery Business\",\"Radioactive\",\"Some Chords\",\"Sweet Nothing (feat. Florence Welch)\",\"The Man Who Can't Be Moved\",\"This Is War\",\"CASTLE OF GLASS\",\"Choices - Edit\",\"Ho Hey\",\"Langt ude\",\"Over You\",\"Smells Like Teen Spirit\",\"Some Nights\",\"Strobe - Radio Edit\",\"The St\\u00f8vle Dance\",\"Dansa Pausa\",\"Diamonds\",\"Helt Min Egen\",\"Joy & Pain\",\"Kings And Queens\",\"Look Into My Eyes\",\"Supernova (feat. Julie Bergan)\",\"The Pretender\",\"Unwell - 2007 Remaster\",\"Warrior // Worrier\",\"Wearing My Rolex - Radio Edit\",\"Beautiful Day\",\"Call Me Maybe\",\"Christmas in Downtown LA\"],\"legendgroup\":\"\",\"marker\":{\"color\":\"#636efa\",\"size\":[2899868,5992434,7427695,3368403,8070949,5767643,3060560,5817162,5217229,6297710,3650325,4875616,4455553,3106971,3201703,4463563,4073865,2296951,2631356,3788238,4811583,2685538,1237303,3427064,3565239,2350119,2765871,3824279,4038175,2353093,4052097,3040697,2731627,2615665,2928988,2784212,3822818,3541044,3036799,2526501,2634491,3427565,2623209,1429352,2785606,2140940,1125406,2121661,2105739,2570744,2401342,2180356,3246369,2303037,2132836,1399977,1190464,2958417,2263322,3050229,2693953,3110299,1186541,2968586,2934903,1623695,2289063,2111953,2497689,2254212,2183546,2315417,524669,3486147,2021792,2330405,3334864,2751367,1096191,143197,1799194,503722,2695123,70253,2008150,1096152,1524047,327478,1171404,1742046,2949355,2514696,1762122,2767230,993063,1120312,1486028,1634651,963324,860020],\"sizemode\":\"area\",\"sizeref\":9270.937777777777,\"symbol\":\"circle\"},\"mode\":\"markers\",\"name\":\"\",\"orientation\":\"v\",\"showlegend\":false,\"x\":[2899868,5992434,7427695,3368403,8070949,5767643,3060560,5817162,5217229,6297710,3650325,4875616,4455553,3106971,3201703,4463563,4073865,2296951,2631356,3788238,4811583,2685538,1237303,3427064,3565239,2350119,2765871,3824279,4038175,2353093,4052097,3040697,2731627,2615665,2928988,2784212,3822818,3541044,3036799,2526501,2634491,3427565,2623209,1429352,2785606,2140940,1125406,2121661,2105739,2570744,2401342,2180356,3246369,2303037,2132836,1399977,1190464,2958417,2263322,3050229,2693953,3110299,1186541,2968586,2934903,1623695,2289063,2111953,2497689,2254212,2183546,2315417,524669,3486147,2021792,2330405,3334864,2751367,1096191,143197,1799194,503722,2695123,70253,2008150,1096152,1524047,327478,1171404,1742046,2949355,2514696,1762122,2767230,993063,1120312,1486028,1634651,963324,860020],\"xaxis\":\"x\",\"y\":[52,46,45,40,39,37,36,36,36,35,32,31,30,29,28,27,26,26,26,25,25,25,25,25,24,23,23,23,23,22,22,22,21,21,21,21,21,21,21,21,20,20,20,20,20,20,20,19,19,19,19,19,19,18,18,18,18,18,18,18,18,17,17,17,17,17,17,16,16,16,16,16,16,16,16,16,16,15,15,15,15,15,15,15,15,15,14,14,14,14,14,14,14,14,14,14,14,13,13,13],\"yaxis\":\"y\",\"type\":\"scatter\"}],\"name\":\"2012\"},{\"data\":[{\"customdata\":[[\"Macklemore & Ryan Lewis\"],[\"Bastille\"],[\"Imagine Dragons\"],[\"Eminem\"],[\"A$AP Rocky\"],[\"Passenger\"],[\"Calvin Harris\"],[\"Kim Cesarion\"],[\"Ellie Goulding\"],[\"Axel Morris\"],[\"Avicii\"],[\"Avicii\"],[\"Macklemore & Ryan Lewis\"],[\"Daft Punk\"],[\"Robin Thicke\"],[\"2 Chainz\"],[\"Pendulum\"],[\"Nelly\"],[\"Naughty Boy\"],[\"Fort Minor\"],[\"AWOLNATION\"],[\"Selena Gomez\"],[\"Nik & Jay\"],[\"Macklemore & Ryan Lewis\"],[\"Emeli Sand\\u00e9\"],[\"DJ Borgny\"],[\"A$AP Rocky\"],[\"Nico & Vinz\"],[\"Justin Timberlake\"],[\"OneRepublic\"],[\"Linkin Park\"],[\"Miley Cyrus\"],[\"ItaloBrothers\"],[\"will.i.am\"],[\"Dimitri Vegas\"],[\"Fall Out Boy\"],[\"Hoodie Allen\"],[\"Katy Perry\"],[\"Paramore\"],[\"Bruno Mars\"],[\"The Lumineers\"],[\"Lady Gaga\"],[\"Macklemore\"],[\"John Newman\"],[\"Jason Derulo\"],[\"Karpe\"],[\"Rihanna\"],[\"Nico & Vinz\"],[\"Alligatoah\"],[\"will.i.am\"],[\"Demi Lovato\"],[\"Nause\"],[\"Eminem\"],[\"Dave Darell\"],[\"JAY-Z\"],[\"J. Cole\"],[\"Eminem\"],[\"Calvin Harris\"],[\"Drake\"],[\"Timeflies\"],[\"Miley Cyrus\"],[\"Avicii\"],[\"Outlandish\"],[\"Chris Brown\"],[\"Linkin Park\"],[\"P!nk\"],[\"Macklemore & Ryan Lewis\"],[\"Linkin Park\"],[\"Hollywood Undead\"],[\"Icona Pop\"],[\"Calvin Harris\"],[\"Atlas Genius\"],[\"Taylor Swift\"],[\"JAY-Z\"],[\"B.o.B\"],[\"The Script\"],[\"Linkin Park\"],[\"OneRepublic\"],[\"Pitbull\"],[\"Zara Larsson\"],[\"Pitbull\"],[\"Ed Sheeran\"],[\"Sammy Adams\"],[\"Lorde\"],[\"Timeflies\"],[\"Knife Party\"],[\"The Script\"],[\"C2C\"],[\"Truls\"],[\"Stromae\"],[\"Hilltop Hoods\"],[\"Martin Garrix\"],[\"Gavin DeGraw\"],[\"Dizzee Rascal\"],[\"Teddybears\"],[\"Hollywood Undead\"],[\"Kid Ink\"],[\"Cir.Cuz\"],[\"Young Squage\"],[\"Imagine Dragons\"]],\"hovertemplate\":\"<b>%{hovertext}</b><br><br>endTime=2013<br>ms_played=%{marker.size}<br>count=%{y}<br>artistName=%{customdata[0]}<extra></extra>\",\"hovertext\":[\"Can't Hold Us (feat. Ray Dalton)\",\"Pompeii\",\"Radioactive\",\"The Monster\",\"F**kin' Problems (feat. Drake, 2 Chainz & Kendrick Lamar)\",\"Let Her Go\",\"I Need Your Love (feat. Ellie Goulding)\",\"Undressed\",\"Burn\",\"Licence to Chill 2012 (feat. Savant & Celina Svanberg)\",\"Wake Me Up\",\"I Could Be The One (Avicii Vs. Nicky Romero) - Nicktim / Radio Edit\",\"Thrift Shop (feat. Wanz)\",\"Get Lucky (feat. Pharrell Williams & Nile Rodgers) - Radio Edit\",\"Blurred Lines\",\"We Own It (Fast & Furious)\",\"Witchcraft\",\"Hey Porsche\",\"La La La\",\"Remember the Name (feat. Styles of Beyond)\",\"Sail\",\"Come & Get It\",\"En dag tilbage\",\"Same Love (feat. Mary Lambert)\",\"Read All About It, Pt. III\",\"Richie Rich 2012\",\"Wild for the Night (feat. Skrillex & Birdy Nam Nam)\",\"Am I Wrong\",\"Mirrors\",\"Counting Stars\",\"In the End\",\"We Can't Stop\",\"This Is Nightlife - Video Edit\",\"Scream & Shout\",\"Mammoth - Original Mix\",\"My Songs Know What You Did In The Dark (Light Em Up)\",\"No Faith in Brooklyn (feat. Jhameel)\",\"Roar\",\"Still into You\",\"When I Was Your Man\",\"Ho Hey\",\"Applause\",\"And We Danced (feat. Ziggy Stardust)\",\"Love Me Again\",\"The Other Side\",\"Toyota\\u00b4n til Magdi\",\"What Now\",\"In Your Arms\",\"Willst du\",\"#thatPOWER\",\"Heart Attack\",\"Hungry Hearts - Radio Edit\",\"Talkin\\u2019 2 Myself\",\"Freeloader - Spencer & Hill Radio Edit\",\"Holy Grail\",\"Power Trip (feat. Miguel)\",\"Berzerk\",\"Drinking from the Bottle (feat. Tinie Tempah)\",\"Hold On, We're Going Home\",\"Lose My Mind\",\"Wrecking Ball\",\"You Make Me\",\"Aicha\",\"Fine China\",\"Hands Held High\",\"Just Give Me a Reason (feat. Nate Ruess)\",\"Wing$\",\"A LIGHT THAT NEVER COMES\",\"Hear Me Now\",\"I Love It (feat. Charli XCX)\",\"Sweet Nothing (feat. Florence Welch)\",\"Trojans - EP Version\",\"22\",\"99 Problems\",\"HeadBand (feat. 2 Chainz)\",\"If You Could See Me Now\",\"Faint\",\"Something I Need\",\"Timber (feat. Ke$ha)\",\"Uncover\",\"Feel This Moment (feat. Christina Aguilera)\",\"Lego House\",\"Only One\",\"Royals\",\"Turn It Up\",\"Bonfire\",\"Hall of Fame (feat. will.i.am)\",\"Happy\",\"Out of Yourself\",\"Papaoutai\",\"Still Standing\",\"Animals - Radio Edit\",\"Best I Ever Had\",\"Bonkers\",\"Cobrastyle\",\"Comin\\u2019 In Hot\",\"Money and the Power\",\"Tidl\\u00f8s\",\"Transformer\",\"Demons\"],\"legendgroup\":\"\",\"marker\":{\"color\":\"#636efa\",\"size\":[15332981,6348796,1683902,5192958,9188648,1613590,1844686,3783529,1736908,9915344,3417644,4277598,5975451,3529045,1801317,3676797,9266455,5731038,3614176,9561716,3329203,2182095,5452287,1411296,3689349,6385914,3257291,4114043,4021927,2395016,5853780,424809,2962786,3975738,7037044,3423205,6500405,1821595,4891260,362939,617916,2284507,3857066,3164555,835269,2948786,2879736,3245686,5088653,1806292,968364,1358206,6394576,5043906,1168007,2313192,2090416,2410043,505940,5487004,1396225,2154094,2156723,4745937,3592811,159196,2769515,3626587,4706969,205589,1588392,4320177,2706618,3873258,1984415,4002256,3669451,2738075,2434533,158232,184257,3405212,5517524,319751,3066556,4355088,1516118,1721950,1685321,2590578,3768556,1476744,3466278,1064490,3365550,3391363,3250128,3038863,3604531,142890],\"sizemode\":\"area\",\"sizeref\":9270.937777777777,\"symbol\":\"circle\"},\"mode\":\"markers\",\"name\":\"\",\"orientation\":\"v\",\"showlegend\":false,\"x\":[15332981,6348796,1683902,5192958,9188648,1613590,1844686,3783529,1736908,9915344,3417644,4277598,5975451,3529045,1801317,3676797,9266455,5731038,3614176,9561716,3329203,2182095,5452287,1411296,3689349,6385914,3257291,4114043,4021927,2395016,5853780,424809,2962786,3975738,7037044,3423205,6500405,1821595,4891260,362939,617916,2284507,3857066,3164555,835269,2948786,2879736,3245686,5088653,1806292,968364,1358206,6394576,5043906,1168007,2313192,2090416,2410043,505940,5487004,1396225,2154094,2156723,4745937,3592811,159196,2769515,3626587,4706969,205589,1588392,4320177,2706618,3873258,1984415,4002256,3669451,2738075,2434533,158232,184257,3405212,5517524,319751,3066556,4355088,1516118,1721950,1685321,2590578,3768556,1476744,3466278,1064490,3365550,3391363,3250128,3038863,3604531,142890],\"xaxis\":\"x\",\"y\":[110,94,80,73,69,69,68,68,66,66,66,64,64,63,61,61,58,57,57,57,56,55,55,55,54,54,54,53,52,51,50,50,47,46,45,45,45,45,45,45,44,43,42,42,42,42,42,41,41,40,40,40,40,39,39,39,38,38,38,38,38,38,37,37,37,37,37,36,36,36,36,36,35,35,35,35,34,34,34,34,33,33,33,33,33,32,32,32,32,32,32,31,31,31,31,31,31,31,31,30],\"yaxis\":\"y\",\"type\":\"scatter\"}],\"name\":\"2013\"},{\"data\":[{\"customdata\":[[\"JAY-Z\"],[\"Linkin Park\"],[\"Gnarls Barkley\"],[\"Linkin Park\"],[\"Ty Dolla $ign\"],[\"Linkin Park\"],[\"Linkin Park\"],[\"Linkin Park\"],[\"Julie Bergan\"],[\"Clean Bandit\"],[\"Trey Songz\"],[\"Mr. Probz\"],[\"Twenty One Pilots\"],[\"Linkin Park\"],[\"Yiruma\"],[\"A Great Big World\"],[\"D-A-D\"],[\"Albatraoz\"],[\"Linkin Park\"],[\"Rita Ora\"],[\"A Day To Remember\"],[\"Rise Against\"],[\"John Legend\"],[\"Linkin Park\"],[\"Shinedown\"],[\"Disclosure\"],[\"Eminem\"],[\"Tinashe\"],[\"Linkin Park\"],[\"Fort Minor\"],[\"Linkin Park\"],[\"Milky Chance\"],[\"The Weeknd\"],[\"Kato\"],[\"Deorro\"],[\"Kodaline\"],[\"Sam Smith\"],[\"Ariana Grande\"],[\"Ed Sheeran\"],[\"Flume\"],[\"LITTLE INDIA\"],[\"Bad Meets Evil\"],[\"Kanye West\"],[\"Black Milk\"],[\"Linkin Park\"],[\"You Me At Six\"],[\"Tyga\"],[\"All That Remains\"],[\"Ariana Grande\"],[\"Julias Moon\"],[\"Eminem\"],[\"Kaveh\"],[\"Linkin Park\"],[\"Van Halen\"],[\"Jeremih\"],[\"Shawn Mendes\"],[\"Sum 41\"],[\"Outlandish\"],[\"Tracy Chapman\"],[\"The Notorious B.I.G.\"],[\"L.O.C.\"],[\"Brandon Beal\"],[\"Etienne\"],[\"Childish Gambino\"],[\"Eric Bellinger\"],[\"Meek Mill\"],[\"Linkin Park\"],[\"Justin Timberlake\"],[\"Jez Dior\"],[\"Sum 41\"],[\"Pop Evil\"],[\"Linkin Park\"],[\"Linkin Park\"],[\"Oliver Heldens\"],[\"Hoodie Allen\"],[\"Sick Puppies\"],[\"Echosmith\"],[\"Matt and Kim\"],[\"Lukas Graham\"],[\"PVRIS\"],[\"Parachute\"],[\"John Mayer\"],[\"A$AP Rocky\"],[\"Iggy Azalea\"],[\"Karen\"],[\"Burhan G\"],[\"Ti\\u00ebsto\"],[\"Linkin Park\"],[\"Bullet For My Valentine\"],[\"Aloe Blacc\"],[\"Chiddy Bang\"],[\"Ti\\u00ebsto\"],[\"Matthew Koma\"],[\"Black M\"],[\"Sum 41\"],[\"Rihanna\"],[\"Coldplay\"],[\"Asking Alexandria\"],[\"Becky G\"],[\"Akon\"]],\"hovertemplate\":\"<b>%{hovertext}</b><br><br>endTime=2014<br>ms_played=%{marker.size}<br>count=%{y}<br>artistName=%{customdata[0]}<extra></extra>\",\"hovertext\":[\"Numb / Encore\",\"In the End\",\"Crazy\",\"Papercut\",\"Paranoid (feat. B.o.B)\",\"Waiting for the End\",\"Leave Out All The Rest\",\"Hands Held High\",\"Undressed\",\"Rather Be (feat. Jess Glynne)\",\"Touchin, Lovin (feat. Nicki Minaj)\",\"Waves - Robin Schulz Radio Edit\",\"Car Radio\",\"Crawling\",\"River Flows In You - Original\",\"Say Something\",\"Sleeping My Day Away\",\"Albatraoz\",\"BURN IT DOWN\",\"I Will Never Let You Down\",\"If It Means a Lot to You\",\"People Live Here\",\"All of Me\",\"Numb\",\"Simple Man - Acoustic\",\"Latch\",\"Cinderella Man\",\"2 On (feat. ScHoolboy Q)\",\"CASTLE OF GLASS\",\"Remember the Name (feat. Styles of Beyond)\",\"Runaway\",\"Stolen Dance\",\"Wicked Games\",\"Dumt P\\u00e5 Dig (feat. TopGunn) - Radio Edit\",\"Five Hours\",\"All I Want\",\"I'm Not The Only One\",\"Problem\",\"I See Fire - From \\\"The Hobbit - The Desolation Of Smaug\\\"\",\"On Top\",\"Sleep\",\"Fast Lane\",\"Gorgeous\",\"Losing Out feat. Royce da 5'9\",\"New Divide\",\"Stay With Me - Acoustic Version\",\"Tyga Tyga\",\"What If I Was Nothing\",\"Break Free\",\"Lipstick Lies\",\"Sing For The Moment\",\"Snufs\",\"What I've Done\",\"Ain't Talkin' 'Bout Love\",\"Don't Tell 'Em\",\"Life Of The Party\",\"With Me\",\"Aicha\",\"Fast Car\",\"Juicy - 2005 Remaster\",\"Noget Dumt\",\"Twerk It Like Miley\",\"Bounce - Fresh Edit Remix\",\"Heartbeat\",\"I Don't Want Her (feat. Problem)\",\"Ima Boss (feat. Rick Ross)\",\"LOST IN THE ECHO\",\"Not a Bad Thing\",\"Old No. 7 (feat. G-Eazy)\",\"Still Waiting\",\"Beautiful\",\"Burning in the Skies\",\"Faint\",\"Gecko (Overdrive) - Radio Edit\",\"Make It Home (feat. Kina Grannis)\",\"You're Going Down\",\"Cool Kids\",\"Daylight\",\"Mama Said\",\"My House\",\"The Mess I Made\",\"XO\",\"F**kin' Problems (feat. Drake, 2 Chainz & Kendrick Lamar)\",\"Fancy\",\"Har det hele (feat Karen & Jooks)\",\"Karma\",\"Last Train\",\"One Step Closer\",\"Tears Don't Fall\",\"The Man\",\"Opposite of Adults\",\"Red Lights\",\"Spectrum - Acoustic\",\"Sur ma route\",\"The Hell Song\",\"Diamonds - Remix\",\"Magic\",\"Moving On\",\"Shower\",\"Sorry, Blame It On Me\"],\"legendgroup\":\"\",\"marker\":{\"color\":\"#636efa\",\"size\":[20430044,18002508,11304412,13856905,12952515,11779653,13209621,12130418,11039624,6832954,12198624,6822689,10626002,8617465,9183049,6275067,11952165,9041427,8618230,8723481,10270229,10785736,6189713,8361495,9717841,6077649,15485933,9918044,8911045,11199041,7918196,1723308,6860331,4581040,9083375,5423311,8802256,4005580,6343132,8293377,7072583,9513158,14313949,10028566,7746546,7001145,6755620,7680183,5107218,5253055,11048179,6265081,5882694,7101466,7107998,6464546,13172218,3959904,6463673,5654663,7156134,4363614,7724593,7468826,7446395,9855509,7461122,6871262,5517948,5696382,7957917,7997324,4375078,7145947,8019631,6270782,5805458,4864651,5764986,8467149,6658894,6288935,8118009,4314453,5659540,5410274,6373952,4775763,12512174,3329717,8648931,4629713,6563517,5251484,7868706,7185804,2957051,8375670,4456366,6902016],\"sizemode\":\"area\",\"sizeref\":9270.937777777777,\"symbol\":\"circle\"},\"mode\":\"markers\",\"name\":\"\",\"orientation\":\"v\",\"showlegend\":false,\"x\":[20430044,18002508,11304412,13856905,12952515,11779653,13209621,12130418,11039624,6832954,12198624,6822689,10626002,8617465,9183049,6275067,11952165,9041427,8618230,8723481,10270229,10785736,6189713,8361495,9717841,6077649,15485933,9918044,8911045,11199041,7918196,1723308,6860331,4581040,9083375,5423311,8802256,4005580,6343132,8293377,7072583,9513158,14313949,10028566,7746546,7001145,6755620,7680183,5107218,5253055,11048179,6265081,5882694,7101466,7107998,6464546,13172218,3959904,6463673,5654663,7156134,4363614,7724593,7468826,7446395,9855509,7461122,6871262,5517948,5696382,7957917,7997324,4375078,7145947,8019631,6270782,5805458,4864651,5764986,8467149,6658894,6288935,8118009,4314453,5659540,5410274,6373952,4775763,12512174,3329717,8648931,4629713,6563517,5251484,7868706,7185804,2957051,8375670,4456366,6902016],\"xaxis\":\"x\",\"y\":[131,122,110,97,91,89,88,87,85,82,81,81,80,77,77,72,72,71,71,71,71,71,70,70,69,68,67,66,66,66,65,65,65,63,63,62,62,62,61,61,61,60,60,60,59,59,59,59,58,58,58,58,58,57,57,57,57,56,56,56,56,56,55,54,54,54,54,54,54,54,53,53,53,53,53,53,52,52,52,52,52,52,51,51,51,51,51,51,51,51,50,50,50,50,50,49,49,49,49,49],\"yaxis\":\"y\",\"type\":\"scatter\"}],\"name\":\"2014\"},{\"data\":[{\"customdata\":[[\"Linkin Park\"],[\"The Notorious B.I.G.\"],[\"Family of the Year\"],[\"Calvin Harris\"],[\"Paramore\"],[\"B.o.B\"],[\"KO\"],[\"D-A-D\"],[\"Tez Cadey\"],[\"Tonight Alive\"],[\"D-A-D\"],[\"Kid Ink\"],[\"Madcon\"],[\"Papa Roach\"],[\"Tez Cadey\"],[\"Outlandish\"],[\"LISTENBEE\"],[\"Jack \\u00dc\"],[\"Matoma\"],[\"Jimmy Eat World\"],[\"D-A-D\"],[\"Hit The Lights\"],[\"Wiz Khalifa\"],[\"Ti\\u00ebsto\"],[\"Natalie La Rose\"],[\"Chris Brown\"],[\"Major Lazer\"],[\"Charlene Soraia\"],[\"Karmin\"],[\"Christina Perri\"],[\"Deorro\"],[\"James Bay\"],[\"Syn Cole\"],[\"Nick Jonas\"],[\"Gostan\"],[\"Linkin Park\"],[\"ONE OK ROCK\"],[\"Machine Gun Kelly\"],[\"Lost Frequencies\"],[\"Otto Knows\"],[\"Alphabeat\"],[\"Loveless\"],[\"Rihanna\"],[\"PVRIS\"],[\"Machine Gun Kelly\"],[\"Kodaline\"],[\"Dizzy Mizz Lizzy\"],[\"Nephew\"],[\"Julia Sheer\"],[\"Nicki Minaj\"],[\"Mark Ronson\"],[\"ScHoolboy Q\"],[\"Juan Mag\\u00e1n\"],[\"Chris Brown\"],[\"Kid Ink\"],[\"D-A-D\"],[\"Felix Cartal\"],[\"Ellie Goulding\"],[\"DJ DX\"],[\"Ankerstjerne\"],[\"Chris Brown\"],[\"Omarion\"],[\"Ludovico Einaudi\"],[\"Fort Minor\"],[\"William Singe\"],[\"Clemens\"],[\"Vigiland\"],[\"Jetta\"],[\"Tyga\"],[\"Good Charlotte\"],[\"Starting Six\"],[\"Lemaitre\"],[\"Kid Ink\"],[\"Aurix\"],[\"The Red Jumpsuit Apparatus\"],[\"Common\"],[\"Tyga\"],[\"East & Young\"],[\"3 Doors Down\"],[\"Yiruma\"],[\"Breaking Benjamin\"],[\"A$AP Rocky\"],[\"Karpe\"],[\"Linkin Park\"],[\"Ude Af Kontrol\"],[\"Martin Garrix\"],[\"Hinder\"],[\"Syn Cole\"],[\"ONE OK ROCK\"],[\"JAY-Z\"],[\"Kanye West\"],[\"Pitbull\"],[\"Clemens\"],[\"Kanye West\"],[\"Carly Rae Jepsen\"],[\"Ty Dolla $ign\"],[\"Antonio Giacca\"],[\"Imagine Dragons\"],[\"Kid Ink\"],[\"Stonebank\"]],\"hovertemplate\":\"<b>%{hovertext}</b><br><br>endTime=2015<br>ms_played=%{marker.size}<br>count=%{y}<br>artistName=%{customdata[0]}<extra></extra>\",\"hovertext\":[\"In the End\",\"Juicy - 2007 Remaster\",\"Hero\",\"Iron\",\"Careful\",\"Airplanes, Pt. II (feat. Eminem & Hayley Williams of Paramore)\",\"Stay With Me\",\"Nineteenhundredandyesterday - 2009 - Remaster\",\"Runaway\",\"Lonely Girl\",\"Laugh 'n' a 1/2 - 2009 - Remaster\",\"Ride Out\",\"Don't Worry (feat. Ray Dalton)\",\"Gravity\",\"Seve - Radio Edit\",\"Aicha\",\"Save Me\",\"Where Are \\u00dc Now (with Justin Bieber)\",\"Old Thing Back (feat. Ja Rule and Ralph Tresvant)\",\"The Middle\",\"Everything Glows - 2009 - Remaster\",\"Fucked up Kids\",\"See You Again (feat. Charlie Puth)\",\"Secrets - Radio Edit\",\"Somebody\",\"Ayo\",\"Lean On (feat. M\\u00d8 & DJ Snake)\",\"Wherever You Will Go\",\"Hello\",\"burning gold - Autograf Remix\",\"Five More Hours\",\"Hold Back The River\",\"It's You - Broiler Remix\",\"Jealous\",\"Klanga - De Hofnar Remix\",\"Papercut\",\"Re:make\",\"A Little More\",\"Are You With Me - Radio Edit\",\"Next to Me\",\"The Spell\",\"They Don't Know (feat. Varren Wade)\",\"Love The Way You Lie (Part II) - Pt. 2\",\"My House\",\"Half Naked & Almost Famous\",\"High Hopes - filous Remix\",\"I Would If I Could But I Can't\",\"Igen & Igen &\",\"Little Talks\",\"Truffle Butter\",\"Uptown Funk (feat. Bruno Mars)\",\"3 on (feat. Tinashe, Drake)\",\"Bailando por el Mundo (feat. Pitbull & El Cata)\",\"Bitches N Marijuana (feat. ScHoolboy Q)\",\"Dolo (feat. R. Kelly)\",\"Sleeping My Day Away\",\"With You\",\"Love Me Like You Do - From \\\"Fifty Shades Of Grey\\\"\",\"Make It a better day\",\"Mit Navn I Lys\",\"Nothin' Like Me (feat. Ty Dolla $ign)\",\"Post to Be (feat. Chris Brown & Jhene Aiko)\",\"Primavera\",\"Remember the Name (feat. Styles of Beyond)\",\"Trap Queen\",\"Champion (feat. Jon)\",\"UFO - Radio Edit\",\"I'd Love to Change the World - Matstubs Remix\",\"Stimulated\",\"The River\",\"This Ain't Water\",\"All I Need - Prince Fox Remix\",\"Be Real\",\"Breathe\",\"False Pretense\",\"Glory (From the Motion Picture Selma)\",\"Hookah\",\"Horizon\",\"Kryptonite\",\"River Flows In You - Original\",\"The Diary of Jane - Acoustic\",\"Everyday (feat. Rod Stewart, Miguel & Mark Ronson)\",\"Hvite menn som pusher 50\",\"Numb\",\"Det Halve Ku' V\\u00e6re Nok\",\"Forbidden Voices\",\"Is It Just Me\",\"It's You - Radio Edit\",\"Mighty Long Fall\",\"Numb / Encore\",\"Stronger\",\"Time of Our Lives\",\"\\u00d8jen\\u00e5bner (feat. MAIA)\",\"Good Life\",\"I Really Like You\",\"Saved (feat. E-40)\",\"Sensation - Radio Mix\",\"Shots - Broiler Remix\",\"Show Me (feat. Trey Songz, Juicy J, 2 Chainz & Chris Brown) - Remix\",\"Stronger (feat. Emel)\"],\"legendgroup\":\"\",\"marker\":{\"color\":\"#636efa\",\"size\":[5658497,1592637,11071452,758950,11158841,15227886,8018364,9010858,7341371,7783604,6075578,5140318,7194622,9502637,7143645,558073,3631997,5873593,3905481,5765247,6933285,4450768,5359913,4117859,4738572,6460158,2808993,4242466,3126769,6872956,4505896,6753098,4244875,5425475,6487261,6157502,6971713,6113591,1635373,3429302,6800730,4736074,7005640,4288986,4305972,5231726,5043446,5873194,4925852,3831305,2200634,6181194,265856,6222905,4202927,5988888,4857241,2870884,4230919,6544314,2366816,3257617,9422576,6282565,592863,6939887,1414482,3670914,4171183,5845525,3123665,3559907,3334492,4350552,4328946,5625181,3239900,3875569,5968979,5122570,3361832,2497127,5401580,3167072,2252740,4176400,4405568,4209177,5287012,4080933,6032342,2805167,5097521,4907618,3065898,3815153,2645948,4110078,5502841,3737807],\"sizemode\":\"area\",\"sizeref\":9270.937777777777,\"symbol\":\"circle\"},\"mode\":\"markers\",\"name\":\"\",\"orientation\":\"v\",\"showlegend\":false,\"x\":[5658497,1592637,11071452,758950,11158841,15227886,8018364,9010858,7341371,7783604,6075578,5140318,7194622,9502637,7143645,558073,3631997,5873593,3905481,5765247,6933285,4450768,5359913,4117859,4738572,6460158,2808993,4242466,3126769,6872956,4505896,6753098,4244875,5425475,6487261,6157502,6971713,6113591,1635373,3429302,6800730,4736074,7005640,4288986,4305972,5231726,5043446,5873194,4925852,3831305,2200634,6181194,265856,6222905,4202927,5988888,4857241,2870884,4230919,6544314,2366816,3257617,9422576,6282565,592863,6939887,1414482,3670914,4171183,5845525,3123665,3559907,3334492,4350552,4328946,5625181,3239900,3875569,5968979,5122570,3361832,2497127,5401580,3167072,2252740,4176400,4405568,4209177,5287012,4080933,6032342,2805167,5097521,4907618,3065898,3815153,2645948,4110078,5502841,3737807],\"xaxis\":\"x\",\"y\":[91,83,80,79,73,63,62,60,59,58,56,55,54,54,54,53,50,49,48,48,47,47,47,46,46,45,44,44,43,43,42,42,42,42,42,42,42,41,41,41,40,40,39,39,38,38,38,38,38,38,38,37,37,37,37,37,37,36,36,36,36,36,36,36,36,35,35,34,34,34,34,33,33,33,33,33,33,33,33,33,33,32,32,32,31,31,31,31,31,31,31,31,31,30,30,30,30,30,30,30],\"yaxis\":\"y\",\"type\":\"scatter\"}],\"name\":\"2015\"},{\"data\":[{\"customdata\":[[\"G-Eazy\"],[\"Drake\"],[\"USO\"],[\"Big Gigantic\"],[\"Infected Mushroom\"],[\"The Chainsmokers\"],[\"Goldmund\"],[\"Drake\"],[\"Ludovico Einaudi\"],[\"The Chainsmokers\"],[\"Mura Masa\"],[\"Major Lazer\"],[\"Anderson .Paak\"],[\"Drake\"],[\"Deaf Kev\"],[\"Mac Miller\"],[\"Ludovico Einaudi\"],[\"Omar LinX\"],[\"Bryson Tiller\"],[\"Desiigner\"],[\"Yiruma\"],[\"Drake\"],[\"G-Eazy\"],[\"Linkin Park\"],[\"Kings of Leon\"],[\"Theory of a Deadman\"],[\"DNCE\"],[\"G-Eazy\"],[\"Ludovico Einaudi\"],[\"Skillet\"],[\"Goldmund\"],[\"The Notorious B.I.G.\"],[\"Arif\"],[\"Kendrick Lamar\"],[\"B.o.B\"],[\"Infected Mushroom\"],[\"G-Eazy\"],[\"Kygo\"],[\"Avicii\"],[\"Karpe\"],[\"Ludovico Einaudi\"],[\"Ludovico Einaudi\"],[\"Helen Jane Long\"],[\"Tinie Tempah\"],[\"OneRepublic\"],[\"Sungha Jung\"],[\"Sungha Jung\"],[\"Ludovico Einaudi\"],[\"Howard Shore\"],[\"Hans Zimmer\"],[\"G-Eazy\"],[\"Omarion\"],[\"Yiruma\"],[\"G-Eazy\"],[\"Anno Domini Beats\"],[\"Mike Perry\"],[\"Macklemore & Ryan Lewis\"],[\"Macklemore & Ryan Lewis\"],[\"Zack Hemsey\"],[\"Ludovico Einaudi\"],[\"Ludovico Einaudi\"],[\"G-Eazy\"],[\"Flume\"],[\"Cam Meekins\"],[\"Ti\\u00ebsto\"],[\"Drake\"],[\"Nicki Minaj\"],[\"Armin van Buuren\"],[\"GIMS\"],[\"Klaus Badelt\"],[\"Ludovico Einaudi\"],[\"Sungha Jung\"],[\"Gramatik\"],[\"Volbeat\"],[\"Madison Mars\"],[\"Cap 1\"],[\"Tech N9ne\"],[\"A$AP Rocky\"],[\"Bro\"],[\"Justin Bieber\"],[\"Linkin Park\"],[\"Kid Ink\"],[\"Radical Something\"],[\"Sia\"],[\"Nathan Goshen\"],[\"Foo Fighters\"],[\"Volbeat\"],[\"The Glitch Mob\"],[\"Startisan\"],[\"The Ironix\"],[\"Kanye West\"],[\"Ludovico Einaudi\"],[\"Karpe\"],[\"Vinnie Paz\"],[\"Karpe\"],[\"Shaun Taylor McManus\"],[\"Skillet\"],[\"Karpe\"],[\"Kygo\"],[\"Snakehips\"]],\"hovertemplate\":\"<b>%{hovertext}</b><br><br>endTime=2016<br>ms_played=%{marker.size}<br>count=%{y}<br>artistName=%{customdata[0]}<extra></extra>\",\"hovertext\":[\"Calm Down\",\"One Dance\",\"Supermayn i Lommen (feat. Johnson) - F**k Boy Remix\",\"All of Me\",\"Bass Nipple\",\"Closer\",\"Threnody\",\"Controlla\",\"Primavera\",\"Roses\",\"Love$ick\",\"Cold Water (feat. Justin Bieber & M\\u00d8)\",\"Come Down - Feat. T.I.\",\"Headlines\",\"Invincible\",\"Donald Trump\",\"I Giorni\",\"Little Moment\",\"Exchange\",\"Panda\",\"River Flows In You - Original\",\"The Motto\",\"Tumblr Girls (feat. Christoph Andersson)\",\"In the End\",\"Waste A Moment\",\"Angel\",\"Cake By The Ocean\",\"Drifting (feat. Chris Brown & Tory Lanez)\",\"Fly\",\"Hero\",\"Image-Autumn-Womb\",\"Juicy - 2005 Remaster\",\"Lowkey\",\"Money Trees\",\"Airplanes, Pt. II (feat. Eminem & Hayley Williams of Paramore)\",\"Kazabubu\",\"Me, Myself & I\",\"Raging (feat. Kodaline)\",\"Taste The Feeling (Avicii Vs. Conrad Sewell)\",\"Toyota\\u00b4n til Magdi\",\"Andare\",\"Divenire\",\"Embers\",\"Girls Like (feat. Zara Larsson)\",\"Good Life\",\"One of Us\",\"River Flows In You\",\"The Earth Prelude\",\"The Fellowship Reunited (feat. Sir James Galway, Viggo Mortensen and Ren\\u00e9e Fleming)\",\"Time\",\"I Mean It (feat. Remo)\",\"I'm Sayin' (feat. Rich Homie Quan)\",\"Kiss The Rain - Original\",\"Nothing to Me (feat. Keyshia Cole & E-40)\",\"Same Story (feat. Vinnie Paz)\",\"The Ocean (feat. Shy Martin)\",\"Can't Hold Us (feat. Ray Dalton)\",\"Downtown (feat. Melle Mel, Grandmaster Caz, Kool Moe Dee & Eric Nally)\",\"Mind Heist\",\"Nightbook\",\"Nuvole Bianche\",\"Random\",\"Say It\",\"Slow Down\",\"The Right Song\",\"Too Good\",\"Truffle Butter\",\"Another You (feat. Mr. Probz) - Radio Edit\",\"Est-ce que tu m'aimes ? - Pilule bleue\",\"He's a Pirate\",\"Le Onde\",\"Riding a Bicycle\",\"Satoshi Nakamoto\",\"The Devil's Bleeding Crown\",\"Theme O\",\"Tonite\",\"Erbody But Me\",\"F**kin' Problems (feat. Drake, 2 Chainz & Kendrick Lamar)\",\"Hvor Er Du Bro?\",\"Love Yourself\",\"Papercut\",\"Promise (feat. Fetty Wap)\",\"Say Yes\",\"The Greatest\",\"Thinking About It (Let It Go) - KVR Remix\",\"Walk\",\"For Evigt\",\"Fortune Days\",\"Just\",\"Lost in the Water - Usb Players Remix Edit\",\"Stronger\",\"Una Mattina\",\"Hvite menn som pusher 50\",\"Is Happiness Just a Word? (feat. Yes Alexander)\",\"Kunsten \\u00e5 v\\u00e6re inder\",\"Manga\",\"Monster\",\"Sn\\u00f8hvit\",\"Stay (feat. Maty Noyes)\",\"All My Friends (feat. Tinashe & Chance the Rapper)\"],\"legendgroup\":\"\",\"marker\":{\"color\":\"#636efa\",\"size\":[9013136,6977817,6968863,7470484,2963463,8484572,10613470,7189421,11047032,5308048,6453077,6015148,7342423,7247417,7026454,5414883,13456762,6590337,5129270,6553324,6324391,4641960,5797362,5629058,6143442,5406240,4933027,6064206,8228644,5370762,4773854,2612125,5718760,9497028,8160651,6486530,5339995,5218385,5039629,5818023,12479234,10668949,7882540,4394376,5116273,6597038,6230184,8398605,13719166,7655866,4358486,2464579,6858200,5043818,5909275,2998460,5714414,6210122,3377644,8105562,9928571,3313296,5204416,5219990,5156519,5243780,5789435,4160041,4133408,1804275,9359840,5740188,4758933,4875215,3628788,1762651,4958085,5885020,3862851,3904215,4526232,3744522,3041326,5121964,3090686,5100290,5972471,7889654,3927608,22286736,6693357,5089590,5951391,5520890,3413879,3814694,6160273,3484020,6147879,2871050],\"sizemode\":\"area\",\"sizeref\":9270.937777777777,\"symbol\":\"circle\"},\"mode\":\"markers\",\"name\":\"\",\"orientation\":\"v\",\"showlegend\":false,\"x\":[9013136,6977817,6968863,7470484,2963463,8484572,10613470,7189421,11047032,5308048,6453077,6015148,7342423,7247417,7026454,5414883,13456762,6590337,5129270,6553324,6324391,4641960,5797362,5629058,6143442,5406240,4933027,6064206,8228644,5370762,4773854,2612125,5718760,9497028,8160651,6486530,5339995,5218385,5039629,5818023,12479234,10668949,7882540,4394376,5116273,6597038,6230184,8398605,13719166,7655866,4358486,2464579,6858200,5043818,5909275,2998460,5714414,6210122,3377644,8105562,9928571,3313296,5204416,5219990,5156519,5243780,5789435,4160041,4133408,1804275,9359840,5740188,4758933,4875215,3628788,1762651,4958085,5885020,3862851,3904215,4526232,3744522,3041326,5121964,3090686,5100290,5972471,7889654,3927608,22286736,6693357,5089590,5951391,5520890,3413879,3814694,6160273,3484020,6147879,2871050],\"xaxis\":\"x\",\"y\":[72,62,47,45,45,43,43,42,42,42,39,38,38,38,38,37,37,37,36,36,36,36,36,35,35,34,34,34,34,34,34,34,34,34,33,33,33,33,33,33,32,32,32,32,32,32,32,32,32,32,31,31,31,31,31,31,30,30,30,30,30,30,30,30,30,30,30,29,29,29,29,29,29,29,29,29,28,28,28,28,28,28,28,28,28,28,27,27,27,27,27,27,26,26,26,26,26,26,26,25],\"yaxis\":\"y\",\"type\":\"scatter\"}],\"name\":\"2016\"},{\"data\":[{\"customdata\":[[\"Jon Bellion\"],[\"Hkeem\"],[\"JAY-Z\"],[\"The Glitch Mob\"],[\"Danny Ocean\"],[\"Ed Sheeran\"],[\"Lemaitre\"],[\"Halestorm\"],[\"Karpe\"],[\"Future\"],[\"Ed Sheeran\"],[\"Kanye West\"],[\"Ratatat\"],[\"Stormzy\"],[\"Rainbow Kitten Surprise\"],[\"You Me At Six\"],[\"OMFG\"],[\"Papa Roach\"],[\"Stanley Most\"],[\"Yung Dash\"],[\"Like A Storm\"],[\"Keyshia Cole\"],[\"Ed Sheeran\"],[\"Aesop Rock\"],[\"Stormzy\"],[\"Starley\"],[\"Benal\"],[\"Nas\"],[\"Nephew\"],[\"Stormzy\"],[\"Frank Ocean\"],[\"B.o.B\"],[\"Mac Miller\"],[\"Carly Rae Jepsen\"],[\"The Chainsmokers\"],[\"Eminem\"],[\"Kanye West\"],[\"ItaloBrothers\"],[\"Logic\"],[\"Arif\"],[\"Alan Walker\"],[\"Linkin Park\"],[\"Kanye West\"],[\"Kelly Clarkson\"],[\"Luis Fonsi\"],[\"Lil Kleine\"],[\"N.W.A.\"],[\"Karpe\"],[\"Karpe\"],[\"Vince Staples\"],[\"Outkast\"],[\"Lauv\"],[\"J. Cole\"],[\"Sub Focus\"],[\"L.O.C.\"],[\"Enrique Iglesias\"],[\"Halestorm\"],[\"Yepha\"],[\"NF\"],[\"Carly Rae Jepsen\"],[\"The Notorious B.I.G.\"],[\"Edy Lemond\"],[\"Carly Rae Jepsen\"],[\"Aesop Rock\"],[\"Big Sean\"],[\"Kygo\"],[\"Frank Ocean\"],[\"Mura Masa\"],[\"L.O.C.\"],[\"Drake\"],[\"Eminem\"],[\"Like A Storm\"],[\"KNA Connected\"],[\"Arif\"],[\"Diddy\"],[\"John Williams\"],[\"Khalid\"],[\"Shawn Mendes\"],[\"Karpe\"],[\"SEB\"],[\"A$AP Rocky\"],[\"Wilkinson\"],[\"Papa Roach\"],[\"The Glitch Mob\"],[\"Benal\"],[\"Carlos Baute\"],[\"S3RL\"],[\"The Glitch Mob\"],[\"Sunstroke Project\"],[\"Kanye West\"],[\"Gulddreng\"],[\"Stromae\"],[\"Like A Storm\"],[\"John Williams\"],[\"John Mayer\"],[\"Stormzy\"],[\"Phil Collins\"],[\"Stormzy\"],[\"Ed Sheeran\"],[\"Ed Sheeran\"]],\"hovertemplate\":\"<b>%{hovertext}</b><br><br>endTime=2017<br>ms_played=%{marker.size}<br>count=%{y}<br>artistName=%{customdata[0]}<extra></extra>\",\"hovertext\":[\"All Time Low\",\"Fy Faen\",\"Numb / Encore\",\"We Can Make The World Stop\",\"Me Reh\\u00faso\",\"Shape of You - Stormzy Remix\",\"Closer\",\"Here's to Us\",\"Toyota\\u00b4n til Magdi\",\"Mask Off\",\"Shape of You\",\"Gold Digger\",\"Loud Pipes\",\"Shut Up\",\"Devil Like Me\",\"Give\",\"Hello\",\"Help\",\"Kom kom\",\"Momma I Made It\",\"Ordinary\",\"Last Night\",\"Castle on the Hill\",\"None Shall Pass\",\"Big For Your Boots\",\"Call on Me - Ryan Riback Remix\",\"Fri\",\"Hero\",\"Hospital - Live\",\"Know Me From\",\"Pink + White\",\"Airplanes, Pt. II (feat. Eminem & Hayley Williams of Paramore)\",\"Donald Trump\",\"Emotion\",\"Paris\",\"Shake That\",\"Stronger\",\"Summer Air\",\"1-800-273-8255\",\"Alene\",\"Alone\",\"In the End\",\"POWER\",\"Since U Been Gone\",\"Despacito (Featuring Daddy Yankee)\",\"Drank & Drugs\",\"Fuck Tha Police\",\"Her\",\"Sn\\u00f8hvit\",\"BagBak\",\"Hey Ya!\",\"I Like Me Better\",\"Power Trip (feat. Miguel)\",\"Rock It\",\"Undskyld\",\"DUELE EL CORAZON (feat. Wisin)\",\"I Am the Fire\",\"Ik' G\\u00f8r' Det\",\"Let You Down\",\"Let\\u2019s Get Lost\",\"Notorious Thugs - 2014 Remaster\",\"Pensando em Voce\",\"Run Away With Me\",\"Daylight\",\"I Don't Fuck With You\",\"It Ain't Me (with Selena Gomez)\",\"Lost\",\"Love$ick\",\"Noget Dumt\",\"Passionfruit\",\"Beautiful\",\"Break Free\",\"Fibs(L\\u00f8gn & Latin)\",\"Flexnes\",\"I'll Be Missing You (feat. Faith Evans & 112) - 2014 Remaster\",\"Leaving Hogwarts\",\"Location\",\"Mercy\",\"Regnv\\u00e6r\",\"Tro P\\u00e5 Os To\",\"Wild for the Night (feat. Skrillex & Birdy Nam Nam)\",\"Afterglow\",\"American Dreams\",\"Animus Vox\",\"Babelfisk\",\"Colgando en tus manos (con Marta S\\u00e1nchez)\",\"Feel the Melody (feat. Sara)\",\"Fortune Days\",\"Hey Mamma - Radio Edit\",\"Touch The Sky\",\"UPN\",\"Alors On Danse\",\"Change Tomorrow\",\"Hedwig's Theme\",\"Love on the Weekend\",\"Scary\",\"Strangers Like Me\",\"Cold\",\"Don't\",\"Eraser\"],\"legendgroup\":\"\",\"marker\":{\"color\":\"#636efa\",\"size\":[7847578,8898103,6238760,10141572,7653289,6634660,6955029,5827675,5611140,6983495,5263764,6551652,6769589,6348744,6278549,6672023,6405507,7471156,5974505,7372430,8373183,7598872,5752047,5101613,6952730,5448311,6810878,5060428,6193026,3721539,4669867,6606770,5182430,4152437,5661252,7041830,5710732,4798973,5244600,5201630,3534228,5043087,7027627,3605393,5410608,3141595,5431115,3312240,3688110,3076673,4235494,5194501,4347284,6382030,4930295,4616179,5178107,2219819,5261197,2984780,6261570,4759344,3388015,3197006,3145871,2131168,4562890,4272786,3780907,3448258,4638155,6519831,4926737,3714332,6775526,2862108,3598452,3550803,2181346,3273999,2896562,5172514,4464602,4851357,4288796,3862754,4924543,6055831,2877296,4655509,3792058,3592408,4567111,5848985,3796151,4268747,3666339,3362138,2289867,3962535],\"sizemode\":\"area\",\"sizeref\":9270.937777777777,\"symbol\":\"circle\"},\"mode\":\"markers\",\"name\":\"\",\"orientation\":\"v\",\"showlegend\":false,\"x\":[7847578,8898103,6238760,10141572,7653289,6634660,6955029,5827675,5611140,6983495,5263764,6551652,6769589,6348744,6278549,6672023,6405507,7471156,5974505,7372430,8373183,7598872,5752047,5101613,6952730,5448311,6810878,5060428,6193026,3721539,4669867,6606770,5182430,4152437,5661252,7041830,5710732,4798973,5244600,5201630,3534228,5043087,7027627,3605393,5410608,3141595,5431115,3312240,3688110,3076673,4235494,5194501,4347284,6382030,4930295,4616179,5178107,2219819,5261197,2984780,6261570,4759344,3388015,3197006,3145871,2131168,4562890,4272786,3780907,3448258,4638155,6519831,4926737,3714332,6775526,2862108,3598452,3550803,2181346,3273999,2896562,5172514,4464602,4851357,4288796,3862754,4924543,6055831,2877296,4655509,3792058,3592408,4567111,5848985,3796151,4268747,3666339,3362138,2289867,3962535],\"xaxis\":\"x\",\"y\":[55,54,45,44,43,43,42,42,42,41,41,40,40,40,39,39,38,38,38,38,38,37,35,35,34,34,34,34,34,34,34,33,33,33,33,33,33,33,32,32,32,32,32,32,31,31,31,31,31,30,30,30,30,30,30,29,29,29,29,29,29,29,29,28,28,28,28,28,28,28,27,27,27,27,27,27,27,27,27,27,27,26,26,26,26,26,26,26,26,26,26,25,25,25,25,25,25,24,24,24],\"yaxis\":\"y\",\"type\":\"scatter\"}],\"name\":\"2017\"},{\"data\":[{\"customdata\":[[\"Karpe\"],[\"KESI\"],[\"BasedBoys\"],[\"Childish Gambino\"],[\"Drake\"],[\"Huncho Jack\"],[\"Justin Timberlake\"],[\"Juice WRLD\"],[\"Post Malone\"],[\"Stonebank\"],[\"Logic\"],[\"KIDS SEE GHOSTS\"],[\"BasedBoys\"],[\"PVRIS\"],[\"Eminem\"],[\"XXXTENTACION\"],[\"Jimmy Eat World\"],[\"The Minds Of 99\"],[\"MGMT\"],[\"Ratatat\"],[\"Benal\"],[\"Gilli\"],[\"Logic\"],[\"Logic\"],[\"Eminem\"],[\"Through Fire\"],[\"Childish Gambino\"],[\"BasedBoys\"],[\"Chris Stapleton\"],[\"Childish Gambino\"],[\"D\\u00fan\\u00e9\"],[\"Childish Gambino\"],[\"Raury\"],[\"Eminem\"],[\"Childish Gambino\"],[\"Hollywood Undead\"],[\"Bas\"],[\"Benal\"],[\"Post Malone\"],[\"A Tribe Called Quest\"],[\"Ab-Soul\"],[\"Bill Wurtz\"],[\"Gilli\"],[\"Logic\"],[\"Stonebank\"],[\"Ratatat\"],[\"D\\u00fan\\u00e9\"],[\"The Glitch Mob\"],[\"OMFG\"],[\"Fugees\"],[\"Too Close To Touch\"],[\"Feint\"],[\"Bruno Mars\"],[\"Outkast\"],[\"Au5\"],[\"Enrique Iglesias\"],[\"Perfume Genius\"],[\"Tame Impala\"],[\"Mura Masa\"],[\"MARS\"],[\"J. Cole\"],[\"EDEN\"],[\"The Minds Of 99\"],[\"The Glitch Mob\"],[\"Skillet\"],[\"The Notorious B.I.G.\"],[\"Juice WRLD\"],[\"J. Cole\"],[\"A$AP Rocky\"],[\"Aesop Rock\"],[\"Juice WRLD\"],[\"Kanye West\"],[\"The Glitch Mob\"],[\"Imagine Dragons\"],[\"A$AP Rocky\"],[\"Ramz\"],[\"Cardi B\"],[\"The Glitch Mob\"],[\"Lil Dicky\"],[\"Jay Rock\"],[\"KESI\"],[\"Cascada\"],[\"Saveus\"],[\"Eminem\"],[\"Drake\"],[\"Saveus\"],[\"Juice WRLD\"],[\"C\\u00e9line Dion\"],[\"Ne-Yo\"],[\"Thirty Seconds To Mars\"],[\"Domo Genesis\"],[\"PVRIS\"],[\"Spose\"],[\"The Temper Trap\"],[\"Tyga\"],[\"Dion Timmer\"],[\"Kendrick Lamar\"],[\"Loveless\"],[\"Eminem\"],[\"Mac Miller\"]],\"hovertemplate\":\"<b>%{hovertext}</b><br><br>endTime=2018<br>ms_played=%{marker.size}<br>count=%{y}<br>artistName=%{customdata[0]}<extra></extra>\",\"hovertext\":[\"Rett i foret\",\"Mamacita (feat. Benny Jamz)\",\"Det' s\\u00e5 sv\\u00e6rt\",\"Kids\",\"Nice For What\",\"Saint\",\"Say Something (feat. Chris Stapleton)\",\"Lucid Dreams\",\"Sunflower - Spider-Man: Into the Spider-Verse\",\"Who's Got Your Love\",\"Everyday\",\"4th Dimension\",\"Gizpr\\u00e6sidenter\",\"Holy\",\"Lucky You (feat. Joyner Lucas)\",\"SAD!\",\"The Middle\",\"Alle Skuffer Over Tid - Single Edit\",\"Electric Feel\",\"Loud Pipes\",\"N\\u00e5r Du Kigger P\\u00e5 Mig (feat. Clara Sofie)\",\"Rica (feat. Kesi & Sivas)\",\"Super Mario World\",\"The Return\",\"The Ringer\",\"Breathe\",\"Lights Turned On\",\"Deja Vu (feat. MAAN)\",\"Fire Away\",\"Freaks And Geeks\",\"Never Be Alone\",\"Redbone\",\"Crystal Express\",\"Fall\",\"Fire Fly\",\"Gravity\",\"Tribe (with J. Cole)\",\"Lampesk\\u00e6rm\",\"Psycho (feat. Ty Dolla $ign)\",\"Can I Kick It?\",\"Illuminate (feat. Kendrick Lamar)\",\"La de Da de Da de Da de Day Oh\",\"Langsom\",\"Overnight\",\"Ripped to Pieces (feat. EMEL)\",\"Wildcat\",\"Dry Lips\",\"Fortune Days\",\"Hello\",\"Ready or Not\",\"Sympathy\",\"Time Bomb (feat. Veela)\",\"Finesse - Remix; feat. Cardi B\",\"Hey Ya!\",\"Moonland\",\"SUBEME LA RADIO (feat. Descemer Bueno & Zion & Lennox)\",\"Slip Away\",\"The Less I Know The Better\",\"What If I Go? (feat. Bonzai)\",\"jeg er lei meg\",\"Apparently\",\"Billie Jean\",\"Det Er Knud Som Er D\\u00f8d\",\"Enter Formless (feat. Rituals of Mine)\",\"Hero\",\"Juicy - 2005 Remaster\",\"Legends\",\"No Role Modelz\",\"Praise The Lord (Da Shine) (feat. Skepta)\",\"Preservation\",\"Rich And Blind\",\"Stronger\",\"We Can Make The World Stop\",\"Whatever It Takes\",\"A$AP Forever (feat. Moby)\",\"Barking\",\"Be Careful\",\"Can't Kill Us\",\"Freaky Friday (feat. Chris Brown)\",\"King's Dead (with Kendrick Lamar, Future & James Blake)\",\"Ligesom Mig\",\"Everytime We Touch - Radio Edit\",\"Ready To Die\",\"Shake That\",\"Signs\",\"Time Can Heal A Man\",\"All Girls Are The Same\",\"Ashes - from \\\"Deadpool 2\\\" Motion Picture Soundtrack\",\"Closer\",\"Dangerous Night\",\"Dapper (feat. Anderson .Paak)\",\"Ghosts\",\"Nobody (feat. Watsky)\",\"Sweet Disposition\",\"Taste (feat. Offset)\",\"Textacy\",\"The Art of Peer Pressure\",\"They Don't Know (feat. Varren Wade)\",\"When I'm Gone\",\"100 Grandkids\"],\"legendgroup\":\"\",\"marker\":{\"color\":\"#636efa\",\"size\":[13401276,11428976,8934345,7634142,7112568,5081550,7653247,6372904,4724912,6309907,4969168,4131086,5001899,9741011,5821157,1906218,4653184,4866050,6408247,6077425,5115108,4661432,4351269,5115629,5785794,4868021,5821799,4246350,4311393,4889719,5978252,7148154,2594860,6342677,3970692,4720004,4866703,4241549,2991630,5068908,3633673,2450810,3733083,4597914,5329820,4638145,3678691,6722503,2788795,2264795,4387854,4284821,3538737,3455837,2589693,2525619,2326308,4441605,3598643,3382754,4227839,3701672,1431448,3648353,3379713,2601608,1877968,4037864,2026213,1560014,4111338,4085948,5772129,1261139,2781693,1894655,1580985,3318496,2955032,2241048,2370148,3302625,4057151,4396965,3146774,3653176,2325776,3478831,3254917,2479343,1886672,3687389,3849102,4209539,2107298,2519800,2285821,4365599,3708139,4121060],\"sizemode\":\"area\",\"sizeref\":9270.937777777777,\"symbol\":\"circle\"},\"mode\":\"markers\",\"name\":\"\",\"orientation\":\"v\",\"showlegend\":false,\"x\":[13401276,11428976,8934345,7634142,7112568,5081550,7653247,6372904,4724912,6309907,4969168,4131086,5001899,9741011,5821157,1906218,4653184,4866050,6408247,6077425,5115108,4661432,4351269,5115629,5785794,4868021,5821799,4246350,4311393,4889719,5978252,7148154,2594860,6342677,3970692,4720004,4866703,4241549,2991630,5068908,3633673,2450810,3733083,4597914,5329820,4638145,3678691,6722503,2788795,2264795,4387854,4284821,3538737,3455837,2589693,2525619,2326308,4441605,3598643,3382754,4227839,3701672,1431448,3648353,3379713,2601608,1877968,4037864,2026213,1560014,4111338,4085948,5772129,1261139,2781693,1894655,1580985,3318496,2955032,2241048,2370148,3302625,4057151,4396965,3146774,3653176,2325776,3478831,3254917,2479343,1886672,3687389,3849102,4209539,2107298,2519800,2285821,4365599,3708139,4121060],\"xaxis\":\"x\",\"y\":[71,61,49,48,47,41,40,39,39,39,38,36,36,36,36,36,34,33,33,33,33,32,32,32,32,31,31,30,30,30,30,30,29,29,28,28,28,27,27,26,26,26,26,26,26,26,25,25,25,25,25,25,24,24,24,24,24,24,24,24,23,23,23,23,23,23,23,23,23,23,23,23,23,23,22,22,22,22,22,22,22,21,21,21,21,21,20,20,20,20,20,20,20,20,20,20,20,20,20,19],\"yaxis\":\"y\",\"type\":\"scatter\"}],\"name\":\"2018\"},{\"data\":[{\"customdata\":[[\"Post Malone\"],[\"Juice WRLD\"],[\"Bring Me The Horizon\"],[\"Linkin Park\"],[\"Tyga\"],[\"Lil Tecca\"],[\"Papa Roach\"],[\"The Notorious B.I.G.\"],[\"Eminem\"],[\"Bring Me The Horizon\"],[\"TV On The Radio\"],[\"Kings of Leon\"],[\"Eminem\"],[\"Isah\"],[\"The Prodigy\"],[\"Infected Mushroom\"],[\"Juice WRLD\"],[\"Linkin Park\"],[\"You Me At Six\"],[\"Eminem\"],[\"Kodak Black\"],[\"Lil Nas X\"],[\"DREAMERS\"],[\"Kygo\"],[\"Isah\"],[\"Dirty Honey\"],[\"Bring Me The Horizon\"],[\"Manafest\"],[\"Gang of Youths\"],[\"Lil Tecca\"],[\"PVRIS\"],[\"Eminem\"],[\"Disturbed\"],[\"Normandie\"],[\"PVRIS\"],[\"TWO LANES\"],[\"Neukrapsio\"],[\"Linkin Park\"],[\"Kings of Leon\"],[\"xajk\"],[\"Beartooth\"],[\"Halestorm\"],[\"Stand Atlantic\"],[\"Linkin Park\"],[\"The Minds Of 99\"],[\"Linkin Park\"],[\"Young Thug\"],[\"BigLion\"],[\"Juice WRLD\"],[\"Hollywood Undead\"],[\"KALEO\"],[\"Ratatat\"],[\"Carpark North\"],[\"The Minds Of 99\"],[\"Post Malone\"],[\"The Minds Of 99\"],[\"Avenged Sevenfold\"],[\"Nothing But Thieves\"],[\"Eminem\"],[\"Sueco\"],[\"Linkin Park\"],[\"You Me At Six\"],[\"The Maine\"],[\"Eminem\"],[\"Paramore\"],[\"Beartooth\"],[\"Neukrapsio\"],[\"Mari\"],[\"caxju\"],[\"Kings of Leon\"],[\"Jesper Binzer\"],[\"Neukrapsio\"],[\"Skillet\"],[\"MGMT\"],[\"Linkin Park\"],[\"Matoma\"],[\"Suspekt\"],[\"Rasmus Seebach\"],[\"Fall Out Boy\"],[\"NF\"],[\"Linkin Park\"],[\"Linkin Park\"],[\"Nothing But Thieves\"],[\"You Me At Six\"],[\"Babifoot\"],[\"Clara\"],[\"Rainbow Kitten Surprise\"],[\"Tonight Alive\"],[\"Avenged Sevenfold\"],[\"WishKid\"],[\"Panic! At The Disco\"],[\"Linkin Park\"],[\"Linkin Park\"],[\"Stonebank\"],[\"Kings of Leon\"],[\"Linkin Park\"],[\"PVRIS\"],[\"Muse\"],[\"Carpark North\"],[\"Volbeat\"]],\"hovertemplate\":\"<b>%{hovertext}</b><br><br>endTime=2019<br>ms_played=%{marker.size}<br>count=%{y}<br>artistName=%{customdata[0]}<extra></extra>\",\"hovertext\":[\"Circles\",\"Armed And Dangerous\",\"Throne\",\"In the End\",\"Goddamn (feat. A Boogie wit da Hoodie)\",\"Ransom\",\"Come Around\",\"Juicy - 2005 Remaster\",\"Greatest\",\"medicine\",\"Happy Idiot\",\"Be Somebody\",\"Fall\",\"HALLO\",\"Smack My Bitch Up\",\"The Pretender\",\"Robbery\",\"Numb\",\"Take on the World\",\"W.T.P.\",\"ZEZE (feat. Travis Scott & Offset)\",\"Panini\",\"All Washed Out\",\"Kem Kan Eg Ringe (feat. Store P & Lars Vaular)\",\"Lollipop\",\"When I'm Gone\",\"Doomed\",\"Impossible\",\"Let Me Down Easy\",\"Love Me\",\"St. Patrick\",\"The Ringer\",\"The Sound of Silence\",\"White Flag\",\"Winter\",\"Back to You\",\"Breathe\",\"Hands Held High\",\"WALLS\",\"Embrace\",\"Hated\",\"I Miss the Misery\",\"Lavender Bones\",\"Papercut\",\"Stor Som En Sol / Flad Som En Pandekage\",\"Talking to Myself\",\"The London (feat. J. Cole & Travis Scott)\",\"Vestido Rojo\",\"Bandit (with YoungBoy Never Broke Again)\",\"Gravity\",\"Hot Blood\",\"Loud Pipes\",\"Shall We Be Grateful\",\"Solkongen\",\"Sunflower - Spider-Man: Into the Spider-Verse\",\"Hurtige H\\u00e6nder - Acoustic Version - Moyo Live P3\",\"Shepherd of Fire\",\"Trip Switch\",\"You Don't Know\",\"fast (Remix) [feat. Offset & A Boogie Wit da Hoodie]\",\"BURN IT DOWN\",\"Back Again\",\"Black Butterflies and D\\u00e9j\\u00e0 Vu\",\"Business\",\"Careful\",\"Disease\",\"Goodbye Summer\",\"Organ Inspiration\",\"Owls\",\"Closer\",\"Dying Is Easy (Rock'N'Roll Is Hard)\",\"Escape from Reality\",\"Hero\",\"Kids\",\"LOST IN THE ECHO\",\"Old Thing Back (feat. Ja Rule and Ralph Tresvant)\",\"Proletar (Hvor Jeg St\\u00e5r)\",\"Sandstorm\",\"Thnks fr th Mmrs\",\"Time - Edit\",\"What I've Done\",\"With You\",\"Amsterdam\",\"Brand New\",\"Comeback\",\"Crazy\",\"Devil Like Me\",\"Disappear (Feat. Lynn Gunn)\",\"Hail to the King\",\"Hollywood\",\"I Write Sins Not Tragedies\",\"Iridescent\",\"One More Light\",\"Stronger\",\"Beautiful War\",\"CASTLE OF GLASS\",\"Ghosts\",\"Madness\",\"Transparent and Glasslike\",\"Back To Prom\"],\"legendgroup\":\"\",\"marker\":{\"color\":\"#636efa\",\"size\":[12481219,6183335,7976291,3102316,3997895,4588728,6912110,8128773,5480790,6421046,5042245,6189856,6299678,3820000,7557796,6260231,4727578,3303441,5942891,4922004,5756768,2661981,5040351,5462912,3041719,4714761,6227885,4727581,5939647,2436541,4401240,5769670,2640713,4807083,4020437,3428285,4358196,3528483,5341555,1227970,4242012,2505266,4571150,3408222,4381643,3204830,2742939,929669,2017090,4341314,3907516,3706041,2728151,3104689,2466940,4207393,5337024,2764989,5771830,3129096,2108453,2819855,3213902,2403206,3471020,2633239,333042,856155,1393299,3114942,4425948,299978,2882111,4064022,3242407,5141205,4205310,2032446,2441260,4514252,2483553,1880489,3898231,3298783,969977,1461939,3175578,3597016,6027404,970019,590035,1460011,1966987,3020119,3550447,1393309,3172717,1097827,2121497,1385506],\"sizemode\":\"area\",\"sizeref\":9270.937777777777,\"symbol\":\"circle\"},\"mode\":\"markers\",\"name\":\"\",\"orientation\":\"v\",\"showlegend\":false,\"x\":[12481219,6183335,7976291,3102316,3997895,4588728,6912110,8128773,5480790,6421046,5042245,6189856,6299678,3820000,7557796,6260231,4727578,3303441,5942891,4922004,5756768,2661981,5040351,5462912,3041719,4714761,6227885,4727581,5939647,2436541,4401240,5769670,2640713,4807083,4020437,3428285,4358196,3528483,5341555,1227970,4242012,2505266,4571150,3408222,4381643,3204830,2742939,929669,2017090,4341314,3907516,3706041,2728151,3104689,2466940,4207393,5337024,2764989,5771830,3129096,2108453,2819855,3213902,2403206,3471020,2633239,333042,856155,1393299,3114942,4425948,299978,2882111,4064022,3242407,5141205,4205310,2032446,2441260,4514252,2483553,1880489,3898231,3298783,969977,1461939,3175578,3597016,6027404,970019,590035,1460011,1966987,3020119,3550447,1393309,3172717,1097827,2121497,1385506],\"xaxis\":\"x\",\"y\":[71,50,50,46,45,43,42,42,40,40,39,37,35,35,35,35,34,33,33,33,33,32,31,31,31,31,30,30,30,30,30,30,30,30,30,29,29,29,29,28,28,28,28,28,28,28,28,28,27,27,27,27,27,27,27,26,26,26,26,26,25,25,25,25,25,25,25,25,25,24,24,24,24,24,24,24,24,24,24,24,24,24,23,23,23,23,23,23,23,23,23,23,23,23,22,22,22,22,22,21],\"yaxis\":\"y\",\"type\":\"scatter\"}],\"name\":\"2019\"},{\"data\":[{\"customdata\":[[\"Jack Harlow\"],[\"Lensko\"],[\"Lensko\"],[\"The Kid LAROI\"],[\"The Kid LAROI\"],[\"Pop Smoke\"],[\"Zero 9:36\"],[\"Greta Van Fleet\"],[\"Jung\"],[\"Stormzy\"],[\"DaBaby\"],[\"Pop Smoke\"],[\"Oberg\"],[\"Lil Baby\"],[\"JAY-Z\"],[\"Stormzy\"],[\"24kGoldn\"],[\"The Strokes\"],[\"PIND\"],[\"Badflower\"],[\"The Dangerous Summer\"],[\"Falling In Reverse\"],[\"Lil Tjay\"],[\"Headie One\"],[\"Juice\"],[\"Kanye West\"],[\"Bring Me The Horizon\"],[\"Stormzy\"],[\"Pop Smoke\"],[\"I Prevail\"],[\"Jung\"],[\"Jesu Br\\u00f8dre\"],[\"Dagny\"],[\"Gorillaz\"],[\"Fort Minor\"],[\"Stormzy\"],[\"The Prodigy\"],[\"Eminem\"],[\"The Minds Of 99\"],[\"Noisestorm\"],[\"Fleetwood Mac\"],[\"Albatraoz\"],[\"A$AP Rocky\"],[\"You Me At Six\"],[\"The Notorious B.I.G.\"],[\"Headie One\"],[\"Thousand Foot Krutch\"],[\"PVRIS\"],[\"Blue \\u00d6yster Cult\"],[\"MGMT\"],[\"Darude\"],[\"Kanye West\"],[\"KennyHoopla\"],[\"Polo G\"],[\"Stormzy\"],[\"The Strokes\"],[\"Bring Me The Horizon\"],[\"Karpe\"],[\"Linkin Park\"],[\"You Me At Six\"],[\"Dave\"],[\"The Midnight\"],[\"KennyHoopla\"],[\"Greta Van Fleet\"],[\"Dire Straits\"],[\"THE SCOTTS\"],[\"iann dior\"],[\"KennyHoopla\"],[\"Highly Suspect\"],[\"Tristam\"],[\"JAY-Z\"],[\"JAY-Z\"],[\"Linkin Park\"],[\"Timecop1983\"],[\"Judge Bitch\"],[\"Jung\"],[\"Eminem\"],[\"Dr. Dre\"],[\"The Midnight\"],[\"Jack Harlow\"],[\"Machine Gun Kelly\"],[\"B.o.B\"],[\"Motionless In White\"],[\"Lil Mosey\"],[\"Bolaget\"],[\"Rainbow Kitten Surprise\"],[\"Pop Smoke\"],[\"The Strokes\"],[\"JAY-Z\"],[\"iann dior\"],[\"The Prodigy\"],[\"Foxing\"],[\"Judge Bitch\"],[\"Current Joys\"],[\"Kanye West\"],[\"Falling In Reverse\"],[\"Juice WRLD\"],[\"Lil Tecca\"],[\"Bee Gees\"],[\"The Weeknd\"]],\"hovertemplate\":\"<b>%{hovertext}</b><br><br>endTime=2020<br>ms_played=%{marker.size}<br>count=%{y}<br>artistName=%{customdata[0]}<extra></extra>\",\"hovertext\":[\"WHATS POPPIN\",\"Circles\",\"Cetus\",\"WRONG (feat. Lil Mosey)\",\"ALWAYS DO\",\"Dior - Bonus\",\"Come Thru\",\"Black Smoke Rising\",\"Hun Kommer Tilbage\",\"One Second (feat. H.E.R.)\",\"ROCKSTAR (feat. Roddy Ricch)\",\"The Woo (feat. 50 Cent & Roddy Ricch)\",\"Take My Hand\",\"Emotionally Scarred\",\"Numb / Encore\",\"Sounds of the Skeng\",\"Mood (feat. iann dior)\",\"Bad Decisions\",\"Plastic\",\"The Jester\",\"Fuck Them All\",\"Popular Monster\",\"20/20\",\"Ain't It Different (feat. AJ Tracey & Stormzy)\",\"Audrey Tell Me\",\"POWER\",\"Sleepwalking\",\"Wiley Flow\",\"For The Night (feat. Lil Baby & DaBaby)\",\"Hurricane\",\"Jeg Skal Nok Vente\",\"Trampert\\u00f8sen\",\"Somebody\",\"Feel Good Inc.\",\"Remember the Name (feat. Styles of Beyond)\",\"Audacity (feat. Headie One)\",\"Breathe\",\"Darkness\",\"Som Fluer\",\"Crab Rave\",\"Dreams - 2004 Remaster\",\"E (Ventex)\",\"F**kin' Problems (feat. Drake, 2 Chainz & Kendrick Lamar)\",\"Heavy Soul\",\"Juicy - 2005 Remaster\",\"Only You Freestyle\",\"Take It Out On Me\",\"What's Wrong\",\"(Don't Fear) The Reaper\",\"Electric Feel\",\"Sandstorm\",\"Stronger\",\"how will i rest in peace if i'm buried by a highway?//\",\"Martin & Gina\",\"Own It (feat. Ed Sheeran & Burna Boy)\",\"Someday\",\"Teardrops\",\"Toyota'n til Magdi\",\"In the End\",\"Our House (The Mess We Made)\",\"Thiago Silva\",\"Vampires\",\"lost cause//\",\"Highway Tune\",\"Sultans Of Swing\",\"THE SCOTTS\",\"gone girl\",\"plastic door//\",\"16\",\"Flight\",\"Ni**as In Paris\",\"No Church In The Wild\",\"Papercut\",\"Tonight\",\"Trash Pandas\",\"Ud I K\\u00f8rebanen\",\"'Till I Collapse\",\"Forgot About Dre\",\"Jason\",\"Tyler Herro\",\"bloody valentine\",\"Airplanes, Pt. II (feat. Eminem & Hayley Williams of Paramore)\",\"Another Life\",\"Blueberry Faygo\",\"Dum\",\"First Class\",\"Got It On Me\",\"Last Nite\",\"Run This Town\",\"Sick and Tired\",\"Smack My Bitch Up\",\"The Medic\",\"Vandal\",\"A Different Age\",\"Black Skinhead\",\"Carry On\",\"Conversations\",\"Ransom\",\"Stayin' Alive - From \\\"Saturday Night Fever\\\" Soundtrack\",\"Blinding Lights\"],\"legendgroup\":\"\",\"marker\":{\"color\":\"#636efa\",\"size\":[8787898,9963200,11224359,7135241,4962521,8662228,6846085,9804071,6816811,9119397,4020531,6252100,5967017,7319516,6749777,6853664,4841944,9639148,5843768,7660425,5998513,3920099,6433797,5490099,6239932,7964756,6628574,5783161,2782352,6328448,4875638,3767279,3402275,5554444,4288047,4704504,5901477,3169533,5037281,3579371,5226975,2963078,4791804,5076466,3123969,5296610,3900158,6529472,6330205,4965370,3046226,4270615,4991332,2526916,3373301,3322361,4315989,3277443,3073806,3765798,3618174,5976962,3905406,2776599,8010460,1814572,1826768,4059788,3981141,3674565,3930290,5119254,3235166,4968161,3460936,4026435,3979354,3188159,5530868,2189471,3691521,5147674,3582214,1846492,3072218,4723770,1922597,2826155,3643528,2325614,5974781,3838244,4426412,6210512,2156853,3492243,1315188,2289095,3585680,2083501],\"sizemode\":\"area\",\"sizeref\":9270.937777777777,\"symbol\":\"circle\"},\"mode\":\"markers\",\"name\":\"\",\"orientation\":\"v\",\"showlegend\":false,\"x\":[8787898,9963200,11224359,7135241,4962521,8662228,6846085,9804071,6816811,9119397,4020531,6252100,5967017,7319516,6749777,6853664,4841944,9639148,5843768,7660425,5998513,3920099,6433797,5490099,6239932,7964756,6628574,5783161,2782352,6328448,4875638,3767279,3402275,5554444,4288047,4704504,5901477,3169533,5037281,3579371,5226975,2963078,4791804,5076466,3123969,5296610,3900158,6529472,6330205,4965370,3046226,4270615,4991332,2526916,3373301,3322361,4315989,3277443,3073806,3765798,3618174,5976962,3905406,2776599,8010460,1814572,1826768,4059788,3981141,3674565,3930290,5119254,3235166,4968161,3460936,4026435,3979354,3188159,5530868,2189471,3691521,5147674,3582214,1846492,3072218,4723770,1922597,2826155,3643528,2325614,5974781,3838244,4426412,6210512,2156853,3492243,1315188,2289095,3585680,2083501],\"xaxis\":\"x\",\"y\":[77,50,49,48,47,46,45,44,44,44,44,44,43,42,42,41,40,39,39,37,36,36,35,34,34,34,34,33,32,32,31,31,30,29,29,28,28,28,28,27,27,27,27,27,27,27,27,27,26,26,26,26,26,25,25,25,25,25,24,24,24,24,24,23,23,23,23,23,22,22,22,22,22,22,22,22,21,21,21,21,21,20,20,20,20,20,20,20,20,20,20,20,20,19,19,19,19,19,19,18],\"yaxis\":\"y\",\"type\":\"scatter\"}],\"name\":\"2020\"},{\"data\":[{\"customdata\":[[\"Lund\"],[\"Yxngxr1\"],[\"Chri$tian Gate$\"],[\"convolk\"],[\"AJ Tracey\"],[\"Promoting Sounds\"],[\"347aidan\"],[\"Noah Carter\"],[\"convolk\"],[\"deadmau5\"],[\"Mustard\"],[\"Lil Peep\"],[\"Vicetone\"],[\"nothing,nowhere.\"],[\"Lil Peep\"],[\"Lund\"],[\"Kodak Black\"],[\"Lil Peep\"],[\"Memoria XI\"],[\"Yung Pinch\"],[\"Lane 8\"],[\"Dave\"],[\"A$AP Rocky\"],[\"deadmau5\"],[\"Aries\"],[\"Promoting Sounds\"],[\"JAY-Z\"],[\"Camo & Krooked\"],[\"Lund\"],[\"Juice WRLD\"],[\"Ukendt Kunstner\"],[\"convolk\"],[\"CLMD\"],[\"Ryan Oakes\"],[\"Machine Gun Kelly\"],[\"Monseigner\"],[\"The Naked And Famous\"],[\"Lane 8\"],[\"Pop Smoke\"],[\"Stormzy\"],[\"whiterosemoxie\"],[\"Meek Mill\"],[\"Matoma\"],[\"Surf Curse\"],[\"Aries\"],[\"Pop Smoke\"],[\"Lane 8\"],[\"Promoting Sounds\"],[\"The Killers\"],[\"Papithbk\"],[\"Gilli\"],[\"Dree Low\"],[\"David Guetta\"],[\"CJ\"],[\"nothing,nowhere.\"],[\"Kanye West\"],[\"EKKSTACY\"],[\"Ty Dolla $ign\"],[\"diveliner\"],[\"Matt and Kim\"],[\"44phantom\"],[\"Edwin Rosen\"],[\"Lil Peep\"],[\"Bad Boy Chiller Crew\"],[\"Aries\"],[\"Desiigner\"],[\"The Kid LAROI\"],[\"convolk\"],[\"Josh A\"],[\"Tyga\"],[\"Kavinsky\"],[\"G-Eazy\"],[\"convolk\"],[\"XXXTENTACION\"],[\"Mac Miller\"],[\"Memoria XI\"],[\"deadmau5\"],[\"Lane 8\"],[\"Promoting Sounds\"],[\"Josh A\"],[\"Riton\"],[\"M83\"],[\"The Naked And Famous\"],[\"Dax\"],[\"carwash\"],[\"Gilli\"],[\"jaden\"],[\"Justice\"],[\"MGMT\"],[\"Tyga\"],[\"Nicki Minaj\"],[\"G-Eazy\"],[\"c\\u00f8zyb\\u00f8y\"],[\"Skinny Atlas\"],[\"Cim\\u00f3n\"],[\"Promoting Sounds\"],[\"Night Lovell\"],[\"Stonebank\"],[\"Berner\"],[\"Balken\"]],\"hovertemplate\":\"<b>%{hovertext}</b><br><br>endTime=2021<br>ms_played=%{marker.size}<br>count=%{y}<br>artistName=%{customdata[0]}<extra></extra>\",\"hovertext\":[\"Alone\",\"Tyler\",\"NUMB\",\"lonewolf\",\"Dinner Guest (feat. MoStack)\",\"Artificial Love\",\"MEMORIES!\",\"Come Alive\",\"i fucked up\",\"Moar Ghosts 'n' Stuff\",\"Pure Water (with Migos)\",\"Save That Shit\",\"Nevada\",\"lights (4444)\",\"Sex with My Ex\",\"Fiction\",\"ZEZE (feat. Travis Scott & Offset)\",\"Falling Down - Bonus Track\",\"Just Friends\",\"Why Would I Wait (feat. G-Eazy)\",\"Run\",\"Thiago Silva\",\"F**kin' Problems (feat. Drake, 2 Chainz & Kendrick Lamar)\",\"Ghosts 'n' Stuff\",\"DITTO\",\"Down For Real\",\"Ni**as In Paris\",\"Watch It Burn\",\"Broken\",\"Empty\",\"Fucking Nummer\",\"whatever it takes\",\"All My Friends\",\"Drinking About You\",\"Invincible\",\"Let You Go\",\"Young Blood\",\"The Rope (feat. POLI\\u00c7A)\",\"The Woo (feat. 50 Cent & Roddy Ricch)\",\"Shut Up\",\"Beeline\",\"Ima Boss (feat. Rick Ross)\",\"Old Thing Back (feat. Ja Rule and Ralph Tresvant)\",\"Freaks\",\"SANTA MONICA\",\"Dior - Bonus\",\"Road\",\"Memory\",\"Mr. Brightside\",\"Sad Nibba Hours\",\"Orale\",\"PIPPI\",\"Save My Life (feat. Lovespeake)\",\"Whoopty\",\"I'm Sorry, I'm Trying\",\"Gold Digger\",\"i walk this earth all by myself\",\"Saved (feat. E-40)\",\"basketball\",\"Daylight\",\"freak\",\"leichter//k\\u00e4lter\",\"yesterday\",\"450\",\"KIDS ON MOLLY\",\"Panda\",\"STAY (with Justin Bieber)\",\"all black fit\",\"PAINLESS\",\"Goddamn (feat. A Boogie wit da Hoodie)\",\"Nightcall\",\"Still Be Friends (feat. Tory Lanez & Tyga)\",\"just another day\",\"whoa (mind in awe)\",\"Donald Trump\",\"Patience\",\"Polaris\",\"Reviver\",\"Dead Eyes\",\"Endless Nightmare\",\"Friday (feat. Mufasa & Hypeman) - Dopamine Re-Edit\",\"Midnight City\",\"Punching In A Dream\",\"She Cheated Again\",\"striptease\",\"Knokler H\\u00e5rdt\",\"smoke and mirrors\",\"Genesis\",\"Kids\",\"Taste (feat. Offset)\",\"Truffle Butter\",\"Calm Down\",\"i swear this s\\u00f8ng is ab\\u00f8ut eating \\u00f8ut my best friend's pussy\",\"you never meant it\",\"Final Destination\",\"I Hate That...\",\"Still Cold / Pathway Private\",\"Stronger\",\"20 Joints\",\"Another Day\"],\"legendgroup\":\"\",\"marker\":{\"color\":\"#636efa\",\"size\":[33375376,16691016,15468039,19820577,20410294,16921146,12936840,18386495,14477026,23686121,16612740,17323388,16155902,12813384,15772379,21967909,16876341,15536016,11394682,13105867,15649324,13458776,12501178,20994484,8962394,9382824,12005318,13874748,11796530,13751735,14114039,13920922,10548527,13610111,8340370,12084487,15546658,19755685,11389146,10240842,9953707,13024955,16404547,8289072,8074718,12440369,14473329,6478337,11839293,7309214,12891710,9356766,9692356,6311892,9555846,8196247,8487302,10095885,7442850,8132296,7721340,10439075,5738469,7435612,7829501,9477170,6097326,7274983,7083289,9402533,11823593,8511387,9845264,7132870,7564401,8187727,28028611,11172562,8266253,7477157,6092298,12333981,10655069,8120395,8092328,11241135,5845989,11437622,12859944,9958377,9454060,5181969,8907779,5086111,8084473,8080756,8760803,11247199,7162051,8218358],\"sizemode\":\"area\",\"sizeref\":9270.937777777777,\"symbol\":\"circle\"},\"mode\":\"markers\",\"name\":\"\",\"orientation\":\"v\",\"showlegend\":false,\"x\":[33375376,16691016,15468039,19820577,20410294,16921146,12936840,18386495,14477026,23686121,16612740,17323388,16155902,12813384,15772379,21967909,16876341,15536016,11394682,13105867,15649324,13458776,12501178,20994484,8962394,9382824,12005318,13874748,11796530,13751735,14114039,13920922,10548527,13610111,8340370,12084487,15546658,19755685,11389146,10240842,9953707,13024955,16404547,8289072,8074718,12440369,14473329,6478337,11839293,7309214,12891710,9356766,9692356,6311892,9555846,8196247,8487302,10095885,7442850,8132296,7721340,10439075,5738469,7435612,7829501,9477170,6097326,7274983,7083289,9402533,11823593,8511387,9845264,7132870,7564401,8187727,28028611,11172562,8266253,7477157,6092298,12333981,10655069,8120395,8092328,11241135,5845989,11437622,12859944,9958377,9454060,5181969,8907779,5086111,8084473,8080756,8760803,11247199,7162051,8218358],\"xaxis\":\"x\",\"y\":[181,146,133,131,123,117,114,111,104,102,100,99,97,97,95,94,92,90,86,85,84,84,81,80,79,79,79,79,78,77,77,77,76,76,76,76,76,75,73,72,71,71,71,70,70,69,69,68,68,68,67,67,67,67,66,65,65,64,63,62,62,62,62,61,61,61,61,61,59,58,58,58,58,58,57,57,57,57,56,56,56,56,56,56,56,55,55,54,54,54,54,53,53,53,52,52,52,52,51,51],\"yaxis\":\"y\",\"type\":\"scatter\"}],\"name\":\"2021\"},{\"data\":[{\"customdata\":[[\"Benedixhion\"],[\"kiLLa Laharl\"],[\"The Wavy Kid\"],[\"Hikiray\"],[\"Ollie\"],[\"Lund\"],[\"Aries\"],[\"Justin Stone\"],[\"TWO LANES\"],[\"Moderat\"],[\"Reti\"],[\"DI$play\"],[\"Ollie\"],[\"LoveJSan\"],[\"Noah 216\"],[\"Nate Good\"],[\"Killstation\"],[\"LoveJSan\"],[\"Justin Stone\"],[\"Ollie\"],[\"guardin\"],[\"iamjakehill\"],[\"Songer\"],[\"Ollie\"],[\"nothing,nowhere.\"],[\"Jbrisko\"],[\"EMBRZ\"],[\"Cold Hart\"],[\"Sadzilla\"],[\"MASN\"],[\"Ouse\"],[\"Benedixhion\"],[\"re4se\"],[\"Dave\"],[\"Shallou\"],[\"CORPSE\"],[\"Lund\"],[\"Memoria XI\"],[\"Benedixhion\"],[\"Tom Enzy\"],[\"s0clich\\u00e9\"],[\"Chri$tian Gate$\"],[\"Lund\"],[\"Lil Xtra\"],[\"ODESZA\"],[\"TWO LANES\"],[\"Skinny Atlas\"],[\"Songer\"],[\"EMBRZ\"],[\"Ryan Oakes\"],[\"Swedish House Mafia\"],[\"EMBRZ\"],[\"BURNS\"],[\"Baby Keem\"],[\"Ollie\"],[\"Marmon\"],[\"Lonely in the Rain\"],[\"LoveJSan\"],[\"Sultan + Shepard\"],[\"Lund\"],[\"Lil Xtra\"],[\"Ethan Ross\"],[\"sadeyes\"],[\"Tritonal\"],[\"Akros\"],[\"Lil Peep\"],[\"Pierce Fulton\"],[\"IDK\"],[\"EMBRZ\"],[\"sadeyes\"],[\"convolk\"],[\"Fred again..\"],[\"JAY-Z\"],[\"Shallou\"],[\"Lund\"],[\"Memoria XI\"],[\"RKCB\"],[\"Moderat\"],[\"22december\"],[\"Ethan Ross\"],[\"convolk\"],[\"Lane 8\"],[\"Lil Peep\"],[\"NF\"],[\"VIC MENSA\"],[\"Lil Peep\"],[\"Kado\"],[\"Shady Moon\"],[\"Gilli\"],[\"Songer\"],[\"AJ Tracey\"],[\"Lund\"],[\"Sultan + Shepard\"],[\"lil aaron\"],[\"Klur\"],[\"Shallou\"],[\"Arrested Youth\"],[\"Kado\"],[\"Moderat\"],[\"G Smoove\"]],\"hovertemplate\":\"<b>%{hovertext}</b><br><br>endTime=2022<br>ms_played=%{marker.size}<br>count=%{y}<br>artistName=%{customdata[0]}<extra></extra>\",\"hovertext\":[\"toxin\",\"Phonk House '99\",\"Bad\",\"Sad Side\",\"Street Lights\",\"Alone\",\"ONE PUNCH\",\"MESS\",\"Another Time\",\"Therapy\",\"Splendor\",\"Baddie\",\"Feelings\",\"I Got You Flowers!\",\"ENOUGH\",\"Fast & Furious\",\"Sarcoma\",\"hello?\",\"Goldmine\",\"Need Someone\",\"ditch\",\"I Chose Violence\",\"Look At The Clouds\",\"Like I Do\",\"Sledgehammer\",\"Slo Mo\",\"Sound 4 U X Be Mine\",\"Thru the Screen\",\"THIRTIES\",\"Hate Me!\",\"You Make It Worse\",\"its2much\",\"Sadboi Anthem 2\",\"Thiago Silva\",\"count on\",\"HOT DEMON B!TCHES NEAR U ! ! !\",\"Issues\",\"Monte Carlo\",\"friendlist\",\"Ice & Cold\",\"Lotus\",\"NUMB\",\"Low\",\"Sober\",\"The Last Goodbye (feat. Bettye LaVette)\",\"Reflections\",\"you never meant it\",\"Carefree\",\"Don't Look Back\",\"HELLBOY\",\"Redlight\",\"Stay\",\"Talamanca\",\"16\",\"Affection\",\"COBAIN\",\"Stronger\",\"Who Cares?\",\"Assassin\",\"Fiction\",\"Forestdale\",\"SINISTER\",\"fast life\",\"Getaway - Koven Remix\",\"Innerlich sind wir stehen geblieben\",\"Kiss\",\"Kuaga (Lost Time) - Radio Edit\",\"ONCE UPON A TIME (FREESTYLE)\",\"Where You Are\",\"i'm not okay\",\"I fucked up\",\"Lights Out\",\"No Church In The Wild\",\"All Your Days\",\"Broken\",\"Just Friends\",\"Know Love - OTR Remix\",\"Rusty Nails\",\"chinatown!\",\"katana\",\"lonewolf\",\"Automatic\",\"Better Off (Dying)\",\"Hate Myself\",\"Reverse (feat. G-Eazy)\",\"Save That Shit\",\"Take It All\",\"Cherry Blossoms\",\"Knokler H\\u00e5rdt\",\"All I Can Do\",\"Dinner Guest (feat. MoStack)\",\"Red Tide\",\"Skipping Stones\",\"Dark Matter\",\"Floating\",\"Heartaches\",\"Leave My Casket Open...\",\"Where You Went Wrong\",\"A New Error\",\"Blood Of An Angel\"],\"legendgroup\":\"\",\"marker\":{\"color\":\"#636efa\",\"size\":[13105078,8840519,9372564,6895276,15755526,9605128,7711602,6390202,12800514,16789295,4215443,6422459,8084126,5399348,3858217,8534673,6262716,5231564,5421940,7389238,4156573,5038800,8953316,4903471,6120721,6136767,7245622,7347365,4975552,4059176,4923225,5471282,4852043,7306620,8016988,3389795,7183664,5697643,6227640,6450445,4605542,6264134,6969930,5651222,11760615,7592314,2379180,3828849,6859233,4733692,7728138,8091981,5697399,4478293,5791815,4644193,5710314,4183357,9672572,7713652,4087533,3585364,3604054,6060083,4755617,7283075,5128705,4406428,6245159,3449351,4807231,8271754,7998778,6767938,2955243,4255578,5309941,8208529,3720759,3687556,5195080,6876292,3922388,4869261,4637367,5478165,4557836,2941572,6744325,4852686,5054152,4071226,5967416,3273894,6098458,5330608,3776549,2621546,8800883,3987480],\"sizemode\":\"area\",\"sizeref\":9270.937777777777,\"symbol\":\"circle\"},\"mode\":\"markers\",\"name\":\"\",\"orientation\":\"v\",\"showlegend\":false,\"x\":[13105078,8840519,9372564,6895276,15755526,9605128,7711602,6390202,12800514,16789295,4215443,6422459,8084126,5399348,3858217,8534673,6262716,5231564,5421940,7389238,4156573,5038800,8953316,4903471,6120721,6136767,7245622,7347365,4975552,4059176,4923225,5471282,4852043,7306620,8016988,3389795,7183664,5697643,6227640,6450445,4605542,6264134,6969930,5651222,11760615,7592314,2379180,3828849,6859233,4733692,7728138,8091981,5697399,4478293,5791815,4644193,5710314,4183357,9672572,7713652,4087533,3585364,3604054,6060083,4755617,7283075,5128705,4406428,6245159,3449351,4807231,8271754,7998778,6767938,2955243,4255578,5309941,8208529,3720759,3687556,5195080,6876292,3922388,4869261,4637367,5478165,4557836,2941572,6744325,4852686,5054152,4071226,5967416,3273894,6098458,5330608,3776549,2621546,8800883,3987480],\"xaxis\":\"x\",\"y\":[111,91,90,83,77,75,64,61,60,58,55,53,53,53,51,51,51,51,49,49,49,47,47,46,46,46,46,46,45,44,44,44,43,43,43,42,42,42,42,41,41,41,40,40,40,39,39,38,38,38,38,38,38,37,37,37,37,37,36,36,36,36,36,35,35,35,35,35,35,35,34,34,34,33,33,33,33,33,33,33,33,32,32,32,32,32,32,31,31,30,30,30,30,29,29,29,29,29,28,28],\"yaxis\":\"y\",\"type\":\"scatter\"}],\"name\":\"2022\"}]);\n",
       "                        }).then(function(){\n",
       "                            \n",
       "var gd = document.getElementById('4f46cacd-ce77-41d5-a9ab-f8d82336c980');\n",
       "var x = new MutationObserver(function (mutations, observer) {{\n",
       "        var display = window.getComputedStyle(gd).display;\n",
       "        if (!display || display === 'none') {{\n",
       "            console.log([gd, 'removed!']);\n",
       "            Plotly.purge(gd);\n",
       "            observer.disconnect();\n",
       "        }}\n",
       "}});\n",
       "\n",
       "// Listen for the removal of the full notebook cells\n",
       "var notebookContainer = gd.closest('#notebook-container');\n",
       "if (notebookContainer) {{\n",
       "    x.observe(notebookContainer, {childList: true});\n",
       "}}\n",
       "\n",
       "// Listen for the clearing of the current output cell\n",
       "var outputEl = gd.closest('.output');\n",
       "if (outputEl) {{\n",
       "    x.observe(outputEl, {childList: true});\n",
       "}}\n",
       "\n",
       "                        })                };                });            </script>        </div>"
      ]
     },
     "metadata": {},
     "output_type": "display_data"
    }
   ],
   "source": [
    "px.scatter(df, x=\"ms_played\", y=\"count\", animation_frame=\"endTime\",\n",
    "           size='ms_played', hover_name=\"trackName\",hover_data={'artistName':True},\n",
    "           log_x=True, size_max=60,range_y=[0,200], range_x=[10000,25000000])"
   ]
  },
  {
   "cell_type": "code",
   "execution_count": null,
   "metadata": {},
   "outputs": [],
   "source": []
  }
 ],
 "metadata": {
  "kernelspec": {
   "display_name": "Python 3 (ipykernel)",
   "language": "python",
   "name": "python3"
  },
  "language_info": {
   "codemirror_mode": {
    "name": "ipython",
    "version": 3
   },
   "file_extension": ".py",
   "mimetype": "text/x-python",
   "name": "python",
   "nbconvert_exporter": "python",
   "pygments_lexer": "ipython3",
   "version": "3.10.0"
  }
 },
 "nbformat": 4,
 "nbformat_minor": 4
}
